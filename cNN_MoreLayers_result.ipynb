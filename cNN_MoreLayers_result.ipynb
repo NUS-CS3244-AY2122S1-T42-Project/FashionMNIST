{
 "cells": [
  {
   "cell_type": "code",
   "execution_count": 26,
   "metadata": {},
   "outputs": [],
   "source": [
    "import numpy as np\n",
    "import pandas as pd\n",
    "import matplotlib.pyplot as plt\n",
    "\n",
    "import torch\n",
    "import torch.nn as nn\n",
    "from torch.autograd import Variable\n",
    "\n",
    "import torchvision\n",
    "import torchvision.transforms as transforms\n",
    "from torch.utils.data import Dataset, DataLoader\n",
    "from sklearn.metrics import confusion_matrix, classification_report"
   ]
  },
  {
   "cell_type": "markdown",
   "metadata": {},
   "source": [
    "I had some difficulties uninstalling pytorch without cuda to replace it so I just created another virtual env and ran it in that. (I think this only needs to be done when you try to run it local)\n",
    "\n",
    "After activating the venv you can install the pytorch with cuda with the following command.\n",
    "\n",
    "`pip3 install torch==1.9.1+cu111 torchvision==0.10.1+cu111 torchaudio==0.9.1 -f https://download.pytorch.org/whl/torch_stable.html`\n"
   ]
  },
  {
   "cell_type": "code",
   "execution_count": 2,
   "metadata": {},
   "outputs": [
    {
     "name": "stdout",
     "output_type": "stream",
     "text": [
      "cuda:0\n"
     ]
    }
   ],
   "source": [
    "device = torch.device(\"cuda:0\" if torch.cuda.is_available() else \"cpu\")\n",
    "print(device)"
   ]
  },
  {
   "cell_type": "code",
   "execution_count": 108,
   "metadata": {},
   "outputs": [],
   "source": [
    "# torch.zeros(1).cuda()"
   ]
  },
  {
   "cell_type": "code",
   "execution_count": 4,
   "metadata": {},
   "outputs": [],
   "source": [
    "#I had a \n",
    "train_csv = pd.read_csv(\"../data/fashion-mnist_train.csv\")\n",
    "test_csv = pd.read_csv(\"../data/fashion-mnist_test.csv\")"
   ]
  },
  {
   "cell_type": "code",
   "execution_count": 5,
   "metadata": {},
   "outputs": [],
   "source": [
    "class FashionDataset(Dataset):\n",
    "    \"\"\"User defined class to build a datset using Pytorch class Dataset.\"\"\"\n",
    "    \n",
    "    def __init__(self, data, transform = None):\n",
    "        \"\"\"Method to initilaize variables.\"\"\" \n",
    "        self.fashion_MNIST = list(data.values)\n",
    "        self.transform = transform\n",
    "        \n",
    "        label = []\n",
    "        image = []\n",
    "        \n",
    "        for i in self.fashion_MNIST:\n",
    "             # first column is of labels.\n",
    "            label.append(i[0])\n",
    "            image.append(i[1:])\n",
    "        self.labels = np.asarray(label)\n",
    "        # Dimension of Images = 28 * 28 * 1. where height = width = 28 and color_channels = 1.\n",
    "        self.images = np.asarray(image).reshape(-1, 28, 28, 1).astype('float32')\n",
    "\n",
    "    def __getitem__(self, index):\n",
    "        label = self.labels[index]\n",
    "        image = self.images[index]\n",
    "        \n",
    "        if self.transform is not None:\n",
    "            image = self.transform(image)\n",
    "\n",
    "        return image, label\n",
    "\n",
    "    def __len__(self):\n",
    "        return len(self.images)"
   ]
  },
  {
   "cell_type": "code",
   "execution_count": 6,
   "metadata": {},
   "outputs": [],
   "source": [
    "# Transform data into Tensor that has a range from 0 to 1\n",
    "train_set = FashionDataset(train_csv, transform=transforms.Compose([transforms.ToTensor()]))\n",
    "test_set = FashionDataset(test_csv, transform=transforms.Compose([transforms.ToTensor()]))\n",
    "\n",
    "train_loader = DataLoader(train_set, batch_size=100)\n",
    "test_loader = DataLoader(test_set, batch_size=100)"
   ]
  },
  {
   "cell_type": "markdown",
   "metadata": {},
   "source": [
    "All the above has been done to load data in batches into the model. We use the DataLoader class from torch.utils.data. We also initialize the device to be used as the GPU instead of CPU.\n",
    "\n",
    "The FashionDataset class has two methods: \n",
    "- get_item(index) -> image and label of item at index\n",
    "- len() -> number of items in the dataset"
   ]
  },
  {
   "cell_type": "code",
   "execution_count": 7,
   "metadata": {},
   "outputs": [],
   "source": [
    "# Mapping label number to a more meaningful label\n",
    "\n",
    "def output_label(label):\n",
    "    output_mapping = {\n",
    "        0: \"T-shirt/Top\",\n",
    "        1: \"Trouser\",\n",
    "        2: \"Pullover\",\n",
    "        3: \"Dress\",\n",
    "        4: \"Coat\", \n",
    "        5: \"Sandal\", \n",
    "        6: \"Shirt\",\n",
    "        7: \"Sneaker\",\n",
    "        8: \"Bag\",\n",
    "        9: \"Ankle Boot\"\n",
    "    }\n",
    "    input = (label.item() if type(label) == torch.Tensor else label)\n",
    "    return output_mapping[input]"
   ]
  },
  {
   "cell_type": "code",
   "execution_count": 8,
   "metadata": {},
   "outputs": [
    {
     "name": "stdout",
     "output_type": "stream",
     "text": [
      "2\n"
     ]
    },
    {
     "data": {
      "image/png": "[encoded data removed]",
      "text/plain": [
       "<Figure size 432x288 with 1 Axes>"
      ]
     },
     "metadata": {
      "needs_background": "light"
     },
     "output_type": "display_data"
    }
   ],
   "source": [
    "# displaying image using matplotlib imshow()\n",
    "image, label = next(iter(train_set))\n",
    "plt.imshow(image.squeeze(), cmap=\"gray\")\n",
    "print(label)"
   ]
  },
  {
   "cell_type": "code",
   "execution_count": 114,
   "metadata": {},
   "outputs": [],
   "source": [
    "# plt.figure(figsize=(10,10))\n",
    "# for i in range(25):\n",
    "#     plt.subplot(5,5,i+1)\n",
    "#     plt.xticks([])\n",
    "#     plt.yticks([])\n",
    "#     plt.grid(False)\n",
    "#     plt.imshow(train_images[i], cmap=plt.cm.binary)\n",
    "#     plt.xlabel(class_names[train_labels[i]])\n",
    "# plt.show()\n"
   ]
  },
  {
   "cell_type": "code",
   "execution_count": 9,
   "metadata": {},
   "outputs": [
    {
     "name": "stdout",
     "output_type": "stream",
     "text": [
      "<class 'torch.Tensor'> <class 'torch.Tensor'>\n",
      "torch.Size([10, 1, 28, 28]) torch.Size([10])\n"
     ]
    }
   ],
   "source": [
    "demo_loader = torch.utils.data.DataLoader(train_set, batch_size=10)\n",
    "\n",
    "batch = next(iter(demo_loader))\n",
    "images, labels = batch\n",
    "print(type(images), type(labels))\n",
    "print(images.shape, labels.shape)"
   ]
  },
  {
   "cell_type": "code",
   "execution_count": 10,
   "metadata": {},
   "outputs": [
    {
     "name": "stderr",
     "output_type": "stream",
     "text": [
      "Clipping input data to the valid range for imshow with RGB data ([0..1] for floats or [0..255] for integers).\n"
     ]
    },
    {
     "name": "stdout",
     "output_type": "stream",
     "text": [
      "labels:  Pullover, Ankle Boot, Shirt, T-shirt/Top, Dress, Coat, Coat, Sandal, Coat, Bag, "
     ]
    },
    {
     "data": {
      "image/png": "[encoded data removed]",
      "text/plain": [
       "<Figure size 1080x1440 with 1 Axes>"
      ]
     },
     "metadata": {
      "needs_background": "light"
     },
     "output_type": "display_data"
    }
   ],
   "source": [
    "grid = torchvision.utils.make_grid(images, nrow=10)\n",
    "\n",
    "plt.figure(figsize=(15, 20))\n",
    "plt.imshow(np.transpose(grid, (1, 2, 0)))\n",
    "print(\"labels: \", end=\" \")\n",
    "for i, label in enumerate(labels):\n",
    "    print(output_label(label), end=\", \")"
   ]
  },
  {
   "cell_type": "markdown",
   "metadata": {},
   "source": [
    "1. Make a model class (inherits nn.Module class)\n",
    "2. Add Layers to model class\n",
    "\n",
    "    a. Convolution layer with kernel size 3*3, padding = 1 (no padding) in 1st layer and padding = 0 in second layer. Stride of 1 in both layers.\n",
    "\n",
    "    b. Batch normalization layer\n",
    "\n",
    "    c. Activation function used: ReLU\n",
    "\n",
    "    d. Max Pooling layer with kernel size of 2 * 2 and stride 2.\n",
    "\n",
    "        i. flatten out output for dense layer\n",
    "\n",
    "        ii. 3 fully connected layers with different in/out features\n",
    "\n",
    "        iii. 1 dropout layer with p=0.25\n",
    "\n",
    "Summary is as follows:\n",
    "\n",
    "First conv layer -> Max Pooling layer -> Second conv layer -> second max pooling layer -> third conv layer -> third max pooling layer\n",
    "\n",
    "28 * 28 * 3      --> 28 * 28 * 16      --> 14 * 14 * 32      --> 14 * 14 * 64        --> 7 * 7 * 128       --> 6 * 6 * 128\n",
    "\n",
    "Final fully connected layer has 10 output features for 10 types of clothes."
   ]
  },
  {
   "cell_type": "code",
   "execution_count": 11,
   "metadata": {},
   "outputs": [],
   "source": [
    "# class FashionCNN(nn.Module):\n",
    "#     def __init__(self):\n",
    "#         super(FashionCNN, self).__init__()\n",
    "#\n",
    "#         self.layer1 = nn.Sequential(\n",
    "#             nn.Conv2d(in_channels=1, out_channels=32, kernel_size=3, stride=1, padding=1), #28\n",
    "#             nn.BatchNorm2d(32),\n",
    "#             nn.ReLU(),\n",
    "#             nn.MaxPool2d(kernel_size=2, stride=2) #14\n",
    "#         )\n",
    "#\n",
    "#         self.layer2 = nn.Sequential(\n",
    "#             nn.Conv2d(in_channels=32, out_channels=64, kernel_size=3, stride=1, padding=1),#14\n",
    "#             nn.BatchNorm2d(64),\n",
    "#             nn.ReLU(),\n",
    "#             nn.MaxPool2d(kernel_size=2, stride=2)#7\n",
    "#         )\n",
    "#\n",
    "#         self.layer3 = nn.Sequential(\n",
    "#             nn.Conv2d(in_channels=64, out_channels=128, kernel_size=3, stride=1, padding=1),#7\n",
    "#             nn.BatchNorm2d(128),\n",
    "#             nn.ReLU(),\n",
    "#             nn.MaxPool2d(kernel_size=2, stride=1)#6\n",
    "#         )\n",
    "#\n",
    "#         self.fc1 = nn.Linear(in_features=4608, out_features=900)\n",
    "#         self.drop = nn.Dropout2d(0.25)\n",
    "#         self.fc2 = nn.Linear(in_features=900, out_features=180)\n",
    "#         self.fc3 = nn.Linear(in_features=180, out_features=10)\n",
    "#\n",
    "#     def forward(self, x):\n",
    "#         out = self.layer1(x)\n",
    "#         out = self.layer2(out)\n",
    "#         out = self.layer3(out)\n",
    "#         out = out.view(out.size(0), -1)\n",
    "#         out = self.fc1(out)\n",
    "#         out = self.drop(out)\n",
    "#         out = self.fc2(out)\n",
    "#         out = self.fc3(out)\n",
    "#\n",
    "#         return out\n",
    "#\n",
    "class FashionCNN(nn.Module):\n",
    "    def __init__(self):\n",
    "        super(FashionCNN, self).__init__()\n",
    "\n",
    "        self.layer1 = nn.Sequential(\n",
    "            nn.Conv2d(in_channels=1, out_channels=16, kernel_size=3, stride=1, padding=1), #28\n",
    "            nn.BatchNorm2d(16),\n",
    "            nn.ReLU(),\n",
    "            nn.MaxPool2d(kernel_size=2, stride=2) #14\n",
    "        )\n",
    "\n",
    "        self.layer2 = nn.Sequential(\n",
    "            nn.Conv2d(in_channels=16, out_channels=32, kernel_size=3, stride=1, padding=1),#14\n",
    "            nn.BatchNorm2d(32),\n",
    "            nn.ReLU(),\n",
    "            nn.MaxPool2d(kernel_size=2, stride=2)#7\n",
    "        )\n",
    "\n",
    "        self.layer3 = nn.Sequential(\n",
    "            nn.Conv2d(in_channels=32, out_channels=64, kernel_size=3, stride=1, padding=1),#7\n",
    "            nn.BatchNorm2d(64),\n",
    "            nn.ReLU(),\n",
    "            nn.MaxPool2d(kernel_size=2, stride=1)#6\n",
    "        )\n",
    "\n",
    "        self.fc1 = nn.Linear(in_features=2304, out_features=900)\n",
    "        self.drop = nn.Dropout2d(0.25)\n",
    "        self.fc2 = nn.Linear(in_features=900, out_features=180)\n",
    "        self.fc3 = nn.Linear(in_features=180, out_features=10)\n",
    "\n",
    "    def forward(self, x):\n",
    "        out = self.layer1(x)\n",
    "        out = self.layer2(out)\n",
    "        out = self.layer3(out)\n",
    "        out = out.view(out.size(0), -1)\n",
    "        out = self.fc1(out)\n",
    "        out = self.drop(out)\n",
    "        out = self.fc2(out)\n",
    "        out = self.fc3(out)\n",
    "\n",
    "        return out\n"
   ]
  },
  {
   "cell_type": "code",
   "execution_count": 12,
   "metadata": {},
   "outputs": [
    {
     "name": "stdout",
     "output_type": "stream",
     "text": [
      "FashionCNN(\n",
      "  (layer1): Sequential(\n",
      "    (0): Conv2d(1, 16, kernel_size=(3, 3), stride=(1, 1), padding=(1, 1))\n",
      "    (1): BatchNorm2d(16, eps=1e-05, momentum=0.1, affine=True, track_running_stats=True)\n",
      "    (2): ReLU()\n",
      "    (3): MaxPool2d(kernel_size=2, stride=2, padding=0, dilation=1, ceil_mode=False)\n",
      "  )\n",
      "  (layer2): Sequential(\n",
      "    (0): Conv2d(16, 32, kernel_size=(3, 3), stride=(1, 1), padding=(1, 1))\n",
      "    (1): BatchNorm2d(32, eps=1e-05, momentum=0.1, affine=True, track_running_stats=True)\n",
      "    (2): ReLU()\n",
      "    (3): MaxPool2d(kernel_size=2, stride=2, padding=0, dilation=1, ceil_mode=False)\n",
      "  )\n",
      "  (layer3): Sequential(\n",
      "    (0): Conv2d(32, 64, kernel_size=(3, 3), stride=(1, 1), padding=(1, 1))\n",
      "    (1): BatchNorm2d(64, eps=1e-05, momentum=0.1, affine=True, track_running_stats=True)\n",
      "    (2): ReLU()\n",
      "    (3): MaxPool2d(kernel_size=2, stride=1, padding=0, dilation=1, ceil_mode=False)\n",
      "  )\n",
      "  (fc1): Linear(in_features=2304, out_features=900, bias=True)\n",
      "  (drop): Dropout2d(p=0.25, inplace=False)\n",
      "  (fc2): Linear(in_features=900, out_features=180, bias=True)\n",
      "  (fc3): Linear(in_features=180, out_features=10, bias=True)\n",
      ")\n"
     ]
    }
   ],
   "source": [
    "model = FashionCNN()\n",
    "model.to(device)\n",
    "\n",
    "error = nn.CrossEntropyLoss()\n",
    "\n",
    "learning_rate = 0.001\n",
    "optimizer = torch.optim.Adam(model.parameters(), lr=learning_rate)\n",
    "print(model)\n",
    "\n",
    "\n",
    "\n",
    "#Visualizing the results"
   ]
  },
  {
   "cell_type": "code",
   "execution_count": 13,
   "metadata": {},
   "outputs": [],
   "source": [
    "train_accu = []\n",
    "train_losses = []\n",
    "\n",
    "def train(epoch):  \n",
    "  model.train()\n",
    "\n",
    "  running_loss=0\n",
    "  correct=0\n",
    "  total=0\n",
    "  \n",
    "  for images, labels in train_loader:\n",
    "    # Transfering images and labels to GPU if available\n",
    "    images, labels = images.to(device), labels.to(device)\n",
    "    \n",
    "    # Forward pass \n",
    "    outputs = model(images)\n",
    "    loss = error(outputs, labels)\n",
    "    \n",
    "    # Initializing a gradient as 0 so there is no mixing of gradient among the batches\n",
    "    optimizer.zero_grad()\n",
    "    \n",
    "    #Propagating the error backward\n",
    "    loss.backward()\n",
    "    \n",
    "    # Optimizing the parameters\n",
    "    optimizer.step()\n",
    "\n",
    "    running_loss += loss.item()\n",
    "    \n",
    "    _, predicted = outputs.max(1)\n",
    "    total += labels.size(0)\n",
    "    correct += predicted.eq(labels).sum().item()\n",
    "      \n",
    "  train_loss=running_loss/len(train_loader)\n",
    "  accu=100.*correct/total\n",
    "  \n",
    "  train_accu.append(accu)\n",
    "  train_losses.append(train_loss)\n",
    "  return train_loss, accu"
   ]
  },
  {
   "cell_type": "code",
   "execution_count": 14,
   "metadata": {},
   "outputs": [],
   "source": [
    "eval_losses=[]\n",
    "eval_accu=[]\n",
    " \n",
    "def test(epoch):\n",
    "  model.eval()\n",
    " \n",
    "  running_loss=0\n",
    "  correct=0\n",
    "  total=0\n",
    " \n",
    "  with torch.no_grad():\n",
    "    for images, labels in test_loader:\n",
    "      images, labels = images.to(device), labels.to(device)\n",
    "\n",
    "      outputs = model(images)\n",
    "      loss = error(outputs, labels)\n",
    "\n",
    "      running_loss += loss.item()\n",
    "\n",
    "      _, predictions = outputs.max(1)\n",
    "      total += labels.size(0)\n",
    "      correct += predictions.eq(labels).sum().item()\n",
    "   \n",
    "  test_loss=running_loss/len(test_loader)\n",
    "  accu=100.*correct/total\n",
    " \n",
    "  eval_losses.append(test_loss)\n",
    "  eval_accu.append(accu)\n",
    " \n",
    "  return test_loss, accu"
   ]
  },
  {
   "cell_type": "code",
   "execution_count": 15,
   "metadata": {
    "pycharm": {
     "is_executing": true
    }
   },
   "outputs": [
    {
     "name": "stdout",
     "output_type": "stream",
     "text": [
      "Epoch: 1\n",
      "Train: Loss: 0.4790842459599177, Accuracy: 83.16166666666666%\n",
      "Test: Loss 0.43896308794617656, Accuracy: 83.72%\n",
      "Epoch: 2\n",
      "Train: Loss: 0.31604429069906476, Accuracy: 88.57166666666667%\n",
      "Test: Loss 0.33959113702178, Accuracy: 87.51%\n",
      "Epoch: 3\n",
      "Train: Loss: 0.2756658265988032, Accuracy: 90.15166666666667%\n",
      "Test: Loss 0.2886399590969086, Accuracy: 89.76%\n",
      "Epoch: 4\n",
      "Train: Loss: 0.24950066678225993, Accuracy: 91.06333333333333%\n",
      "Test: Loss 0.285331109687686, Accuracy: 90.13%\n",
      "Epoch: 5\n",
      "Train: Loss: 0.2278413006539146, Accuracy: 91.83666666666667%\n",
      "Test: Loss 0.24783836297690867, Accuracy: 91.22%\n",
      "Epoch: 6\n",
      "Train: Loss: 0.20643207985907794, Accuracy: 92.48%\n",
      "Test: Loss 0.2594766680896282, Accuracy: 91.07%\n",
      "Epoch: 7\n",
      "Train: Loss: 0.193231776325653, Accuracy: 93.09666666666666%\n",
      "Test: Loss 0.26924408324062826, Accuracy: 91.08%\n",
      "Epoch: 8\n",
      "Train: Loss: 0.17633081392695507, Accuracy: 93.60666666666667%\n",
      "Test: Loss 0.2767802491784096, Accuracy: 91.14%\n",
      "Epoch: 9\n",
      "Train: Loss: 0.16562690363576016, Accuracy: 94.00333333333333%\n",
      "Test: Loss 0.33456910386681554, Accuracy: 89.91%\n",
      "Epoch: 10\n",
      "Train: Loss: 0.15677170341213545, Accuracy: 94.28666666666666%\n",
      "Test: Loss 0.3201125889271498, Accuracy: 90.32%\n",
      "Epoch: 11\n",
      "Train: Loss: 0.1465313826749722, Accuracy: 94.69166666666666%\n",
      "Test: Loss 0.3518308073282242, Accuracy: 90.17%\n",
      "Epoch: 12\n",
      "Train: Loss: 0.13402344807982444, Accuracy: 95.16%\n",
      "Test: Loss 0.3697469034790993, Accuracy: 89.65%\n",
      "Epoch: 13\n",
      "Train: Loss: 0.12581189618445932, Accuracy: 95.39666666666666%\n",
      "Test: Loss 0.39282336957752706, Accuracy: 89.46%\n",
      "Epoch: 14\n",
      "Train: Loss: 0.12147135059349239, Accuracy: 95.55%\n",
      "Test: Loss 0.39406985908746717, Accuracy: 89.78%\n",
      "Epoch: 15\n",
      "Train: Loss: 0.11422291272009412, Accuracy: 95.84166666666667%\n",
      "Test: Loss 0.4029939730465412, Accuracy: 89.97%\n",
      "Epoch: 16\n",
      "Train: Loss: 0.09923320617216329, Accuracy: 96.415%\n",
      "Test: Loss 0.41804798938333987, Accuracy: 89.71%\n",
      "Epoch: 17\n",
      "Train: Loss: 0.1003399662549297, Accuracy: 96.31%\n",
      "Test: Loss 0.46630252346396445, Accuracy: 89.57%\n",
      "Epoch: 18\n",
      "Train: Loss: 0.09756022801467527, Accuracy: 96.42%\n",
      "Test: Loss 0.4562710876762867, Accuracy: 89.06%\n",
      "Epoch: 19\n",
      "Train: Loss: 0.09234295578673482, Accuracy: 96.58166666666666%\n",
      "Test: Loss 0.39741826958954335, Accuracy: 90.69%\n",
      "Epoch: 20\n",
      "Train: Loss: 0.08741453894491617, Accuracy: 96.745%\n",
      "Test: Loss 0.4648880799114704, Accuracy: 89.56%\n",
      "Epoch: 21\n",
      "Train: Loss: 0.08449180216218034, Accuracy: 96.855%\n",
      "Test: Loss 0.48089744366705417, Accuracy: 89.81%\n",
      "Epoch: 22\n",
      "Train: Loss: 0.07631322165951132, Accuracy: 97.18333333333334%\n",
      "Test: Loss 0.5080466219782829, Accuracy: 89.35%\n",
      "Epoch: 23\n",
      "Train: Loss: 0.07546484340991204, Accuracy: 97.20833333333333%\n",
      "Test: Loss 0.4693803527951241, Accuracy: 89.92%\n",
      "Epoch: 24\n",
      "Train: Loss: 0.07147419821703807, Accuracy: 97.38666666666667%\n",
      "Test: Loss 0.5531145693361759, Accuracy: 89.47%\n",
      "Epoch: 25\n",
      "Train: Loss: 0.07001594793982804, Accuracy: 97.495%\n",
      "Test: Loss 0.5683174268901348, Accuracy: 89.5%\n",
      "Epoch: 26\n",
      "Train: Loss: 0.06794966456926584, Accuracy: 97.505%\n",
      "Test: Loss 0.5348482374101877, Accuracy: 90.04%\n",
      "Epoch: 27\n",
      "Train: Loss: 0.06843082727631554, Accuracy: 97.61%\n",
      "Test: Loss 0.5475007095187903, Accuracy: 89.77%\n",
      "Epoch: 28\n",
      "Train: Loss: 0.0619954070833046, Accuracy: 97.79%\n",
      "Test: Loss 0.5464448837190866, Accuracy: 90.37%\n",
      "Epoch: 29\n",
      "Train: Loss: 0.057286285125883296, Accuracy: 97.85833333333333%\n",
      "Test: Loss 0.6550238247215748, Accuracy: 89.36%\n",
      "Epoch: 30\n",
      "Train: Loss: 0.06009892251924612, Accuracy: 97.81%\n",
      "Test: Loss 0.5861095290631055, Accuracy: 90.15%\n",
      "Epoch: 31\n",
      "Train: Loss: 0.054005720796218765, Accuracy: 98.07666666666667%\n",
      "Test: Loss 0.5867407692223787, Accuracy: 90.11%\n",
      "Epoch: 32\n",
      "Train: Loss: 0.05631178764859215, Accuracy: 97.93%\n",
      "Test: Loss 0.6571437732875347, Accuracy: 89.61%\n",
      "Epoch: 33\n",
      "Train: Loss: 0.05351075569885628, Accuracy: 98.05%\n",
      "Test: Loss 0.6686714977025986, Accuracy: 89.69%\n",
      "Epoch: 34\n",
      "Train: Loss: 0.05742820238034862, Accuracy: 98.005%\n",
      "Test: Loss 0.5779565348476171, Accuracy: 90.72%\n",
      "Epoch: 35\n",
      "Train: Loss: 0.048091189279415025, Accuracy: 98.25833333333334%\n",
      "Test: Loss 0.684342982172966, Accuracy: 89.88%\n",
      "Epoch: 36\n",
      "Train: Loss: 0.044821940371378634, Accuracy: 98.37%\n",
      "Test: Loss 0.6998702497780322, Accuracy: 90.27%\n",
      "Epoch: 37\n",
      "Train: Loss: 0.04985454038600437, Accuracy: 98.24666666666667%\n",
      "Test: Loss 0.6685657048225403, Accuracy: 90.39%\n",
      "Epoch: 38\n",
      "Train: Loss: 0.048995634300323825, Accuracy: 98.29%\n",
      "Test: Loss 0.6235286457836628, Accuracy: 90.94%\n",
      "Epoch: 39\n",
      "Train: Loss: 0.04647146259628547, Accuracy: 98.32%\n",
      "Test: Loss 0.7245516630262137, Accuracy: 89.9%\n",
      "Epoch: 40\n",
      "Train: Loss: 0.042711418564916434, Accuracy: 98.525%\n",
      "Test: Loss 0.7336959889531136, Accuracy: 89.83%\n",
      "Epoch: 41\n",
      "Train: Loss: 0.04193219057381308, Accuracy: 98.51166666666667%\n",
      "Test: Loss 0.6627419121563435, Accuracy: 90.87%\n",
      "Epoch: 42\n",
      "Train: Loss: 0.04642099908650077, Accuracy: 98.45666666666666%\n",
      "Test: Loss 0.6603921915590764, Accuracy: 90.89%\n",
      "Epoch: 43\n",
      "Train: Loss: 0.04104623594447427, Accuracy: 98.56666666666666%\n",
      "Test: Loss 0.6508048389852047, Accuracy: 90.72%\n",
      "Epoch: 44\n",
      "Train: Loss: 0.03789275008602999, Accuracy: 98.62166666666667%\n",
      "Test: Loss 0.7689487735927105, Accuracy: 90.26%\n",
      "Epoch: 45\n",
      "Train: Loss: 0.04308596676870366, Accuracy: 98.61166666666666%\n",
      "Test: Loss 0.704591720700264, Accuracy: 90.55%\n",
      "Epoch: 46\n",
      "Train: Loss: 0.040343983988035084, Accuracy: 98.6%\n",
      "Test: Loss 0.7495920205116272, Accuracy: 90.49%\n",
      "Epoch: 47\n",
      "Train: Loss: 0.03998792085049293, Accuracy: 98.67833333333333%\n",
      "Test: Loss 0.6970420362055302, Accuracy: 90.58%\n",
      "Epoch: 48\n",
      "Train: Loss: 0.0358943911040357, Accuracy: 98.79666666666667%\n",
      "Test: Loss 0.7169656656682492, Accuracy: 90.45%\n",
      "Epoch: 49\n",
      "Train: Loss: 0.04191722444639406, Accuracy: 98.595%\n",
      "Test: Loss 0.7428852178156375, Accuracy: 90.4%\n",
      "Epoch: 50\n",
      "Train: Loss: 0.038082327520435985, Accuracy: 98.76333333333334%\n",
      "Test: Loss 0.7466237522661686, Accuracy: 90.59%\n",
      "Epoch: 51\n",
      "Train: Loss: 0.032835021664492765, Accuracy: 98.905%\n",
      "Test: Loss 0.7523389216512442, Accuracy: 90.5%\n",
      "Epoch: 52\n",
      "Train: Loss: 0.03512148566010486, Accuracy: 98.78666666666666%\n",
      "Test: Loss 0.8606940375268459, Accuracy: 89.66%\n",
      "Epoch: 53\n",
      "Train: Loss: 0.0419131226822113, Accuracy: 98.62333333333333%\n",
      "Test: Loss 0.7841598635166883, Accuracy: 90.22%\n",
      "Epoch: 54\n",
      "Train: Loss: 0.03390017334485795, Accuracy: 98.82833333333333%\n",
      "Test: Loss 0.7621253607422114, Accuracy: 90.38%\n",
      "Epoch: 55\n",
      "Train: Loss: 0.031093086917098844, Accuracy: 98.89%\n",
      "Test: Loss 0.8476732643693685, Accuracy: 90.19%\n",
      "Epoch: 56\n",
      "Train: Loss: 0.03748100132337034, Accuracy: 98.75%\n",
      "Test: Loss 0.8697365964204073, Accuracy: 90.18%\n",
      "Epoch: 57\n",
      "Train: Loss: 0.03739739051444, Accuracy: 98.77833333333334%\n",
      "Test: Loss 0.9485776726901531, Accuracy: 89.32%\n",
      "Epoch: 58\n",
      "Train: Loss: 0.03338888162077638, Accuracy: 98.895%\n",
      "Test: Loss 0.8523232764005662, Accuracy: 89.48%\n",
      "Epoch: 59\n",
      "Train: Loss: 0.034178340590005976, Accuracy: 98.89333333333333%\n",
      "Test: Loss 0.861935646533966, Accuracy: 90.02%\n",
      "Epoch: 60\n",
      "Train: Loss: 0.034638342402637745, Accuracy: 98.85166666666667%\n",
      "Test: Loss 0.8534007132053375, Accuracy: 90.29%\n",
      "Epoch: 61\n",
      "Train: Loss: 0.03480048669077708, Accuracy: 98.83833333333334%\n",
      "Test: Loss 0.8430965954065323, Accuracy: 90.36%\n",
      "Epoch: 62\n",
      "Train: Loss: 0.034562150824882946, Accuracy: 98.86%\n",
      "Test: Loss 0.9027393168210983, Accuracy: 90.26%\n",
      "Epoch: 63\n",
      "Train: Loss: 0.02804434466762056, Accuracy: 99.1%\n",
      "Test: Loss 0.8478272709250451, Accuracy: 90.51%\n",
      "Epoch: 64\n",
      "Train: Loss: 0.028173911193177144, Accuracy: 99.09333333333333%\n",
      "Test: Loss 0.8728651425242424, Accuracy: 90.62%\n",
      "Epoch: 65\n",
      "Train: Loss: 0.035256905874369596, Accuracy: 98.83833333333334%\n",
      "Test: Loss 0.9464658775925636, Accuracy: 89.79%\n",
      "Epoch: 66\n",
      "Train: Loss: 0.03102961816149521, Accuracy: 98.955%\n",
      "Test: Loss 0.8557881905138492, Accuracy: 90.91%\n",
      "Epoch: 67\n",
      "Train: Loss: 0.02930770444561252, Accuracy: 99.025%\n",
      "Test: Loss 0.8680135804414749, Accuracy: 90.88%\n",
      "Epoch: 68\n",
      "Train: Loss: 0.026879396864011747, Accuracy: 99.065%\n",
      "Test: Loss 0.9297238913178444, Accuracy: 90.58%\n",
      "Epoch: 69\n",
      "Train: Loss: 0.035652004977146136, Accuracy: 98.84%\n",
      "Test: Loss 0.8655001902580262, Accuracy: 90.83%\n",
      "Epoch: 70\n",
      "Train: Loss: 0.02997845421433643, Accuracy: 99.045%\n",
      "Test: Loss 0.9024494908750057, Accuracy: 90.47%\n",
      "Epoch: 71\n",
      "Train: Loss: 0.028639665628279545, Accuracy: 99.04%\n",
      "Test: Loss 0.8920569467544556, Accuracy: 90.72%\n",
      "Epoch: 72\n",
      "Train: Loss: 0.02844359022087398, Accuracy: 99.085%\n",
      "Test: Loss 0.9671119336783885, Accuracy: 90.5%\n",
      "Epoch: 73\n",
      "Train: Loss: 0.03293302175453088, Accuracy: 98.91833333333334%\n",
      "Test: Loss 0.929203174263239, Accuracy: 90.61%\n",
      "Epoch: 74\n",
      "Train: Loss: 0.02876254901756814, Accuracy: 99.04833333333333%\n",
      "Test: Loss 0.915722686946392, Accuracy: 90.51%\n",
      "Epoch: 75\n",
      "Train: Loss: 0.028807687321216992, Accuracy: 99.14%\n",
      "Test: Loss 0.9577390405535698, Accuracy: 90.32%\n",
      "Epoch: 76\n",
      "Train: Loss: 0.026189423272747567, Accuracy: 99.14%\n",
      "Test: Loss 0.9205170360207557, Accuracy: 90.95%\n",
      "Epoch: 77\n",
      "Train: Loss: 0.03044736975363776, Accuracy: 99.02833333333334%\n",
      "Test: Loss 0.8878722978010773, Accuracy: 90.7%\n",
      "Epoch: 78\n",
      "Train: Loss: 0.025122801694680372, Accuracy: 99.17166666666667%\n",
      "Test: Loss 0.8948441997915506, Accuracy: 90.39%\n",
      "Epoch: 79\n",
      "Train: Loss: 0.032165738371695625, Accuracy: 99.055%\n",
      "Test: Loss 0.9539275668561459, Accuracy: 90.48%\n",
      "Epoch: 80\n",
      "Train: Loss: 0.02854552313646612, Accuracy: 99.115%\n",
      "Test: Loss 0.9201408433169127, Accuracy: 90.32%\n",
      "Epoch: 81\n",
      "Train: Loss: 0.03086307009042078, Accuracy: 99.01333333333334%\n",
      "Test: Loss 0.9869510018825531, Accuracy: 90.98%\n",
      "Epoch: 82\n",
      "Train: Loss: 0.027022701892986636, Accuracy: 99.18833333333333%\n",
      "Test: Loss 0.9228119616210461, Accuracy: 90.86%\n",
      "Epoch: 83\n",
      "Train: Loss: 0.023896632284931912, Accuracy: 99.23%\n",
      "Test: Loss 0.9465992903709411, Accuracy: 90.8%\n",
      "Epoch: 84\n",
      "Train: Loss: 0.026363805678367196, Accuracy: 99.16%\n",
      "Test: Loss 0.9262800842523575, Accuracy: 90.55%\n",
      "Epoch: 85\n",
      "Train: Loss: 0.026240066451112702, Accuracy: 99.10666666666667%\n",
      "Test: Loss 1.1553555923700332, Accuracy: 89.83%\n",
      "Epoch: 86\n",
      "Train: Loss: 0.02774590256301053, Accuracy: 99.145%\n",
      "Test: Loss 1.0027191478013993, Accuracy: 90.44%\n",
      "Epoch: 87\n",
      "Train: Loss: 0.02302231489308421, Accuracy: 99.27333333333333%\n",
      "Test: Loss 0.9859824665635825, Accuracy: 90.86%\n",
      "Epoch: 88\n",
      "Train: Loss: 0.031888894290602064, Accuracy: 99.00333333333333%\n",
      "Test: Loss 0.97911391928792, Accuracy: 90.84%\n",
      "Epoch: 89\n",
      "Train: Loss: 0.027824160620924278, Accuracy: 99.125%\n",
      "Test: Loss 0.9840936225652694, Accuracy: 90.68%\n",
      "Epoch: 90\n",
      "Train: Loss: 0.024134894854893597, Accuracy: 99.30833333333334%\n",
      "Test: Loss 1.0368853519856929, Accuracy: 90.56%\n",
      "Epoch: 91\n",
      "Train: Loss: 0.02171217244763587, Accuracy: 99.28833333333333%\n",
      "Test: Loss 0.9921704242751003, Accuracy: 90.87%\n",
      "Epoch: 92\n",
      "Train: Loss: 0.022321392376989026, Accuracy: 99.25%\n",
      "Test: Loss 1.0481492535769938, Accuracy: 90.69%\n",
      "Epoch: 93\n",
      "Train: Loss: 0.032909855997665244, Accuracy: 99.05833333333334%\n",
      "Test: Loss 1.0024539330601692, Accuracy: 90.44%\n",
      "Epoch: 94\n",
      "Train: Loss: 0.02473849355953765, Accuracy: 99.24%\n",
      "Test: Loss 0.9665263491868973, Accuracy: 90.53%\n",
      "Epoch: 95\n",
      "Train: Loss: 0.025785392273382966, Accuracy: 99.22666666666667%\n",
      "Test: Loss 1.0165184212848544, Accuracy: 90.72%\n",
      "Epoch: 96\n",
      "Train: Loss: 0.022413700243514353, Accuracy: 99.28166666666667%\n",
      "Test: Loss 1.0225805588066579, Accuracy: 90.72%\n",
      "Epoch: 97\n",
      "Train: Loss: 0.023966879905778265, Accuracy: 99.24666666666667%\n",
      "Test: Loss 1.0573037299513817, Accuracy: 90.78%\n",
      "Epoch: 98\n",
      "Train: Loss: 0.025101849379645196, Accuracy: 99.235%\n",
      "Test: Loss 1.0244880106300116, Accuracy: 90.47%\n",
      "Epoch: 99\n",
      "Train: Loss: 0.022081096483091187, Accuracy: 99.33333333333333%\n",
      "Test: Loss 1.1982920557260512, Accuracy: 89.7%\n",
      "Epoch: 100\n",
      "Train: Loss: 0.028497230172270065, Accuracy: 99.12%\n",
      "Test: Loss 1.0666549655795097, Accuracy: 90.73%\n"
     ]
    }
   ],
   "source": [
    "epochs=100\n",
    "train_accu, eval_accu, train_losses, eval_losses = [], [], [], []\n",
    "for epoch in range(1,epochs+1): \n",
    "  train_loss, train_accuracy = train(epoch)\n",
    "  test_loss, test_accuracy = test(epoch)\n",
    "  print(\"Epoch: {}\\nTrain: Loss: {}, Accuracy: {}%\\nTest: Loss {}, Accuracy: {}%\".format(epoch, train_loss, train_accuracy, test_loss, test_accuracy))\n",
    "  "
   ]
  },
  {
   "cell_type": "code",
   "execution_count": 16,
   "metadata": {
    "pycharm": {
     "is_executing": true
    }
   },
   "outputs": [],
   "source": [
    "import os\n",
    "\n",
    "if not os.path.exists('./diagrams'):\n",
    "    os.makedirs('./diagrams')"
   ]
  },
  {
   "cell_type": "code",
   "execution_count": 22,
   "metadata": {},
   "outputs": [],
   "source": [
    "output_mapping = {\n",
    "        0: \"T-shirt/Top\",\n",
    "        1: \"Trouser\",\n",
    "        2: \"Pullover\",\n",
    "        3: \"Dress\",\n",
    "        4: \"Coat\", \n",
    "        5: \"Sandal\", \n",
    "        6: \"Shirt\",\n",
    "        7: \"Sneaker\",\n",
    "        8: \"Bag\",\n",
    "        9: \"Ankle Boot\"\n",
    "    }\n",
    "\n",
    "output_mapping_list = list(output_mapping.values())"
   ]
  },
  {
   "cell_type": "code",
   "execution_count": 27,
   "metadata": {},
   "outputs": [
    {
     "name": "stdout",
     "output_type": "stream",
     "text": [
      "              precision    recall  f1-score   support\n",
      "\n",
      " T-shirt/Top       0.98      0.99      0.98      6000\n",
      "     Trouser       1.00      1.00      1.00      6000\n",
      "    Pullover       0.99      0.97      0.98      6000\n",
      "       Dress       0.98      0.99      0.99      6000\n",
      "        Coat       0.98      0.97      0.98      6000\n",
      "      Sandal       1.00      1.00      1.00      6000\n",
      "       Shirt       0.96      0.97      0.97      6000\n",
      "     Sneaker       1.00      1.00      1.00      6000\n",
      "         Bag       1.00      1.00      1.00      6000\n",
      "  Ankle Boot       1.00      1.00      1.00      6000\n",
      "\n",
      "    accuracy                           0.99     60000\n",
      "   macro avg       0.99      0.99      0.99     60000\n",
      "weighted avg       0.99      0.99      0.99     60000\n",
      "\n"
     ]
    }
   ],
   "source": [
    "all_labels = torch.Tensor()\n",
    "all_predicted = torch.Tensor()\n",
    "\n",
    "with torch.no_grad():\n",
    "    model.eval()\n",
    "    for images, labels in train_loader:\n",
    "        # send the input to the device\n",
    "        images = images.to(device)\n",
    "        # make the predictions and add them to the list\n",
    "        outputs = model(images)\n",
    "        _, predicted = outputs.max(1)\n",
    "        all_predicted = torch.cat((all_predicted, predicted.cpu()))\n",
    "        all_labels = torch.cat((all_labels, labels.cpu()))\n",
    "    # generate a classification report\n",
    "\n",
    "print(classification_report(all_labels, all_predicted, target_names=output_mapping_list))"
   ]
  },
  {
   "cell_type": "code",
   "execution_count": 28,
   "metadata": {},
   "outputs": [
    {
     "name": "stdout",
     "output_type": "stream",
     "text": [
      "              precision    recall  f1-score   support\n",
      "\n",
      " T-shirt/Top       0.83      0.86      0.84      1000\n",
      "     Trouser       0.99      0.99      0.99      1000\n",
      "    Pullover       0.90      0.82      0.86      1000\n",
      "       Dress       0.90      0.92      0.91      1000\n",
      "        Coat       0.85      0.85      0.85      1000\n",
      "      Sandal       0.99      0.97      0.98      1000\n",
      "       Shirt       0.73      0.75      0.74      1000\n",
      "     Sneaker       0.95      0.96      0.95      1000\n",
      "         Bag       0.98      0.98      0.98      1000\n",
      "  Ankle Boot       0.96      0.97      0.96      1000\n",
      "\n",
      "    accuracy                           0.91     10000\n",
      "   macro avg       0.91      0.91      0.91     10000\n",
      "weighted avg       0.91      0.91      0.91     10000\n",
      "\n"
     ]
    }
   ],
   "source": [
    "all_labels = torch.Tensor()\n",
    "all_predicted = torch.Tensor()\n",
    "\n",
    "with torch.no_grad():\n",
    "    model.eval()\n",
    "    for images, labels in test_loader:\n",
    "        # send the input to the device\n",
    "        images = images.to(device)\n",
    "        # make the predictions and add them to the list\n",
    "        outputs = model(images)\n",
    "        _, predicted = outputs.max(1)\n",
    "        all_predicted = torch.cat((all_predicted, predicted.cpu()))\n",
    "        all_labels = torch.cat((all_labels, labels.cpu()))\n",
    "    # generate a classification report\n",
    "\n",
    "print(classification_report(all_labels, all_predicted, target_names=output_mapping_list))"
   ]
  },
  {
   "cell_type": "code",
   "execution_count": 17,
   "metadata": {
    "pycharm": {
     "is_executing": true
    }
   },
   "outputs": [
    {
     "data": {
      "image/png": "[encoded data removed]",
      "text/plain": [
       "<Figure size 1152x720 with 1 Axes>"
      ]
     },
     "metadata": {
      "needs_background": "light"
     },
     "output_type": "display_data"
    }
   ],
   "source": [
    "plt.figure(figsize=(16,10))\n",
    "\n",
    "plt.plot(train_accu)\n",
    "plt.plot(eval_accu)\n",
    "plt.xlabel('epoch')\n",
    "plt.ylabel('accuracy')\n",
    "plt.legend(['Train','Valid'])\n",
    "plt.title('Train vs Valid Accuracy')\n",
    "\n",
    "plt.savefig('./diagrams/cNN_Train_vs_Valid_Acc_3_layers.png')"
   ]
  },
  {
   "cell_type": "code",
   "execution_count": 18,
   "metadata": {
    "pycharm": {
     "is_executing": true
    }
   },
   "outputs": [
    {
     "data": {
      "image/png": "[encoded data removed]",
      "text/plain": [
       "<Figure size 1152x720 with 1 Axes>"
      ]
     },
     "metadata": {
      "needs_background": "light"
     },
     "output_type": "display_data"
    }
   ],
   "source": [
    "plt.figure(figsize=(16,10))\n",
    "\n",
    "plt.plot(train_losses)\n",
    "plt.plot(eval_losses)\n",
    "plt.xlabel('epoch')\n",
    "plt.ylabel('losses')\n",
    "plt.legend(['Train','Valid'])\n",
    "plt.title('Train vs Valid Losses')\n",
    " \n",
    "plt.savefig('./diagrams/cNN_Train_vs_Valid_loss_3_layers.png')"
   ]
  },
  {
   "cell_type": "markdown",
   "metadata": {},
   "source": [
    "From the graph we can see a downward trend of loss vs epoch. Perhaps a reason for the spikes in loss could be just due to the randomness of the batch sampling. An unlucky sampling could have led to the loss increasing compared to the previous iterations but overall the loss has a downward trend as iterations increase."
   ]
  },
  {
   "cell_type": "code",
   "execution_count": 21,
   "metadata": {
    "pycharm": {
     "is_executing": true
    }
   },
   "outputs": [
    {
     "name": "stdout",
     "output_type": "stream",
     "text": [
      "Recall of T-shirt/Top: 85.80%\n",
      "Recall of Trouser: 99.20%\n",
      "Recall of Pullover: 82.40%\n",
      "Recall of Dress: 92.30%\n",
      "Recall of Coat: 85.20%\n",
      "Recall of Sandal: 96.70%\n",
      "Recall of Shirt: 75.00%\n",
      "Recall of Sneaker: 95.60%\n",
      "Recall of Bag: 98.20%\n",
      "Recall of Ankle Boot: 96.90%\n"
     ]
    }
   ],
   "source": [
    "class_correct = [0. for _ in range(10)]\n",
    "total_correct = [0. for _ in range(10)]\n",
    "\n",
    "with torch.no_grad():\n",
    "    for images, labels in test_loader:\n",
    "        images, labels = images.to(device), labels.to(device)\n",
    "        outputs = model(images)\n",
    "        _, predicted = outputs.max(1)\n",
    "        c = (predicted == labels).squeeze()\n",
    "        \n",
    "        for i in range(100):\n",
    "            label = labels[i]\n",
    "            class_correct[label] += c[i].item()\n",
    "            total_correct[label] += 1\n",
    "        \n",
    "for i in range(10):\n",
    "    print(\"Recall of {}: {:.2f}%\".format(output_label(i), class_correct[i] * 100 / total_correct[i]))"
   ]
  },
  {
   "cell_type": "code",
   "execution_count": null,
   "metadata": {
    "pycharm": {
     "is_executing": true
    }
   },
   "outputs": [],
   "source": [
    "# https://debuggercafe.com/visualizing-filters-and-feature-maps-in-convolutional-neural-networks-using-pytorch/\n",
    "model_weights = [] # we will save the conv layer weights in this list\n",
    "conv_layers = [] # we will save the 49 conv layers in this list\n",
    "# get all the model children as list\n",
    "model_children = list(model.children())"
   ]
  },
  {
   "cell_type": "code",
   "execution_count": null,
   "metadata": {
    "pycharm": {
     "is_executing": true
    }
   },
   "outputs": [],
   "source": [
    "# counter to keep count of the conv layers\n",
    "counter = 0 \n",
    "# append all the conv layers and their respective weights to the list\n",
    "for i in range(len(model_children)):\n",
    "    if type(model_children[i]) == nn.Conv2d:\n",
    "        counter += 1\n",
    "        model_weights.append(model_children[i].weight)\n",
    "        conv_layers.append(model_children[i])\n",
    "    elif type(model_children[i]) == nn.Sequential:\n",
    "        for child in model_children[i].children():\n",
    "            if type(child) == nn.Conv2d:\n",
    "                counter += 1\n",
    "                model_weights.append(child.weight)\n",
    "                conv_layers.append(child)\n",
    "print(f\"Total convolutional layers: {counter}\")"
   ]
  },
  {
   "cell_type": "code",
   "execution_count": null,
   "metadata": {
    "pycharm": {
     "is_executing": true
    }
   },
   "outputs": [],
   "source": [
    "# take a look at the conv layers and the respective weights\n",
    "for weight, conv in zip(model_weights, conv_layers):\n",
    "    # print(f\"WEIGHT: {weight} \\nSHAPE: {weight.shape}\")\n",
    "    print(f\"CONV: {conv} ====> SHAPE: {weight.shape}\")"
   ]
  },
  {
   "cell_type": "code",
   "execution_count": null,
   "metadata": {
    "pycharm": {
     "is_executing": true
    }
   },
   "outputs": [],
   "source": [
    "# visualize the first conv layer filters\n",
    "plt.figure(figsize=(20, 17))\n",
    "for i, filter in enumerate(model_weights[0].cpu()):\n",
    "    plt.subplot(8, 8, i+1) # (8, 8) because in conv0 we have 7x7 filters and total of 64 (see printed shapes)\n",
    "    plt.imshow(filter[0, :, :].detach(), cmap='gray')\n",
    "    plt.axis('off')\n",
    "    plt.savefig('./diagrams/filter1.png')\n",
    "plt.show()"
   ]
  },
  {
   "cell_type": "code",
   "execution_count": null,
   "metadata": {
    "pycharm": {
     "is_executing": true
    }
   },
   "outputs": [],
   "source": [
    "# visualize the second conv layer filters\n",
    "plt.figure(figsize=(20, 17))\n",
    "for i, filter in enumerate(model_weights[1].cpu()):\n",
    "    plt.subplot(8, 8, i+1) # (8, 8) because in conv0 we have 7x7 filters and total of 64 (see printed shapes)\n",
    "    plt.imshow(filter[0, :, :].detach(), cmap='gray')\n",
    "    plt.axis('off')\n",
    "    plt.savefig('./diagrams/filter2.png')\n",
    "plt.show()"
   ]
  },
  {
   "cell_type": "code",
   "execution_count": null,
   "metadata": {
    "pycharm": {
     "is_executing": true
    }
   },
   "outputs": [],
   "source": [
    "print(model_weights[0].cpu())"
   ]
  },
  {
   "cell_type": "code",
   "execution_count": null,
   "metadata": {
    "pycharm": {
     "is_executing": true
    }
   },
   "outputs": [],
   "source": [
    "plt.imsave('./diagrams/pullover.png', image.squeeze(), cmap=\"gray\")"
   ]
  },
  {
   "cell_type": "code",
   "execution_count": null,
   "metadata": {
    "pycharm": {
     "is_executing": true
    }
   },
   "outputs": [],
   "source": [
    "import cv2 as cv\n",
    "\n",
    "# read and visualize an image\n",
    "img = cv.imread(f\"./diagrams/pullover.png\")\n",
    "# img = cv.cvtColor(img, cv.COLOR_BGR2RGB)\n",
    "plt.imshow(img)\n",
    "plt.show()\n",
    "\n",
    "# define the transforms\n",
    "transform = transforms.Compose([\n",
    "    transforms.ToPILImage(),\n",
    "    transforms.Resize((28, 28)),\n",
    "    transforms.Grayscale(num_output_channels=1),\n",
    "    transforms.ToTensor(),\n",
    "])\n",
    "\n",
    "img = np.array(img)\n",
    "# apply the transforms\n",
    "img = transform(img)\n",
    "print(img.size())\n",
    "# unsqueeze to add a batch dimension\n",
    "img = img.unsqueeze(0)\n",
    "print(img.size())"
   ]
  },
  {
   "cell_type": "code",
   "execution_count": null,
   "metadata": {
    "pycharm": {
     "is_executing": true
    }
   },
   "outputs": [],
   "source": [
    "# pass the image through all the layers\n",
    "img = img.to(device)\n",
    "results = [conv_layers[0](img)]\n",
    "for i in range(1, len(conv_layers)):\n",
    "    # pass the result from the last layer to the next layer\n",
    "    results.append(conv_layers[i](results[-1]))\n",
    "# make a copy of the `results`\n",
    "outputs = results"
   ]
  },
  {
   "cell_type": "code",
   "execution_count": null,
   "metadata": {
    "pycharm": {
     "is_executing": true
    }
   },
   "outputs": [],
   "source": [
    "# visualize 64 features from each layer \n",
    "# (although there are more feature maps in the upper layers)\n",
    "for num_layer in range(len(outputs)):\n",
    "    plt.figure(figsize=(30, 30))\n",
    "    layer_viz = outputs[num_layer][0, :, :, :]\n",
    "    layer_viz = layer_viz.data\n",
    "    print(layer_viz.size())\n",
    "    for i, filter in enumerate(layer_viz):\n",
    "        if i == 64: # we will visualize only 8x8 blocks from each layer\n",
    "            break\n",
    "        plt.subplot(8, 8, i + 1)\n",
    "        plt.imshow(filter.cpu(), cmap='gray')\n",
    "        plt.axis(\"off\")\n",
    "    print(f\"Saving layer {num_layer} feature maps...\")\n",
    "    plt.savefig(f\"./diagrams/layer_{num_layer}.png\")\n",
    "    # plt.show()\n",
    "    plt.close()"
   ]
  },
  {
   "cell_type": "code",
   "execution_count": null,
   "metadata": {
    "pycharm": {
     "is_executing": true
    }
   },
   "outputs": [],
   "source": []
  }
 ],
 "metadata": {
  "interpreter": {
   "hash": "a26ff82582be0ed5f057a749d3391963a753d71735083bd0110d44d1abf41696"
  },
  "kernelspec": {
   "display_name": "Python 3 (ipykernel)",
   "language": "python",
   "name": "python3"
  },
  "language_info": {
   "codemirror_mode": {
    "name": "ipython",
    "version": 3
   },
   "file_extension": ".py",
   "mimetype": "text/x-python",
   "name": "python",
   "nbconvert_exporter": "python",
   "pygments_lexer": "ipython3",
   "version": "3.8.8"
  }
 },
 "nbformat": 4,
 "nbformat_minor": 2
}
