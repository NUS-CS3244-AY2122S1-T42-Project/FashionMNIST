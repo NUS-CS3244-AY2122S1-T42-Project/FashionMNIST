{
 "cells": [
  {
   "cell_type": "code",
   "execution_count": 6,
   "metadata": {},
   "outputs": [],
   "source": [
    "import numpy as np\n",
    "import pandas as pd\n",
    "import matplotlib.pyplot as plt\n",
    "\n",
    "import torch\n",
    "import torch.nn as nn\n",
    "from torch.autograd import Variable\n",
    "\n",
    "import torchvision\n",
    "import torchvision.transforms as transforms\n",
    "from torch.utils.data import Dataset, DataLoader\n",
    "from sklearn.metrics import confusion_matrix"
   ]
  },
  {
   "cell_type": "markdown",
   "metadata": {},
   "source": [
    "I had some difficulties uninstalling pytorch without cuda to replace it so I just created another virtual env and ran it in that. (I think this only needs to be done when you try to run it local)\n",
    "\n",
    "After activating the venv you can install the pytorch with cuda with the following command.\n",
    "\n",
    "`pip3 install torch==1.9.1+cu111 torchvision==0.10.1+cu111 torchaudio==0.9.1 -f https://download.pytorch.org/whl/torch_stable.html`\n"
   ]
  },
  {
   "cell_type": "code",
   "execution_count": 7,
   "metadata": {},
   "outputs": [
    {
     "name": "stdout",
     "output_type": "stream",
     "text": [
      "cpu\n"
     ]
    }
   ],
   "source": [
    "device = torch.device(\"cuda:0\" if torch.cuda.is_available() else \"cpu\")\n",
    "print(device)"
   ]
  },
  {
   "cell_type": "code",
   "execution_count": 3,
   "metadata": {},
   "outputs": [
    {
     "ename": "AssertionError",
     "evalue": "Torch not compiled with CUDA enabled",
     "output_type": "error",
     "traceback": [
      "\u001B[0;31m---------------------------------------------------------------------------\u001B[0m",
      "\u001B[0;31mAssertionError\u001B[0m                            Traceback (most recent call last)",
      "\u001B[0;32m/var/folders/gv/k_m5vpnd3yvcwjm4n4ntsxzm0000gp/T/ipykernel_7837/160036897.py\u001B[0m in \u001B[0;36m<module>\u001B[0;34m\u001B[0m\n\u001B[0;32m----> 1\u001B[0;31m \u001B[0mtorch\u001B[0m\u001B[0;34m.\u001B[0m\u001B[0mzeros\u001B[0m\u001B[0;34m(\u001B[0m\u001B[0;36m1\u001B[0m\u001B[0;34m)\u001B[0m\u001B[0;34m.\u001B[0m\u001B[0mcuda\u001B[0m\u001B[0;34m(\u001B[0m\u001B[0;34m)\u001B[0m\u001B[0;34m\u001B[0m\u001B[0;34m\u001B[0m\u001B[0m\n\u001B[0m",
      "\u001B[0;32m~/Desktop/CS3244/Fashion-MNIST/venv/lib/python3.9/site-packages/torch/cuda/__init__.py\u001B[0m in \u001B[0;36m_lazy_init\u001B[0;34m()\u001B[0m\n\u001B[1;32m    206\u001B[0m                 \"multiprocessing, you must use the 'spawn' start method\")\n\u001B[1;32m    207\u001B[0m         \u001B[0;32mif\u001B[0m \u001B[0;32mnot\u001B[0m \u001B[0mhasattr\u001B[0m\u001B[0;34m(\u001B[0m\u001B[0mtorch\u001B[0m\u001B[0;34m.\u001B[0m\u001B[0m_C\u001B[0m\u001B[0;34m,\u001B[0m \u001B[0;34m'_cuda_getDeviceCount'\u001B[0m\u001B[0;34m)\u001B[0m\u001B[0;34m:\u001B[0m\u001B[0;34m\u001B[0m\u001B[0;34m\u001B[0m\u001B[0m\n\u001B[0;32m--> 208\u001B[0;31m             \u001B[0;32mraise\u001B[0m \u001B[0mAssertionError\u001B[0m\u001B[0;34m(\u001B[0m\u001B[0;34m\"Torch not compiled with CUDA enabled\"\u001B[0m\u001B[0;34m)\u001B[0m\u001B[0;34m\u001B[0m\u001B[0;34m\u001B[0m\u001B[0m\n\u001B[0m\u001B[1;32m    209\u001B[0m         \u001B[0;32mif\u001B[0m \u001B[0m_cudart\u001B[0m \u001B[0;32mis\u001B[0m \u001B[0;32mNone\u001B[0m\u001B[0;34m:\u001B[0m\u001B[0;34m\u001B[0m\u001B[0;34m\u001B[0m\u001B[0m\n\u001B[1;32m    210\u001B[0m             raise AssertionError(\n",
      "\u001B[0;31mAssertionError\u001B[0m: Torch not compiled with CUDA enabled"
     ]
    }
   ],
   "source": [
    "torch.zeros(1).cuda()"
   ]
  },
  {
   "cell_type": "code",
   "execution_count": 8,
   "metadata": {},
   "outputs": [],
   "source": [
    "#I had a \n",
    "train_csv = pd.read_csv(\"./data/fashion-mnist_train.csv\")\n",
    "test_csv = pd.read_csv(\"./data/fashion-mnist_test.csv\")"
   ]
  },
  {
   "cell_type": "code",
   "execution_count": 9,
   "metadata": {},
   "outputs": [],
   "source": [
    "class FashionDataset(Dataset):\n",
    "    \"\"\"User defined class to build a datset using Pytorch class Dataset.\"\"\"\n",
    "    \n",
    "    def __init__(self, data, transform = None):\n",
    "        \"\"\"Method to initilaize variables.\"\"\" \n",
    "        self.fashion_MNIST = list(data.values)\n",
    "        self.transform = transform\n",
    "        \n",
    "        label = []\n",
    "        image = []\n",
    "        \n",
    "        for i in self.fashion_MNIST:\n",
    "             # first column is of labels.\n",
    "            label.append(i[0])\n",
    "            image.append(i[1:])\n",
    "        self.labels = np.asarray(label)\n",
    "        # Dimension of Images = 28 * 28 * 1. where height = width = 28 and color_channels = 1.\n",
    "        self.images = np.asarray(image).reshape(-1, 28, 28, 1).astype('float32')\n",
    "\n",
    "    def __getitem__(self, index):\n",
    "        label = self.labels[index]\n",
    "        image = self.images[index]\n",
    "        \n",
    "        if self.transform is not None:\n",
    "            image = self.transform(image)\n",
    "\n",
    "        return image, label\n",
    "\n",
    "    def __len__(self):\n",
    "        return len(self.images)"
   ]
  },
  {
   "cell_type": "code",
   "execution_count": 11,
   "metadata": {},
   "outputs": [],
   "source": [
    "# Transform data into Tensor that has a range from 0 to 1\n",
    "train_set = FashionDataset(train_csv, transform=transforms.Compose([transforms.ToTensor()]))\n",
    "test_set = FashionDataset(test_csv, transform=transforms.Compose([transforms.ToTensor()]))\n",
    "\n",
    "train_loader = DataLoader(train_set, batch_size=100)\n",
    "test_loader = DataLoader(train_set, batch_size=100)"
   ]
  },
  {
   "cell_type": "markdown",
   "metadata": {},
   "source": [
    "All the above has been done to load data in batches into the model. We use the DataLoader class from torch.utils.data. We also initialize the device to be used as the GPU instead of CPU.\n",
    "\n",
    "The FashionDataset class has two methods: \n",
    "- get_item(index) -> image and label of item at index\n",
    "- len() -> number of items in the dataset"
   ]
  },
  {
   "cell_type": "code",
   "execution_count": 12,
   "metadata": {},
   "outputs": [],
   "source": [
    "# Mapping label number to a more meaningful label\n",
    "\n",
    "def output_label(label):\n",
    "    output_mapping = {\n",
    "        0: \"T-shirt/Top\",\n",
    "        1: \"Trouser\",\n",
    "        2: \"Pullover\",\n",
    "        3: \"Dress\",\n",
    "        4: \"Coat\", \n",
    "        5: \"Sandal\", \n",
    "        6: \"Shirt\",\n",
    "        7: \"Sneaker\",\n",
    "        8: \"Bag\",\n",
    "        9: \"Ankle Boot\"\n",
    "    }\n",
    "    input = (label.item() if type(label) == torch.Tensor else label)\n",
    "    return output_mapping[input]"
   ]
  },
  {
   "cell_type": "code",
   "execution_count": 13,
   "metadata": {},
   "outputs": [
    {
     "name": "stdout",
     "output_type": "stream",
     "text": [
      "2\n"
     ]
    },
    {
     "data": {
      "text/plain": "<Figure size 432x288 with 1 Axes>",
      "image/png": "[encoded data removed]"
     },
     "metadata": {
      "needs_background": "light"
     },
     "output_type": "display_data"
    }
   ],
   "source": [
    "# displaying image using matplotlib imshow()\n",
    "image, label = next(iter(train_set))\n",
    "plt.imshow(image.squeeze(), cmap=\"gray\")\n",
    "print(label)"
   ]
  },
  {
   "cell_type": "code",
   "execution_count": 9,
   "metadata": {},
   "outputs": [
    {
     "ename": "NameError",
     "evalue": "name 'train_images' is not defined",
     "output_type": "error",
     "traceback": [
      "\u001B[0;31m---------------------------------------------------------------------------\u001B[0m",
      "\u001B[0;31mNameError\u001B[0m                                 Traceback (most recent call last)",
      "\u001B[0;32m/var/folders/gv/k_m5vpnd3yvcwjm4n4ntsxzm0000gp/T/ipykernel_7837/1924905882.py\u001B[0m in \u001B[0;36m<module>\u001B[0;34m\u001B[0m\n\u001B[1;32m      5\u001B[0m     \u001B[0mplt\u001B[0m\u001B[0;34m.\u001B[0m\u001B[0myticks\u001B[0m\u001B[0;34m(\u001B[0m\u001B[0;34m[\u001B[0m\u001B[0;34m]\u001B[0m\u001B[0;34m)\u001B[0m\u001B[0;34m\u001B[0m\u001B[0;34m\u001B[0m\u001B[0m\n\u001B[1;32m      6\u001B[0m     \u001B[0mplt\u001B[0m\u001B[0;34m.\u001B[0m\u001B[0mgrid\u001B[0m\u001B[0;34m(\u001B[0m\u001B[0;32mFalse\u001B[0m\u001B[0;34m)\u001B[0m\u001B[0;34m\u001B[0m\u001B[0;34m\u001B[0m\u001B[0m\n\u001B[0;32m----> 7\u001B[0;31m     \u001B[0mplt\u001B[0m\u001B[0;34m.\u001B[0m\u001B[0mimshow\u001B[0m\u001B[0;34m(\u001B[0m\u001B[0mtrain_images\u001B[0m\u001B[0;34m[\u001B[0m\u001B[0mi\u001B[0m\u001B[0;34m]\u001B[0m\u001B[0;34m,\u001B[0m \u001B[0mcmap\u001B[0m\u001B[0;34m=\u001B[0m\u001B[0mplt\u001B[0m\u001B[0;34m.\u001B[0m\u001B[0mcm\u001B[0m\u001B[0;34m.\u001B[0m\u001B[0mbinary\u001B[0m\u001B[0;34m)\u001B[0m\u001B[0;34m\u001B[0m\u001B[0;34m\u001B[0m\u001B[0m\n\u001B[0m\u001B[1;32m      8\u001B[0m     \u001B[0mplt\u001B[0m\u001B[0;34m.\u001B[0m\u001B[0mxlabel\u001B[0m\u001B[0;34m(\u001B[0m\u001B[0mclass_names\u001B[0m\u001B[0;34m[\u001B[0m\u001B[0mtrain_labels\u001B[0m\u001B[0;34m[\u001B[0m\u001B[0mi\u001B[0m\u001B[0;34m]\u001B[0m\u001B[0;34m]\u001B[0m\u001B[0;34m)\u001B[0m\u001B[0;34m\u001B[0m\u001B[0;34m\u001B[0m\u001B[0m\n\u001B[1;32m      9\u001B[0m \u001B[0mplt\u001B[0m\u001B[0;34m.\u001B[0m\u001B[0mshow\u001B[0m\u001B[0;34m(\u001B[0m\u001B[0;34m)\u001B[0m\u001B[0;34m\u001B[0m\u001B[0;34m\u001B[0m\u001B[0m\n",
      "\u001B[0;31mNameError\u001B[0m: name 'train_images' is not defined"
     ]
    },
    {
     "data": {
      "image/png": "[encoded data removed]",
      "text/plain": [
       "<Figure size 720x720 with 1 Axes>"
      ]
     },
     "metadata": {},
     "output_type": "display_data"
    }
   ],
   "source": [
    "plt.figure(figsize=(10,10))\n",
    "for i in range(25):\n",
    "    plt.subplot(5,5,i+1)\n",
    "    plt.xticks([])\n",
    "    plt.yticks([])\n",
    "    plt.grid(False)\n",
    "    plt.imshow(train_images[i], cmap=plt.cm.binary)\n",
    "    plt.xlabel(class_names[train_labels[i]])\n",
    "plt.show()\n"
   ]
  },
  {
   "cell_type": "code",
   "execution_count": 14,
   "metadata": {},
   "outputs": [
    {
     "name": "stdout",
     "output_type": "stream",
     "text": [
      "<class 'torch.Tensor'> <class 'torch.Tensor'>\n",
      "torch.Size([10, 1, 28, 28]) torch.Size([10])\n"
     ]
    }
   ],
   "source": [
    "demo_loader = torch.utils.data.DataLoader(train_set, batch_size=10)\n",
    "\n",
    "batch = next(iter(demo_loader))\n",
    "images, labels = batch\n",
    "print(type(images), type(labels))\n",
    "print(images.shape, labels.shape)"
   ]
  },
  {
   "cell_type": "code",
   "execution_count": 15,
   "metadata": {},
   "outputs": [
    {
     "name": "stderr",
     "output_type": "stream",
     "text": [
      "Clipping input data to the valid range for imshow with RGB data ([0..1] for floats or [0..255] for integers).\n"
     ]
    },
    {
     "name": "stdout",
     "output_type": "stream",
     "text": [
      "labels:  Pullover, Ankle Boot, Shirt, T-shirt/Top, Dress, Coat, Coat, Sandal, Coat, Bag, "
     ]
    },
    {
     "data": {
      "text/plain": "<Figure size 1080x1440 with 1 Axes>",
      "image/png": "[encoded data removed]"
     },
     "metadata": {
      "needs_background": "light"
     },
     "output_type": "display_data"
    }
   ],
   "source": [
    "grid = torchvision.utils.make_grid(images, nrow=10)\n",
    "\n",
    "plt.figure(figsize=(15, 20))\n",
    "plt.imshow(np.transpose(grid, (1, 2, 0)))\n",
    "print(\"labels: \", end=\" \")\n",
    "for i, label in enumerate(labels):\n",
    "    print(output_label(label), end=\", \")"
   ]
  },
  {
   "cell_type": "markdown",
   "metadata": {},
   "source": [
    "1. Make a model class (inherits nn.Module class)\n",
    "2. Add Layers to model class\n",
    "\n",
    "    a. Convolution layer with kernel size 3*3, padding = 1 (no padding) in 1st layer and padding = 0 in second layer. Stride of 1 in both layers.\n",
    "\n",
    "    b. Batch normalization layer\n",
    "\n",
    "    c. Activation function used: ReLU\n",
    "\n",
    "    d. Max Pooling layer with kernel size of 2 * 2 and stride 2.\n",
    "\n",
    "        i. flatten out output for dense layer\n",
    "\n",
    "        ii. 3 fully connected layers with different in/out features\n",
    "\n",
    "        iii. 1 dropout layer with p=0.25\n",
    "\n",
    "Summary is as follows:\n",
    "\n",
    "First conv layer -> Max Pooling layer -> Second conv layer -> third conv layer -> third max pooling layer\n",
    "\n",
    "28 * 28 * 3      --> 28 * 28 * 16      --> 14 * 14 * 32      --> 12 * 12 * 64        --> 12 * 12 * 128       --> 6 * 6 * 64\n",
    "\n",
    "Final fully connected layer has 10 output features for 10 types of clothes."
   ]
  },
  {
   "cell_type": "code",
   "execution_count": 26,
   "metadata": {},
   "outputs": [],
   "source": [
    "class FashionCNN(nn.Module):\n",
    "    def __init__(self):\n",
    "        super(FashionCNN, self).__init__()\n",
    "        \n",
    "        self.layer1 = nn.Sequential(\n",
    "            nn.Conv2d(in_channels=1, out_channels=32, kernel_size=3, stride=1, padding=1), #28\n",
    "            nn.BatchNorm2d(32),\n",
    "            nn.ReLU(),\n",
    "            nn.MaxPool2d(kernel_size=2, stride=2) #14\n",
    "        )\n",
    "        \n",
    "        self.layer2 = nn.Sequential(\n",
    "            nn.Conv2d(in_channels=32, out_channels=64, kernel_size=3, stride=1, padding=1),#14\n",
    "            nn.BatchNorm2d(64),\n",
    "            nn.ReLU(),\n",
    "            nn.MaxPool2d(kernel_size=2, stride=2)#7\n",
    "        )\n",
    "\n",
    "        self.layer3 = nn.Sequential(\n",
    "            nn.Conv2d(in_channels=64, out_channels=128, kernel_size=3, stride=1, padding=1),#7\n",
    "            nn.BatchNorm2d(128),\n",
    "            nn.ReLU(),\n",
    "            nn.MaxPool2d(kernel_size=2, stride=1)#6\n",
    "        )\n",
    "        \n",
    "        self.fc1 = nn.Linear(in_features=3136, out_features=600)\n",
    "        self.drop = nn.Dropout2d(0.25)\n",
    "        self.fc2 = nn.Linear(in_features=600, out_features=120)\n",
    "        self.fc3 = nn.Linear(in_features=120, out_features=10)\n",
    "        \n",
    "    def forward(self, x):\n",
    "        out = self.layer1(x)\n",
    "        out = self.layer2(out)\n",
    "        out = out.view(out.size(0), -1)\n",
    "        out = self.fc1(out)\n",
    "        out = self.drop(out)\n",
    "        out = self.fc2(out)\n",
    "        out = self.fc3(out)\n",
    "        \n",
    "        return out"
   ]
  },
  {
   "cell_type": "code",
   "execution_count": 27,
   "metadata": {},
   "outputs": [
    {
     "name": "stdout",
     "output_type": "stream",
     "text": [
      "FashionCNN(\n",
      "  (layer1): Sequential(\n",
      "    (0): Conv2d(1, 32, kernel_size=(3, 3), stride=(1, 1), padding=(1, 1))\n",
      "    (1): BatchNorm2d(32, eps=1e-05, momentum=0.1, affine=True, track_running_stats=True)\n",
      "    (2): ReLU()\n",
      "    (3): MaxPool2d(kernel_size=2, stride=2, padding=0, dilation=1, ceil_mode=False)\n",
      "  )\n",
      "  (layer2): Sequential(\n",
      "    (0): Conv2d(32, 64, kernel_size=(3, 3), stride=(1, 1), padding=(1, 1))\n",
      "    (1): BatchNorm2d(64, eps=1e-05, momentum=0.1, affine=True, track_running_stats=True)\n",
      "    (2): ReLU()\n",
      "    (3): MaxPool2d(kernel_size=2, stride=2, padding=0, dilation=1, ceil_mode=False)\n",
      "  )\n",
      "  (layer3): Sequential(\n",
      "    (0): Conv2d(64, 128, kernel_size=(3, 3), stride=(1, 1), padding=(1, 1))\n",
      "    (1): BatchNorm2d(128, eps=1e-05, momentum=0.1, affine=True, track_running_stats=True)\n",
      "    (2): ReLU()\n",
      "    (3): MaxPool2d(kernel_size=2, stride=1, padding=0, dilation=1, ceil_mode=False)\n",
      "  )\n",
      "  (fc1): Linear(in_features=3136, out_features=600, bias=True)\n",
      "  (drop): Dropout2d(p=0.25, inplace=False)\n",
      "  (fc2): Linear(in_features=600, out_features=120, bias=True)\n",
      "  (fc3): Linear(in_features=120, out_features=10, bias=True)\n",
      ")\n"
     ]
    }
   ],
   "source": [
    "model = FashionCNN()\n",
    "model.to(device)\n",
    "\n",
    "error = nn.CrossEntropyLoss()\n",
    "\n",
    "learning_rate = 0.001\n",
    "optimizer = torch.optim.Adam(model.parameters(), lr=learning_rate)\n",
    "print(model)"
   ]
  },
  {
   "cell_type": "code",
   "execution_count": 14,
   "metadata": {},
   "outputs": [],
   "source": [
    "# # Training and Testing (OLD)\n",
    "# num_epochs = 10 # num of epochs can also be increased > 100\n",
    "# count = 0\n",
    "# # Lists for visualization of loss and accuracy \n",
    "# loss_list = []\n",
    "# iteration_list = []\n",
    "# accuracy_list = []\n",
    "\n",
    "# # Lists for knowing classwise accuracy\n",
    "# predictions_list = []\n",
    "# labels_list = []\n",
    "\n",
    "# for epoch in range(num_epochs):\n",
    "#     for images, labels in train_loader:\n",
    "#         # Transfering images and labels to GPU if available\n",
    "#         images, labels = images.to(device), labels.to(device)\n",
    "    \n",
    "#         train = Variable(images.view(100, 1, 28, 28)) # Apparently Variable is outdated so maybe we should change it\n",
    "#         labels = Variable(labels)\n",
    "        \n",
    "#         # Forward pass \n",
    "#         outputs = model(train)\n",
    "#         loss = error(outputs, labels)\n",
    "        \n",
    "#         # Initializing a gradient as 0 so there is no mixing of gradient among the batches\n",
    "#         optimizer.zero_grad()\n",
    "        \n",
    "#         #Propagating the error backward\n",
    "#         loss.backward()\n",
    "        \n",
    "#         # Optimizing the parameters\n",
    "#         optimizer.step()\n",
    "    \n",
    "#         count += 1\n",
    "    \n",
    "#     # Testing the model\n",
    "    \n",
    "#         if not (count % 50):    # It's same as \"if count % 50 == 0\"\n",
    "#             total = 0\n",
    "#             correct = 0\n",
    "        \n",
    "#             for images, labels in test_loader:\n",
    "#                 images, labels = images.to(device), labels.to(device)\n",
    "#                 labels_list.append(labels)\n",
    "            \n",
    "#                 test = Variable(images.view(100, 1, 28, 28))\n",
    "            \n",
    "#                 outputs = model(test)\n",
    "            \n",
    "#                 predictions = torch.max(outputs, 1)[1].to(device)\n",
    "#                 predictions_list.append(predictions)\n",
    "#                 correct += (predictions == labels).sum()\n",
    "            \n",
    "#                 total += len(labels)\n",
    "            \n",
    "#             accuracy = correct * 100 / total\n",
    "#             loss_list.append(loss.data)\n",
    "#             iteration_list.append(count)\n",
    "#             accuracy_list.append(accuracy)\n",
    "        \n",
    "#         if not (count % 500):\n",
    "#             print(\"Iteration: {}, Loss: {}, Accuracy: {}%\".format(count, loss.data, accuracy))"
   ]
  },
  {
   "cell_type": "markdown",
   "metadata": {},
   "source": [
    "Visualizing the results"
   ]
  },
  {
   "cell_type": "code",
   "execution_count": 28,
   "metadata": {},
   "outputs": [],
   "source": [
    "train_accu = []\n",
    "train_losses = []\n",
    "\n",
    "def train(epoch):  \n",
    "  model.train()\n",
    "\n",
    "  running_loss=0\n",
    "  correct=0\n",
    "  total=0\n",
    "  \n",
    "  for images, labels in train_loader:\n",
    "    # Transfering images and labels to GPU if available\n",
    "    images, labels = images.to(device), labels.to(device)\n",
    "    \n",
    "    # Forward pass \n",
    "    outputs = model(images)\n",
    "    loss = error(outputs, labels)\n",
    "    \n",
    "    # Initializing a gradient as 0 so there is no mixing of gradient among the batches\n",
    "    optimizer.zero_grad()\n",
    "    \n",
    "    #Propagating the error backward\n",
    "    loss.backward()\n",
    "    \n",
    "    # Optimizing the parameters\n",
    "    optimizer.step()\n",
    "\n",
    "    running_loss += loss.item()\n",
    "    \n",
    "    _, predicted = outputs.max(1)\n",
    "    total += labels.size(0)\n",
    "    correct += predicted.eq(labels).sum().item()\n",
    "      \n",
    "  train_loss=running_loss/len(train_loader)\n",
    "  accu=100.*correct/total\n",
    "  \n",
    "  train_accu.append(accu)\n",
    "  train_losses.append(train_loss)\n",
    "  return train_loss, accu"
   ]
  },
  {
   "cell_type": "code",
   "execution_count": 29,
   "metadata": {},
   "outputs": [],
   "source": [
    "eval_losses=[]\n",
    "eval_accu=[]\n",
    " \n",
    "def test(epoch):\n",
    "  model.eval()\n",
    " \n",
    "  running_loss=0\n",
    "  correct=0\n",
    "  total=0\n",
    " \n",
    "  with torch.no_grad():\n",
    "    for images, labels in test_loader:\n",
    "      images, labels = images.to(device), labels.to(device)\n",
    "\n",
    "      outputs = model(images)\n",
    "      loss = error(outputs, labels)\n",
    "\n",
    "      running_loss += loss.item()\n",
    "\n",
    "      _, predictions = outputs.max(1)\n",
    "      total += labels.size(0)\n",
    "      correct += predictions.eq(labels).sum().item()\n",
    "   \n",
    "  test_loss=running_loss/len(test_loader)\n",
    "  accu=100.*correct/total\n",
    " \n",
    "  eval_losses.append(test_loss)\n",
    "  eval_accu.append(accu)\n",
    " \n",
    "  return test_loss, accu"
   ]
  },
  {
   "cell_type": "code",
   "execution_count": 30,
   "metadata": {},
   "outputs": [
    {
     "name": "stdout",
     "output_type": "stream",
     "text": [
      "Epoch: 1\n",
      "Train: Loss: 0.4428724469492833, Accuracy: 84.53666666666666%\n",
      "Test: Loss 0.35530116175611814, Accuracy: 86.42%\n",
      "Epoch: 2\n",
      "Train: Loss: 0.29762186301251253, Accuracy: 89.48666666666666%\n",
      "Test: Loss 0.3097150035823385, Accuracy: 88.285%\n",
      "Epoch: 3\n",
      "Train: Loss: 0.2583938876539469, Accuracy: 90.785%\n",
      "Test: Loss 0.22449072039375703, Accuracy: 91.725%\n",
      "Epoch: 4\n",
      "Train: Loss: 0.23249764053771893, Accuracy: 91.73833333333333%\n",
      "Test: Loss 0.2022623642658194, Accuracy: 92.61833333333334%\n",
      "Epoch: 5\n",
      "Train: Loss: 0.21338551092892885, Accuracy: 92.39833333333333%\n",
      "Test: Loss 0.17985630676771203, Accuracy: 93.55%\n",
      "Epoch: 6\n",
      "Train: Loss: 0.19612347273156047, Accuracy: 93.06%\n",
      "Test: Loss 0.17166982707257072, Accuracy: 93.93%\n",
      "Epoch: 7\n",
      "Train: Loss: 0.18348744147146742, Accuracy: 93.46833333333333%\n",
      "Test: Loss 0.1538670747106274, Accuracy: 94.56666666666666%\n",
      "Epoch: 8\n",
      "Train: Loss: 0.16949422664940358, Accuracy: 93.885%\n",
      "Test: Loss 0.14012503486437103, Accuracy: 94.97%\n",
      "Epoch: 9\n",
      "Train: Loss: 0.15693294763565063, Accuracy: 94.36833333333334%\n",
      "Test: Loss 0.1421806346469869, Accuracy: 94.925%\n",
      "Epoch: 10\n",
      "Train: Loss: 0.1473185100654761, Accuracy: 94.74%\n",
      "Test: Loss 0.13419211825666327, Accuracy: 95.13833333333334%\n",
      "Epoch: 11\n",
      "Train: Loss: 0.14072471406310796, Accuracy: 94.99%\n",
      "Test: Loss 0.15105515821526447, Accuracy: 94.58333333333333%\n",
      "Epoch: 12\n",
      "Train: Loss: 0.13145326224155723, Accuracy: 95.33833333333334%\n",
      "Test: Loss 0.13554944805800914, Accuracy: 95.15666666666667%\n",
      "Epoch: 13\n",
      "Train: Loss: 0.12065594607964159, Accuracy: 95.735%\n",
      "Test: Loss 0.1330431216551612, Accuracy: 95.29333333333334%\n",
      "Epoch: 14\n",
      "Train: Loss: 0.11222997231408954, Accuracy: 95.95833333333333%\n",
      "Test: Loss 0.13427758328461398, Accuracy: 95.265%\n",
      "Epoch: 15\n",
      "Train: Loss: 0.11118132955705126, Accuracy: 95.95833333333333%\n",
      "Test: Loss 0.11691503600372623, Accuracy: 95.88333333333334%\n",
      "Epoch: 16\n",
      "Train: Loss: 0.10326168206054717, Accuracy: 96.255%\n",
      "Test: Loss 0.1088579504766191, Accuracy: 96.125%\n",
      "Epoch: 17\n",
      "Train: Loss: 0.0931566860154271, Accuracy: 96.59%\n",
      "Test: Loss 0.139929290052969, Accuracy: 95.35666666666667%\n",
      "Epoch: 18\n",
      "Train: Loss: 0.09497849861315141, Accuracy: 96.52833333333334%\n",
      "Test: Loss 0.1563953319254021, Accuracy: 94.655%\n",
      "Epoch: 19\n",
      "Train: Loss: 0.08910964836211255, Accuracy: 96.78666666666666%\n",
      "Test: Loss 0.10727552619646304, Accuracy: 96.27833333333334%\n",
      "Epoch: 20\n",
      "Train: Loss: 0.08085741330559056, Accuracy: 97.095%\n",
      "Test: Loss 0.09760859578925496, Accuracy: 96.61833333333334%\n",
      "Epoch: 21\n",
      "Train: Loss: 0.08165553625983496, Accuracy: 97.03333333333333%\n",
      "Test: Loss 0.09106708584042887, Accuracy: 96.79833333333333%\n",
      "Epoch: 22\n",
      "Train: Loss: 0.07672787732289484, Accuracy: 97.145%\n",
      "Test: Loss 0.10736446327297017, Accuracy: 96.49833333333333%\n",
      "Epoch: 23\n",
      "Train: Loss: 0.07100356228572006, Accuracy: 97.385%\n",
      "Test: Loss 0.10914825010035809, Accuracy: 96.34666666666666%\n",
      "Epoch: 24\n",
      "Train: Loss: 0.06854667078781253, Accuracy: 97.45333333333333%\n",
      "Test: Loss 0.09011576191755012, Accuracy: 97.02666666666667%\n",
      "Epoch: 25\n",
      "Train: Loss: 0.06775520322999606, Accuracy: 97.48%\n",
      "Test: Loss 0.0962424657959491, Accuracy: 96.845%\n",
      "Epoch: 26\n",
      "Train: Loss: 0.06660766382546475, Accuracy: 97.58666666666667%\n",
      "Test: Loss 0.09548623525809186, Accuracy: 96.92166666666667%\n",
      "Epoch: 27\n",
      "Train: Loss: 0.06252336168506493, Accuracy: 97.8%\n",
      "Test: Loss 0.10642609386937693, Accuracy: 96.54333333333334%\n",
      "Epoch: 28\n",
      "Train: Loss: 0.06541960237702976, Accuracy: 97.625%\n",
      "Test: Loss 0.11535081200767308, Accuracy: 96.44666666666667%\n",
      "Epoch: 29\n",
      "Train: Loss: 0.06293964379699901, Accuracy: 97.73%\n",
      "Test: Loss 0.11383655368874315, Accuracy: 96.47333333333333%\n",
      "Epoch: 30\n",
      "Train: Loss: 0.05081867171994721, Accuracy: 98.09666666666666%\n",
      "Test: Loss 0.13973291895507525, Accuracy: 96.30166666666666%\n",
      "Epoch: 31\n",
      "Train: Loss: 0.0575520814396441, Accuracy: 97.87%\n",
      "Test: Loss 0.13106276497943325, Accuracy: 96.3%\n",
      "Epoch: 32\n",
      "Train: Loss: 0.053548784825446394, Accuracy: 98.035%\n",
      "Test: Loss 0.14336918444818972, Accuracy: 96.135%\n",
      "Epoch: 33\n",
      "Train: Loss: 0.05346945091543603, Accuracy: 98.09833333333333%\n",
      "Test: Loss 0.11961984505702276, Accuracy: 96.785%\n",
      "Epoch: 34\n",
      "Train: Loss: 0.05124637880246155, Accuracy: 98.115%\n",
      "Test: Loss 0.10390207237253586, Accuracy: 97.005%\n",
      "Epoch: 35\n",
      "Train: Loss: 0.052742588175848745, Accuracy: 98.14166666666667%\n",
      "Test: Loss 0.11497733582315656, Accuracy: 96.805%\n",
      "Epoch: 36\n",
      "Train: Loss: 0.05141826932919988, Accuracy: 98.17333333333333%\n",
      "Test: Loss 0.11178434429108165, Accuracy: 96.80166666666666%\n",
      "Epoch: 37\n",
      "Train: Loss: 0.04763350897070874, Accuracy: 98.30666666666667%\n",
      "Test: Loss 0.10641754580263903, Accuracy: 97.185%\n",
      "Epoch: 38\n",
      "Train: Loss: 0.04412111942539923, Accuracy: 98.45166666666667%\n",
      "Test: Loss 0.13776252300323297, Accuracy: 96.10666666666667%\n",
      "Epoch: 39\n",
      "Train: Loss: 0.04280459078154915, Accuracy: 98.48666666666666%\n",
      "Test: Loss 0.11798462203994858, Accuracy: 96.72333333333333%\n",
      "Epoch: 40\n",
      "Train: Loss: 0.043631544199985606, Accuracy: 98.425%\n",
      "Test: Loss 0.11989526937405269, Accuracy: 96.84166666666667%\n",
      "Epoch: 41\n",
      "Train: Loss: 0.03948351260342558, Accuracy: 98.57333333333334%\n",
      "Test: Loss 0.10570164215336263, Accuracy: 97.25833333333334%\n",
      "Epoch: 42\n",
      "Train: Loss: 0.04574426686100196, Accuracy: 98.40333333333334%\n",
      "Test: Loss 0.09858372424321715, Accuracy: 97.11%\n",
      "Epoch: 43\n",
      "Train: Loss: 0.0395664896019783, Accuracy: 98.565%\n",
      "Test: Loss 0.09442880620044888, Accuracy: 97.52666666666667%\n",
      "Epoch: 44\n",
      "Train: Loss: 0.03836398983480952, Accuracy: 98.615%\n",
      "Test: Loss 0.10359842059862179, Accuracy: 97.31833333333333%\n",
      "Epoch: 45\n",
      "Train: Loss: 0.03981356224083962, Accuracy: 98.695%\n",
      "Test: Loss 0.10922841174178757, Accuracy: 97.05166666666666%\n",
      "Epoch: 46\n",
      "Train: Loss: 0.036074561402298665, Accuracy: 98.68666666666667%\n",
      "Test: Loss 0.09774991995228144, Accuracy: 97.38833333333334%\n",
      "Epoch: 47\n",
      "Train: Loss: 0.036284633442022214, Accuracy: 98.72166666666666%\n",
      "Test: Loss 0.10493953378922015, Accuracy: 97.38%\n",
      "Epoch: 48\n",
      "Train: Loss: 0.037300611739604694, Accuracy: 98.67666666666666%\n",
      "Test: Loss 0.1102943652626224, Accuracy: 97.145%\n",
      "Epoch: 49\n",
      "Train: Loss: 0.03556861445690932, Accuracy: 98.77833333333334%\n",
      "Test: Loss 0.08193846156776999, Accuracy: 97.75%\n",
      "Epoch: 50\n",
      "Train: Loss: 0.03394948442956471, Accuracy: 98.81833333333333%\n",
      "Test: Loss 0.0825249865874927, Accuracy: 97.81333333333333%\n",
      "Epoch: 51\n",
      "Train: Loss: 0.035430527115871274, Accuracy: 98.80166666666666%\n",
      "Test: Loss 0.08108428479856229, Accuracy: 97.78666666666666%\n",
      "Epoch: 52\n",
      "Train: Loss: 0.030667503151707933, Accuracy: 98.92833333333333%\n",
      "Test: Loss 0.09009543702702406, Accuracy: 97.67166666666667%\n",
      "Epoch: 53\n",
      "Train: Loss: 0.03896856154409761, Accuracy: 98.635%\n",
      "Test: Loss 0.09098443650645398, Accuracy: 97.68333333333334%\n",
      "Epoch: 54\n",
      "Train: Loss: 0.03468903297323171, Accuracy: 98.78666666666666%\n",
      "Test: Loss 0.09087955978417692, Accuracy: 97.53666666666666%\n",
      "Epoch: 55\n",
      "Train: Loss: 0.03205123251963717, Accuracy: 98.87166666666667%\n",
      "Test: Loss 0.11072009416597818, Accuracy: 97.17666666666666%\n",
      "Epoch: 56\n",
      "Train: Loss: 0.03031512990045788, Accuracy: 98.94666666666667%\n",
      "Test: Loss 0.09253846954348167, Accuracy: 97.63333333333334%\n",
      "Epoch: 57\n",
      "Train: Loss: 0.029877312176395207, Accuracy: 98.995%\n",
      "Test: Loss 0.10389252051361836, Accuracy: 97.455%\n",
      "Epoch: 58\n",
      "Train: Loss: 0.029924556369999966, Accuracy: 99.0%\n",
      "Test: Loss 0.08758567964085766, Accuracy: 97.77166666666666%\n",
      "Epoch: 59\n",
      "Train: Loss: 0.029902176210525794, Accuracy: 98.97333333333333%\n",
      "Test: Loss 0.10440360128872271, Accuracy: 97.48666666666666%\n",
      "Epoch: 60\n",
      "Train: Loss: 0.028911942137043904, Accuracy: 98.99%\n",
      "Test: Loss 0.07787011957062835, Accuracy: 97.97833333333334%\n",
      "Epoch: 61\n",
      "Train: Loss: 0.03462465115212884, Accuracy: 98.81666666666666%\n",
      "Test: Loss 0.07495094910026334, Accuracy: 98.08333333333333%\n",
      "Epoch: 62\n",
      "Train: Loss: 0.031411305170270985, Accuracy: 98.93833333333333%\n",
      "Test: Loss 0.09015006807637595, Accuracy: 97.67333333333333%\n",
      "Epoch: 63\n",
      "Train: Loss: 0.027944743654970808, Accuracy: 99.04666666666667%\n",
      "Test: Loss 0.09928316083978037, Accuracy: 97.60166666666667%\n",
      "Epoch: 64\n",
      "Train: Loss: 0.029855808901241593, Accuracy: 99.00833333333334%\n",
      "Test: Loss 0.0751685122740552, Accuracy: 97.87333333333333%\n",
      "Epoch: 65\n",
      "Train: Loss: 0.02882635575700988, Accuracy: 99.05666666666667%\n",
      "Test: Loss 0.07903735513893177, Accuracy: 98.02166666666666%\n",
      "Epoch: 66\n",
      "Train: Loss: 0.03230812002431776, Accuracy: 98.91166666666666%\n",
      "Test: Loss 0.10811634854059472, Accuracy: 97.57666666666667%\n",
      "Epoch: 67\n",
      "Train: Loss: 0.024713310592851485, Accuracy: 99.15666666666667%\n",
      "Test: Loss 0.07495641874507783, Accuracy: 98.21333333333334%\n",
      "Epoch: 68\n",
      "Train: Loss: 0.025491983440454835, Accuracy: 99.12166666666667%\n",
      "Test: Loss 0.07970598117329548, Accuracy: 98.145%\n",
      "Epoch: 69\n",
      "Train: Loss: 0.0295480180896872, Accuracy: 98.995%\n",
      "Test: Loss 0.11156828247161078, Accuracy: 97.53333333333333%\n",
      "Epoch: 70\n",
      "Train: Loss: 0.02621319030484301, Accuracy: 99.13666666666667%\n",
      "Test: Loss 0.11685297730992412, Accuracy: 97.54833333333333%\n",
      "Epoch: 71\n",
      "Train: Loss: 0.02701901763279845, Accuracy: 99.09%\n",
      "Test: Loss 0.20278779636767771, Accuracy: 96.135%\n",
      "Epoch: 72\n",
      "Train: Loss: 0.027525969813844618, Accuracy: 99.07166666666667%\n",
      "Test: Loss 0.07417917041223822, Accuracy: 98.13%\n",
      "Epoch: 73\n",
      "Train: Loss: 0.024966983502824103, Accuracy: 99.165%\n",
      "Test: Loss 0.07451744958265712, Accuracy: 98.18666666666667%\n",
      "Epoch: 74\n",
      "Train: Loss: 0.026365498081877378, Accuracy: 99.11333333333333%\n",
      "Test: Loss 0.15436420431649214, Accuracy: 97.265%\n",
      "Epoch: 75\n",
      "Train: Loss: 0.025762343834100344, Accuracy: 99.16666666666667%\n",
      "Test: Loss 0.08715514975718786, Accuracy: 98.01%\n",
      "Epoch: 76\n",
      "Train: Loss: 0.027306730954442172, Accuracy: 99.11%\n",
      "Test: Loss 0.08152268692581856, Accuracy: 97.94833333333334%\n",
      "Epoch: 77\n",
      "Train: Loss: 0.02550936338791871, Accuracy: 99.15%\n",
      "Test: Loss 0.08614973756936403, Accuracy: 98.14666666666666%\n",
      "Epoch: 78\n",
      "Train: Loss: 0.024631758316172637, Accuracy: 99.20166666666667%\n",
      "Test: Loss 0.08562260780595049, Accuracy: 98.005%\n",
      "Epoch: 79\n",
      "Train: Loss: 0.026408092490516233, Accuracy: 99.1%\n",
      "Test: Loss 0.07868279803181091, Accuracy: 98.10166666666667%\n",
      "Epoch: 80\n",
      "Train: Loss: 0.026623878764188095, Accuracy: 99.12833333333333%\n",
      "Test: Loss 0.07257829054184185, Accuracy: 98.22333333333333%\n",
      "Epoch: 81\n",
      "Train: Loss: 0.024203382746454737, Accuracy: 99.235%\n",
      "Test: Loss 0.10583919699672455, Accuracy: 97.68166666666667%\n",
      "Epoch: 82\n",
      "Train: Loss: 0.022578632454442412, Accuracy: 99.27%\n",
      "Test: Loss 0.07147344382018521, Accuracy: 98.27166666666666%\n",
      "Epoch: 83\n",
      "Train: Loss: 0.022379131786253007, Accuracy: 99.27333333333333%\n",
      "Test: Loss 0.08571524888849429, Accuracy: 97.87666666666667%\n",
      "Epoch: 84\n",
      "Train: Loss: 0.02376044035236191, Accuracy: 99.20833333333333%\n",
      "Test: Loss 0.10266077261627288, Accuracy: 97.875%\n",
      "Epoch: 85\n",
      "Train: Loss: 0.025934785312638268, Accuracy: 99.13333333333334%\n",
      "Test: Loss 0.11012637933494261, Accuracy: 97.68666666666667%\n",
      "Epoch: 86\n",
      "Train: Loss: 0.021311291128392137, Accuracy: 99.29166666666667%\n",
      "Test: Loss 0.10801584675174203, Accuracy: 97.84166666666667%\n",
      "Epoch: 87\n",
      "Train: Loss: 0.026902807603394953, Accuracy: 99.085%\n",
      "Test: Loss 0.08759440364805414, Accuracy: 97.95%\n",
      "Epoch: 88\n",
      "Train: Loss: 0.022707229692235462, Accuracy: 99.27333333333333%\n",
      "Test: Loss 0.08192245987061748, Accuracy: 98.06%\n",
      "Epoch: 89\n",
      "Train: Loss: 0.024776100588921206, Accuracy: 99.17%\n",
      "Test: Loss 0.09709300309707032, Accuracy: 97.875%\n",
      "Epoch: 90\n",
      "Train: Loss: 0.025240117817332552, Accuracy: 99.21166666666667%\n",
      "Test: Loss 0.057165307731326415, Accuracy: 98.54666666666667%\n",
      "Epoch: 91\n",
      "Train: Loss: 0.0194537911996728, Accuracy: 99.35166666666667%\n",
      "Test: Loss 0.07336654111908804, Accuracy: 98.16%\n",
      "Epoch: 92\n",
      "Train: Loss: 0.02449896369815027, Accuracy: 99.235%\n",
      "Test: Loss 0.06932420038306646, Accuracy: 98.32333333333334%\n",
      "Epoch: 93\n",
      "Train: Loss: 0.020552596139503596, Accuracy: 99.34%\n",
      "Test: Loss 0.06784404554491023, Accuracy: 98.39833333333333%\n",
      "Epoch: 94\n",
      "Train: Loss: 0.021299891222425534, Accuracy: 99.305%\n",
      "Test: Loss 0.08069258113831893, Accuracy: 98.13666666666667%\n",
      "Epoch: 95\n",
      "Train: Loss: 0.022676028126402344, Accuracy: 99.245%\n",
      "Test: Loss 0.10811330954243506, Accuracy: 97.69666666666667%\n",
      "Epoch: 96\n",
      "Train: Loss: 0.024585498249139165, Accuracy: 99.21833333333333%\n",
      "Test: Loss 0.09089177572039565, Accuracy: 98.02333333333333%\n",
      "Epoch: 97\n",
      "Train: Loss: 0.022214851494712397, Accuracy: 99.32333333333334%\n",
      "Test: Loss 0.06827468120748563, Accuracy: 98.35333333333334%\n",
      "Epoch: 98\n",
      "Train: Loss: 0.021255225144298794, Accuracy: 99.31333333333333%\n",
      "Test: Loss 0.06164944885027277, Accuracy: 98.52%\n",
      "Epoch: 99\n",
      "Train: Loss: 0.022993164138615612, Accuracy: 99.24833333333333%\n",
      "Test: Loss 0.06574610594921979, Accuracy: 98.485%\n",
      "Epoch: 100\n",
      "Train: Loss: 0.02068263515135186, Accuracy: 99.35%\n",
      "Test: Loss 0.08419157001578242, Accuracy: 98.125%\n"
     ]
    }
   ],
   "source": [
    "epochs=100\n",
    "train_accu, eval_accu, train_losses, eval_losses = [], [], [], []\n",
    "for epoch in range(1,epochs+1): \n",
    "  train_loss, train_accuracy = train(epoch)\n",
    "  test_loss, test_accuracy = test(epoch)\n",
    "  print(\"Epoch: {}\\nTrain: Loss: {}, Accuracy: {}%\\nTest: Loss {}, Accuracy: {}%\".format(epoch, train_loss, train_accuracy, test_loss, test_accuracy))\n",
    "  "
   ]
  },
  {
   "cell_type": "code",
   "execution_count": 31,
   "metadata": {},
   "outputs": [],
   "source": [
    "import os\n",
    "\n",
    "if not os.path.exists('./diagrams'):\n",
    "    os.makedirs('./diagrams')"
   ]
  },
  {
   "cell_type": "code",
   "execution_count": 32,
   "metadata": {},
   "outputs": [
    {
     "data": {
      "text/plain": "<Figure size 1152x720 with 1 Axes>",
      "image/png": "[encoded data removed]"
     },
     "metadata": {
      "needs_background": "light"
     },
     "output_type": "display_data"
    }
   ],
   "source": [
    "plt.figure(figsize=(16,10))\n",
    "\n",
    "plt.plot(train_accu)\n",
    "plt.plot(eval_accu)\n",
    "plt.xlabel('epoch')\n",
    "plt.ylabel('accuracy')\n",
    "plt.legend(['Train','Valid'])\n",
    "plt.title('Train vs Valid Accuracy')\n",
    "\n",
    "plt.savefig('./diagrams/cNN_Train_vs_Valid_Acc_3_layers.png')"
   ]
  },
  {
   "cell_type": "code",
   "execution_count": 33,
   "metadata": {},
   "outputs": [
    {
     "data": {
      "text/plain": "<Figure size 1152x720 with 1 Axes>",
      "image/png": "[encoded data removed]"
     },
     "metadata": {
      "needs_background": "light"
     },
     "output_type": "display_data"
    }
   ],
   "source": [
    "plt.figure(figsize=(16,10))\n",
    "\n",
    "plt.plot(train_losses)\n",
    "plt.plot(eval_losses)\n",
    "plt.xlabel('epoch')\n",
    "plt.ylabel('losses')\n",
    "plt.legend(['Train','Valid'])\n",
    "plt.title('Train vs Valid Losses')\n",
    " \n",
    "plt.savefig('./diagrams/cNN_Train_vs_Valid_loss_3_layers.png')"
   ]
  },
  {
   "cell_type": "markdown",
   "metadata": {},
   "source": [
    "From the graph we can see a downward trend of loss vs epoch. Perhaps a reason for the spikes in loss could be just due to the randomness of the batch sampling. An unlucky sampling could have led to the loss increasing compared to the previous iterations but overall the loss has a downward trend as iterations increase."
   ]
  },
  {
   "cell_type": "code",
   "execution_count": 34,
   "metadata": {},
   "outputs": [
    {
     "name": "stdout",
     "output_type": "stream",
     "text": [
      "Accuracy of T-shirt/Top: 96.47%\n",
      "Accuracy of Trouser: 99.73%\n",
      "Accuracy of Pullover: 94.73%\n",
      "Accuracy of Dress: 99.70%\n",
      "Accuracy of Coat: 97.45%\n",
      "Accuracy of Sandal: 100.00%\n",
      "Accuracy of Shirt: 93.82%\n",
      "Accuracy of Sneaker: 99.80%\n",
      "Accuracy of Bag: 99.97%\n",
      "Accuracy of Ankle Boot: 99.58%\n"
     ]
    }
   ],
   "source": [
    "class_correct = [0. for _ in range(10)]\n",
    "total_correct = [0. for _ in range(10)]\n",
    "\n",
    "with torch.no_grad():\n",
    "    for images, labels in test_loader:\n",
    "        images, labels = images.to(device), labels.to(device)\n",
    "        outputs = model(images)\n",
    "        _, predicted = outputs.max(1)\n",
    "        c = (predicted == labels).squeeze()\n",
    "        \n",
    "        for i in range(100):\n",
    "            label = labels[i]\n",
    "            class_correct[label] += c[i].item()\n",
    "            total_correct[label] += 1\n",
    "        \n",
    "for i in range(10):\n",
    "    print(\"Accuracy of {}: {:.2f}%\".format(output_label(i), class_correct[i] * 100 / total_correct[i]))"
   ]
  },
  {
   "cell_type": "code",
   "execution_count": 36,
   "metadata": {},
   "outputs": [],
   "source": [
    "# https://debuggercafe.com/visualizing-filters-and-feature-maps-in-convolutional-neural-networks-using-pytorch/\n",
    "model_weights = [] # we will save the conv layer weights in this list\n",
    "conv_layers = [] # we will save the 49 conv layers in this list\n",
    "# get all the model children as list\n",
    "model_children = list(model.children())"
   ]
  },
  {
   "cell_type": "code",
   "execution_count": 37,
   "metadata": {},
   "outputs": [
    {
     "name": "stdout",
     "output_type": "stream",
     "text": [
      "Total convolutional layers: 3\n"
     ]
    }
   ],
   "source": [
    "# counter to keep count of the conv layers\n",
    "counter = 0 \n",
    "# append all the conv layers and their respective weights to the list\n",
    "for i in range(len(model_children)):\n",
    "    if type(model_children[i]) == nn.Conv2d:\n",
    "        counter += 1\n",
    "        model_weights.append(model_children[i].weight)\n",
    "        conv_layers.append(model_children[i])\n",
    "    elif type(model_children[i]) == nn.Sequential:\n",
    "        for child in model_children[i].children():\n",
    "            if type(child) == nn.Conv2d:\n",
    "                counter += 1\n",
    "                model_weights.append(child.weight)\n",
    "                conv_layers.append(child)\n",
    "print(f\"Total convolutional layers: {counter}\")"
   ]
  },
  {
   "cell_type": "code",
   "execution_count": 38,
   "metadata": {},
   "outputs": [
    {
     "name": "stdout",
     "output_type": "stream",
     "text": [
      "CONV: Conv2d(1, 32, kernel_size=(3, 3), stride=(1, 1), padding=(1, 1)) ====> SHAPE: torch.Size([32, 1, 3, 3])\n",
      "CONV: Conv2d(32, 64, kernel_size=(3, 3), stride=(1, 1), padding=(1, 1)) ====> SHAPE: torch.Size([64, 32, 3, 3])\n",
      "CONV: Conv2d(64, 128, kernel_size=(3, 3), stride=(1, 1), padding=(1, 1)) ====> SHAPE: torch.Size([128, 64, 3, 3])\n"
     ]
    }
   ],
   "source": [
    "# take a look at the conv layers and the respective weights\n",
    "for weight, conv in zip(model_weights, conv_layers):\n",
    "    # print(f\"WEIGHT: {weight} \\nSHAPE: {weight.shape}\")\n",
    "    print(f\"CONV: {conv} ====> SHAPE: {weight.shape}\")"
   ]
  },
  {
   "cell_type": "code",
   "execution_count": 39,
   "metadata": {},
   "outputs": [
    {
     "data": {
      "text/plain": "<Figure size 1440x1224 with 32 Axes>",
      "image/png": "[encoded data removed]"
     },
     "metadata": {
      "needs_background": "light"
     },
     "output_type": "display_data"
    }
   ],
   "source": [
    "# visualize the first conv layer filters\n",
    "plt.figure(figsize=(20, 17))\n",
    "for i, filter in enumerate(model_weights[0].cpu()):\n",
    "    plt.subplot(8, 8, i+1) # (8, 8) because in conv0 we have 7x7 filters and total of 64 (see printed shapes)\n",
    "    plt.imshow(filter[0, :, :].detach(), cmap='gray')\n",
    "    plt.axis('off')\n",
    "    plt.savefig('./diagrams/filter1.png')\n",
    "plt.show()"
   ]
  },
  {
   "cell_type": "code",
   "execution_count": 40,
   "metadata": {},
   "outputs": [
    {
     "data": {
      "text/plain": "<Figure size 1440x1224 with 64 Axes>",
      "image/png": "[encoded data removed]"
     },
     "metadata": {
      "needs_background": "light"
     },
     "output_type": "display_data"
    }
   ],
   "source": [
    "# visualize the second conv layer filters\n",
    "plt.figure(figsize=(20, 17))\n",
    "for i, filter in enumerate(model_weights[1].cpu()):\n",
    "    plt.subplot(8, 8, i+1) # (8, 8) because in conv0 we have 7x7 filters and total of 64 (see printed shapes)\n",
    "    plt.imshow(filter[0, :, :].detach(), cmap='gray')\n",
    "    plt.axis('off')\n",
    "    plt.savefig('./diagrams/filter2.png')\n",
    "plt.show()"
   ]
  },
  {
   "cell_type": "code",
   "execution_count": 41,
   "metadata": {},
   "outputs": [
    {
     "name": "stdout",
     "output_type": "stream",
     "text": [
      "Parameter containing:\n",
      "tensor([[[[-4.9617e-01, -4.0645e-01,  2.6641e-01],\n",
      "          [ 3.7888e-01,  3.7031e-01,  1.7826e-01],\n",
      "          [ 1.3969e-01,  1.4040e-01, -3.2654e-01]]],\n",
      "\n",
      "\n",
      "        [[[-9.6807e-02, -1.9390e-01,  3.1020e-01],\n",
      "          [-6.0302e-01, -8.2784e-01, -9.7959e-04],\n",
      "          [ 2.0223e-01, -3.5484e-02,  1.1117e-01]]],\n",
      "\n",
      "\n",
      "        [[[ 2.5571e-01, -3.0259e-01,  1.5479e-01],\n",
      "          [-2.6651e-01,  6.1643e-01, -3.9549e-01],\n",
      "          [ 2.5707e-01, -2.0360e-01, -1.6558e-03]]],\n",
      "\n",
      "\n",
      "        [[[ 2.2611e-01,  2.5770e-01, -5.0744e-01],\n",
      "          [-4.3527e-01,  3.0111e-01,  1.1251e-01],\n",
      "          [ 3.7869e-02, -1.0088e-01,  2.8695e-01]]],\n",
      "\n",
      "\n",
      "        [[[-2.2725e-01, -3.7122e-01,  3.0636e-01],\n",
      "          [ 5.3178e-01,  6.6061e-02,  8.7557e-04],\n",
      "          [ 7.2215e-02,  8.8432e-02,  3.7807e-01]]],\n",
      "\n",
      "\n",
      "        [[[-4.4870e-01, -2.0406e-01,  1.0198e-01],\n",
      "          [ 2.4735e-01, -8.6749e-02,  4.6010e-01],\n",
      "          [-3.0020e-01, -1.6681e-01,  4.4221e-01]]],\n",
      "\n",
      "\n",
      "        [[[ 1.0521e-01,  1.3361e-01, -4.6292e-01],\n",
      "          [ 4.4946e-01,  5.4300e-02, -1.7933e-01],\n",
      "          [ 4.3798e-01, -3.1222e-01, -1.4211e-01]]],\n",
      "\n",
      "\n",
      "        [[[-3.1724e-01, -5.2070e-04, -9.9931e-02],\n",
      "          [ 5.6317e-01,  3.9690e-01,  3.5809e-01],\n",
      "          [-2.8997e-01, -3.8141e-01, -3.1825e-01]]],\n",
      "\n",
      "\n",
      "        [[[-1.4449e-01,  3.7381e-01,  7.2708e-01],\n",
      "          [-2.8546e-01, -7.5065e-02,  5.4481e-01],\n",
      "          [-3.4750e-02,  2.2962e-01, -3.0879e-01]]],\n",
      "\n",
      "\n",
      "        [[[ 3.9413e-01, -2.7697e-01,  1.0241e-01],\n",
      "          [ 6.5352e-02, -4.3434e-01,  3.4673e-01],\n",
      "          [-4.3385e-01,  5.6143e-01, -1.0129e-01]]],\n",
      "\n",
      "\n",
      "        [[[-4.6910e-01, -2.5044e-01,  8.6994e-02],\n",
      "          [ 4.1554e-01, -2.6634e-01,  2.2662e-01],\n",
      "          [-3.2424e-01,  2.3897e-01,  4.8564e-01]]],\n",
      "\n",
      "\n",
      "        [[[ 1.9958e-01, -3.5376e-01, -5.5270e-01],\n",
      "          [-1.6105e-01,  2.8139e-01,  4.7951e-02],\n",
      "          [-3.2802e-02,  9.2131e-02,  4.7653e-01]]],\n",
      "\n",
      "\n",
      "        [[[ 8.2487e-02,  1.5601e-01, -2.9736e-01],\n",
      "          [-6.9196e-01,  1.3238e-01, -2.6907e-01],\n",
      "          [ 2.7285e-01,  3.3826e-01,  1.5879e-02]]],\n",
      "\n",
      "\n",
      "        [[[ 1.0902e-01, -4.8479e-01, -5.8788e-01],\n",
      "          [ 3.7986e-01,  1.3983e-01,  2.3579e-01],\n",
      "          [-2.6794e-01, -9.9093e-02, -1.6939e-01]]],\n",
      "\n",
      "\n",
      "        [[[-3.2146e-01,  3.6748e-01,  3.0266e-01],\n",
      "          [ 1.3888e-01, -4.4497e-01, -4.4265e-01],\n",
      "          [ 1.6715e-01,  3.4184e-01, -2.8050e-01]]],\n",
      "\n",
      "\n",
      "        [[[ 2.1397e-01, -3.5010e-01, -1.0849e-01],\n",
      "          [-4.3595e-02, -2.5789e-01, -3.6417e-01],\n",
      "          [ 3.7360e-01,  4.0041e-01,  3.1484e-01]]],\n",
      "\n",
      "\n",
      "        [[[-4.8116e-01,  3.2718e-02, -3.4843e-01],\n",
      "          [ 2.1293e-01,  3.3143e-01, -6.0559e-02],\n",
      "          [ 2.2966e-01, -3.7345e-01,  4.2769e-01]]],\n",
      "\n",
      "\n",
      "        [[[-3.6999e-01,  3.2667e-01,  3.8234e-02],\n",
      "          [-4.6653e-01,  4.1222e-01,  5.3674e-02],\n",
      "          [ 1.4208e-01,  2.5308e-01, -4.0355e-01]]],\n",
      "\n",
      "\n",
      "        [[[-9.0105e-02,  3.7362e-01, -2.6460e-01],\n",
      "          [-5.2660e-01, -5.2104e-02,  6.1491e-01],\n",
      "          [-3.5105e-01, -1.5744e-01, -2.5666e-01]]],\n",
      "\n",
      "\n",
      "        [[[ 2.0184e-01, -3.5256e-01,  2.7828e-01],\n",
      "          [-3.9618e-01, -2.9390e-01,  1.6433e-01],\n",
      "          [-1.2908e-01,  4.5218e-01, -4.6770e-01]]],\n",
      "\n",
      "\n",
      "        [[[ 1.0986e-01, -3.0881e-01,  2.1635e-01],\n",
      "          [ 1.7875e-01, -5.6793e-01,  4.7970e-01],\n",
      "          [-1.0939e-01, -9.9617e-02,  1.2016e-01]]],\n",
      "\n",
      "\n",
      "        [[[ 1.0116e-01,  2.4624e-02, -1.8104e-02],\n",
      "          [ 5.3542e-01, -5.2038e-01, -2.1896e-01],\n",
      "          [-3.1722e-01,  1.5907e-01,  2.5553e-01]]],\n",
      "\n",
      "\n",
      "        [[[ 3.3325e-01, -3.5317e-01, -4.0160e-01],\n",
      "          [-3.0024e-03, -3.8199e-01,  5.8706e-01],\n",
      "          [-1.8153e-02,  1.3124e-01, -1.2944e-01]]],\n",
      "\n",
      "\n",
      "        [[[ 4.1047e-01, -2.3339e-01,  2.7209e-01],\n",
      "          [ 3.8606e-02, -5.8434e-01,  2.1785e-01],\n",
      "          [-8.3307e-02, -5.3058e-01, -4.1209e-01]]],\n",
      "\n",
      "\n",
      "        [[[-6.6688e-02, -2.8731e-01,  3.3547e-01],\n",
      "          [ 1.9739e-01, -2.6290e-01,  1.0529e-01],\n",
      "          [ 4.8072e-01, -7.5131e-02, -3.9630e-01]]],\n",
      "\n",
      "\n",
      "        [[[-2.0329e-01,  2.2927e-01,  2.7423e-01],\n",
      "          [-5.7629e-01,  3.8882e-01,  1.6753e-01],\n",
      "          [ 3.0667e-01, -3.4180e-01, -2.3122e-01]]],\n",
      "\n",
      "\n",
      "        [[[-1.9275e-01,  2.4479e-01, -5.8119e-02],\n",
      "          [-3.0124e-01, -2.9525e-01,  5.6891e-01],\n",
      "          [ 2.7064e-01,  2.8004e-01, -5.5572e-01]]],\n",
      "\n",
      "\n",
      "        [[[ 6.9490e-02, -4.5427e-01, -3.3330e-01],\n",
      "          [ 5.0090e-01,  3.7891e-01,  3.4516e-02],\n",
      "          [-2.0695e-01, -7.1266e-02,  2.9672e-01]]],\n",
      "\n",
      "\n",
      "        [[[ 2.6459e-02, -3.3960e-01, -1.0244e-01],\n",
      "          [ 4.8236e-01,  6.4399e-02, -4.6658e-01],\n",
      "          [-1.8697e-01,  4.2501e-01,  1.9449e-01]]],\n",
      "\n",
      "\n",
      "        [[[ 7.7976e-02, -3.1678e-01,  4.2239e-01],\n",
      "          [ 3.6052e-01,  8.3281e-02, -7.6473e-02],\n",
      "          [-5.0226e-01,  5.0541e-01, -2.4747e-01]]],\n",
      "\n",
      "\n",
      "        [[[-3.5846e-01, -1.8512e-01,  3.6284e-01],\n",
      "          [ 3.4074e-01,  2.9967e-01, -2.5807e-01],\n",
      "          [-9.8964e-02, -3.0211e-01,  1.9462e-01]]],\n",
      "\n",
      "\n",
      "        [[[-1.5781e-01,  4.4557e-01, -7.3673e-03],\n",
      "          [ 3.6271e-01, -1.7328e-01, -3.8063e-01],\n",
      "          [-4.2208e-01, -1.1662e-01,  3.8334e-01]]]], requires_grad=True)\n"
     ]
    }
   ],
   "source": [
    "print(model_weights[0].cpu())"
   ]
  },
  {
   "cell_type": "code",
   "execution_count": 42,
   "metadata": {},
   "outputs": [],
   "source": [
    "plt.imsave('./diagrams/pullover.png', image.squeeze(), cmap=\"gray\")"
   ]
  },
  {
   "cell_type": "code",
   "execution_count": 4,
   "metadata": {},
   "outputs": [
    {
     "ename": "ModuleNotFoundError",
     "evalue": "No module named 'cv2'",
     "output_type": "error",
     "traceback": [
      "\u001B[0;31m---------------------------------------------------------------------------\u001B[0m",
      "\u001B[0;31mModuleNotFoundError\u001B[0m                       Traceback (most recent call last)",
      "\u001B[0;32m/var/folders/gv/k_m5vpnd3yvcwjm4n4ntsxzm0000gp/T/ipykernel_11547/3476142345.py\u001B[0m in \u001B[0;36m<module>\u001B[0;34m\u001B[0m\n\u001B[0;32m----> 1\u001B[0;31m \u001B[0;32mimport\u001B[0m \u001B[0mcv2\u001B[0m \u001B[0;32mas\u001B[0m \u001B[0mcv\u001B[0m\u001B[0;34m\u001B[0m\u001B[0;34m\u001B[0m\u001B[0m\n\u001B[0m\u001B[1;32m      2\u001B[0m \u001B[0;34m\u001B[0m\u001B[0m\n\u001B[1;32m      3\u001B[0m \u001B[0;31m# read and visualize an image\u001B[0m\u001B[0;34m\u001B[0m\u001B[0;34m\u001B[0m\u001B[0m\n\u001B[1;32m      4\u001B[0m \u001B[0mimg\u001B[0m \u001B[0;34m=\u001B[0m \u001B[0mcv\u001B[0m\u001B[0;34m.\u001B[0m\u001B[0mimread\u001B[0m\u001B[0;34m(\u001B[0m\u001B[0;34mf\"./diagrams/pullover.png\"\u001B[0m\u001B[0;34m)\u001B[0m\u001B[0;34m\u001B[0m\u001B[0;34m\u001B[0m\u001B[0m\n\u001B[1;32m      5\u001B[0m \u001B[0;31m# img = cv.cvtColor(img, cv.COLOR_BGR2RGB)\u001B[0m\u001B[0;34m\u001B[0m\u001B[0;34m\u001B[0m\u001B[0m\n",
      "\u001B[0;31mModuleNotFoundError\u001B[0m: No module named 'cv2'"
     ]
    }
   ],
   "source": [
    "import cv2 as cv\n",
    "\n",
    "# read and visualize an image\n",
    "img = cv.imread(f\"./diagrams/pullover.png\")\n",
    "# img = cv.cvtColor(img, cv.COLOR_BGR2RGB)\n",
    "plt.imshow(img)\n",
    "plt.show()\n",
    "\n",
    "# define the transforms\n",
    "transform = transforms.Compose([\n",
    "    transforms.ToPILImage(),\n",
    "    transforms.Resize((28, 28)),\n",
    "    transforms.Grayscale(num_output_channels=1),\n",
    "    transforms.ToTensor(),\n",
    "])\n",
    "\n",
    "img = np.array(img)\n",
    "# apply the transforms\n",
    "img = transform(img)\n",
    "print(img.size())\n",
    "# unsqueeze to add a batch dimension\n",
    "img = img.unsqueeze(0)\n",
    "print(img.size())"
   ]
  },
  {
   "cell_type": "code",
   "execution_count": 1,
   "metadata": {},
   "outputs": [
    {
     "ename": "NameError",
     "evalue": "name 'img' is not defined",
     "output_type": "error",
     "traceback": [
      "\u001B[0;31m---------------------------------------------------------------------------\u001B[0m",
      "\u001B[0;31mNameError\u001B[0m                                 Traceback (most recent call last)",
      "\u001B[0;32m/var/folders/gv/k_m5vpnd3yvcwjm4n4ntsxzm0000gp/T/ipykernel_11529/4143496704.py\u001B[0m in \u001B[0;36m<module>\u001B[0;34m\u001B[0m\n\u001B[1;32m      1\u001B[0m \u001B[0;31m# pass the image through all the layers\u001B[0m\u001B[0;34m\u001B[0m\u001B[0;34m\u001B[0m\u001B[0m\n\u001B[0;32m----> 2\u001B[0;31m \u001B[0mimg\u001B[0m \u001B[0;34m=\u001B[0m \u001B[0mimg\u001B[0m\u001B[0;34m.\u001B[0m\u001B[0mto\u001B[0m\u001B[0;34m(\u001B[0m\u001B[0mdevice\u001B[0m\u001B[0;34m)\u001B[0m\u001B[0;34m\u001B[0m\u001B[0;34m\u001B[0m\u001B[0m\n\u001B[0m\u001B[1;32m      3\u001B[0m \u001B[0mresults\u001B[0m \u001B[0;34m=\u001B[0m \u001B[0;34m[\u001B[0m\u001B[0mconv_layers\u001B[0m\u001B[0;34m[\u001B[0m\u001B[0;36m0\u001B[0m\u001B[0;34m]\u001B[0m\u001B[0;34m(\u001B[0m\u001B[0mimg\u001B[0m\u001B[0;34m)\u001B[0m\u001B[0;34m]\u001B[0m\u001B[0;34m\u001B[0m\u001B[0;34m\u001B[0m\u001B[0m\n\u001B[1;32m      4\u001B[0m \u001B[0;32mfor\u001B[0m \u001B[0mi\u001B[0m \u001B[0;32min\u001B[0m \u001B[0mrange\u001B[0m\u001B[0;34m(\u001B[0m\u001B[0;36m1\u001B[0m\u001B[0;34m,\u001B[0m \u001B[0mlen\u001B[0m\u001B[0;34m(\u001B[0m\u001B[0mconv_layers\u001B[0m\u001B[0;34m)\u001B[0m\u001B[0;34m)\u001B[0m\u001B[0;34m:\u001B[0m\u001B[0;34m\u001B[0m\u001B[0;34m\u001B[0m\u001B[0m\n\u001B[1;32m      5\u001B[0m     \u001B[0;31m# pass the result from the last layer to the next layer\u001B[0m\u001B[0;34m\u001B[0m\u001B[0;34m\u001B[0m\u001B[0m\n",
      "\u001B[0;31mNameError\u001B[0m: name 'img' is not defined"
     ]
    }
   ],
   "source": [
    "# pass the image through all the layers\n",
    "img = img.to(device)\n",
    "results = [conv_layers[0](img)]\n",
    "for i in range(1, len(conv_layers)):\n",
    "    # pass the result from the last layer to the next layer\n",
    "    results.append(conv_layers[i](results[-1]))\n",
    "# make a copy of the `results`\n",
    "outputs = results"
   ]
  },
  {
   "cell_type": "code",
   "execution_count": null,
   "metadata": {},
   "outputs": [],
   "source": [
    "# visualize 64 features from each layer \n",
    "# (although there are more feature maps in the upper layers)\n",
    "for num_layer in range(len(outputs)):\n",
    "    plt.figure(figsize=(30, 30))\n",
    "    layer_viz = outputs[num_layer][0, :, :, :]\n",
    "    layer_viz = layer_viz.data\n",
    "    print(layer_viz.size())\n",
    "    for i, filter in enumerate(layer_viz):\n",
    "        if i == 64: # we will visualize only 8x8 blocks from each layer\n",
    "            break\n",
    "        plt.subplot(8, 8, i + 1)\n",
    "        plt.imshow(filter.cpu(), cmap='gray')\n",
    "        plt.axis(\"off\")\n",
    "    print(f\"Saving layer {num_layer} feature maps...\")\n",
    "    plt.savefig(f\"./diagrams/layer_{num_layer}.png\")\n",
    "    # plt.show()\n",
    "    plt.close()"
   ]
  },
  {
   "cell_type": "code",
   "execution_count": null,
   "metadata": {},
   "outputs": [],
   "source": []
  }
 ],
 "metadata": {
  "interpreter": {
   "hash": "a26ff82582be0ed5f057a749d3391963a753d71735083bd0110d44d1abf41696"
  },
  "kernelspec": {
   "display_name": "Python 3 (ipykernel)",
   "language": "python",
   "name": "python3"
  },
  "language_info": {
   "codemirror_mode": {
    "name": "ipython",
    "version": 3
   },
   "file_extension": ".py",
   "mimetype": "text/x-python",
   "name": "python",
   "nbconvert_exporter": "python",
   "pygments_lexer": "ipython3",
   "version": "3.9.7"
  }
 },
 "nbformat": 4,
 "nbformat_minor": 2
}