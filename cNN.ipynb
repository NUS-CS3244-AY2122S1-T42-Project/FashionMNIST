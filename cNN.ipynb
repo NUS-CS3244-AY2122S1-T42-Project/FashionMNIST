{
 "cells": [
  {
   "cell_type": "code",
   "execution_count": 3,
   "metadata": {},
   "outputs": [],
   "source": [
    "import numpy as np\n",
    "import pandas as pd\n",
    "import matplotlib.pyplot as plt\n",
    "\n",
    "import torch\n",
    "import torch.nn as nn\n",
    "from torch.autograd import Variable\n",
    "\n",
    "import torchvision\n",
    "import torchvision.transforms as transforms\n",
    "from torch.utils.data import Dataset, DataLoader\n",
    "from sklearn.metrics import confusion_matrix"
   ]
  },
  {
   "cell_type": "markdown",
   "metadata": {},
   "source": [
    "I had some difficulties uninstalling pytorch without cuda to replace it so I just created another virtual env and ran it in that. (I think this only needs to be done when you try to run it local)\n",
    "\n",
    "After activating the venv you can install the pytorch with cuda with the following command.\n",
    "\n",
    "`pip3 install torch==1.9.1+cu111 torchvision==0.10.1+cu111 torchaudio==0.9.1 -f https://download.pytorch.org/whl/torch_stable.html`\n"
   ]
  },
  {
   "cell_type": "code",
   "execution_count": 4,
   "metadata": {},
   "outputs": [
    {
     "name": "stdout",
     "output_type": "stream",
     "text": [
      "cpu\n"
     ]
    }
   ],
   "source": [
    "device = torch.device(\"cuda:0\" if torch.cuda.is_available() else \"cpu\")\n",
    "print(device)"
   ]
  },
  {
   "cell_type": "code",
   "execution_count": 5,
   "metadata": {},
   "outputs": [],
   "source": [
    "# torch.zeros(1).cuda()"
   ]
  },
  {
   "cell_type": "code",
   "execution_count": 6,
   "metadata": {},
   "outputs": [],
   "source": [
    "#I had a \n",
    "train_csv = pd.read_csv(\"./fashion-mnist_train.csv\")\n",
    "test_csv = pd.read_csv(\"./fashion-mnist_test.csv\")"
   ]
  },
  {
   "cell_type": "code",
   "execution_count": 7,
   "metadata": {},
   "outputs": [],
   "source": [
    "class FashionDataset(Dataset):\n",
    "    \"\"\"User defined class to build a datset using Pytorch class Dataset.\"\"\"\n",
    "    \n",
    "    def __init__(self, data, transform = None):\n",
    "        \"\"\"Method to initilaize variables.\"\"\" \n",
    "        self.fashion_MNIST = list(data.values)\n",
    "        self.transform = transform\n",
    "        \n",
    "        label = []\n",
    "        image = []\n",
    "        \n",
    "        for i in self.fashion_MNIST:\n",
    "             # first column is of labels.\n",
    "            label.append(i[0])\n",
    "            image.append(i[1:])\n",
    "        self.labels = np.asarray(label)\n",
    "        # Dimension of Images = 28 * 28 * 1. where height = width = 28 and color_channels = 1.\n",
    "        self.images = np.asarray(image).reshape(-1, 28, 28, 1).astype('float32')\n",
    "\n",
    "    def __getitem__(self, index):\n",
    "        label = self.labels[index]\n",
    "        image = self.images[index]\n",
    "        \n",
    "        if self.transform is not None:\n",
    "            image = self.transform(image)\n",
    "\n",
    "        return image, label\n",
    "\n",
    "    def __len__(self):\n",
    "        return len(self.images)"
   ]
  },
  {
   "cell_type": "code",
   "execution_count": 8,
   "metadata": {},
   "outputs": [],
   "source": [
    "# Transform data into Tensor that has a range from 0 to 1\n",
    "train_set = FashionDataset(train_csv, transform=transforms.Compose([transforms.ToTensor()]))\n",
    "test_set = FashionDataset(test_csv, transform=transforms.Compose([transforms.ToTensor()]))\n",
    "\n",
    "train_loader = DataLoader(train_set, batch_size=100)\n",
    "test_loader = DataLoader(train_set, batch_size=100)"
   ]
  },
  {
   "cell_type": "markdown",
   "metadata": {},
   "source": [
    "All the above has been done to load data in batches into the model. We use the DataLoader class from torch.utils.data. We also initialize the device to be used as the GPU instead of CPU.\n",
    "\n",
    "The FashionDataset class has two methods: \n",
    "- get_item(index) -> image and label of item at index\n",
    "- len() -> number of items in the dataset"
   ]
  },
  {
   "cell_type": "code",
   "execution_count": 9,
   "metadata": {},
   "outputs": [],
   "source": [
    "# Mapping label number to a more meaningful label\n",
    "\n",
    "def output_label(label):\n",
    "    output_mapping = {\n",
    "        0: \"T-shirt/Top\",\n",
    "        1: \"Trouser\",\n",
    "        2: \"Pullover\",\n",
    "        3: \"Dress\",\n",
    "        4: \"Coat\", \n",
    "        5: \"Sandal\", \n",
    "        6: \"Shirt\",\n",
    "        7: \"Sneaker\",\n",
    "        8: \"Bag\",\n",
    "        9: \"Ankle Boot\"\n",
    "    }\n",
    "    input = (label.item() if type(label) == torch.Tensor else label)\n",
    "    return output_mapping[input]"
   ]
  },
  {
   "cell_type": "code",
   "execution_count": 10,
   "metadata": {},
   "outputs": [
    {
     "name": "stdout",
     "output_type": "stream",
     "text": [
      "2\n"
     ]
    },
    {
     "data": {
      "image/png": "[encoded data removed]",
      "text/plain": [
       "<Figure size 432x288 with 1 Axes>"
      ]
     },
     "metadata": {
      "needs_background": "light"
     },
     "output_type": "display_data"
    }
   ],
   "source": [
    "# displaying image using matplotlib imshow()\n",
    "image, label = next(iter(train_set))\n",
    "plt.imshow(image.squeeze(), cmap=\"gray\")\n",
    "print(label)"
   ]
  },
  {
   "cell_type": "code",
   "execution_count": 11,
   "metadata": {},
   "outputs": [],
   "source": [
    "# plt.figure(figsize=(10,10))\n",
    "# for i in range(25):\n",
    "#     plt.subplot(5,5,i+1)\n",
    "#     plt.xticks([])\n",
    "#     plt.yticks([])\n",
    "#     plt.grid(False)\n",
    "#     plt.imshow(train_images[i], cmap=plt.cm.binary)\n",
    "#     plt.xlabel(class_names[train_labels[i]])\n",
    "# plt.show()\n"
   ]
  },
  {
   "cell_type": "code",
   "execution_count": 12,
   "metadata": {},
   "outputs": [
    {
     "name": "stdout",
     "output_type": "stream",
     "text": [
      "<class 'torch.Tensor'> <class 'torch.Tensor'>\n",
      "torch.Size([10, 1, 28, 28]) torch.Size([10])\n"
     ]
    }
   ],
   "source": [
    "demo_loader = torch.utils.data.DataLoader(train_set, batch_size=10)\n",
    "\n",
    "batch = next(iter(demo_loader))\n",
    "images, labels = batch\n",
    "print(type(images), type(labels))\n",
    "print(images.shape, labels.shape)"
   ]
  },
  {
   "cell_type": "code",
   "execution_count": 13,
   "metadata": {},
   "outputs": [
    {
     "name": "stderr",
     "output_type": "stream",
     "text": [
      "Clipping input data to the valid range for imshow with RGB data ([0..1] for floats or [0..255] for integers).\n"
     ]
    },
    {
     "name": "stdout",
     "output_type": "stream",
     "text": [
      "labels:  Pullover, Ankle Boot, Shirt, T-shirt/Top, Dress, Coat, Coat, Sandal, Coat, Bag, "
     ]
    },
    {
     "data": {
      "image/png": "[encoded data removed]",
      "text/plain": [
       "<Figure size 1080x1440 with 1 Axes>"
      ]
     },
     "metadata": {
      "needs_background": "light"
     },
     "output_type": "display_data"
    }
   ],
   "source": [
    "grid = torchvision.utils.make_grid(images, nrow=10)\n",
    "\n",
    "plt.figure(figsize=(15, 20))\n",
    "plt.imshow(np.transpose(grid, (1, 2, 0)))\n",
    "print(\"labels: \", end=\" \")\n",
    "for i, label in enumerate(labels):\n",
    "    print(output_label(label), end=\", \")"
   ]
  },
  {
   "cell_type": "markdown",
   "metadata": {},
   "source": [
    "1. Make a model class (inherits nn.Module class)\n",
    "2. Add Layers to model class\n",
    "\n",
    "    a. Convolution layer with kernel size 3*3, padding = 1 (no padding) in 1st layer and padding = 0 in second layer. Stride of 1 in both layers.\n",
    "\n",
    "    b. Batch normalization layer\n",
    "\n",
    "    c. Activation function used: ReLU\n",
    "\n",
    "    d. Max Pooling layer with kernel size of 2 * 2 and stride 2.\n",
    "\n",
    "        i. flatten out output for dense layer\n",
    "\n",
    "        ii. 3 fully connected layers with different in/out features\n",
    "\n",
    "        iii. 1 dropout layer with p=0.25\n",
    "\n",
    "Summary is as follows:\n",
    "\n",
    "First conv layer -> Max Pooling layer -> Second conv layer -> second max pooling layer\n",
    "\n",
    "28 * 28 * 3      --> 28 * 28 * 32      --> 14 * 14 * 32      --> 12 * 12 * 64              --> 6 * 6 * 64\n",
    "\n",
    "Final fully connected layer has 10 output features for 10 types of clothes."
   ]
  },
  {
   "cell_type": "code",
   "execution_count": 14,
   "metadata": {},
   "outputs": [],
   "source": [
    "class FashionCNN(nn.Module):\n",
    "    def __init__(self):\n",
    "        super(FashionCNN, self).__init__()\n",
    "        \n",
    "        self.layer1 = nn.Sequential(\n",
    "            nn.Conv2d(in_channels=1, out_channels=32, kernel_size=3, padding=1),\n",
    "            nn.BatchNorm2d(32),\n",
    "            nn.ReLU(),\n",
    "            nn.MaxPool2d(kernel_size=2, stride=2)\n",
    "        )\n",
    "        \n",
    "        self.layer2 = nn.Sequential(\n",
    "            nn.Conv2d(in_channels=32, out_channels=64, kernel_size=3),\n",
    "            nn.BatchNorm2d(64),\n",
    "            nn.ReLU(),\n",
    "            nn.MaxPool2d(2)\n",
    "        )\n",
    "        \n",
    "        self.fc1 = nn.Linear(in_features=64*6*6, out_features=600)\n",
    "        self.drop = nn.Dropout2d(0.25)\n",
    "        self.fc2 = nn.Linear(in_features=600, out_features=120)\n",
    "        self.fc3 = nn.Linear(in_features=120, out_features=10)\n",
    "        \n",
    "    def forward(self, x):\n",
    "        out = self.layer1(x)\n",
    "        out = self.layer2(out)\n",
    "        out = out.view(out.size(0), -1)\n",
    "        out = self.fc1(out)\n",
    "        out = self.drop(out)\n",
    "        out = self.fc2(out)\n",
    "        out = self.fc3(out)\n",
    "        \n",
    "        return out"
   ]
  },
  {
   "cell_type": "code",
   "execution_count": 15,
   "metadata": {},
   "outputs": [
    {
     "name": "stdout",
     "output_type": "stream",
     "text": [
      "FashionCNN(\n",
      "  (layer1): Sequential(\n",
      "    (0): Conv2d(1, 32, kernel_size=(3, 3), stride=(1, 1), padding=(1, 1))\n",
      "    (1): BatchNorm2d(32, eps=1e-05, momentum=0.1, affine=True, track_running_stats=True)\n",
      "    (2): ReLU()\n",
      "    (3): MaxPool2d(kernel_size=2, stride=2, padding=0, dilation=1, ceil_mode=False)\n",
      "  )\n",
      "  (layer2): Sequential(\n",
      "    (0): Conv2d(32, 64, kernel_size=(3, 3), stride=(1, 1))\n",
      "    (1): BatchNorm2d(64, eps=1e-05, momentum=0.1, affine=True, track_running_stats=True)\n",
      "    (2): ReLU()\n",
      "    (3): MaxPool2d(kernel_size=2, stride=2, padding=0, dilation=1, ceil_mode=False)\n",
      "  )\n",
      "  (fc1): Linear(in_features=2304, out_features=600, bias=True)\n",
      "  (drop): Dropout2d(p=0.25, inplace=False)\n",
      "  (fc2): Linear(in_features=600, out_features=120, bias=True)\n",
      "  (fc3): Linear(in_features=120, out_features=10, bias=True)\n",
      ")\n"
     ]
    }
   ],
   "source": [
    "model = FashionCNN()\n",
    "model.to(device)\n",
    "\n",
    "error = nn.CrossEntropyLoss()\n",
    "\n",
    "learning_rate = 0.001\n",
    "optimizer = torch.optim.Adam(model.parameters(), lr=learning_rate)\n",
    "print(model)"
   ]
  },
  {
   "cell_type": "code",
   "execution_count": 16,
   "metadata": {},
   "outputs": [],
   "source": [
    "# # Training and Testing (OLD)\n",
    "# num_epochs = 10 # num of epochs can also be increased > 100\n",
    "# count = 0\n",
    "# # Lists for visualization of loss and accuracy \n",
    "# loss_list = []\n",
    "# iteration_list = []\n",
    "# accuracy_list = []\n",
    "\n",
    "# # Lists for knowing classwise accuracy\n",
    "# predictions_list = []\n",
    "# labels_list = []\n",
    "\n",
    "# for epoch in range(num_epochs):\n",
    "#     for images, labels in train_loader:\n",
    "#         # Transfering images and labels to GPU if available\n",
    "#         images, labels = images.to(device), labels.to(device)\n",
    "    \n",
    "#         train = Variable(images.view(100, 1, 28, 28)) # Apparently Variable is outdated so maybe we should change it\n",
    "#         labels = Variable(labels)\n",
    "        \n",
    "#         # Forward pass \n",
    "#         outputs = model(train)\n",
    "#         loss = error(outputs, labels)\n",
    "        \n",
    "#         # Initializing a gradient as 0 so there is no mixing of gradient among the batches\n",
    "#         optimizer.zero_grad()\n",
    "        \n",
    "#         #Propagating the error backward\n",
    "#         loss.backward()\n",
    "        \n",
    "#         # Optimizing the parameters\n",
    "#         optimizer.step()\n",
    "    \n",
    "#         count += 1\n",
    "    \n",
    "#     # Testing the model\n",
    "    \n",
    "#         if not (count % 50):    # It's same as \"if count % 50 == 0\"\n",
    "#             total = 0\n",
    "#             correct = 0\n",
    "        \n",
    "#             for images, labels in test_loader:\n",
    "#                 images, labels = images.to(device), labels.to(device)\n",
    "#                 labels_list.append(labels)\n",
    "            \n",
    "#                 test = Variable(images.view(100, 1, 28, 28))\n",
    "            \n",
    "#                 outputs = model(test)\n",
    "            \n",
    "#                 predictions = torch.max(outputs, 1)[1].to(device)\n",
    "#                 predictions_list.append(predictions)\n",
    "#                 correct += (predictions == labels).sum()\n",
    "            \n",
    "#                 total += len(labels)\n",
    "            \n",
    "#             accuracy = correct * 100 / total\n",
    "#             loss_list.append(loss.data)\n",
    "#             iteration_list.append(count)\n",
    "#             accuracy_list.append(accuracy)\n",
    "        \n",
    "#         if not (count % 500):\n",
    "#             print(\"Iteration: {}, Loss: {}, Accuracy: {}%\".format(count, loss.data, accuracy))"
   ]
  },
  {
   "cell_type": "markdown",
   "metadata": {},
   "source": [
    "Visualizing the results"
   ]
  },
  {
   "cell_type": "code",
   "execution_count": 113,
   "metadata": {},
   "outputs": [],
   "source": [
    "train_accu = []\n",
    "train_losses = []\n",
    "\n",
    "def train(model, optimizer, loader, epoch):\n",
    "  model.train()\n",
    "\n",
    "  running_loss=0\n",
    "  correct=0\n",
    "  total=0\n",
    "  \n",
    "  for images, labels in loader:\n",
    "    # Transfering images and labels to GPU if available\n",
    "    images, labels = images.to(device), labels.to(device)\n",
    "    \n",
    "    # Forward pass \n",
    "    outputs = model(images)\n",
    "    loss = error(outputs, labels)\n",
    "    \n",
    "    # Initializing a gradient as 0 so there is no mixing of gradient among the batches\n",
    "    optimizer.zero_grad()\n",
    "    \n",
    "    #Propagating the error backward\n",
    "    loss.backward()\n",
    "    \n",
    "    # Optimizing the parameters\n",
    "    optimizer.step()\n",
    "\n",
    "    running_loss += loss.item()\n",
    "    \n",
    "    _, predicted = outputs.max(1)\n",
    "    total += labels.size(0)\n",
    "    correct += predicted.eq(labels).sum().item()\n",
    "      \n",
    "  train_loss=running_loss/len(loader)\n",
    "  accu=100.*correct/total\n",
    "  \n",
    "  train_accu.append(accu)\n",
    "  train_losses.append(train_loss)\n",
    "  return train_loss, accu"
   ]
  },
  {
   "cell_type": "code",
   "execution_count": 114,
   "metadata": {},
   "outputs": [],
   "source": [
    "eval_losses=[]\n",
    "eval_accu=[]\n",
    " \n",
    "def test(model, loader, epoch):\n",
    "  model.eval()\n",
    " \n",
    "  running_loss=0\n",
    "  correct=0\n",
    "  total=0\n",
    " \n",
    "  with torch.no_grad():\n",
    "    for images, labels in loader:\n",
    "      images, labels = images.to(device), labels.to(device)\n",
    "\n",
    "      outputs = model(images)\n",
    "      loss = error(outputs, labels)\n",
    "\n",
    "      running_loss += loss.item()\n",
    "\n",
    "      _, predictions = outputs.max(1)\n",
    "      total += labels.size(0)\n",
    "      correct += predictions.eq(labels).sum().item()\n",
    "   \n",
    "  test_loss=running_loss/len(loader)\n",
    "  accu=100.*correct/total\n",
    " \n",
    "  eval_losses.append(test_loss)\n",
    "  eval_accu.append(accu)\n",
    " \n",
    "  return test_loss, accu"
   ]
  },
  {
   "cell_type": "code",
   "execution_count": 19,
   "metadata": {},
   "outputs": [
    {
     "name": "stdout",
     "output_type": "stream",
     "text": [
      "Epoch: 1\n",
      "Train: Loss: 0.43213244487841923, Accuracy: 84.63833333333334%\n",
      "Test: Loss 0.41261564249793686, Accuracy: 84.62333333333333%\n",
      "Epoch: 2\n",
      "Train: Loss: 0.297511784012119, Accuracy: 89.495%\n",
      "Test: Loss 0.28544483218342065, Accuracy: 89.505%\n",
      "Epoch: 3\n",
      "Train: Loss: 0.25744153536856174, Accuracy: 90.74666666666667%\n",
      "Test: Loss 0.23388288784772157, Accuracy: 91.43333333333334%\n",
      "Epoch: 4\n",
      "Train: Loss: 0.23612265458951393, Accuracy: 91.53666666666666%\n",
      "Test: Loss 0.20225881616274516, Accuracy: 92.66666666666667%\n",
      "Epoch: 5\n",
      "Train: Loss: 0.21463453747332095, Accuracy: 92.23833333333333%\n",
      "Test: Loss 0.20040424122164646, Accuracy: 92.71333333333334%\n",
      "Epoch: 6\n",
      "Train: Loss: 0.20143442097430428, Accuracy: 92.675%\n",
      "Test: Loss 0.16492414428542057, Accuracy: 94.165%\n",
      "Epoch: 7\n",
      "Train: Loss: 0.18687736731643478, Accuracy: 93.28333333333333%\n",
      "Test: Loss 0.1495507318774859, Accuracy: 94.76666666666667%\n",
      "Epoch: 8\n",
      "Train: Loss: 0.172597862581412, Accuracy: 93.72833333333334%\n",
      "Test: Loss 0.14701049379383524, Accuracy: 94.78833333333333%\n",
      "Epoch: 9\n",
      "Train: Loss: 0.16432927255829174, Accuracy: 94.03333333333333%\n",
      "Test: Loss 0.1416865734818081, Accuracy: 94.99166666666666%\n",
      "Epoch: 10\n",
      "Train: Loss: 0.15484392832964658, Accuracy: 94.42666666666666%\n",
      "Test: Loss 0.1465949910134077, Accuracy: 94.7%\n",
      "Epoch: 11\n",
      "Train: Loss: 0.14470437863841654, Accuracy: 94.89333333333333%\n",
      "Test: Loss 0.1503054537748297, Accuracy: 94.70166666666667%\n"
     ]
    }
   ],
   "source": [
    "epochs=11\n",
    "train_accu, eval_accu, train_losses, eval_losses = [], [], [], []\n",
    "for epoch in range(1,epochs+1): \n",
    "  train_loss, train_accuracy = train(model, optimizer, train_loader, epoch)\n",
    "  test_loss, test_accuracy = test(model, test_loader, epoch)\n",
    "  print(\"Epoch: {}\\nTrain: Loss: {}, Accuracy: {}%\\nTest: Loss {}, Accuracy: {}%\".format(epoch, train_loss, train_accuracy, test_loss, test_accuracy))\n",
    "  "
   ]
  },
  {
   "cell_type": "code",
   "execution_count": 20,
   "metadata": {},
   "outputs": [],
   "source": [
    "import os\n",
    "\n",
    "if not os.path.exists('./diagrams'):\n",
    "    os.makedirs('./diagrams')"
   ]
  },
  {
   "cell_type": "code",
   "execution_count": 21,
   "metadata": {},
   "outputs": [
    {
     "data": {
      "image/png": "[encoded data removed]",
      "text/plain": [
       "<Figure size 1152x720 with 1 Axes>"
      ]
     },
     "metadata": {
      "needs_background": "light"
     },
     "output_type": "display_data"
    }
   ],
   "source": [
    "plt.figure(figsize=(16,10))\n",
    "\n",
    "plt.plot(train_accu)\n",
    "plt.plot(eval_accu)\n",
    "plt.xlabel('epoch')\n",
    "plt.ylabel('accuracy')\n",
    "plt.legend(['Train','Valid'])\n",
    "plt.title('Train vs Valid Accuracy')\n",
    "\n",
    "plt.savefig('./diagrams/cNN_Train_vs_Valid_Acc.png')"
   ]
  },
  {
   "cell_type": "code",
   "execution_count": 22,
   "metadata": {},
   "outputs": [
    {
     "data": {
      "image/png": "[encoded data removed]",
      "text/plain": [
       "<Figure size 1152x720 with 1 Axes>"
      ]
     },
     "metadata": {
      "needs_background": "light"
     },
     "output_type": "display_data"
    }
   ],
   "source": [
    "plt.figure(figsize=(16,10))\n",
    "\n",
    "plt.plot(train_losses)\n",
    "plt.plot(eval_losses)\n",
    "plt.xlabel('epoch')\n",
    "plt.ylabel('losses')\n",
    "plt.legend(['Train','Valid'])\n",
    "plt.title('Train vs Valid Losses')\n",
    " \n",
    "plt.savefig('./diagrams/cNN_Train_vs_Valid_loss.png')"
   ]
  },
  {
   "cell_type": "markdown",
   "metadata": {},
   "source": [
    "From the graph we can see a downward trend of loss vs epoch. Perhaps a reason for the spikes in loss could be just due to the randomness of the batch sampling. An unlucky sampling could have led to the loss increasing compared to the previous iterations but overall the loss has a downward trend as iterations increase."
   ]
  },
  {
   "cell_type": "code",
   "execution_count": 103,
   "metadata": {},
   "outputs": [
    {
     "name": "stdout",
     "output_type": "stream",
     "text": [
      "Accuracy of T-shirt/Top: 88.78%\n",
      "Accuracy of Trouser: 99.67%\n",
      "Accuracy of Pullover: 91.50%\n",
      "Accuracy of Dress: 98.15%\n",
      "Accuracy of Coat: 96.57%\n",
      "Accuracy of Sandal: 99.87%\n",
      "Accuracy of Shirt: 80.40%\n",
      "Accuracy of Sneaker: 93.62%\n",
      "Accuracy of Bag: 98.88%\n",
      "Accuracy of Ankle Boot: 99.58%\n"
     ]
    }
   ],
   "source": [
    "class_correct = [0. for _ in range(10)]\n",
    "total_correct = [0. for _ in range(10)]\n",
    "accuracies = []\n",
    "\n",
    "all_labels = torch.Tensor();\n",
    "all_predicted = torch.Tensor();\n",
    "\n",
    "with torch.no_grad():\n",
    "    for images, labels in test_loader:\n",
    "        images, labels = images.to(device), labels.to(device)\n",
    "        outputs = model(images)\n",
    "        _, predicted = outputs.max(1)\n",
    "        c = (predicted == labels).squeeze()\n",
    "\n",
    "        all_labels = torch.cat((all_labels, labels))\n",
    "        all_predicted = torch.cat((all_predicted, predicted))\n",
    "        \n",
    "        for i in range(100):\n",
    "            label = labels[i]\n",
    "            class_correct[label] += c[i].item()\n",
    "            total_correct[label] += 1\n",
    "        \n",
    "for i in range(10):\n",
    "    accuracies.append(class_correct[i] * 100 / total_correct[i])\n",
    "    print(\"Accuracy of {}: {:.2f}%\".format(output_label(i), accuracies[i]))"
   ]
  },
  {
   "cell_type": "code",
   "execution_count": 24,
   "metadata": {},
   "outputs": [
    {
     "data": {
      "text/plain": [
       "array([[5327,    0,   47,  175,   18,    0,  428,    0,    5,    0],\n",
       "       [   2, 5980,    0,   15,    2,    0,    1,    0,    0,    0],\n",
       "       [  38,    1, 5490,   59,  313,    0,   98,    0,    1,    0],\n",
       "       [  18,   15,    5, 5889,   56,    0,   15,    0,    1,    1],\n",
       "       [   3,    1,   60,  103, 5794,    1,   38,    0,    0,    0],\n",
       "       [   1,    0,    0,    0,    0, 5992,    0,    1,    1,    5],\n",
       "       [ 237,    2,  209,  161,  566,    0, 4824,    0,    1,    0],\n",
       "       [   0,    0,    1,    0,    0,   72,    1, 5617,    2,  307],\n",
       "       [  18,    0,    0,   20,    7,    0,   21,    0, 5933,    1],\n",
       "       [   0,    0,    0,    0,    0,    9,    0,   15,    1, 5975]],\n",
       "      dtype=int64)"
      ]
     },
     "execution_count": 24,
     "metadata": {},
     "output_type": "execute_result"
    }
   ],
   "source": [
    "from sklearn.metrics import confusion_matrix\n",
    "\n",
    "confusion_matrix(all_labels, all_predicted)"
   ]
  },
  {
   "cell_type": "markdown",
   "metadata": {},
   "source": [
    "Classes with the lowest classification accuracy:\n",
    "| Class       | Accuracy (%) | Classes that it is most confused with |\n",
    "|-------------|--------------|---------------------------------------|\n",
    "| Dress       | 98.93        | Coat, T-shirt/top                     |\n",
    "| Coat        | 98.53        | Pullover, Dress                       |\n",
    "| Pullover    | 97.27        | Coat, Shirt                           |\n",
    "| T-shirt/top | 96.98        | Shirt, Dress, Pullover                |\n",
    "| Shirt       | 95.95        | Coat, T-shirt/top, Pullover, Dress    |"
   ]
  },
  {
   "cell_type": "code",
   "execution_count": 117,
   "metadata": {},
   "outputs": [
    {
     "name": "stderr",
     "output_type": "stream",
     "text": [
      "<ipython-input-117-cf09baa7e67f>:76: SettingWithCopyWarning: \n",
      "A value is trying to be set on a copy of a slice from a DataFrame.\n",
      "Try using .loc[row_indexer,col_indexer] = value instead\n",
      "\n",
      "See the caveats in the documentation: https://pandas.pydata.org/pandas-docs/stable/user_guide/indexing.html#returning-a-view-versus-a-copy\n",
      "  train_csv_subsets[i]['label'] = train_csv_subsets[i]['label'].map(lambda x: maps[i][0][x])\n",
      "<ipython-input-117-cf09baa7e67f>:77: SettingWithCopyWarning: \n",
      "A value is trying to be set on a copy of a slice from a DataFrame.\n",
      "Try using .loc[row_indexer,col_indexer] = value instead\n",
      "\n",
      "See the caveats in the documentation: https://pandas.pydata.org/pandas-docs/stable/user_guide/indexing.html#returning-a-view-versus-a-copy\n",
      "  test_csv_subsets[i]['label'] = test_csv_subsets[i]['label'].map(lambda x: maps[i][0][x])\n"
     ]
    }
   ],
   "source": [
    "# Create another cNN that is only trained on those classes with the lowest classification accuracies\n",
    "# and the classes that they are confused with, i.e. T-shirt/top, Pullover, Dress, Coat, Shirt\n",
    "\n",
    "# lowest_accuracy_classes = [0, 2, 3, 4, 6]\n",
    "# lowest_accuracy_classes_to_index_map = {0: 0, 2: 1, 3: 2, 4: 3, 6: 4}\n",
    "# index_to_lowest_accuracy_classes_map = {0: 0, 1: 2, 2: 3, 3: 4, 4: 6}\n",
    "\n",
    "confused_classes1 = [0, 6] # 0 change to 6, or 6 change to 0\n",
    "confused_classes2 = [2, 6] # 2 change to 6\n",
    "confused_classes3 = [0, 3, 4, 6] # 3 change to 0, 4 or 6\n",
    "confused_classes4 = [2, 4, 6] # 4 change to 2 or 6\n",
    "confused_classes = [confused_classes1, confused_classes2, confused_classes3, confused_classes4]\n",
    "\n",
    "confused_classes1_to_index_map = {}\n",
    "confused_classes2_to_index_map = {}\n",
    "confused_classes3_to_index_map = {}\n",
    "confused_classes4_to_index_map = {}\n",
    "index_to_confused_classes1_map = {}\n",
    "index_to_confused_classes2_map = {}\n",
    "index_to_confused_classes3_map = {}\n",
    "index_to_confused_classes4_map = {}\n",
    "\n",
    "maps = [[confused_classes1_to_index_map, index_to_confused_classes1_map], [confused_classes2_to_index_map, index_to_confused_classes2_map], [confused_classes3_to_index_map, index_to_confused_classes3_map], [confused_classes4_to_index_map, index_to_confused_classes4_map]]\n",
    "\n",
    "idx = 0\n",
    "for confused_class in confused_classes:\n",
    "  for i in range(len(confused_class)):\n",
    "    maps[idx][0][confused_class[i]] = i\n",
    "    maps[idx][1][i] = confused_class[i]\n",
    "  idx += 1\n",
    "\n",
    "train_csv_subset1 = pd.DataFrame()\n",
    "train_csv_subset2 = pd.DataFrame()\n",
    "train_csv_subset3 = pd.DataFrame()\n",
    "train_csv_subset4 = pd.DataFrame()\n",
    "train_csv_subsets = [train_csv_subset1, train_csv_subset2, train_csv_subset3, train_csv_subset4]\n",
    "\n",
    "test_csv_subset1 = pd.DataFrame()\n",
    "test_csv_subset2 = pd.DataFrame()\n",
    "test_csv_subset3 = pd.DataFrame()\n",
    "test_csv_subset4 = pd.DataFrame()\n",
    "test_csv_subsets = [test_csv_subset1, test_csv_subset2, test_csv_subset3, test_csv_subset4]\n",
    "\n",
    "\n",
    "idx = 0\n",
    "for confused_class in confused_classes:\n",
    "  train_csv_subsets[idx] = train_csv[train_csv.label.isin(confused_class)]\n",
    "  test_csv_subsets[idx] = test_csv[test_csv.label.isin(confused_class)]\n",
    "  idx += 1\n",
    "\n",
    "train_subset1 = []\n",
    "train_subset2 = []\n",
    "train_subset3 = []\n",
    "train_subset4 = []\n",
    "train_subsets = [train_subset1, train_subset2, train_subset3, train_subset4]\n",
    "\n",
    "test_subset1 = []\n",
    "test_subset2 = []\n",
    "test_subset3 = []\n",
    "test_subset4 = []\n",
    "test_subsets = [test_subset1, test_subset2, test_subset3, test_subset4]\n",
    "\n",
    "train_subset_loader1 = []\n",
    "train_subset_loader2 = []\n",
    "train_subset_loader3 = []\n",
    "train_subset_loader4 = []\n",
    "train_subset_loaders = [train_subset_loader1, train_subset_loader2, train_subset_loader3, train_subset_loader4]\n",
    "\n",
    "test_subset_loader1 = []\n",
    "test_subset_loader2 = []\n",
    "test_subset_loader3 = []\n",
    "test_subset_loader4 = []\n",
    "test_subset_loaders = [test_subset_loader1, test_subset_loader2, test_subset_loader3, test_subset_loader4]\n",
    "\n",
    "for i in range(len(confused_classes)):\n",
    "  train_csv_subsets[i]['label'] = train_csv_subsets[i]['label'].map(lambda x: maps[i][0][x])\n",
    "  test_csv_subsets[i]['label'] = test_csv_subsets[i]['label'].map(lambda x: maps[i][0][x])\n",
    "\n",
    "  train_subsets[i] = FashionDataset(train_csv_subsets[i], transform=transforms.Compose([transforms.ToTensor()]))\n",
    "  test_subsets[i] = FashionDataset(test_csv_subsets[i], transform=transforms.Compose([transforms.ToTensor()]))\n",
    "\n",
    "  train_subset_loaders[i] = DataLoader(train_subsets[i], batch_size=100)\n",
    "  test_subset_loaders[i] = DataLoader(test_subsets[i], batch_size=100)"
   ]
  },
  {
   "cell_type": "code",
   "execution_count": 118,
   "metadata": {},
   "outputs": [],
   "source": [
    "class FashionCNN2(nn.Module):\n",
    "    def __init__(self, num_classes):\n",
    "        super(FashionCNN2, self).__init__()\n",
    "        \n",
    "        self.layer1 = nn.Sequential(\n",
    "            nn.Conv2d(in_channels=1, out_channels=32, kernel_size=3, padding=1),\n",
    "            nn.BatchNorm2d(32),\n",
    "            nn.ReLU(),\n",
    "            nn.MaxPool2d(kernel_size=2, stride=2)\n",
    "        )\n",
    "        \n",
    "        self.layer2 = nn.Sequential(\n",
    "            nn.Conv2d(in_channels=32, out_channels=64, kernel_size=3),\n",
    "            nn.BatchNorm2d(64),\n",
    "            nn.ReLU(),\n",
    "            nn.MaxPool2d(2)\n",
    "        )\n",
    "        \n",
    "        self.fc1 = nn.Linear(in_features=64*6*6, out_features=600)\n",
    "        self.drop = nn.Dropout2d(0.25)\n",
    "        self.fc2 = nn.Linear(in_features=600, out_features=120)\n",
    "        self.fc3 = nn.Linear(in_features=120, out_features=num_classes)\n",
    "        \n",
    "    def forward(self, x):\n",
    "        out = self.layer1(x)\n",
    "        out = self.layer2(out)\n",
    "        out = out.view(out.size(0), -1)\n",
    "        out = self.fc1(out)\n",
    "        out = self.drop(out)\n",
    "        out = self.fc2(out)\n",
    "        out = self.fc3(out)\n",
    "        \n",
    "        return out"
   ]
  },
  {
   "cell_type": "code",
   "execution_count": 119,
   "metadata": {},
   "outputs": [],
   "source": [
    "model1 = []\n",
    "model2 = []\n",
    "model3 = []\n",
    "model4 = []\n",
    "extra_models = [model1, model2, model3, model4]\n",
    "\n",
    "optimizer1 = []\n",
    "optimizer2 = []\n",
    "optimizer3 = []\n",
    "optimizer4 = []\n",
    "optimizers = [optimizer1, optimizer2, optimizer3, optimizer4]\n",
    "\n",
    "for i in range(len(confused_classes)):\n",
    "  extra_models[i] = FashionCNN2(len(confused_classes[i]))\n",
    "  extra_models[i].to(device)\n",
    "  optimizers[i] = torch.optim.Adam(extra_models[i].parameters(), lr=learning_rate)\n",
    "  # print(extra_models[i])"
   ]
  },
  {
   "cell_type": "code",
   "execution_count": 121,
   "metadata": {},
   "outputs": [
    {
     "name": "stdout",
     "output_type": "stream",
     "text": [
      "Extra Model #0\n",
      "Epoch: 1\n",
      "Train: Loss: 0.3076231063654025, Accuracy: 86.375%\n",
      "Test: Loss 0.30916534215211866, Accuracy: 85.55%\n",
      "Epoch: 2\n",
      "Train: Loss: 0.2910764073332151, Accuracy: 87.24166666666666%\n",
      "Test: Loss 0.27513801157474516, Accuracy: 87.65%\n",
      "Epoch: 3\n",
      "Train: Loss: 0.26688419717053574, Accuracy: 88.41666666666667%\n",
      "Test: Loss 0.2987738482654095, Accuracy: 87.4%\n",
      "Epoch: 4\n",
      "Train: Loss: 0.24114576963086923, Accuracy: 89.85833333333333%\n",
      "Test: Loss 0.26848254799842836, Accuracy: 88.2%\n",
      "Epoch: 5\n",
      "Train: Loss: 0.2390595100199183, Accuracy: 89.79166666666667%\n",
      "Test: Loss 0.27272605076432227, Accuracy: 88.65%\n",
      "Epoch: 6\n",
      "Train: Loss: 0.21688999713708956, Accuracy: 90.94166666666666%\n",
      "Test: Loss 0.2636658750474453, Accuracy: 89.0%\n",
      "Epoch: 7\n",
      "Train: Loss: 0.19982549076279005, Accuracy: 91.73333333333333%\n",
      "Test: Loss 0.2940214917063713, Accuracy: 87.85%\n",
      "Epoch: 8\n",
      "Train: Loss: 0.18131861469397942, Accuracy: 92.55833333333334%\n",
      "Test: Loss 0.27659888565540314, Accuracy: 89.55%\n",
      "Epoch: 9\n",
      "Train: Loss: 0.16713076177984476, Accuracy: 93.28333333333333%\n",
      "Test: Loss 0.38301743045449255, Accuracy: 87.0%\n",
      "Epoch: 10\n",
      "Train: Loss: 0.15095084980130197, Accuracy: 94.09166666666667%\n",
      "Test: Loss 0.37555898651480674, Accuracy: 87.0%\n",
      "Epoch: 11\n",
      "Train: Loss: 0.14340337902928393, Accuracy: 94.38333333333334%\n",
      "Test: Loss 0.3592839702963829, Accuracy: 88.35%\n",
      "Extra Model #1\n",
      "Epoch: 1\n",
      "Train: Loss: 0.4469740580767393, Accuracy: 81.65833333333333%\n",
      "Test: Loss 0.2664546988904476, Accuracy: 88.8%\n",
      "Epoch: 2\n",
      "Train: Loss: 0.2505487700924277, Accuracy: 89.93333333333334%\n",
      "Test: Loss 0.2143744233995676, Accuracy: 91.95%\n",
      "Epoch: 3\n",
      "Train: Loss: 0.2046603757267197, Accuracy: 91.7%\n",
      "Test: Loss 0.1948323655873537, Accuracy: 92.15%\n",
      "Epoch: 4\n",
      "Train: Loss: 0.18266566588232916, Accuracy: 92.88333333333334%\n",
      "Test: Loss 0.18815384916961192, Accuracy: 92.5%\n",
      "Epoch: 5\n",
      "Train: Loss: 0.18721359729145964, Accuracy: 92.78333333333333%\n",
      "Test: Loss 0.19580314494669437, Accuracy: 92.75%\n",
      "Epoch: 6\n",
      "Train: Loss: 0.16156931454315782, Accuracy: 93.9%\n",
      "Test: Loss 0.27884664535522463, Accuracy: 90.35%\n",
      "Epoch: 7\n",
      "Train: Loss: 0.14707320407032967, Accuracy: 94.55%\n",
      "Test: Loss 0.3654904246330261, Accuracy: 88.15%\n",
      "Epoch: 8\n",
      "Train: Loss: 0.13860799283720554, Accuracy: 94.875%\n",
      "Test: Loss 0.3829498775303364, Accuracy: 87.5%\n",
      "Epoch: 9\n",
      "Train: Loss: 0.14593450953252612, Accuracy: 94.19166666666666%\n",
      "Test: Loss 0.19284160546958445, Accuracy: 93.3%\n",
      "Epoch: 10\n",
      "Train: Loss: 0.1257794393071284, Accuracy: 95.19166666666666%\n",
      "Test: Loss 0.2874908819794655, Accuracy: 91.15%\n",
      "Epoch: 11\n",
      "Train: Loss: 0.10747343165179093, Accuracy: 96.09166666666667%\n",
      "Test: Loss 0.20639749467372895, Accuracy: 93.2%\n",
      "Extra Model #2\n",
      "Epoch: 1\n",
      "Train: Loss: 0.5481858111917972, Accuracy: 78.34166666666667%\n",
      "Test: Loss 0.3983613356947899, Accuracy: 84.55%\n",
      "Epoch: 2\n",
      "Train: Loss: 0.4027415908873081, Accuracy: 84.3875%\n",
      "Test: Loss 0.3600162401795387, Accuracy: 86.125%\n",
      "Epoch: 3\n",
      "Train: Loss: 0.35711282889048257, Accuracy: 86.28333333333333%\n",
      "Test: Loss 0.35037062168121336, Accuracy: 86.25%\n",
      "Epoch: 4\n",
      "Train: Loss: 0.3285330668091774, Accuracy: 87.44583333333334%\n",
      "Test: Loss 0.35070090293884276, Accuracy: 86.75%\n",
      "Epoch: 5\n",
      "Train: Loss: 0.31302558109164236, Accuracy: 87.96666666666667%\n",
      "Test: Loss 0.3234924156218767, Accuracy: 87.95%\n",
      "Epoch: 6\n",
      "Train: Loss: 0.29103262536227703, Accuracy: 88.875%\n",
      "Test: Loss 0.303578957170248, Accuracy: 88.775%\n",
      "Epoch: 7\n",
      "Train: Loss: 0.27057847830777365, Accuracy: 89.6%\n",
      "Test: Loss 0.30769835487008096, Accuracy: 88.75%\n",
      "Epoch: 8\n",
      "Train: Loss: 0.2523764170706272, Accuracy: 90.45%\n",
      "Test: Loss 0.30896266624331475, Accuracy: 88.85%\n",
      "Epoch: 9\n",
      "Train: Loss: 0.23588001768415173, Accuracy: 91.12916666666666%\n",
      "Test: Loss 0.31998609378933907, Accuracy: 88.65%\n",
      "Epoch: 10\n",
      "Train: Loss: 0.22738774605095385, Accuracy: 91.63333333333334%\n",
      "Test: Loss 0.3662390556186438, Accuracy: 87.375%\n",
      "Epoch: 11\n",
      "Train: Loss: 0.21947603949035208, Accuracy: 91.57916666666667%\n",
      "Test: Loss 0.32983958199620245, Accuracy: 88.95%\n",
      "Extra Model #3\n",
      "Epoch: 1\n",
      "Train: Loss: 0.6641687851813104, Accuracy: 74.82222222222222%\n",
      "Test: Loss 0.6057418803373973, Accuracy: 76.96666666666667%\n",
      "Epoch: 2\n",
      "Train: Loss: 0.4089129006697072, Accuracy: 84.2611111111111%\n",
      "Test: Loss 0.37264927128950753, Accuracy: 86.33333333333333%\n",
      "Epoch: 3\n",
      "Train: Loss: 0.3549028952088621, Accuracy: 86.68333333333334%\n",
      "Test: Loss 0.3309723178545634, Accuracy: 88.36666666666666%\n",
      "Epoch: 4\n",
      "Train: Loss: 0.3187986803551515, Accuracy: 88.25%\n",
      "Test: Loss 0.319769257803758, Accuracy: 88.33333333333333%\n",
      "Epoch: 5\n",
      "Train: Loss: 0.2863870662947496, Accuracy: 89.41111111111111%\n",
      "Test: Loss 0.32169255912303923, Accuracy: 88.5%\n",
      "Epoch: 6\n",
      "Train: Loss: 0.272566508832905, Accuracy: 90.00555555555556%\n",
      "Test: Loss 0.30701994548241296, Accuracy: 89.06666666666666%\n",
      "Epoch: 7\n",
      "Train: Loss: 0.24903148466514216, Accuracy: 90.99444444444444%\n",
      "Test: Loss 0.3278456414739291, Accuracy: 88.96666666666667%\n",
      "Epoch: 8\n",
      "Train: Loss: 0.23035849961969587, Accuracy: 91.61111111111111%\n",
      "Test: Loss 0.325340590874354, Accuracy: 89.46666666666667%\n",
      "Epoch: 9\n",
      "Train: Loss: 0.214730208615462, Accuracy: 92.32222222222222%\n",
      "Test: Loss 0.3452978546420733, Accuracy: 88.86666666666666%\n",
      "Epoch: 10\n",
      "Train: Loss: 0.2225052223023441, Accuracy: 91.88888888888889%\n",
      "Test: Loss 0.3533641288677851, Accuracy: 88.16666666666667%\n",
      "Epoch: 11\n",
      "Train: Loss: 0.21830704857905706, Accuracy: 91.75555555555556%\n",
      "Test: Loss 0.34889209965864815, Accuracy: 88.4%\n"
     ]
    }
   ],
   "source": [
    "epochs=11\n",
    "train_accu, eval_accu, train_losses, eval_losses = [], [], [], []\n",
    "for i in range(len(confused_classes)):\n",
    "  print(\"Extra Model #{}\".format(i))\n",
    "  for epoch in range(1,epochs+1):\n",
    "    train_loss, train_accuracy = train(extra_models[i], optimizers[i], train_subset_loaders[i], epoch)\n",
    "    test_loss, test_accuracy = test(extra_models[i], test_subset_loaders[i], epoch)  \n",
    "    print(\"Epoch: {}\\nTrain: Loss: {}, Accuracy: {}%\\nTest: Loss {}, Accuracy: {}%\".format(epoch, train_loss, train_accuracy, test_loss, test_accuracy))\n",
    "  "
   ]
  },
  {
   "cell_type": "code",
   "execution_count": 124,
   "metadata": {},
   "outputs": [
    {
     "name": "stdout",
     "output_type": "stream",
     "text": [
      "Extra Model #0\n",
      "Accuracy of T-shirt/Top: 82.90%\n",
      "Accuracy of Shirt: 93.80%\n",
      "[[829 171]\n",
      " [ 62 938]]\n",
      "Extra Model #1\n",
      "Accuracy of Pullover: 90.10%\n",
      "Accuracy of Shirt: 96.30%\n",
      "[[901  99]\n",
      " [ 37 963]]\n",
      "Extra Model #2\n",
      "Accuracy of T-shirt/Top: 92.70%\n",
      "Accuracy of Dress: 94.40%\n",
      "Accuracy of Coat: 94.20%\n",
      "Accuracy of Shirt: 74.50%\n",
      "[[927  20   3  50]\n",
      " [ 20 944  23  13]\n",
      " [  0  16 942  42]\n",
      " [140  33  82 745]]\n",
      "Extra Model #3\n",
      "Accuracy of Pullover: 92.10%\n",
      "Accuracy of Coat: 94.30%\n",
      "Accuracy of Shirt: 78.80%\n",
      "[[921  59  20]\n",
      " [ 39 943  18]\n",
      " [ 86 126 788]]\n"
     ]
    }
   ],
   "source": [
    "for i in range(len(confused_classes)):\n",
    "    print(\"Extra Model #{}\".format(i))\n",
    "\n",
    "    num_classes = len(confused_classes[i])\n",
    "\n",
    "    class_correct = [0. for _ in range(num_classes)]\n",
    "    total_correct = [0. for _ in range(num_classes)]\n",
    "\n",
    "    all_labels = torch.Tensor()\n",
    "    all_predicted = torch.Tensor()\n",
    "\n",
    "    with torch.no_grad():\n",
    "        for images, labels in test_subset_loaders[i]:\n",
    "            images, labels = images.to(device), labels.to(device)\n",
    "            outputs = extra_models[i](images)\n",
    "            _, predicted = outputs.max(1)\n",
    "            c = (predicted == labels).squeeze()\n",
    "\n",
    "            all_labels = torch.cat((all_labels, labels))\n",
    "            all_predicted = torch.cat((all_predicted, predicted))\n",
    "            \n",
    "            for j in range(100):\n",
    "                label = labels[j]\n",
    "                class_correct[label] += c[j].item()\n",
    "                total_correct[label] += 1\n",
    "            \n",
    "    for j in range(num_classes):\n",
    "        k = maps[i][1][j] # index to class map\n",
    "        print(\"Accuracy of {}: {:.2f}%\".format(output_label(k), class_correct[j] * 100 / total_correct[j]))\n",
    "    \n",
    "    print(confusion_matrix(all_labels, all_predicted))"
   ]
  },
  {
   "cell_type": "code",
   "execution_count": null,
   "metadata": {},
   "outputs": [
    {
     "data": {
      "text/plain": [
       "array([[682, 235,  83],\n",
       "       [  0, 977,  23],\n",
       "       [ 14, 149, 837]], dtype=int64)"
      ]
     },
     "execution_count": 89,
     "metadata": {},
     "output_type": "execute_result"
    }
   ],
   "source": [
    "# confusion_matrix(all_labels, all_predicted)"
   ]
  },
  {
   "cell_type": "code",
   "execution_count": 125,
   "metadata": {},
   "outputs": [],
   "source": [
    "confused_classes_to_repredict = [0, 2, 3, 4, 6] # KIV as an experiment (swap out lowest_accuracy_classes with this as the prediction swap criteria*)"
   ]
  },
  {
   "cell_type": "code",
   "execution_count": 131,
   "metadata": {},
   "outputs": [
    {
     "name": "stdout",
     "output_type": "stream",
     "text": [
      "Accuracy of T-shirt/Top: 90.32%, Change: 1.53%\n",
      "Accuracy of Trouser: 99.67%, Change: 0.00%\n",
      "Accuracy of Pullover: 92.93%, Change: 1.43%\n",
      "Accuracy of Dress: 95.88%, Change: -2.27%\n",
      "Accuracy of Coat: 95.85%, Change: -0.72%\n",
      "Accuracy of Sandal: 99.87%, Change: 0.00%\n",
      "Accuracy of Shirt: 90.10%, Change: 9.70%\n",
      "Accuracy of Sneaker: 93.62%, Change: 0.00%\n",
      "Accuracy of Bag: 98.88%, Change: 0.00%\n",
      "Accuracy of Ankle Boot: 99.58%, Change: 0.00%\n",
      "Total accuracy change: 9.68%\n"
     ]
    }
   ],
   "source": [
    "class_correct = [0. for _ in range(10)]\n",
    "total_correct = [0. for _ in range(10)]\n",
    "accuracies_new = []\n",
    "\n",
    "all_labels = torch.Tensor()\n",
    "all_predicted = torch.Tensor()\n",
    "\n",
    "with torch.no_grad():\n",
    "    for images, labels in test_loader:\n",
    "        images, labels = images.to(device), labels.to(device)\n",
    "        outputs = model(images)\n",
    "        _, predicted = outputs.max(1)\n",
    "        # if the batch of predicted results includes a prediction of a low accuracy class\n",
    "\n",
    "        for i in range(len(confused_classes_to_repredict)):\n",
    "            if confused_classes_to_repredict[i] in predicted:\n",
    "                # run the batch through the second cNN trained on low accuracy classes\n",
    "                outputs_new = extra_models[i%4](images)\n",
    "                _, predicted_new = outputs_new.max(1)\n",
    "                # swap out predictions for select* classes from the first model for predictions from the second model\n",
    "                predicted_temp = predicted\n",
    "                index = 0\n",
    "                for j in predicted:\n",
    "                    if j == confused_classes_to_repredict[i]:\n",
    "                        # swap the old prediction for the one from the second model\n",
    "                        predicted_temp[index] = maps[i%4][1][predicted_new[index].item()] # idx to class map\n",
    "                    index += 1\n",
    "                predicted = predicted_temp\n",
    "\n",
    "        c = (predicted == labels).squeeze()\n",
    "\n",
    "        all_labels = torch.cat((all_labels, labels))\n",
    "        all_predicted = torch.cat((all_predicted, predicted))\n",
    "        \n",
    "        for i in range(100):\n",
    "            label = labels[i]\n",
    "            class_correct[label] += c[i].item()\n",
    "            total_correct[label] += 1\n",
    "\n",
    "accuracies_total_change = 0\n",
    "for i in range(10):\n",
    "    accuracies_new.append(class_correct[i] * 100 / total_correct[i])\n",
    "    accuracies_total_change += (accuracies_new[i] - accuracies[i])\n",
    "    print(\"Accuracy of {}: {:.2f}%, Change: {:.2f}%\".format(output_label(i), accuracies_new[i], accuracies_new[i] - accuracies[i]))\n",
    "\n",
    "print(\"Total accuracy change: {:.2f}%\".format(accuracies_total_change))"
   ]
  },
  {
   "cell_type": "code",
   "execution_count": 130,
   "metadata": {},
   "outputs": [
    {
     "data": {
      "text/plain": [
       "array([[5419,    0,   34,   49,   15,    0,  478,    0,    5,    0],\n",
       "       [   2, 5980,    0,   13,    3,    0,    2,    0,    0,    0],\n",
       "       [  54,    1, 5576,   29,  111,    0,  228,    0,    1,    0],\n",
       "       [  51,   15,   11, 5753,  130,    0,   38,    0,    1,    1],\n",
       "       [   1,    1,  162,   31, 5751,    1,   53,    0,    0,    0],\n",
       "       [   1,    0,    0,    0,    0, 5992,    0,    1,    1,    5],\n",
       "       [ 126,    2,  116,   64,  285,    0, 5406,    0,    1,    0],\n",
       "       [   0,    0,    0,    0,    0,   72,    2, 5617,    2,  307],\n",
       "       [  14,    0,    0,    5,    9,    0,   38,    0, 5933,    1],\n",
       "       [   0,    0,    0,    0,    0,    9,    0,   15,    1, 5975]],\n",
       "      dtype=int64)"
      ]
     },
     "execution_count": 130,
     "metadata": {},
     "output_type": "execute_result"
    }
   ],
   "source": [
    "confusion_matrix(all_labels, all_predicted)"
   ]
  },
  {
   "cell_type": "code",
   "execution_count": null,
   "metadata": {},
   "outputs": [],
   "source": [
    "# https://debuggercafe.com/visualizing-filters-and-feature-maps-in-convolutional-neural-networks-using-pytorch/\n",
    "model_weights = [] # we will save the conv layer weights in this list\n",
    "conv_layers = [] # we will save the 49 conv layers in this list\n",
    "# get all the model children as list\n",
    "model_children = list(model.children())"
   ]
  },
  {
   "cell_type": "code",
   "execution_count": null,
   "metadata": {},
   "outputs": [
    {
     "name": "stdout",
     "output_type": "stream",
     "text": [
      "Total convolutional layers: 2\n"
     ]
    }
   ],
   "source": [
    "# counter to keep count of the conv layers\n",
    "counter = 0 \n",
    "# append all the conv layers and their respective weights to the list\n",
    "for i in range(len(model_children)):\n",
    "    if type(model_children[i]) == nn.Conv2d:\n",
    "        counter += 1\n",
    "        model_weights.append(model_children[i].weight)\n",
    "        conv_layers.append(model_children[i])\n",
    "    elif type(model_children[i]) == nn.Sequential:\n",
    "        for child in model_children[i].children():\n",
    "            if type(child) == nn.Conv2d:\n",
    "                counter += 1\n",
    "                model_weights.append(child.weight)\n",
    "                conv_layers.append(child)\n",
    "print(f\"Total convolutional layers: {counter}\")"
   ]
  },
  {
   "cell_type": "code",
   "execution_count": null,
   "metadata": {},
   "outputs": [
    {
     "name": "stdout",
     "output_type": "stream",
     "text": [
      "CONV: Conv2d(1, 32, kernel_size=(3, 3), stride=(1, 1), padding=(1, 1)) ====> SHAPE: torch.Size([32, 1, 3, 3])\n",
      "CONV: Conv2d(32, 64, kernel_size=(3, 3), stride=(1, 1)) ====> SHAPE: torch.Size([64, 32, 3, 3])\n"
     ]
    }
   ],
   "source": [
    "# take a look at the conv layers and the respective weights\n",
    "for weight, conv in zip(model_weights, conv_layers):\n",
    "    # print(f\"WEIGHT: {weight} \\nSHAPE: {weight.shape}\")\n",
    "    print(f\"CONV: {conv} ====> SHAPE: {weight.shape}\")"
   ]
  },
  {
   "cell_type": "code",
   "execution_count": null,
   "metadata": {},
   "outputs": [
    {
     "data": {
      "image/png": "[encoded data removed]",
      "text/plain": [
       "<Figure size 1440x1224 with 32 Axes>"
      ]
     },
     "metadata": {
      "needs_background": "light"
     },
     "output_type": "display_data"
    }
   ],
   "source": [
    "# visualize the first conv layer filters\n",
    "plt.figure(figsize=(20, 17))\n",
    "for i, filter in enumerate(model_weights[0].cpu()):\n",
    "    plt.subplot(8, 8, i+1) # (8, 8) because in conv0 we have 7x7 filters and total of 64 (see printed shapes)\n",
    "    plt.imshow(filter[0, :, :].detach(), cmap='gray')\n",
    "    plt.axis('off')\n",
    "    plt.savefig('./diagrams/filter1.png')\n",
    "plt.show()"
   ]
  },
  {
   "cell_type": "code",
   "execution_count": null,
   "metadata": {},
   "outputs": [
    {
     "data": {
      "image/png": "[encoded data removed]",
      "text/plain": [
       "<Figure size 1440x1224 with 64 Axes>"
      ]
     },
     "metadata": {
      "needs_background": "light"
     },
     "output_type": "display_data"
    }
   ],
   "source": [
    "# visualize the second conv layer filters\n",
    "plt.figure(figsize=(20, 17))\n",
    "for i, filter in enumerate(model_weights[1].cpu()):\n",
    "    plt.subplot(8, 8, i+1) # (8, 8) because in conv0 we have 7x7 filters and total of 64 (see printed shapes)\n",
    "    plt.imshow(filter[0, :, :].detach(), cmap='gray')\n",
    "    plt.axis('off')\n",
    "    plt.savefig('./diagrams/filter2.png')\n",
    "plt.show()"
   ]
  },
  {
   "cell_type": "code",
   "execution_count": null,
   "metadata": {},
   "outputs": [
    {
     "name": "stdout",
     "output_type": "stream",
     "text": [
      "Parameter containing:\n",
      "tensor([[[[ 0.1877,  0.2271,  0.0509],\n",
      "          [-0.2407, -0.1817, -0.3333],\n",
      "          [-0.1715,  0.0694,  0.3579]]],\n",
      "\n",
      "\n",
      "        [[[ 0.1786,  0.0976,  0.3637],\n",
      "          [ 0.2821, -0.1378,  0.2970],\n",
      "          [-0.2778, -0.3076, -0.2762]]],\n",
      "\n",
      "\n",
      "        [[[-0.1159, -0.1281, -0.0747],\n",
      "          [-0.2141,  0.2387, -0.1799],\n",
      "          [-0.1123,  0.2127, -0.1008]]],\n",
      "\n",
      "\n",
      "        [[[ 0.1561,  0.0928,  0.1935],\n",
      "          [ 0.0917, -0.2388, -0.0207],\n",
      "          [-0.2964, -0.3568, -0.2021]]],\n",
      "\n",
      "\n",
      "        [[[ 0.0814,  0.3490,  0.1235],\n",
      "          [-0.3538, -0.2644,  0.0621],\n",
      "          [ 0.2923, -0.0691, -0.2432]]],\n",
      "\n",
      "\n",
      "        [[[ 0.2668, -0.1872,  0.0945],\n",
      "          [ 0.2225, -0.3087,  0.1344],\n",
      "          [ 0.0722, -0.0809, -0.1596]]],\n",
      "\n",
      "\n",
      "        [[[-0.1445,  0.1003,  0.0508],\n",
      "          [-0.1493, -0.0259,  0.1916],\n",
      "          [-0.3301,  0.2980,  0.0033]]],\n",
      "\n",
      "\n",
      "        [[[ 0.0016, -0.0426,  0.1163],\n",
      "          [ 0.0211,  0.3809,  0.4026],\n",
      "          [ 0.1615, -0.1823,  0.2231]]],\n",
      "\n",
      "\n",
      "        [[[ 0.0088,  0.0693, -0.0472],\n",
      "          [ 0.1057,  0.0538, -0.1503],\n",
      "          [-0.1738,  0.3807, -0.2014]]],\n",
      "\n",
      "\n",
      "        [[[ 0.2608,  0.2063,  0.0197],\n",
      "          [-0.1743,  0.2134,  0.3030],\n",
      "          [-0.3613, -0.2277, -0.0999]]],\n",
      "\n",
      "\n",
      "        [[[ 0.2308, -0.2666,  0.0374],\n",
      "          [-0.0719, -0.2768,  0.3120],\n",
      "          [-0.0067,  0.0345, -0.1237]]],\n",
      "\n",
      "\n",
      "        [[[ 0.2269, -0.2907,  0.2434],\n",
      "          [-0.0457,  0.1269, -0.0245],\n",
      "          [ 0.1535, -0.3771,  0.2459]]],\n",
      "\n",
      "\n",
      "        [[[-0.2029, -0.0726, -0.3136],\n",
      "          [ 0.2114,  0.0836, -0.2367],\n",
      "          [ 0.1278,  0.1735, -0.1328]]],\n",
      "\n",
      "\n",
      "        [[[ 0.0373,  0.3326, -0.3563],\n",
      "          [-0.0078, -0.2167,  0.0724],\n",
      "          [-0.2435, -0.0694,  0.2725]]],\n",
      "\n",
      "\n",
      "        [[[-0.1769, -0.0585,  0.2294],\n",
      "          [-0.0659,  0.0826,  0.0486],\n",
      "          [ 0.1190,  0.1573, -0.3336]]],\n",
      "\n",
      "\n",
      "        [[[-0.0147, -0.0476, -0.2110],\n",
      "          [ 0.0445,  0.3381,  0.0264],\n",
      "          [-0.2696,  0.1422, -0.0096]]],\n",
      "\n",
      "\n",
      "        [[[ 0.2483,  0.2388, -0.3420],\n",
      "          [-0.2877,  0.0485,  0.3001],\n",
      "          [-0.0630,  0.1650, -0.2881]]],\n",
      "\n",
      "\n",
      "        [[[ 0.0522, -0.2625, -0.1298],\n",
      "          [ 0.3103,  0.1266, -0.0151],\n",
      "          [-0.2794, -0.0254,  0.2219]]],\n",
      "\n",
      "\n",
      "        [[[-0.2830,  0.1140,  0.2589],\n",
      "          [ 0.4241, -0.1362, -0.1794],\n",
      "          [-0.2725,  0.2746, -0.0545]]],\n",
      "\n",
      "\n",
      "        [[[-0.0226, -0.2182, -0.1002],\n",
      "          [-0.1427, -0.2538, -0.1876],\n",
      "          [ 0.2765,  0.1786,  0.0063]]],\n",
      "\n",
      "\n",
      "        [[[ 0.0210, -0.0336, -0.1818],\n",
      "          [ 0.1161,  0.2550,  0.2113],\n",
      "          [-0.0344, -0.1109, -0.2990]]],\n",
      "\n",
      "\n",
      "        [[[-0.0017, -0.0305, -0.0725],\n",
      "          [-0.0526, -0.4008, -0.3883],\n",
      "          [-0.0240, -0.2115, -0.0744]]],\n",
      "\n",
      "\n",
      "        [[[ 0.3029,  0.2492, -0.3559],\n",
      "          [-0.3270, -0.2192, -0.0380],\n",
      "          [ 0.2894, -0.0574, -0.1504]]],\n",
      "\n",
      "\n",
      "        [[[-0.0582, -0.1451, -0.1512],\n",
      "          [-0.0557,  0.2163,  0.1061],\n",
      "          [ 0.1401, -0.0861,  0.0632]]],\n",
      "\n",
      "\n",
      "        [[[ 0.0229,  0.1156,  0.3288],\n",
      "          [-0.1731,  0.0154,  0.0134],\n",
      "          [ 0.0439, -0.2555,  0.3362]]],\n",
      "\n",
      "\n",
      "        [[[-0.0228, -0.1358,  0.0800],\n",
      "          [-0.1476,  0.0654,  0.2342],\n",
      "          [-0.3297,  0.2140,  0.0880]]],\n",
      "\n",
      "\n",
      "        [[[ 0.0071, -0.1300,  0.0855],\n",
      "          [ 0.2702, -0.0272, -0.0417],\n",
      "          [ 0.2903, -0.1639, -0.2564]]],\n",
      "\n",
      "\n",
      "        [[[ 0.2627,  0.1758, -0.3209],\n",
      "          [ 0.2755, -0.0952, -0.3581],\n",
      "          [-0.0715, -0.1489,  0.3079]]],\n",
      "\n",
      "\n",
      "        [[[-0.2767,  0.1632, -0.2449],\n",
      "          [ 0.2754,  0.2185, -0.3400],\n",
      "          [ 0.1206,  0.0759,  0.0657]]],\n",
      "\n",
      "\n",
      "        [[[-0.2289,  0.1917,  0.0945],\n",
      "          [-0.2987,  0.4388,  0.0331],\n",
      "          [-0.0119,  0.2317,  0.0531]]],\n",
      "\n",
      "\n",
      "        [[[ 0.0027,  0.0074, -0.1556],\n",
      "          [ 0.2190, -0.4771, -0.5341],\n",
      "          [-0.1091,  0.0954, -0.1449]]],\n",
      "\n",
      "\n",
      "        [[[-0.2504, -0.0930,  0.1554],\n",
      "          [ 0.1999, -0.2181, -0.0606],\n",
      "          [ 0.2125,  0.2058,  0.0851]]]], requires_grad=True)\n"
     ]
    }
   ],
   "source": [
    "print(model_weights[0].cpu())"
   ]
  },
  {
   "cell_type": "code",
   "execution_count": null,
   "metadata": {},
   "outputs": [],
   "source": [
    "plt.imsave('./diagrams/pullover.png', image.squeeze(), cmap=\"gray\")"
   ]
  },
  {
   "cell_type": "code",
   "execution_count": null,
   "metadata": {},
   "outputs": [
    {
     "ename": "ModuleNotFoundError",
     "evalue": "No module named 'cv2'",
     "output_type": "error",
     "traceback": [
      "\u001b[1;31m---------------------------------------------------------------------------\u001b[0m",
      "\u001b[1;31mModuleNotFoundError\u001b[0m                       Traceback (most recent call last)",
      "\u001b[1;32m<ipython-input-100-c79eaaf547ff>\u001b[0m in \u001b[0;36m<module>\u001b[1;34m\u001b[0m\n\u001b[1;32m----> 1\u001b[1;33m \u001b[1;32mimport\u001b[0m \u001b[0mcv2\u001b[0m \u001b[1;32mas\u001b[0m \u001b[0mcv\u001b[0m\u001b[1;33m\u001b[0m\u001b[1;33m\u001b[0m\u001b[0m\n\u001b[0m\u001b[0;32m      2\u001b[0m \u001b[1;33m\u001b[0m\u001b[0m\n\u001b[0;32m      3\u001b[0m \u001b[1;31m# read and visualize an image\u001b[0m\u001b[1;33m\u001b[0m\u001b[1;33m\u001b[0m\u001b[1;33m\u001b[0m\u001b[0m\n\u001b[0;32m      4\u001b[0m \u001b[0mimg\u001b[0m \u001b[1;33m=\u001b[0m \u001b[0mcv\u001b[0m\u001b[1;33m.\u001b[0m\u001b[0mimread\u001b[0m\u001b[1;33m(\u001b[0m\u001b[1;34mf\"./diagrams/pullover.png\"\u001b[0m\u001b[1;33m)\u001b[0m\u001b[1;33m\u001b[0m\u001b[1;33m\u001b[0m\u001b[0m\n\u001b[0;32m      5\u001b[0m \u001b[1;31m# img = cv.cvtColor(img, cv.COLOR_BGR2RGB)\u001b[0m\u001b[1;33m\u001b[0m\u001b[1;33m\u001b[0m\u001b[1;33m\u001b[0m\u001b[0m\n",
      "\u001b[1;31mModuleNotFoundError\u001b[0m: No module named 'cv2'"
     ]
    }
   ],
   "source": [
    "import cv2 as cv\n",
    "\n",
    "# read and visualize an image\n",
    "img = cv.imread(f\"./diagrams/pullover.png\")\n",
    "# img = cv.cvtColor(img, cv.COLOR_BGR2RGB)\n",
    "plt.imshow(img)\n",
    "plt.show()\n",
    "\n",
    "# define the transforms\n",
    "transform = transforms.Compose([\n",
    "    transforms.ToPILImage(),\n",
    "    transforms.Resize((28, 28)),\n",
    "    transforms.Grayscale(num_output_channels=1),\n",
    "    transforms.ToTensor(),\n",
    "])\n",
    "\n",
    "img = np.array(img)\n",
    "# apply the transforms\n",
    "img = transform(img)\n",
    "print(img.size())\n",
    "# unsqueeze to add a batch dimension\n",
    "img = img.unsqueeze(0)\n",
    "print(img.size())"
   ]
  },
  {
   "cell_type": "code",
   "execution_count": null,
   "metadata": {},
   "outputs": [
    {
     "ename": "NameError",
     "evalue": "name 'img' is not defined",
     "output_type": "error",
     "traceback": [
      "\u001b[1;31m---------------------------------------------------------------------------\u001b[0m",
      "\u001b[1;31mNameError\u001b[0m                                 Traceback (most recent call last)",
      "\u001b[1;32m<ipython-input-87-b737c019f94f>\u001b[0m in \u001b[0;36m<module>\u001b[1;34m\u001b[0m\n\u001b[0;32m      1\u001b[0m \u001b[1;31m# pass the image through all the layers\u001b[0m\u001b[1;33m\u001b[0m\u001b[1;33m\u001b[0m\u001b[1;33m\u001b[0m\u001b[0m\n\u001b[1;32m----> 2\u001b[1;33m \u001b[0mimg\u001b[0m \u001b[1;33m=\u001b[0m \u001b[0mimg\u001b[0m\u001b[1;33m.\u001b[0m\u001b[0mto\u001b[0m\u001b[1;33m(\u001b[0m\u001b[0mdevice\u001b[0m\u001b[1;33m)\u001b[0m\u001b[1;33m\u001b[0m\u001b[1;33m\u001b[0m\u001b[0m\n\u001b[0m\u001b[0;32m      3\u001b[0m \u001b[0mresults\u001b[0m \u001b[1;33m=\u001b[0m \u001b[1;33m[\u001b[0m\u001b[0mconv_layers\u001b[0m\u001b[1;33m[\u001b[0m\u001b[1;36m0\u001b[0m\u001b[1;33m]\u001b[0m\u001b[1;33m(\u001b[0m\u001b[0mimg\u001b[0m\u001b[1;33m)\u001b[0m\u001b[1;33m]\u001b[0m\u001b[1;33m\u001b[0m\u001b[1;33m\u001b[0m\u001b[0m\n\u001b[0;32m      4\u001b[0m \u001b[1;32mfor\u001b[0m \u001b[0mi\u001b[0m \u001b[1;32min\u001b[0m \u001b[0mrange\u001b[0m\u001b[1;33m(\u001b[0m\u001b[1;36m1\u001b[0m\u001b[1;33m,\u001b[0m \u001b[0mlen\u001b[0m\u001b[1;33m(\u001b[0m\u001b[0mconv_layers\u001b[0m\u001b[1;33m)\u001b[0m\u001b[1;33m)\u001b[0m\u001b[1;33m:\u001b[0m\u001b[1;33m\u001b[0m\u001b[1;33m\u001b[0m\u001b[0m\n\u001b[0;32m      5\u001b[0m     \u001b[1;31m# pass the result from the last layer to the next layer\u001b[0m\u001b[1;33m\u001b[0m\u001b[1;33m\u001b[0m\u001b[1;33m\u001b[0m\u001b[0m\n",
      "\u001b[1;31mNameError\u001b[0m: name 'img' is not defined"
     ]
    }
   ],
   "source": [
    "# pass the image through all the layers\n",
    "img = img.to(device)\n",
    "results = [conv_layers[0](img)]\n",
    "for i in range(1, len(conv_layers)):\n",
    "    # pass the result from the last layer to the next layer\n",
    "    results.append(conv_layers[i](results[-1]))\n",
    "# make a copy of the `results`\n",
    "outputs = results"
   ]
  },
  {
   "cell_type": "code",
   "execution_count": null,
   "metadata": {},
   "outputs": [
    {
     "name": "stdout",
     "output_type": "stream",
     "text": [
      "torch.Size([32, 28, 28])\n",
      "Saving layer 0 feature maps...\n",
      "torch.Size([64, 26, 26])\n",
      "Saving layer 1 feature maps...\n"
     ]
    }
   ],
   "source": [
    "# visualize 64 features from each layer \n",
    "# (although there are more feature maps in the upper layers)\n",
    "for num_layer in range(len(outputs)):\n",
    "    plt.figure(figsize=(30, 30))\n",
    "    layer_viz = outputs[num_layer][0, :, :, :]\n",
    "    layer_viz = layer_viz.data\n",
    "    print(layer_viz.size())\n",
    "    for i, filter in enumerate(layer_viz):\n",
    "        if i == 64: # we will visualize only 8x8 blocks from each layer\n",
    "            break\n",
    "        plt.subplot(8, 8, i + 1)\n",
    "        plt.imshow(filter.cpu(), cmap='gray')\n",
    "        plt.axis(\"off\")\n",
    "    print(f\"Saving layer {num_layer} feature maps...\")\n",
    "    plt.savefig(f\"./diagrams/layer_{num_layer}.png\")\n",
    "    # plt.show()\n",
    "    plt.close()"
   ]
  }
 ],
 "metadata": {
  "interpreter": {
   "hash": "ed225720166559e7176d3793db16a2fd8d295f725007103b21ac3099d2a89ee8"
  },
  "kernelspec": {
   "display_name": "Python 3.8.8 64-bit ('base': conda)",
   "name": "python3"
  },
  "language_info": {
   "codemirror_mode": {
    "name": "ipython",
    "version": 3
   },
   "file_extension": ".py",
   "mimetype": "text/x-python",
   "name": "python",
   "nbconvert_exporter": "python",
   "pygments_lexer": "ipython3",
   "version": "3.8.8"
  },
  "orig_nbformat": 4
 },
 "nbformat": 4,
 "nbformat_minor": 2
}
