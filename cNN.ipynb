{
 "cells": [
  {
   "cell_type": "code",
   "execution_count": 132,
   "metadata": {},
   "outputs": [],
   "source": [
    "import numpy as np\n",
    "import pandas as pd\n",
    "import matplotlib.pyplot as plt\n",
    "\n",
    "import torch\n",
    "import torch.nn as nn\n",
    "from torch.autograd import Variable\n",
    "\n",
    "import torchvision\n",
    "import torchvision.transforms as transforms\n",
    "from torch.utils.data import Dataset, DataLoader\n",
    "from sklearn.metrics import confusion_matrix"
   ]
  },
  {
   "cell_type": "markdown",
   "metadata": {},
   "source": [
    "I had some difficulties uninstalling pytorch without cuda to replace it so I just created another virtual env and ran it in that. (I think this only needs to be done when you try to run it local)\n",
    "\n",
    "After activating the venv you can install the pytorch with cuda with the following command.\n",
    "\n",
    "`pip3 install torch==1.9.1+cu111 torchvision==0.10.1+cu111 torchaudio==0.9.1 -f https://download.pytorch.org/whl/torch_stable.html`\n"
   ]
  },
  {
   "cell_type": "code",
   "execution_count": 133,
   "metadata": {},
   "outputs": [
    {
     "name": "stdout",
     "output_type": "stream",
     "text": [
      "cpu\n"
     ]
    }
   ],
   "source": [
    "device = torch.device(\"cuda:0\" if torch.cuda.is_available() else \"cpu\")\n",
    "print(device)"
   ]
  },
  {
   "cell_type": "code",
   "execution_count": 35,
   "metadata": {},
   "outputs": [],
   "source": [
    "# torch.zeros(1).cuda()"
   ]
  },
  {
   "cell_type": "code",
   "execution_count": 134,
   "metadata": {},
   "outputs": [],
   "source": [
    "#I had a \n",
    "train_csv = pd.read_csv(\"./fashion-mnist_train.csv\")\n",
    "test_csv = pd.read_csv(\"./fashion-mnist_test.csv\")"
   ]
  },
  {
   "cell_type": "code",
   "execution_count": 135,
   "metadata": {},
   "outputs": [],
   "source": [
    "class FashionDataset(Dataset):\n",
    "    \"\"\"User defined class to build a datset using Pytorch class Dataset.\"\"\"\n",
    "    \n",
    "    def __init__(self, data, transform = None):\n",
    "        \"\"\"Method to initilaize variables.\"\"\" \n",
    "        self.fashion_MNIST = list(data.values)\n",
    "        self.transform = transform\n",
    "        \n",
    "        label = []\n",
    "        image = []\n",
    "        \n",
    "        for i in self.fashion_MNIST:\n",
    "             # first column is of labels.\n",
    "            label.append(i[0])\n",
    "            image.append(i[1:])\n",
    "        self.labels = np.asarray(label)\n",
    "        # Dimension of Images = 28 * 28 * 1. where height = width = 28 and color_channels = 1.\n",
    "        self.images = np.asarray(image).reshape(-1, 28, 28, 1).astype('float32')\n",
    "\n",
    "    def __getitem__(self, index):\n",
    "        label = self.labels[index]\n",
    "        image = self.images[index]\n",
    "        \n",
    "        if self.transform is not None:\n",
    "            image = self.transform(image)\n",
    "\n",
    "        return image, label\n",
    "\n",
    "    def __len__(self):\n",
    "        return len(self.images)"
   ]
  },
  {
   "cell_type": "code",
   "execution_count": 136,
   "metadata": {},
   "outputs": [],
   "source": [
    "# Transform data into Tensor that has a range from 0 to 1\n",
    "train_set = FashionDataset(train_csv, transform=transforms.Compose([transforms.ToTensor()]))\n",
    "test_set = FashionDataset(test_csv, transform=transforms.Compose([transforms.ToTensor()]))\n",
    "\n",
    "train_loader = DataLoader(train_set, batch_size=100)\n",
    "test_loader = DataLoader(train_set, batch_size=100)"
   ]
  },
  {
   "cell_type": "markdown",
   "metadata": {},
   "source": [
    "All the above has been done to load data in batches into the model. We use the DataLoader class from torch.utils.data. We also initialize the device to be used as the GPU instead of CPU.\n",
    "\n",
    "The FashionDataset class has two methods: \n",
    "- get_item(index) -> image and label of item at index\n",
    "- len() -> number of items in the dataset"
   ]
  },
  {
   "cell_type": "code",
   "execution_count": 137,
   "metadata": {},
   "outputs": [],
   "source": [
    "# Mapping label number to a more meaningful label\n",
    "\n",
    "def output_label(label):\n",
    "    output_mapping = {\n",
    "        0: \"T-shirt/Top\",\n",
    "        1: \"Trouser\",\n",
    "        2: \"Pullover\",\n",
    "        3: \"Dress\",\n",
    "        4: \"Coat\", \n",
    "        5: \"Sandal\", \n",
    "        6: \"Shirt\",\n",
    "        7: \"Sneaker\",\n",
    "        8: \"Bag\",\n",
    "        9: \"Ankle Boot\"\n",
    "    }\n",
    "    input = (label.item() if type(label) == torch.Tensor else label)\n",
    "    return output_mapping[input]"
   ]
  },
  {
   "cell_type": "code",
   "execution_count": 138,
   "metadata": {},
   "outputs": [
    {
     "name": "stdout",
     "output_type": "stream",
     "text": [
      "2\n"
     ]
    },
    {
     "data": {
      "image/png": "[encoded data removed]",
      "text/plain": [
       "<Figure size 432x288 with 1 Axes>"
      ]
     },
     "metadata": {
      "needs_background": "light"
     },
     "output_type": "display_data"
    }
   ],
   "source": [
    "# displaying image using matplotlib imshow()\n",
    "image, label = next(iter(train_set))\n",
    "plt.imshow(image.squeeze(), cmap=\"gray\")\n",
    "print(label)"
   ]
  },
  {
   "cell_type": "code",
   "execution_count": 42,
   "metadata": {},
   "outputs": [],
   "source": [
    "# plt.figure(figsize=(10,10))\n",
    "# for i in range(25):\n",
    "#     plt.subplot(5,5,i+1)\n",
    "#     plt.xticks([])\n",
    "#     plt.yticks([])\n",
    "#     plt.grid(False)\n",
    "#     plt.imshow(train_images[i], cmap=plt.cm.binary)\n",
    "#     plt.xlabel(class_names[train_labels[i]])\n",
    "# plt.show()\n"
   ]
  },
  {
   "cell_type": "code",
   "execution_count": 139,
   "metadata": {},
   "outputs": [
    {
     "name": "stdout",
     "output_type": "stream",
     "text": [
      "<class 'torch.Tensor'> <class 'torch.Tensor'>\n",
      "torch.Size([10, 1, 28, 28]) torch.Size([10])\n"
     ]
    }
   ],
   "source": [
    "demo_loader = torch.utils.data.DataLoader(train_set, batch_size=10)\n",
    "\n",
    "batch = next(iter(demo_loader))\n",
    "images, labels = batch\n",
    "print(type(images), type(labels))\n",
    "print(images.shape, labels.shape)"
   ]
  },
  {
   "cell_type": "code",
   "execution_count": 140,
   "metadata": {},
   "outputs": [
    {
     "name": "stderr",
     "output_type": "stream",
     "text": [
      "Clipping input data to the valid range for imshow with RGB data ([0..1] for floats or [0..255] for integers).\n"
     ]
    },
    {
     "name": "stdout",
     "output_type": "stream",
     "text": [
      "labels:  Pullover, Ankle Boot, Shirt, T-shirt/Top, Dress, Coat, Coat, Sandal, Coat, Bag, "
     ]
    },
    {
     "data": {
      "image/png": "[encoded data removed]",
      "text/plain": [
       "<Figure size 1080x1440 with 1 Axes>"
      ]
     },
     "metadata": {
      "needs_background": "light"
     },
     "output_type": "display_data"
    }
   ],
   "source": [
    "grid = torchvision.utils.make_grid(images, nrow=10)\n",
    "\n",
    "plt.figure(figsize=(15, 20))\n",
    "plt.imshow(np.transpose(grid, (1, 2, 0)))\n",
    "print(\"labels: \", end=\" \")\n",
    "for i, label in enumerate(labels):\n",
    "    print(output_label(label), end=\", \")"
   ]
  },
  {
   "cell_type": "markdown",
   "metadata": {},
   "source": [
    "1. Make a model class (inherits nn.Module class)\n",
    "2. Add Layers to model class\n",
    "\n",
    "    a. Convolution layer with kernel size 3*3, padding = 1 (no padding) in 1st layer and padding = 0 in second layer. Stride of 1 in both layers.\n",
    "\n",
    "    b. Batch normalization layer\n",
    "\n",
    "    c. Activation function used: ReLU\n",
    "\n",
    "    d. Max Pooling layer with kernel size of 2 * 2 and stride 2.\n",
    "\n",
    "        i. flatten out output for dense layer\n",
    "\n",
    "        ii. 3 fully connected layers with different in/out features\n",
    "\n",
    "        iii. 1 dropout layer with p=0.25\n",
    "\n",
    "Summary is as follows:\n",
    "\n",
    "First conv layer -> Max Pooling layer -> Second conv layer -> second max pooling layer\n",
    "\n",
    "28 * 28 * 3      --> 28 * 28 * 32      --> 14 * 14 * 32      --> 12 * 12 * 64              --> 6 * 6 * 64\n",
    "\n",
    "Final fully connected layer has 10 output features for 10 types of clothes."
   ]
  },
  {
   "cell_type": "code",
   "execution_count": 141,
   "metadata": {},
   "outputs": [],
   "source": [
    "class FashionCNN(nn.Module):\n",
    "    def __init__(self):\n",
    "        super(FashionCNN, self).__init__()\n",
    "        \n",
    "        self.layer1 = nn.Sequential(\n",
    "            nn.Conv2d(in_channels=1, out_channels=32, kernel_size=3, padding=1),\n",
    "            nn.BatchNorm2d(32),\n",
    "            nn.ReLU(),\n",
    "            nn.MaxPool2d(kernel_size=2, stride=2)\n",
    "        )\n",
    "        \n",
    "        self.layer2 = nn.Sequential(\n",
    "            nn.Conv2d(in_channels=32, out_channels=64, kernel_size=3),\n",
    "            nn.BatchNorm2d(64),\n",
    "            nn.ReLU(),\n",
    "            nn.MaxPool2d(2)\n",
    "        )\n",
    "        \n",
    "        self.fc1 = nn.Linear(in_features=64*6*6, out_features=600)\n",
    "        self.drop = nn.Dropout2d(0.25)\n",
    "        self.fc2 = nn.Linear(in_features=600, out_features=120)\n",
    "        self.fc3 = nn.Linear(in_features=120, out_features=10)\n",
    "        \n",
    "    def forward(self, x):\n",
    "        out = self.layer1(x)\n",
    "        out = self.layer2(out)\n",
    "        out = out.view(out.size(0), -1)\n",
    "        out = self.fc1(out)\n",
    "        out = self.drop(out)\n",
    "        out = self.fc2(out)\n",
    "        out = self.fc3(out)\n",
    "        \n",
    "        return out"
   ]
  },
  {
   "cell_type": "code",
   "execution_count": 142,
   "metadata": {},
   "outputs": [
    {
     "name": "stdout",
     "output_type": "stream",
     "text": [
      "FashionCNN(\n",
      "  (layer1): Sequential(\n",
      "    (0): Conv2d(1, 32, kernel_size=(3, 3), stride=(1, 1), padding=(1, 1))\n",
      "    (1): BatchNorm2d(32, eps=1e-05, momentum=0.1, affine=True, track_running_stats=True)\n",
      "    (2): ReLU()\n",
      "    (3): MaxPool2d(kernel_size=2, stride=2, padding=0, dilation=1, ceil_mode=False)\n",
      "  )\n",
      "  (layer2): Sequential(\n",
      "    (0): Conv2d(32, 64, kernel_size=(3, 3), stride=(1, 1))\n",
      "    (1): BatchNorm2d(64, eps=1e-05, momentum=0.1, affine=True, track_running_stats=True)\n",
      "    (2): ReLU()\n",
      "    (3): MaxPool2d(kernel_size=2, stride=2, padding=0, dilation=1, ceil_mode=False)\n",
      "  )\n",
      "  (fc1): Linear(in_features=2304, out_features=600, bias=True)\n",
      "  (drop): Dropout2d(p=0.25, inplace=False)\n",
      "  (fc2): Linear(in_features=600, out_features=120, bias=True)\n",
      "  (fc3): Linear(in_features=120, out_features=10, bias=True)\n",
      ")\n"
     ]
    }
   ],
   "source": [
    "model = FashionCNN()\n",
    "model.to(device)\n",
    "\n",
    "error = nn.CrossEntropyLoss()\n",
    "\n",
    "learning_rate = 0.001\n",
    "optimizer = torch.optim.Adam(model.parameters(), lr=learning_rate)\n",
    "print(model)"
   ]
  },
  {
   "cell_type": "code",
   "execution_count": 47,
   "metadata": {},
   "outputs": [],
   "source": [
    "# # Training and Testing (OLD)\n",
    "# num_epochs = 10 # num of epochs can also be increased > 100\n",
    "# count = 0\n",
    "# # Lists for visualization of loss and accuracy \n",
    "# loss_list = []\n",
    "# iteration_list = []\n",
    "# accuracy_list = []\n",
    "\n",
    "# # Lists for knowing classwise accuracy\n",
    "# predictions_list = []\n",
    "# labels_list = []\n",
    "\n",
    "# for epoch in range(num_epochs):\n",
    "#     for images, labels in train_loader:\n",
    "#         # Transfering images and labels to GPU if available\n",
    "#         images, labels = images.to(device), labels.to(device)\n",
    "    \n",
    "#         train = Variable(images.view(100, 1, 28, 28)) # Apparently Variable is outdated so maybe we should change it\n",
    "#         labels = Variable(labels)\n",
    "        \n",
    "#         # Forward pass \n",
    "#         outputs = model(train)\n",
    "#         loss = error(outputs, labels)\n",
    "        \n",
    "#         # Initializing a gradient as 0 so there is no mixing of gradient among the batches\n",
    "#         optimizer.zero_grad()\n",
    "        \n",
    "#         #Propagating the error backward\n",
    "#         loss.backward()\n",
    "        \n",
    "#         # Optimizing the parameters\n",
    "#         optimizer.step()\n",
    "    \n",
    "#         count += 1\n",
    "    \n",
    "#     # Testing the model\n",
    "    \n",
    "#         if not (count % 50):    # It's same as \"if count % 50 == 0\"\n",
    "#             total = 0\n",
    "#             correct = 0\n",
    "        \n",
    "#             for images, labels in test_loader:\n",
    "#                 images, labels = images.to(device), labels.to(device)\n",
    "#                 labels_list.append(labels)\n",
    "            \n",
    "#                 test = Variable(images.view(100, 1, 28, 28))\n",
    "            \n",
    "#                 outputs = model(test)\n",
    "            \n",
    "#                 predictions = torch.max(outputs, 1)[1].to(device)\n",
    "#                 predictions_list.append(predictions)\n",
    "#                 correct += (predictions == labels).sum()\n",
    "            \n",
    "#                 total += len(labels)\n",
    "            \n",
    "#             accuracy = correct * 100 / total\n",
    "#             loss_list.append(loss.data)\n",
    "#             iteration_list.append(count)\n",
    "#             accuracy_list.append(accuracy)\n",
    "        \n",
    "#         if not (count % 500):\n",
    "#             print(\"Iteration: {}, Loss: {}, Accuracy: {}%\".format(count, loss.data, accuracy))"
   ]
  },
  {
   "cell_type": "markdown",
   "metadata": {},
   "source": [
    "Visualizing the results"
   ]
  },
  {
   "cell_type": "code",
   "execution_count": 143,
   "metadata": {},
   "outputs": [],
   "source": [
    "train_accu = []\n",
    "train_losses = []\n",
    "\n",
    "def train(model, error, optimizer, loader, epoch):\n",
    "  model.train()\n",
    "\n",
    "  running_loss=0\n",
    "  correct=0\n",
    "  total=0\n",
    "  \n",
    "  for images, labels in loader:\n",
    "    # Transfering images and labels to GPU if available\n",
    "    images, labels = images.to(device), labels.to(device)\n",
    "    \n",
    "    # Forward pass \n",
    "    outputs = model(images)\n",
    "    loss = error(outputs, labels)\n",
    "    \n",
    "    # Initializing a gradient as 0 so there is no mixing of gradient among the batches\n",
    "    optimizer.zero_grad()\n",
    "    \n",
    "    #Propagating the error backward\n",
    "    loss.backward()\n",
    "    \n",
    "    # Optimizing the parameters\n",
    "    optimizer.step()\n",
    "\n",
    "    running_loss += loss.item()\n",
    "    \n",
    "    _, predicted = outputs.max(1)\n",
    "    total += labels.size(0)\n",
    "    correct += predicted.eq(labels).sum().item()\n",
    "      \n",
    "  train_loss=running_loss/len(loader)\n",
    "  accu=100.*correct/total\n",
    "  \n",
    "  train_accu.append(accu)\n",
    "  train_losses.append(train_loss)\n",
    "  return train_loss, accu"
   ]
  },
  {
   "cell_type": "code",
   "execution_count": 144,
   "metadata": {},
   "outputs": [],
   "source": [
    "eval_losses=[]\n",
    "eval_accu=[]\n",
    " \n",
    "def test(model, error, loader, epoch):\n",
    "  model.eval()\n",
    " \n",
    "  running_loss=0\n",
    "  correct=0\n",
    "  total=0\n",
    " \n",
    "  with torch.no_grad():\n",
    "    for images, labels in loader:\n",
    "      images, labels = images.to(device), labels.to(device)\n",
    "\n",
    "      outputs = model(images)\n",
    "      loss = error(outputs, labels)\n",
    "\n",
    "      running_loss += loss.item()\n",
    "\n",
    "      _, predictions = outputs.max(1)\n",
    "      total += labels.size(0)\n",
    "      correct += predictions.eq(labels).sum().item()\n",
    "   \n",
    "  test_loss=running_loss/len(loader)\n",
    "  accu=100.*correct/total\n",
    " \n",
    "  eval_losses.append(test_loss)\n",
    "  eval_accu.append(accu)\n",
    " \n",
    "  return test_loss, accu"
   ]
  },
  {
   "cell_type": "code",
   "execution_count": 145,
   "metadata": {},
   "outputs": [
    {
     "name": "stdout",
     "output_type": "stream",
     "text": [
      "Epoch: 1\n",
      "Train: Loss: 0.4436210860560338, Accuracy: 84.17166666666667%\n",
      "Test: Loss 0.391604061126709, Accuracy: 84.8%\n",
      "Epoch: 2\n",
      "Train: Loss: 0.30136471038063367, Accuracy: 89.17833333333333%\n",
      "Test: Loss 0.2904663306226333, Accuracy: 89.21666666666667%\n",
      "Epoch: 3\n",
      "Train: Loss: 0.26341772517810264, Accuracy: 90.67%\n",
      "Test: Loss 0.23522375393658876, Accuracy: 91.38166666666666%\n",
      "Epoch: 4\n",
      "Train: Loss: 0.2387717725460728, Accuracy: 91.52666666666667%\n",
      "Test: Loss 0.1971765160995225, Accuracy: 93.01666666666667%\n",
      "Epoch: 5\n",
      "Train: Loss: 0.22006316730131706, Accuracy: 92.10333333333334%\n",
      "Test: Loss 0.18304740494117142, Accuracy: 93.46833333333333%\n",
      "Epoch: 6\n",
      "Train: Loss: 0.20518008564909299, Accuracy: 92.63833333333334%\n",
      "Test: Loss 0.17327251942207417, Accuracy: 93.82833333333333%\n",
      "Epoch: 7\n",
      "Train: Loss: 0.19110197351003685, Accuracy: 93.15166666666667%\n",
      "Test: Loss 0.16453583862632512, Accuracy: 94.165%\n",
      "Epoch: 8\n",
      "Train: Loss: 0.17873178826024136, Accuracy: 93.61833333333334%\n",
      "Test: Loss 0.1558293948074182, Accuracy: 94.44333333333333%\n",
      "Epoch: 9\n",
      "Train: Loss: 0.166905799874415, Accuracy: 94.03166666666667%\n",
      "Test: Loss 0.16500889219964543, Accuracy: 93.95833333333333%\n",
      "Epoch: 10\n",
      "Train: Loss: 0.15643626963098844, Accuracy: 94.425%\n",
      "Test: Loss 0.17062119374983012, Accuracy: 93.85166666666667%\n",
      "Epoch: 11\n",
      "Train: Loss: 0.14818253187462688, Accuracy: 94.72%\n",
      "Test: Loss 0.15771385624383888, Accuracy: 94.16166666666666%\n"
     ]
    }
   ],
   "source": [
    "epochs=11\n",
    "train_accu, eval_accu, train_losses, eval_losses = [], [], [], []\n",
    "for epoch in range(1,epochs+1): \n",
    "  train_loss, train_accuracy = train(model, error, optimizer, train_loader, epoch)\n",
    "  test_loss, test_accuracy = test(model, error, test_loader, epoch)\n",
    "  print(\"Epoch: {}\\nTrain: Loss: {}, Accuracy: {}%\\nTest: Loss {}, Accuracy: {}%\".format(epoch, train_loss, train_accuracy, test_loss, test_accuracy))\n",
    "  "
   ]
  },
  {
   "cell_type": "code",
   "execution_count": 147,
   "metadata": {},
   "outputs": [],
   "source": [
    "import os\n",
    "\n",
    "if not os.path.exists('./diagrams'):\n",
    "    os.makedirs('./diagrams')"
   ]
  },
  {
   "cell_type": "code",
   "execution_count": 148,
   "metadata": {},
   "outputs": [
    {
     "data": {
      "image/png": "[encoded data removed]",
      "text/plain": [
       "<Figure size 1152x720 with 1 Axes>"
      ]
     },
     "metadata": {
      "needs_background": "light"
     },
     "output_type": "display_data"
    }
   ],
   "source": [
    "plt.figure(figsize=(16,10))\n",
    "\n",
    "plt.plot(train_accu)\n",
    "plt.plot(eval_accu)\n",
    "plt.xlabel('epoch')\n",
    "plt.ylabel('accuracy')\n",
    "plt.legend(['Train','Valid'])\n",
    "plt.title('Train vs Valid Accuracy')\n",
    "\n",
    "plt.savefig('./diagrams/cNN_Train_vs_Valid_Acc.png')"
   ]
  },
  {
   "cell_type": "code",
   "execution_count": 149,
   "metadata": {},
   "outputs": [
    {
     "data": {
      "image/png": "[encoded data removed]",
      "text/plain": [
       "<Figure size 1152x720 with 1 Axes>"
      ]
     },
     "metadata": {
      "needs_background": "light"
     },
     "output_type": "display_data"
    }
   ],
   "source": [
    "plt.figure(figsize=(16,10))\n",
    "\n",
    "plt.plot(train_losses)\n",
    "plt.plot(eval_losses)\n",
    "plt.xlabel('epoch')\n",
    "plt.ylabel('losses')\n",
    "plt.legend(['Train','Valid'])\n",
    "plt.title('Train vs Valid Losses')\n",
    " \n",
    "plt.savefig('./diagrams/cNN_Train_vs_Valid_loss.png')"
   ]
  },
  {
   "cell_type": "markdown",
   "metadata": {},
   "source": [
    "From the graph we can see a downward trend of loss vs epoch. Perhaps a reason for the spikes in loss could be just due to the randomness of the batch sampling. An unlucky sampling could have led to the loss increasing compared to the previous iterations but overall the loss has a downward trend as iterations increase."
   ]
  },
  {
   "cell_type": "code",
   "execution_count": 150,
   "metadata": {},
   "outputs": [
    {
     "name": "stdout",
     "output_type": "stream",
     "text": [
      "Accuracy of T-shirt/Top: 91.15%\n",
      "Accuracy of Trouser: 99.97%\n",
      "Accuracy of Pullover: 92.85%\n",
      "Accuracy of Dress: 96.18%\n",
      "Accuracy of Coat: 96.27%\n",
      "Accuracy of Sandal: 99.73%\n",
      "Accuracy of Shirt: 71.82%\n",
      "Accuracy of Sneaker: 94.65%\n",
      "Accuracy of Bag: 99.40%\n",
      "Accuracy of Ankle Boot: 99.60%\n"
     ]
    }
   ],
   "source": [
    "class_correct = [0. for _ in range(10)]\n",
    "total_correct = [0. for _ in range(10)]\n",
    "\n",
    "all_labels = torch.Tensor();\n",
    "all_predicted = torch.Tensor();\n",
    "\n",
    "with torch.no_grad():\n",
    "    for images, labels in test_loader:\n",
    "        images, labels = images.to(device), labels.to(device)\n",
    "        outputs = model(images)\n",
    "        _, predicted = outputs.max(1)\n",
    "        c = (predicted == labels).squeeze()\n",
    "\n",
    "        all_labels = torch.cat((all_labels, labels))\n",
    "        all_predicted = torch.cat((all_predicted, predicted))\n",
    "        \n",
    "        for i in range(100):\n",
    "            label = labels[i]\n",
    "            class_correct[label] += c[i].item()\n",
    "            total_correct[label] += 1\n",
    "        \n",
    "for i in range(10):\n",
    "    print(\"Accuracy of {}: {:.2f}%\".format(output_label(i), class_correct[i] * 100 / total_correct[i]))"
   ]
  },
  {
   "cell_type": "code",
   "execution_count": 151,
   "metadata": {},
   "outputs": [
    {
     "data": {
      "text/plain": [
       "array([[5469,    7,   76,  115,   19,    2,  304,    0,    3,    5],\n",
       "       [   0, 5998,    0,    2,    0,    0,    0,    0,    0,    0],\n",
       "       [  39,    8, 5571,   28,  307,    0,   45,    0,    2,    0],\n",
       "       [  45,   71,   15, 5771,   71,    0,   22,    0,    4,    1],\n",
       "       [   6,    8,  124,   68, 5776,    0,   18,    0,    0,    0],\n",
       "       [   0,    1,    0,    0,    0, 5984,    0,    0,    1,   14],\n",
       "       [ 350,    7,  350,  180,  802,    0, 4309,    0,    2,    0],\n",
       "       [   0,    0,    0,    0,    0,   36,    0, 5679,    1,  284],\n",
       "       [   0,    5,    2,    3,   16,    1,    8,    0, 5964,    1],\n",
       "       [   0,    0,    0,    0,    0,    3,    0,   21,    0, 5976]],\n",
       "      dtype=int64)"
      ]
     },
     "execution_count": 151,
     "metadata": {},
     "output_type": "execute_result"
    }
   ],
   "source": [
    "from sklearn.metrics import confusion_matrix\n",
    "\n",
    "confusion_matrix(all_labels, all_predicted)"
   ]
  },
  {
   "cell_type": "markdown",
   "metadata": {},
   "source": [
    "Classes with the lowest classification accuracy:\n",
    "| Class       | Accuracy (%) | Classes that it is most confused with |\n",
    "|-------------|--------------|---------------------------------------|\n",
    "| Dress       | 98.93        | Coat, T-shirt/top                     |\n",
    "| Coat        | 98.53        | Pullover, Dress                       |\n",
    "| Pullover    | 97.27        | Coat, Shirt                           |\n",
    "| T-shirt/top | 96.98        | Shirt, Dress, Pullover                |\n",
    "| Shirt       | 95.95        | Coat, T-shirt/top, Pullover, Dress    |"
   ]
  },
  {
   "cell_type": "code",
   "execution_count": 146,
   "metadata": {},
   "outputs": [],
   "source": [
    "# Create another cNN that is only trained on those classes with the lowest classification accuracies\n",
    "# and the classes that they are confused with, i.e. T-shirt/top, Pullover, Dress, Coat, Shirt\n",
    "\n",
    "lowest_accuracy_classes = [0, 2, 3, 4, 6]\n",
    "\n",
    "train_csv_subset = train_csv[train_csv.label.isin(lowest_accuracy_classes)]\n",
    "test_csv_subset = test_csv[test_csv.label.isin(lowest_accuracy_classes)]\n",
    "\n",
    "train_subset = FashionDataset(train_csv_subset, transform=transforms.Compose([transforms.ToTensor()]))\n",
    "test_subset = FashionDataset(test_csv_subset, transform=transforms.Compose([transforms.ToTensor()]))\n",
    "\n",
    "train_subset_loader = DataLoader(train_subset, batch_size=100)\n",
    "test_subset_loader = DataLoader(test_subset, batch_size=100)"
   ]
  },
  {
   "cell_type": "code",
   "execution_count": 115,
   "metadata": {},
   "outputs": [
    {
     "name": "stdout",
     "output_type": "stream",
     "text": [
      "FashionCNN(\n",
      "  (layer1): Sequential(\n",
      "    (0): Conv2d(1, 32, kernel_size=(3, 3), stride=(1, 1), padding=(1, 1))\n",
      "    (1): BatchNorm2d(32, eps=1e-05, momentum=0.1, affine=True, track_running_stats=True)\n",
      "    (2): ReLU()\n",
      "    (3): MaxPool2d(kernel_size=2, stride=2, padding=0, dilation=1, ceil_mode=False)\n",
      "  )\n",
      "  (layer2): Sequential(\n",
      "    (0): Conv2d(32, 64, kernel_size=(3, 3), stride=(1, 1))\n",
      "    (1): BatchNorm2d(64, eps=1e-05, momentum=0.1, affine=True, track_running_stats=True)\n",
      "    (2): ReLU()\n",
      "    (3): MaxPool2d(kernel_size=2, stride=2, padding=0, dilation=1, ceil_mode=False)\n",
      "  )\n",
      "  (fc1): Linear(in_features=2304, out_features=600, bias=True)\n",
      "  (drop): Dropout2d(p=0.25, inplace=False)\n",
      "  (fc2): Linear(in_features=600, out_features=120, bias=True)\n",
      "  (fc3): Linear(in_features=120, out_features=10, bias=True)\n",
      ")\n"
     ]
    }
   ],
   "source": [
    "model2 = FashionCNN()\n",
    "model2.to(device)\n",
    "\n",
    "error2 = nn.CrossEntropyLoss()\n",
    "\n",
    "learning_rate2 = 0.001\n",
    "optimizer2 = torch.optim.Adam(model2.parameters(), lr=learning_rate2)\n",
    "print(model2)"
   ]
  },
  {
   "cell_type": "code",
   "execution_count": 125,
   "metadata": {},
   "outputs": [
    {
     "name": "stdout",
     "output_type": "stream",
     "text": [
      "Epoch: 1\n",
      "Train: Loss: 0.31268084205687047, Accuracy: 88.84666666666666%\n",
      "Test: Loss 0.48842347085475923, Accuracy: 83.06%\n",
      "Epoch: 2\n",
      "Train: Loss: 0.30165887003143627, Accuracy: 89.17%\n",
      "Test: Loss 0.4418901056051254, Accuracy: 85.18%\n",
      "Epoch: 3\n",
      "Train: Loss: 0.2837481978535652, Accuracy: 89.96666666666667%\n",
      "Test: Loss 0.4321367684006691, Accuracy: 85.38%\n"
     ]
    }
   ],
   "source": [
    "epochs=3\n",
    "train_accu, eval_accu, train_losses, eval_losses = [], [], [], []\n",
    "for epoch in range(1,epochs+1): \n",
    "  train_loss, train_accuracy = train(model2, error2, optimizer2, train_subset_loader, epoch)\n",
    "  test_loss, test_accuracy = test(model2, error2, test_subset_loader, epoch)\n",
    "  print(\"Epoch: {}\\nTrain: Loss: {}, Accuracy: {}%\\nTest: Loss {}, Accuracy: {}%\".format(epoch, train_loss, train_accuracy, test_loss, test_accuracy))\n",
    "  "
   ]
  },
  {
   "cell_type": "code",
   "execution_count": 126,
   "metadata": {},
   "outputs": [
    {
     "name": "stdout",
     "output_type": "stream",
     "text": [
      "Accuracy of T-shirt/Top: 80.30%\n",
      "Accuracy of Pullover: 80.50%\n",
      "Accuracy of Dress: 96.70%\n",
      "Accuracy of Coat: 84.70%\n",
      "Accuracy of Shirt: 84.70%\n"
     ]
    }
   ],
   "source": [
    "class_correct = [0. for _ in range(10)]\n",
    "total_correct = [0. for _ in range(10)]\n",
    "\n",
    "all_labels = torch.Tensor();\n",
    "all_predicted = torch.Tensor();\n",
    "\n",
    "with torch.no_grad():\n",
    "    for images, labels in test_subset_loader:\n",
    "        images, labels = images.to(device), labels.to(device)\n",
    "        outputs = model2(images)\n",
    "        _, predicted = outputs.max(1)\n",
    "        c = (predicted == labels).squeeze()\n",
    "\n",
    "        all_labels = torch.cat((all_labels, labels))\n",
    "        all_predicted = torch.cat((all_predicted, predicted))\n",
    "        \n",
    "        for i in range(100):\n",
    "            label = labels[i]\n",
    "            class_correct[label] += c[i].item()\n",
    "            total_correct[label] += 1\n",
    "        \n",
    "for i in range(10):\n",
    "    if i in lowest_accuracy_classes:\n",
    "        print(\"Accuracy of {}: {:.2f}%\".format(output_label(i), class_correct[i] * 100 / total_correct[i]))"
   ]
  },
  {
   "cell_type": "code",
   "execution_count": 127,
   "metadata": {},
   "outputs": [
    {
     "data": {
      "text/plain": [
       "array([[803,   8,  23,   1, 165],\n",
       "       [ 11, 805,  20,  56, 108],\n",
       "       [ 11,   1, 967,   3,  18],\n",
       "       [  1,  16,  69, 847,  67],\n",
       "       [ 63,  20,  39,  31, 847]], dtype=int64)"
      ]
     },
     "execution_count": 127,
     "metadata": {},
     "output_type": "execute_result"
    }
   ],
   "source": [
    "confusion_matrix(all_labels, all_predicted)"
   ]
  },
  {
   "cell_type": "code",
   "execution_count": 184,
   "metadata": {},
   "outputs": [],
   "source": [
    "confused_classes_to_repredict = [2, 4] # KIV as an experiment (swap out lowest_accuracy_classes with this as the prediction swap criteria*)"
   ]
  },
  {
   "cell_type": "code",
   "execution_count": 187,
   "metadata": {},
   "outputs": [
    {
     "name": "stdout",
     "output_type": "stream",
     "text": [
      "Accuracy of T-shirt/Top: 84.67%\n",
      "Accuracy of Trouser: 99.97%\n",
      "Accuracy of Pullover: 85.37%\n",
      "Accuracy of Dress: 97.63%\n",
      "Accuracy of Coat: 87.43%\n",
      "Accuracy of Sandal: 99.73%\n",
      "Accuracy of Shirt: 91.95%\n",
      "Accuracy of Sneaker: 94.65%\n",
      "Accuracy of Bag: 99.40%\n",
      "Accuracy of Ankle Boot: 99.60%\n"
     ]
    }
   ],
   "source": [
    "class_correct = [0. for _ in range(10)]\n",
    "total_correct = [0. for _ in range(10)]\n",
    "\n",
    "all_labels = torch.Tensor();\n",
    "all_predicted = torch.Tensor();\n",
    "\n",
    "with torch.no_grad():\n",
    "    for images, labels in test_loader:\n",
    "        images, labels = images.to(device), labels.to(device)\n",
    "        outputs = model(images)\n",
    "        _, predicted = outputs.max(1)\n",
    "        # if the batch of predicted results includes a prediction of a low accuracy class\n",
    "        for i in lowest_accuracy_classes:\n",
    "            if i in predicted:\n",
    "                # run the batch through the second cNN trained on low accuracy classes\n",
    "                outputs2 = model2(images)\n",
    "                _, predicted2 = outputs2.max(1)\n",
    "                # swap out predictions for select* classes from the first model for predictions from the second model\n",
    "                predicted_new = predicted\n",
    "                index = 0\n",
    "                for j in predicted:\n",
    "                    if j in lowest_accuracy_classes: # *either use this or lowest_accuracy_classes\n",
    "                        # swap the old prediction for the one from the second model\n",
    "                        predicted_new[index] = predicted2[index]\n",
    "                    index = index + 1\n",
    "                predicted = predicted_new\n",
    "                break\n",
    "        # NEW END\n",
    "        c = (predicted == labels).squeeze()\n",
    "\n",
    "        all_labels = torch.cat((all_labels, labels))\n",
    "        all_predicted = torch.cat((all_predicted, predicted))\n",
    "        \n",
    "        for i in range(100):\n",
    "            label = labels[i]\n",
    "            class_correct[label] += c[i].item()\n",
    "            total_correct[label] += 1\n",
    "        \n",
    "for i in range(10):\n",
    "    print(\"Accuracy of {}: {:.2f}%\".format(output_label(i), class_correct[i] * 100 / total_correct[i]))"
   ]
  },
  {
   "cell_type": "code",
   "execution_count": 188,
   "metadata": {},
   "outputs": [
    {
     "data": {
      "text/plain": [
       "array([[5080,    7,   11,  103,    5,    2,  784,    0,    3,    5],\n",
       "       [   0, 5998,    0,    2,    0,    0,    0,    0,    0,    0],\n",
       "       [  50,    8, 5122,  101,  199,    0,  518,    0,    2,    0],\n",
       "       [  14,   71,    2, 5858,    8,    0,   42,    0,    4,    1],\n",
       "       [   3,    8,  103,  373, 5246,    0,  267,    0,    0,    0],\n",
       "       [   0,    1,    0,    0,    0, 5984,    0,    0,    1,   14],\n",
       "       [ 182,    7,   72,  132,   88,    0, 5517,    0,    2,    0],\n",
       "       [   0,    0,    0,    0,    0,   36,    0, 5679,    1,  284],\n",
       "       [   1,    5,    0,    4,    6,    1,   18,    0, 5964,    1],\n",
       "       [   0,    0,    0,    0,    0,    3,    0,   21,    0, 5976]],\n",
       "      dtype=int64)"
      ]
     },
     "execution_count": 188,
     "metadata": {},
     "output_type": "execute_result"
    }
   ],
   "source": [
    "confusion_matrix(all_labels, all_predicted)"
   ]
  },
  {
   "cell_type": "code",
   "execution_count": 59,
   "metadata": {},
   "outputs": [],
   "source": [
    "# https://debuggercafe.com/visualizing-filters-and-feature-maps-in-convolutional-neural-networks-using-pytorch/\n",
    "model_weights = [] # we will save the conv layer weights in this list\n",
    "conv_layers = [] # we will save the 49 conv layers in this list\n",
    "# get all the model children as list\n",
    "model_children = list(model.children())"
   ]
  },
  {
   "cell_type": "code",
   "execution_count": 60,
   "metadata": {},
   "outputs": [
    {
     "name": "stdout",
     "output_type": "stream",
     "text": [
      "Total convolutional layers: 2\n"
     ]
    }
   ],
   "source": [
    "# counter to keep count of the conv layers\n",
    "counter = 0 \n",
    "# append all the conv layers and their respective weights to the list\n",
    "for i in range(len(model_children)):\n",
    "    if type(model_children[i]) == nn.Conv2d:\n",
    "        counter += 1\n",
    "        model_weights.append(model_children[i].weight)\n",
    "        conv_layers.append(model_children[i])\n",
    "    elif type(model_children[i]) == nn.Sequential:\n",
    "        for child in model_children[i].children():\n",
    "            if type(child) == nn.Conv2d:\n",
    "                counter += 1\n",
    "                model_weights.append(child.weight)\n",
    "                conv_layers.append(child)\n",
    "print(f\"Total convolutional layers: {counter}\")"
   ]
  },
  {
   "cell_type": "code",
   "execution_count": 61,
   "metadata": {},
   "outputs": [
    {
     "name": "stdout",
     "output_type": "stream",
     "text": [
      "CONV: Conv2d(1, 32, kernel_size=(3, 3), stride=(1, 1), padding=(1, 1)) ====> SHAPE: torch.Size([32, 1, 3, 3])\n",
      "CONV: Conv2d(32, 64, kernel_size=(3, 3), stride=(1, 1)) ====> SHAPE: torch.Size([64, 32, 3, 3])\n"
     ]
    }
   ],
   "source": [
    "# take a look at the conv layers and the respective weights\n",
    "for weight, conv in zip(model_weights, conv_layers):\n",
    "    # print(f\"WEIGHT: {weight} \\nSHAPE: {weight.shape}\")\n",
    "    print(f\"CONV: {conv} ====> SHAPE: {weight.shape}\")"
   ]
  },
  {
   "cell_type": "code",
   "execution_count": 62,
   "metadata": {},
   "outputs": [
    {
     "data": {
      "image/png": "[encoded data removed]",
      "text/plain": [
       "<Figure size 1440x1224 with 32 Axes>"
      ]
     },
     "metadata": {
      "needs_background": "light"
     },
     "output_type": "display_data"
    }
   ],
   "source": [
    "# visualize the first conv layer filters\n",
    "plt.figure(figsize=(20, 17))\n",
    "for i, filter in enumerate(model_weights[0].cpu()):\n",
    "    plt.subplot(8, 8, i+1) # (8, 8) because in conv0 we have 7x7 filters and total of 64 (see printed shapes)\n",
    "    plt.imshow(filter[0, :, :].detach(), cmap='gray')\n",
    "    plt.axis('off')\n",
    "    plt.savefig('./diagrams/filter1.png')\n",
    "plt.show()"
   ]
  },
  {
   "cell_type": "code",
   "execution_count": 63,
   "metadata": {},
   "outputs": [
    {
     "data": {
      "image/png": "[encoded data removed]",
      "text/plain": [
       "<Figure size 1440x1224 with 64 Axes>"
      ]
     },
     "metadata": {
      "needs_background": "light"
     },
     "output_type": "display_data"
    }
   ],
   "source": [
    "# visualize the second conv layer filters\n",
    "plt.figure(figsize=(20, 17))\n",
    "for i, filter in enumerate(model_weights[1].cpu()):\n",
    "    plt.subplot(8, 8, i+1) # (8, 8) because in conv0 we have 7x7 filters and total of 64 (see printed shapes)\n",
    "    plt.imshow(filter[0, :, :].detach(), cmap='gray')\n",
    "    plt.axis('off')\n",
    "    plt.savefig('./diagrams/filter2.png')\n",
    "plt.show()"
   ]
  },
  {
   "cell_type": "code",
   "execution_count": 64,
   "metadata": {},
   "outputs": [
    {
     "name": "stdout",
     "output_type": "stream",
     "text": [
      "Parameter containing:\n",
      "tensor([[[[ 0.0242, -0.2114,  0.0501],\n",
      "          [ 0.0488,  0.3043,  0.3151],\n",
      "          [ 0.0098, -0.0236, -0.2044]]],\n",
      "\n",
      "\n",
      "        [[[-0.1099, -0.2319,  0.1707],\n",
      "          [ 0.2554,  0.2679, -0.3667],\n",
      "          [-0.1486, -0.0448,  0.2728]]],\n",
      "\n",
      "\n",
      "        [[[-0.3543, -0.3108,  0.1409],\n",
      "          [ 0.1908,  0.0095, -0.2171],\n",
      "          [ 0.0162,  0.1517,  0.0891]]],\n",
      "\n",
      "\n",
      "        [[[-0.0011,  0.1405, -0.1363],\n",
      "          [-0.0711,  0.2966, -0.2323],\n",
      "          [-0.0870, -0.2073,  0.2932]]],\n",
      "\n",
      "\n",
      "        [[[ 0.0290, -0.3168,  0.0384],\n",
      "          [-0.1145,  0.0096,  0.0726],\n",
      "          [ 0.0964,  0.2912, -0.1034]]],\n",
      "\n",
      "\n",
      "        [[[-0.1296,  0.1841,  0.1698],\n",
      "          [-0.1131, -0.3315,  0.1273],\n",
      "          [-0.3889, -0.1922,  0.1788]]],\n",
      "\n",
      "\n",
      "        [[[ 0.1402,  0.1530,  0.1761],\n",
      "          [-0.0630, -0.0173, -0.3450],\n",
      "          [-0.1563, -0.0081,  0.0604]]],\n",
      "\n",
      "\n",
      "        [[[ 0.2065, -0.3341, -0.2587],\n",
      "          [ 0.0501,  0.3216, -0.1794],\n",
      "          [-0.2751,  0.0173,  0.1328]]],\n",
      "\n",
      "\n",
      "        [[[ 0.0908, -0.0337, -0.1700],\n",
      "          [-0.0354, -0.1019, -0.6269],\n",
      "          [-0.0513, -0.0163, -0.0875]]],\n",
      "\n",
      "\n",
      "        [[[-0.1565, -0.0113,  0.2331],\n",
      "          [-0.3625,  0.0357,  0.0880],\n",
      "          [ 0.2448, -0.1219, -0.2756]]],\n",
      "\n",
      "\n",
      "        [[[-0.0436,  0.1026,  0.4289],\n",
      "          [ 0.0669, -0.1974, -0.0721],\n",
      "          [-0.0791,  0.1502,  0.0193]]],\n",
      "\n",
      "\n",
      "        [[[ 0.1401, -0.2688,  0.1304],\n",
      "          [-0.4139,  0.3255,  0.0686],\n",
      "          [ 0.2490, -0.0402, -0.2032]]],\n",
      "\n",
      "\n",
      "        [[[ 0.2782, -0.1234, -0.1471],\n",
      "          [ 0.0249, -0.3479,  0.3218],\n",
      "          [-0.0286, -0.2149,  0.2365]]],\n",
      "\n",
      "\n",
      "        [[[ 0.0173, -0.0618,  0.0251],\n",
      "          [-0.0315, -0.0481, -0.3001],\n",
      "          [ 0.3285, -0.2100, -0.0577]]],\n",
      "\n",
      "\n",
      "        [[[-0.2386,  0.1112,  0.1228],\n",
      "          [ 0.1985, -0.1690,  0.0745],\n",
      "          [-0.0569, -0.3184,  0.2943]]],\n",
      "\n",
      "\n",
      "        [[[-0.0428, -0.2116, -0.0819],\n",
      "          [ 0.1747, -0.3012, -0.0833],\n",
      "          [-0.0779,  0.1647,  0.2532]]],\n",
      "\n",
      "\n",
      "        [[[-0.3361,  0.0257,  0.0088],\n",
      "          [ 0.3186,  0.1128, -0.0112],\n",
      "          [ 0.1567,  0.1938,  0.0485]]],\n",
      "\n",
      "\n",
      "        [[[ 0.1283, -0.3327,  0.2810],\n",
      "          [ 0.2380, -0.2070, -0.0463],\n",
      "          [-0.1051,  0.2302, -0.0601]]],\n",
      "\n",
      "\n",
      "        [[[ 0.0726,  0.1738, -0.1002],\n",
      "          [-0.0486, -0.4937, -0.1129],\n",
      "          [-0.3036, -0.4189,  0.0533]]],\n",
      "\n",
      "\n",
      "        [[[ 0.2401,  0.2049, -0.2186],\n",
      "          [ 0.3513,  0.1114, -0.2968],\n",
      "          [-0.2488, -0.3453,  0.1773]]],\n",
      "\n",
      "\n",
      "        [[[ 0.1550,  0.2567, -0.2317],\n",
      "          [ 0.0743,  0.3894,  0.0929],\n",
      "          [-0.1753,  0.1953,  0.0312]]],\n",
      "\n",
      "\n",
      "        [[[ 0.2348,  0.0592, -0.0575],\n",
      "          [-0.2941,  0.3295, -0.3723],\n",
      "          [-0.1364,  0.2900,  0.0886]]],\n",
      "\n",
      "\n",
      "        [[[-0.1142,  0.2679,  0.1083],\n",
      "          [-0.0942, -0.3183,  0.3204],\n",
      "          [-0.2990,  0.1097,  0.1090]]],\n",
      "\n",
      "\n",
      "        [[[ 0.3371, -0.2092, -0.0847],\n",
      "          [ 0.1679, -0.0545, -0.2037],\n",
      "          [ 0.0871,  0.1724, -0.2743]]],\n",
      "\n",
      "\n",
      "        [[[ 0.1890,  0.2588, -0.3680],\n",
      "          [-0.0261,  0.1414, -0.2279],\n",
      "          [ 0.1802, -0.2530,  0.1455]]],\n",
      "\n",
      "\n",
      "        [[[-0.1304,  0.0409, -0.1828],\n",
      "          [-0.0816,  0.0078, -0.1651],\n",
      "          [ 0.2638,  0.0851,  0.1965]]],\n",
      "\n",
      "\n",
      "        [[[ 0.0395, -0.3008, -0.1097],\n",
      "          [-0.2631, -0.1851,  0.0163],\n",
      "          [ 0.2275, -0.0898,  0.0421]]],\n",
      "\n",
      "\n",
      "        [[[ 0.1837, -0.2976, -0.2501],\n",
      "          [ 0.0705,  0.1229,  0.2478],\n",
      "          [ 0.2263, -0.0785, -0.0615]]],\n",
      "\n",
      "\n",
      "        [[[ 0.0919,  0.0672,  0.1728],\n",
      "          [-0.3900, -0.0073,  0.5092],\n",
      "          [ 0.1074, -0.0913,  0.0450]]],\n",
      "\n",
      "\n",
      "        [[[-0.2313, -0.0558, -0.3357],\n",
      "          [-0.0747,  0.2759,  0.2801],\n",
      "          [ 0.1457, -0.0426, -0.0199]]],\n",
      "\n",
      "\n",
      "        [[[-0.1170, -0.0105,  0.2093],\n",
      "          [ 0.0260,  0.3165, -0.2160],\n",
      "          [ 0.2176, -0.1465, -0.1664]]],\n",
      "\n",
      "\n",
      "        [[[ 0.3094,  0.0944,  0.3329],\n",
      "          [ 0.0260,  0.0454,  0.2608],\n",
      "          [-0.1768,  0.0051,  0.3220]]]], requires_grad=True)\n"
     ]
    }
   ],
   "source": [
    "print(model_weights[0].cpu())"
   ]
  },
  {
   "cell_type": "code",
   "execution_count": 65,
   "metadata": {},
   "outputs": [],
   "source": [
    "plt.imsave('./diagrams/pullover.png', image.squeeze(), cmap=\"gray\")"
   ]
  },
  {
   "cell_type": "code",
   "execution_count": 88,
   "metadata": {},
   "outputs": [
    {
     "ename": "ModuleNotFoundError",
     "evalue": "No module named 'cv2'",
     "output_type": "error",
     "traceback": [
      "\u001b[1;31m---------------------------------------------------------------------------\u001b[0m",
      "\u001b[1;31mModuleNotFoundError\u001b[0m                       Traceback (most recent call last)",
      "\u001b[1;32m<ipython-input-88-c79eaaf547ff>\u001b[0m in \u001b[0;36m<module>\u001b[1;34m\u001b[0m\n\u001b[1;32m----> 1\u001b[1;33m \u001b[1;32mimport\u001b[0m \u001b[0mcv2\u001b[0m \u001b[1;32mas\u001b[0m \u001b[0mcv\u001b[0m\u001b[1;33m\u001b[0m\u001b[1;33m\u001b[0m\u001b[0m\n\u001b[0m\u001b[0;32m      2\u001b[0m \u001b[1;33m\u001b[0m\u001b[0m\n\u001b[0;32m      3\u001b[0m \u001b[1;31m# read and visualize an image\u001b[0m\u001b[1;33m\u001b[0m\u001b[1;33m\u001b[0m\u001b[1;33m\u001b[0m\u001b[0m\n\u001b[0;32m      4\u001b[0m \u001b[0mimg\u001b[0m \u001b[1;33m=\u001b[0m \u001b[0mcv\u001b[0m\u001b[1;33m.\u001b[0m\u001b[0mimread\u001b[0m\u001b[1;33m(\u001b[0m\u001b[1;34mf\"./diagrams/pullover.png\"\u001b[0m\u001b[1;33m)\u001b[0m\u001b[1;33m\u001b[0m\u001b[1;33m\u001b[0m\u001b[0m\n\u001b[0;32m      5\u001b[0m \u001b[1;31m# img = cv.cvtColor(img, cv.COLOR_BGR2RGB)\u001b[0m\u001b[1;33m\u001b[0m\u001b[1;33m\u001b[0m\u001b[1;33m\u001b[0m\u001b[0m\n",
      "\u001b[1;31mModuleNotFoundError\u001b[0m: No module named 'cv2'"
     ]
    }
   ],
   "source": [
    "import cv2 as cv\n",
    "\n",
    "# read and visualize an image\n",
    "img = cv.imread(f\"./diagrams/pullover.png\")\n",
    "# img = cv.cvtColor(img, cv.COLOR_BGR2RGB)\n",
    "plt.imshow(img)\n",
    "plt.show()\n",
    "\n",
    "# define the transforms\n",
    "transform = transforms.Compose([\n",
    "    transforms.ToPILImage(),\n",
    "    transforms.Resize((28, 28)),\n",
    "    transforms.Grayscale(num_output_channels=1),\n",
    "    transforms.ToTensor(),\n",
    "])\n",
    "\n",
    "img = np.array(img)\n",
    "# apply the transforms\n",
    "img = transform(img)\n",
    "print(img.size())\n",
    "# unsqueeze to add a batch dimension\n",
    "img = img.unsqueeze(0)\n",
    "print(img.size())"
   ]
  },
  {
   "cell_type": "code",
   "execution_count": null,
   "metadata": {},
   "outputs": [
    {
     "ename": "NameError",
     "evalue": "name 'img' is not defined",
     "output_type": "error",
     "traceback": [
      "\u001b[1;31m---------------------------------------------------------------------------\u001b[0m",
      "\u001b[1;31mNameError\u001b[0m                                 Traceback (most recent call last)",
      "\u001b[1;32m<ipython-input-87-b737c019f94f>\u001b[0m in \u001b[0;36m<module>\u001b[1;34m\u001b[0m\n\u001b[0;32m      1\u001b[0m \u001b[1;31m# pass the image through all the layers\u001b[0m\u001b[1;33m\u001b[0m\u001b[1;33m\u001b[0m\u001b[1;33m\u001b[0m\u001b[0m\n\u001b[1;32m----> 2\u001b[1;33m \u001b[0mimg\u001b[0m \u001b[1;33m=\u001b[0m \u001b[0mimg\u001b[0m\u001b[1;33m.\u001b[0m\u001b[0mto\u001b[0m\u001b[1;33m(\u001b[0m\u001b[0mdevice\u001b[0m\u001b[1;33m)\u001b[0m\u001b[1;33m\u001b[0m\u001b[1;33m\u001b[0m\u001b[0m\n\u001b[0m\u001b[0;32m      3\u001b[0m \u001b[0mresults\u001b[0m \u001b[1;33m=\u001b[0m \u001b[1;33m[\u001b[0m\u001b[0mconv_layers\u001b[0m\u001b[1;33m[\u001b[0m\u001b[1;36m0\u001b[0m\u001b[1;33m]\u001b[0m\u001b[1;33m(\u001b[0m\u001b[0mimg\u001b[0m\u001b[1;33m)\u001b[0m\u001b[1;33m]\u001b[0m\u001b[1;33m\u001b[0m\u001b[1;33m\u001b[0m\u001b[0m\n\u001b[0;32m      4\u001b[0m \u001b[1;32mfor\u001b[0m \u001b[0mi\u001b[0m \u001b[1;32min\u001b[0m \u001b[0mrange\u001b[0m\u001b[1;33m(\u001b[0m\u001b[1;36m1\u001b[0m\u001b[1;33m,\u001b[0m \u001b[0mlen\u001b[0m\u001b[1;33m(\u001b[0m\u001b[0mconv_layers\u001b[0m\u001b[1;33m)\u001b[0m\u001b[1;33m)\u001b[0m\u001b[1;33m:\u001b[0m\u001b[1;33m\u001b[0m\u001b[1;33m\u001b[0m\u001b[0m\n\u001b[0;32m      5\u001b[0m     \u001b[1;31m# pass the result from the last layer to the next layer\u001b[0m\u001b[1;33m\u001b[0m\u001b[1;33m\u001b[0m\u001b[1;33m\u001b[0m\u001b[0m\n",
      "\u001b[1;31mNameError\u001b[0m: name 'img' is not defined"
     ]
    }
   ],
   "source": [
    "# pass the image through all the layers\n",
    "img = img.to(device)\n",
    "results = [conv_layers[0](img)]\n",
    "for i in range(1, len(conv_layers)):\n",
    "    # pass the result from the last layer to the next layer\n",
    "    results.append(conv_layers[i](results[-1]))\n",
    "# make a copy of the `results`\n",
    "outputs = results"
   ]
  },
  {
   "cell_type": "code",
   "execution_count": null,
   "metadata": {},
   "outputs": [
    {
     "name": "stdout",
     "output_type": "stream",
     "text": [
      "torch.Size([32, 28, 28])\n",
      "Saving layer 0 feature maps...\n",
      "torch.Size([64, 26, 26])\n",
      "Saving layer 1 feature maps...\n"
     ]
    }
   ],
   "source": [
    "# visualize 64 features from each layer \n",
    "# (although there are more feature maps in the upper layers)\n",
    "for num_layer in range(len(outputs)):\n",
    "    plt.figure(figsize=(30, 30))\n",
    "    layer_viz = outputs[num_layer][0, :, :, :]\n",
    "    layer_viz = layer_viz.data\n",
    "    print(layer_viz.size())\n",
    "    for i, filter in enumerate(layer_viz):\n",
    "        if i == 64: # we will visualize only 8x8 blocks from each layer\n",
    "            break\n",
    "        plt.subplot(8, 8, i + 1)\n",
    "        plt.imshow(filter.cpu(), cmap='gray')\n",
    "        plt.axis(\"off\")\n",
    "    print(f\"Saving layer {num_layer} feature maps...\")\n",
    "    plt.savefig(f\"./diagrams/layer_{num_layer}.png\")\n",
    "    # plt.show()\n",
    "    plt.close()"
   ]
  }
 ],
 "metadata": {
  "interpreter": {
   "hash": "a26ff82582be0ed5f057a749d3391963a753d71735083bd0110d44d1abf41696"
  },
  "kernelspec": {
   "display_name": "Python 3.8.8 64-bit ('base': conda)",
   "name": "python3"
  },
  "language_info": {
   "codemirror_mode": {
    "name": "ipython",
    "version": 3
   },
   "file_extension": ".py",
   "mimetype": "text/x-python",
   "name": "python",
   "nbconvert_exporter": "python",
   "pygments_lexer": "ipython3",
   "version": "3.8.8"
  },
  "orig_nbformat": 4
 },
 "nbformat": 4,
 "nbformat_minor": 2
}
