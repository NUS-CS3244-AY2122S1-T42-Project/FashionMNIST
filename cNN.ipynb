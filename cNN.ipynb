{
 "cells": [
  {
   "cell_type": "code",
   "execution_count": 1,
   "metadata": {},
   "outputs": [],
   "source": [
    "import numpy as np\n",
    "import pandas as pd\n",
    "import matplotlib.pyplot as plt\n",
    "\n",
    "import torch\n",
    "import torch.nn as nn\n",
    "from torch.autograd import Variable\n",
    "\n",
    "import torchvision\n",
    "import torchvision.transforms as transforms\n",
    "from torch.utils.data import Dataset, DataLoader\n",
    "from sklearn.metrics import confusion_matrix"
   ]
  },
  {
   "cell_type": "markdown",
   "metadata": {},
   "source": [
    "I had some difficulties uninstalling pytorch without cuda to replace it so I just created another virtual env and ran it in that. (I think this only needs to be done when you try to run it local)\n",
    "\n",
    "After activating the venv you can install the pytorch with cuda with the following command.\n",
    "\n",
    "`pip3 install torch==1.9.1+cu111 torchvision==0.10.1+cu111 torchaudio==0.9.1 -f https://download.pytorch.org/whl/torch_stable.html`\n"
   ]
  },
  {
   "cell_type": "code",
   "execution_count": 2,
   "metadata": {},
   "outputs": [
    {
     "name": "stdout",
     "output_type": "stream",
     "text": [
      "cuda:0\n"
     ]
    }
   ],
   "source": [
    "device = torch.device(\"cuda:0\" if torch.cuda.is_available() else \"cpu\")\n",
    "print(device)"
   ]
  },
  {
   "cell_type": "code",
   "execution_count": 3,
   "metadata": {},
   "outputs": [
    {
     "data": {
      "text/plain": [
       "tensor([0.], device='cuda:0')"
      ]
     },
     "execution_count": 3,
     "metadata": {},
     "output_type": "execute_result"
    }
   ],
   "source": [
    "torch.zeros(1).cuda()"
   ]
  },
  {
   "cell_type": "code",
   "execution_count": 4,
   "metadata": {},
   "outputs": [],
   "source": [
    "#I had a \n",
    "train_csv = pd.read_csv(\"../data/fashion-mnist_train.csv\")\n",
    "test_csv = pd.read_csv(\"../data/fashion-mnist_test.csv\")"
   ]
  },
  {
   "cell_type": "code",
   "execution_count": 5,
   "metadata": {},
   "outputs": [],
   "source": [
    "class FashionDataset(Dataset):\n",
    "    \"\"\"User defined class to build a datset using Pytorch class Dataset.\"\"\"\n",
    "    \n",
    "    def __init__(self, data, transform = None):\n",
    "        \"\"\"Method to initilaize variables.\"\"\" \n",
    "        self.fashion_MNIST = list(data.values)\n",
    "        self.transform = transform\n",
    "        \n",
    "        label = []\n",
    "        image = []\n",
    "        \n",
    "        for i in self.fashion_MNIST:\n",
    "             # first column is of labels.\n",
    "            label.append(i[0])\n",
    "            image.append(i[1:])\n",
    "        self.labels = np.asarray(label)\n",
    "        # Dimension of Images = 28 * 28 * 1. where height = width = 28 and color_channels = 1.\n",
    "        self.images = np.asarray(image).reshape(-1, 28, 28, 1).astype('float32')\n",
    "\n",
    "    def __getitem__(self, index):\n",
    "        label = self.labels[index]\n",
    "        image = self.images[index]\n",
    "        \n",
    "        if self.transform is not None:\n",
    "            image = self.transform(image)\n",
    "\n",
    "        return image, label\n",
    "\n",
    "    def __len__(self):\n",
    "        return len(self.images)"
   ]
  },
  {
   "cell_type": "code",
   "execution_count": 6,
   "metadata": {},
   "outputs": [],
   "source": [
    "# Transform data into Tensor that has a range from 0 to 1\n",
    "train_set = FashionDataset(train_csv, transform=transforms.Compose([transforms.ToTensor()]))\n",
    "test_set = FashionDataset(test_csv, transform=transforms.Compose([transforms.ToTensor()]))\n",
    "\n",
    "train_loader = DataLoader(train_set, batch_size=100)\n",
    "test_loader = DataLoader(train_set, batch_size=100)"
   ]
  },
  {
   "cell_type": "markdown",
   "metadata": {},
   "source": [
    "All the above has been done to load data in batches into the model. We use the DataLoader class from torch.utils.data. We also initialize the device to be used as the GPU instead of CPU.\n",
    "\n",
    "The FashionDataset class has two methods: \n",
    "- get_item(index) -> image and label of item at index\n",
    "- len() -> number of items in the dataset"
   ]
  },
  {
   "cell_type": "code",
   "execution_count": 7,
   "metadata": {},
   "outputs": [],
   "source": [
    "# Mapping label number to a more meaningful label\n",
    "\n",
    "def output_label(label):\n",
    "    output_mapping = {\n",
    "        0: \"T-shirt/Top\",\n",
    "        1: \"Trouser\",\n",
    "        2: \"Pullover\",\n",
    "        3: \"Dress\",\n",
    "        4: \"Coat\", \n",
    "        5: \"Sandal\", \n",
    "        6: \"Shirt\",\n",
    "        7: \"Sneaker\",\n",
    "        8: \"Bag\",\n",
    "        9: \"Ankle Boot\"\n",
    "    }\n",
    "    input = (label.item() if type(label) == torch.Tensor else label)\n",
    "    return output_mapping[input]"
   ]
  },
  {
   "cell_type": "code",
   "execution_count": 82,
   "metadata": {},
   "outputs": [
    {
     "name": "stdout",
     "output_type": "stream",
     "text": [
      "2\n"
     ]
    },
    {
     "data": {
      "image/png": "[encoded data removed]",
      "text/plain": [
       "<Figure size 432x288 with 1 Axes>"
      ]
     },
     "metadata": {
      "needs_background": "light"
     },
     "output_type": "display_data"
    }
   ],
   "source": [
    "# displaying image using matplotlib imshow()\n",
    "image, label = next(iter(train_set))\n",
    "plt.imshow(image.squeeze(), cmap=\"gray\")\n",
    "print(label)"
   ]
  },
  {
   "cell_type": "code",
   "execution_count": null,
   "metadata": {},
   "outputs": [],
   "source": [
    "plt.figure(figsize=(10,10))\n",
    "for i in range(25):\n",
    "    plt.subplot(5,5,i+1)\n",
    "    plt.xticks([])\n",
    "    plt.yticks([])\n",
    "    plt.grid(False)\n",
    "    plt.imshow(train_images[i], cmap=plt.cm.binary)\n",
    "    plt.xlabel(class_names[train_labels[i]])\n",
    "plt.show()\n"
   ]
  },
  {
   "cell_type": "code",
   "execution_count": 9,
   "metadata": {},
   "outputs": [
    {
     "name": "stdout",
     "output_type": "stream",
     "text": [
      "<class 'torch.Tensor'> <class 'torch.Tensor'>\n",
      "torch.Size([10, 1, 28, 28]) torch.Size([10])\n"
     ]
    }
   ],
   "source": [
    "demo_loader = torch.utils.data.DataLoader(train_set, batch_size=10)\n",
    "\n",
    "batch = next(iter(demo_loader))\n",
    "images, labels = batch\n",
    "print(type(images), type(labels))\n",
    "print(images.shape, labels.shape)"
   ]
  },
  {
   "cell_type": "code",
   "execution_count": 10,
   "metadata": {},
   "outputs": [
    {
     "name": "stderr",
     "output_type": "stream",
     "text": [
      "Clipping input data to the valid range for imshow with RGB data ([0..1] for floats or [0..255] for integers).\n"
     ]
    },
    {
     "name": "stdout",
     "output_type": "stream",
     "text": [
      "labels:  Pullover, Ankle Boot, Shirt, T-shirt/Top, Dress, Coat, Coat, Sandal, Coat, Bag, "
     ]
    },
    {
     "data": {
      "image/png": "[encoded data removed]",
      "text/plain": [
       "<Figure size 1080x1440 with 1 Axes>"
      ]
     },
     "metadata": {
      "needs_background": "light"
     },
     "output_type": "display_data"
    }
   ],
   "source": [
    "grid = torchvision.utils.make_grid(images, nrow=10)\n",
    "\n",
    "plt.figure(figsize=(15, 20))\n",
    "plt.imshow(np.transpose(grid, (1, 2, 0)))\n",
    "print(\"labels: \", end=\" \")\n",
    "for i, label in enumerate(labels):\n",
    "    print(output_label(label), end=\", \")"
   ]
  },
  {
   "cell_type": "markdown",
   "metadata": {},
   "source": [
    "1. Make a model class (inherits nn.Module class)\n",
    "2. Add Layers to model class\n",
    "\n",
    "    a. Convolution layer with kernel size 3*3, padding = 1 (no padding) in 1st layer and padding = 0 in second layer. Stride of 1 in both layers.\n",
    "\n",
    "    b. Batch normalization layer\n",
    "\n",
    "    c. Activation function used: ReLU\n",
    "\n",
    "    d. Max Pooling layer with kernel size of 2 * 2 and stride 2.\n",
    "\n",
    "        i. flatten out output for dense layer\n",
    "\n",
    "        ii. 3 fully connected layers with different in/out features\n",
    "\n",
    "        iii. 1 dropout layer with p=0.25\n",
    "\n",
    "Summary is as follows:\n",
    "\n",
    "First conv layer -> Max Pooling layer -> Second conv layer -> second max pooling layer\n",
    "\n",
    "28 * 28 * 3      --> 28 * 28 * 32      --> 14 * 14 * 32      --> 12 * 12 * 64              --> 6 * 6 * 64\n",
    "\n",
    "Final fully connected layer has 10 output features for 10 types of clothes."
   ]
  },
  {
   "cell_type": "code",
   "execution_count": 11,
   "metadata": {},
   "outputs": [],
   "source": [
    "class FashionCNN(nn.Module):\n",
    "    def __init__(self):\n",
    "        super(FashionCNN, self).__init__()\n",
    "        \n",
    "        self.layer1 = nn.Sequential(\n",
    "            nn.Conv2d(in_channels=1, out_channels=32, kernel_size=3, padding=1),\n",
    "            nn.BatchNorm2d(32),\n",
    "            nn.ReLU(),\n",
    "            nn.MaxPool2d(kernel_size=2, stride=2)\n",
    "        )\n",
    "        \n",
    "        self.layer2 = nn.Sequential(\n",
    "            nn.Conv2d(in_channels=32, out_channels=64, kernel_size=3),\n",
    "            nn.BatchNorm2d(64),\n",
    "            nn.ReLU(),\n",
    "            nn.MaxPool2d(2)\n",
    "        )\n",
    "        \n",
    "        self.fc1 = nn.Linear(in_features=64*6*6, out_features=600)\n",
    "        self.drop = nn.Dropout2d(0.25)\n",
    "        self.fc2 = nn.Linear(in_features=600, out_features=120)\n",
    "        self.fc3 = nn.Linear(in_features=120, out_features=10)\n",
    "        \n",
    "    def forward(self, x):\n",
    "        out = self.layer1(x)\n",
    "        out = self.layer2(out)\n",
    "        out = out.view(out.size(0), -1)\n",
    "        out = self.fc1(out)\n",
    "        out = self.drop(out)\n",
    "        out = self.fc2(out)\n",
    "        out = self.fc3(out)\n",
    "        \n",
    "        return out"
   ]
  },
  {
   "cell_type": "code",
   "execution_count": 33,
   "metadata": {},
   "outputs": [
    {
     "name": "stdout",
     "output_type": "stream",
     "text": [
      "FashionCNN(\n",
      "  (layer1): Sequential(\n",
      "    (0): Conv2d(1, 32, kernel_size=(3, 3), stride=(1, 1), padding=(1, 1))\n",
      "    (1): BatchNorm2d(32, eps=1e-05, momentum=0.1, affine=True, track_running_stats=True)\n",
      "    (2): ReLU()\n",
      "    (3): MaxPool2d(kernel_size=2, stride=2, padding=0, dilation=1, ceil_mode=False)\n",
      "  )\n",
      "  (layer2): Sequential(\n",
      "    (0): Conv2d(32, 64, kernel_size=(3, 3), stride=(1, 1))\n",
      "    (1): BatchNorm2d(64, eps=1e-05, momentum=0.1, affine=True, track_running_stats=True)\n",
      "    (2): ReLU()\n",
      "    (3): MaxPool2d(kernel_size=2, stride=2, padding=0, dilation=1, ceil_mode=False)\n",
      "  )\n",
      "  (fc1): Linear(in_features=2304, out_features=600, bias=True)\n",
      "  (drop): Dropout2d(p=0.25, inplace=False)\n",
      "  (fc2): Linear(in_features=600, out_features=120, bias=True)\n",
      "  (fc3): Linear(in_features=120, out_features=10, bias=True)\n",
      ")\n"
     ]
    }
   ],
   "source": [
    "model = FashionCNN()\n",
    "model.to(device)\n",
    "\n",
    "error = nn.CrossEntropyLoss()\n",
    "\n",
    "learning_rate = 0.001\n",
    "optimizer = torch.optim.Adam(model.parameters(), lr=learning_rate)\n",
    "print(model)"
   ]
  },
  {
   "cell_type": "code",
   "execution_count": 43,
   "metadata": {},
   "outputs": [
    {
     "name": "stdout",
     "output_type": "stream",
     "text": [
      "Iteration: 500, Loss: 0.49817562103271484, Accuracy: 87.41166687011719%\n",
      "Iteration: 1000, Loss: 0.31753814220428467, Accuracy: 89.74166870117188%\n",
      "Iteration: 1500, Loss: 0.21549388766288757, Accuracy: 90.81666564941406%\n",
      "Iteration: 2000, Loss: 0.2227795422077179, Accuracy: 91.70999908447266%\n",
      "Iteration: 2500, Loss: 0.21930934488773346, Accuracy: 92.86333465576172%\n",
      "Iteration: 3000, Loss: 0.18449829518795013, Accuracy: 93.11333465576172%\n",
      "Iteration: 3500, Loss: 0.3319951593875885, Accuracy: 93.1433334350586%\n",
      "Iteration: 4000, Loss: 0.19257867336273193, Accuracy: 92.41999816894531%\n",
      "Iteration: 4500, Loss: 0.15338116884231567, Accuracy: 93.09833526611328%\n",
      "Iteration: 5000, Loss: 0.13561643660068512, Accuracy: 94.29499816894531%\n",
      "Iteration: 5500, Loss: 0.13708768784999847, Accuracy: 94.15166473388672%\n",
      "Iteration: 6000, Loss: 0.13327981531620026, Accuracy: 94.74833679199219%\n"
     ]
    }
   ],
   "source": [
    "# # Training and Testing (OLD)\n",
    "# num_epochs = 10 # num of epochs can also be increased > 100\n",
    "# count = 0\n",
    "# # Lists for visualization of loss and accuracy \n",
    "# loss_list = []\n",
    "# iteration_list = []\n",
    "# accuracy_list = []\n",
    "\n",
    "# # Lists for knowing classwise accuracy\n",
    "# predictions_list = []\n",
    "# labels_list = []\n",
    "\n",
    "# for epoch in range(num_epochs):\n",
    "#     for images, labels in train_loader:\n",
    "#         # Transfering images and labels to GPU if available\n",
    "#         images, labels = images.to(device), labels.to(device)\n",
    "    \n",
    "#         train = Variable(images.view(100, 1, 28, 28)) # Apparently Variable is outdated so maybe we should change it\n",
    "#         labels = Variable(labels)\n",
    "        \n",
    "#         # Forward pass \n",
    "#         outputs = model(train)\n",
    "#         loss = error(outputs, labels)\n",
    "        \n",
    "#         # Initializing a gradient as 0 so there is no mixing of gradient among the batches\n",
    "#         optimizer.zero_grad()\n",
    "        \n",
    "#         #Propagating the error backward\n",
    "#         loss.backward()\n",
    "        \n",
    "#         # Optimizing the parameters\n",
    "#         optimizer.step()\n",
    "    \n",
    "#         count += 1\n",
    "    \n",
    "#     # Testing the model\n",
    "    \n",
    "#         if not (count % 50):    # It's same as \"if count % 50 == 0\"\n",
    "#             total = 0\n",
    "#             correct = 0\n",
    "        \n",
    "#             for images, labels in test_loader:\n",
    "#                 images, labels = images.to(device), labels.to(device)\n",
    "#                 labels_list.append(labels)\n",
    "            \n",
    "#                 test = Variable(images.view(100, 1, 28, 28))\n",
    "            \n",
    "#                 outputs = model(test)\n",
    "            \n",
    "#                 predictions = torch.max(outputs, 1)[1].to(device)\n",
    "#                 predictions_list.append(predictions)\n",
    "#                 correct += (predictions == labels).sum()\n",
    "            \n",
    "#                 total += len(labels)\n",
    "            \n",
    "#             accuracy = correct * 100 / total\n",
    "#             loss_list.append(loss.data)\n",
    "#             iteration_list.append(count)\n",
    "#             accuracy_list.append(accuracy)\n",
    "        \n",
    "#         if not (count % 500):\n",
    "#             print(\"Iteration: {}, Loss: {}, Accuracy: {}%\".format(count, loss.data, accuracy))"
   ]
  },
  {
   "cell_type": "markdown",
   "metadata": {},
   "source": [
    "Visualizing the results"
   ]
  },
  {
   "cell_type": "code",
   "execution_count": 25,
   "metadata": {},
   "outputs": [],
   "source": [
    "train_accu = []\n",
    "train_losses = []\n",
    "\n",
    "def train(epoch):  \n",
    "  model.train()\n",
    "\n",
    "  running_loss=0\n",
    "  correct=0\n",
    "  total=0\n",
    "  \n",
    "  for images, labels in train_loader:\n",
    "    # Transfering images and labels to GPU if available\n",
    "    images, labels = images.to(device), labels.to(device)\n",
    "    \n",
    "    # Forward pass \n",
    "    outputs = model(images)\n",
    "    loss = error(outputs, labels)\n",
    "    \n",
    "    # Initializing a gradient as 0 so there is no mixing of gradient among the batches\n",
    "    optimizer.zero_grad()\n",
    "    \n",
    "    #Propagating the error backward\n",
    "    loss.backward()\n",
    "    \n",
    "    # Optimizing the parameters\n",
    "    optimizer.step()\n",
    "\n",
    "    running_loss += loss.item()\n",
    "    \n",
    "    _, predicted = outputs.max(1)\n",
    "    total += labels.size(0)\n",
    "    correct += predicted.eq(labels).sum().item()\n",
    "      \n",
    "  train_loss=running_loss/len(train_loader)\n",
    "  accu=100.*correct/total\n",
    "  \n",
    "  train_accu.append(accu)\n",
    "  train_losses.append(train_loss)\n",
    "  return train_loss, accu"
   ]
  },
  {
   "cell_type": "code",
   "execution_count": 26,
   "metadata": {},
   "outputs": [],
   "source": [
    "eval_losses=[]\n",
    "eval_accu=[]\n",
    " \n",
    "def test(epoch):\n",
    "  model.eval()\n",
    " \n",
    "  running_loss=0\n",
    "  correct=0\n",
    "  total=0\n",
    " \n",
    "  with torch.no_grad():\n",
    "    for images, labels in test_loader:\n",
    "      images, labels = images.to(device), labels.to(device)\n",
    "\n",
    "      outputs = model(images)\n",
    "      loss = error(outputs, labels)\n",
    "\n",
    "      running_loss += loss.item()\n",
    "\n",
    "      _, predictions = outputs.max(1)\n",
    "      total += labels.size(0)\n",
    "      correct += predictions.eq(labels).sum().item()\n",
    "   \n",
    "  test_loss=running_loss/len(test_loader)\n",
    "  accu=100.*correct/total\n",
    " \n",
    "  eval_losses.append(test_loss)\n",
    "  eval_accu.append(accu)\n",
    " \n",
    "  return test_loss, accu"
   ]
  },
  {
   "cell_type": "code",
   "execution_count": 34,
   "metadata": {},
   "outputs": [
    {
     "name": "stdout",
     "output_type": "stream",
     "text": [
      "Epoch: 1\n",
      "Train: Loss: 0.44068903478483357, Accuracy: 84.19166666666666%\n",
      "Test: Loss 0.37630811107655365, Accuracy: 86.09333333333333%\n",
      "Epoch: 2\n",
      "Train: Loss: 0.302056394033134, Accuracy: 89.23333333333333%\n",
      "Test: Loss 0.2551230079183976, Accuracy: 90.775%\n",
      "Epoch: 3\n",
      "Train: Loss: 0.26251865639040867, Accuracy: 90.59%\n",
      "Test: Loss 0.23291515901684762, Accuracy: 91.67%\n",
      "Epoch: 4\n",
      "Train: Loss: 0.2370125970741113, Accuracy: 91.57833333333333%\n",
      "Test: Loss 0.19686771905670564, Accuracy: 93.00166666666667%\n",
      "Epoch: 5\n",
      "Train: Loss: 0.2162132052021722, Accuracy: 92.235%\n",
      "Test: Loss 0.18370224637289842, Accuracy: 93.45%\n",
      "Epoch: 6\n",
      "Train: Loss: 0.2008614488442739, Accuracy: 92.90833333333333%\n",
      "Test: Loss 0.18226292944823702, Accuracy: 93.47666666666667%\n",
      "Epoch: 7\n",
      "Train: Loss: 0.18543479306002458, Accuracy: 93.41%\n",
      "Test: Loss 0.17245446923499305, Accuracy: 93.87333333333333%\n",
      "Epoch: 8\n",
      "Train: Loss: 0.17667681232094765, Accuracy: 93.69333333333333%\n",
      "Test: Loss 0.17191670754303534, Accuracy: 93.94%\n",
      "Epoch: 9\n",
      "Train: Loss: 0.16545532398546736, Accuracy: 93.925%\n",
      "Test: Loss 0.15443057666222254, Accuracy: 94.385%\n",
      "Epoch: 10\n",
      "Train: Loss: 0.15309846465475857, Accuracy: 94.46833333333333%\n",
      "Test: Loss 0.1536692078753064, Accuracy: 94.355%\n",
      "Epoch: 11\n",
      "Train: Loss: 0.14674695891172937, Accuracy: 94.645%\n",
      "Test: Loss 0.17488606748481592, Accuracy: 93.605%\n",
      "Epoch: 12\n",
      "Train: Loss: 0.13941333030040065, Accuracy: 95.02666666666667%\n",
      "Test: Loss 0.18669625708833337, Accuracy: 93.49333333333334%\n",
      "Epoch: 13\n",
      "Train: Loss: 0.129477815212061, Accuracy: 95.31166666666667%\n",
      "Test: Loss 0.19598138314671815, Accuracy: 93.22666666666667%\n",
      "Epoch: 14\n",
      "Train: Loss: 0.12002988721244037, Accuracy: 95.62166666666667%\n",
      "Test: Loss 0.1691540444114556, Accuracy: 94.09333333333333%\n",
      "Epoch: 15\n",
      "Train: Loss: 0.1113549720775336, Accuracy: 95.94666666666667%\n",
      "Test: Loss 0.1859239913492153, Accuracy: 93.40833333333333%\n",
      "Epoch: 16\n",
      "Train: Loss: 0.10954697455279529, Accuracy: 96.04166666666667%\n",
      "Test: Loss 0.1352692015422508, Accuracy: 95.29333333333334%\n",
      "Epoch: 17\n",
      "Train: Loss: 0.10384465789111952, Accuracy: 96.21833333333333%\n",
      "Test: Loss 0.1385079469686995, Accuracy: 95.02%\n",
      "Epoch: 18\n",
      "Train: Loss: 0.09401997087523341, Accuracy: 96.68833333333333%\n",
      "Test: Loss 0.1302056206498916, Accuracy: 95.42166666666667%\n",
      "Epoch: 19\n",
      "Train: Loss: 0.09406983262083182, Accuracy: 96.62666666666667%\n",
      "Test: Loss 0.10600431216259798, Accuracy: 96.32%\n",
      "Epoch: 20\n",
      "Train: Loss: 0.09006247138371691, Accuracy: 96.765%\n",
      "Test: Loss 0.135918873581104, Accuracy: 95.16333333333333%\n",
      "Epoch: 21\n",
      "Train: Loss: 0.09141186790540815, Accuracy: 96.63%\n",
      "Test: Loss 0.15201600901782514, Accuracy: 94.57833333333333%\n",
      "Epoch: 22\n",
      "Train: Loss: 0.08209638703769694, Accuracy: 97.02333333333333%\n",
      "Test: Loss 0.11460094226213793, Accuracy: 95.87166666666667%\n",
      "Epoch: 23\n",
      "Train: Loss: 0.08223848789619903, Accuracy: 96.915%\n",
      "Test: Loss 0.14901886311204482, Accuracy: 94.765%\n",
      "Epoch: 24\n",
      "Train: Loss: 0.07827093335799873, Accuracy: 97.15333333333334%\n",
      "Test: Loss 0.10221775746128212, Accuracy: 96.375%\n",
      "Epoch: 25\n",
      "Train: Loss: 0.0681864109270585, Accuracy: 97.47166666666666%\n",
      "Test: Loss 0.09468057732408246, Accuracy: 96.68%\n",
      "Epoch: 26\n",
      "Train: Loss: 0.06548450919566676, Accuracy: 97.55666666666667%\n",
      "Test: Loss 0.14754419406565528, Accuracy: 95.45%\n",
      "Epoch: 27\n",
      "Train: Loss: 0.06959820168092846, Accuracy: 97.43666666666667%\n",
      "Test: Loss 0.12947695607474694, Accuracy: 95.90666666666667%\n",
      "Epoch: 28\n",
      "Train: Loss: 0.06740223152951028, Accuracy: 97.55666666666667%\n",
      "Test: Loss 0.10871638848135869, Accuracy: 96.57666666666667%\n",
      "Epoch: 29\n",
      "Train: Loss: 0.06077223109702269, Accuracy: 97.735%\n",
      "Test: Loss 0.1097271373126811, Accuracy: 96.57666666666667%\n",
      "Epoch: 30\n",
      "Train: Loss: 0.05920771407390324, Accuracy: 97.79833333333333%\n",
      "Test: Loss 0.12176263575597356, Accuracy: 96.27333333333333%\n",
      "Epoch: 31\n",
      "Train: Loss: 0.05831688333593774, Accuracy: 97.87%\n",
      "Test: Loss 0.11900005888349066, Accuracy: 96.35%\n",
      "Epoch: 32\n",
      "Train: Loss: 0.05352233868907206, Accuracy: 97.96333333333334%\n",
      "Test: Loss 0.10610024144368557, Accuracy: 96.87833333333333%\n",
      "Epoch: 33\n",
      "Train: Loss: 0.053898878548449526, Accuracy: 98.01833333333333%\n",
      "Test: Loss 0.1566613555396907, Accuracy: 95.75333333333333%\n",
      "Epoch: 34\n",
      "Train: Loss: 0.05994331606120492, Accuracy: 97.89166666666667%\n",
      "Test: Loss 0.126509042030666, Accuracy: 96.095%\n",
      "Epoch: 35\n",
      "Train: Loss: 0.05340210466141192, Accuracy: 98.01%\n",
      "Test: Loss 0.12046311473512712, Accuracy: 96.37%\n",
      "Epoch: 36\n",
      "Train: Loss: 0.05257322040638731, Accuracy: 98.06%\n",
      "Test: Loss 0.15357569001653854, Accuracy: 95.93833333333333%\n",
      "Epoch: 37\n",
      "Train: Loss: 0.053038008945101564, Accuracy: 98.04%\n",
      "Test: Loss 0.12115105611136338, Accuracy: 96.495%\n",
      "Epoch: 38\n",
      "Train: Loss: 0.055467540217602314, Accuracy: 97.98166666666667%\n",
      "Test: Loss 0.11941260642255656, Accuracy: 96.44666666666667%\n",
      "Epoch: 39\n",
      "Train: Loss: 0.05160103276488371, Accuracy: 98.19833333333334%\n",
      "Test: Loss 0.10961219102415877, Accuracy: 96.86333333333333%\n",
      "Epoch: 40\n",
      "Train: Loss: 0.049462607216555626, Accuracy: 98.27%\n",
      "Test: Loss 0.09280097086065021, Accuracy: 97.28833333333333%\n",
      "Epoch: 41\n",
      "Train: Loss: 0.04284672541087881, Accuracy: 98.46833333333333%\n",
      "Test: Loss 0.10804420576566676, Accuracy: 96.92333333333333%\n",
      "Epoch: 42\n",
      "Train: Loss: 0.046133416964730715, Accuracy: 98.40666666666667%\n",
      "Test: Loss 0.09258334201246422, Accuracy: 97.33666666666667%\n",
      "Epoch: 43\n",
      "Train: Loss: 0.04631794358603656, Accuracy: 98.32833333333333%\n",
      "Test: Loss 0.08875465846950344, Accuracy: 97.34%\n",
      "Epoch: 44\n",
      "Train: Loss: 0.04366661926479234, Accuracy: 98.43333333333334%\n",
      "Test: Loss 0.08714241960503083, Accuracy: 97.36%\n",
      "Epoch: 45\n",
      "Train: Loss: 0.04038430988041607, Accuracy: 98.555%\n",
      "Test: Loss 0.09693553021061234, Accuracy: 97.13666666666667%\n",
      "Epoch: 46\n",
      "Train: Loss: 0.041711964932231546, Accuracy: 98.52666666666667%\n",
      "Test: Loss 0.087283363379053, Accuracy: 97.51166666666667%\n",
      "Epoch: 47\n",
      "Train: Loss: 0.03924244689561116, Accuracy: 98.59666666666666%\n",
      "Test: Loss 0.09067532794210517, Accuracy: 97.38666666666667%\n",
      "Epoch: 48\n",
      "Train: Loss: 0.03987014748776952, Accuracy: 98.57333333333334%\n",
      "Test: Loss 0.09607081513298908, Accuracy: 97.29833333333333%\n",
      "Epoch: 49\n",
      "Train: Loss: 0.03781457942551545, Accuracy: 98.63833333333334%\n",
      "Test: Loss 0.08333263031791527, Accuracy: 97.67833333333333%\n",
      "Epoch: 50\n",
      "Train: Loss: 0.03439889899105765, Accuracy: 98.75333333333333%\n",
      "Test: Loss 0.09566302267252468, Accuracy: 97.46166666666667%\n",
      "Epoch: 51\n",
      "Train: Loss: 0.03698789181697066, Accuracy: 98.65833333333333%\n",
      "Test: Loss 0.1216422146189143, Accuracy: 96.775%\n",
      "Epoch: 52\n",
      "Train: Loss: 0.04073126379800669, Accuracy: 98.655%\n",
      "Test: Loss 0.0940180407910278, Accuracy: 97.50833333333334%\n",
      "Epoch: 53\n",
      "Train: Loss: 0.031279390871495706, Accuracy: 98.88833333333334%\n",
      "Test: Loss 0.10343986415377003, Accuracy: 97.38833333333334%\n",
      "Epoch: 54\n",
      "Train: Loss: 0.036645233200457976, Accuracy: 98.73333333333333%\n",
      "Test: Loss 0.10448375062522246, Accuracy: 97.21166666666667%\n",
      "Epoch: 55\n",
      "Train: Loss: 0.037824325606731386, Accuracy: 98.645%\n",
      "Test: Loss 0.08965082983670679, Accuracy: 97.54166666666667%\n",
      "Epoch: 56\n",
      "Train: Loss: 0.03553751067239015, Accuracy: 98.755%\n",
      "Test: Loss 0.07392217451279673, Accuracy: 98.06%\n",
      "Epoch: 57\n",
      "Train: Loss: 0.029716846932521246, Accuracy: 98.92333333333333%\n",
      "Test: Loss 0.08568172346317927, Accuracy: 97.71%\n",
      "Epoch: 58\n",
      "Train: Loss: 0.03492471884625654, Accuracy: 98.85333333333334%\n",
      "Test: Loss 0.09922068220703902, Accuracy: 97.41%\n",
      "Epoch: 59\n",
      "Train: Loss: 0.033662475729070135, Accuracy: 98.81333333333333%\n",
      "Test: Loss 0.08385387680180428, Accuracy: 97.64833333333333%\n",
      "Epoch: 60\n",
      "Train: Loss: 0.031636281794344544, Accuracy: 98.90166666666667%\n",
      "Test: Loss 0.07906936740289287, Accuracy: 97.9%\n",
      "Epoch: 61\n",
      "Train: Loss: 0.03332177254904915, Accuracy: 98.845%\n",
      "Test: Loss 0.10254581887944368, Accuracy: 97.34166666666667%\n",
      "Epoch: 62\n",
      "Train: Loss: 0.030329933760270555, Accuracy: 98.96166666666667%\n",
      "Test: Loss 0.11525775414653859, Accuracy: 97.28666666666666%\n",
      "Epoch: 63\n",
      "Train: Loss: 0.033054947798494445, Accuracy: 98.9%\n",
      "Test: Loss 0.09268107974336696, Accuracy: 97.535%\n",
      "Epoch: 64\n",
      "Train: Loss: 0.033546828321244296, Accuracy: 98.915%\n",
      "Test: Loss 0.10520052265065412, Accuracy: 97.375%\n",
      "Epoch: 65\n",
      "Train: Loss: 0.030018007166315027, Accuracy: 99.01333333333334%\n",
      "Test: Loss 0.1118043816461674, Accuracy: 97.25%\n",
      "Epoch: 66\n",
      "Train: Loss: 0.028989329707892465, Accuracy: 99.05166666666666%\n",
      "Test: Loss 0.1053895165121018, Accuracy: 97.42833333333333%\n",
      "Epoch: 67\n",
      "Train: Loss: 0.029795947847208785, Accuracy: 99.00833333333334%\n",
      "Test: Loss 0.08309150167056942, Accuracy: 97.93333333333334%\n",
      "Epoch: 68\n",
      "Train: Loss: 0.027745971810703242, Accuracy: 99.05333333333333%\n",
      "Test: Loss 0.06591777646140448, Accuracy: 98.12333333333333%\n",
      "Epoch: 69\n",
      "Train: Loss: 0.02952601654352596, Accuracy: 99.02833333333334%\n",
      "Test: Loss 0.10967124442070296, Accuracy: 97.285%\n",
      "Epoch: 70\n",
      "Train: Loss: 0.02583738692878493, Accuracy: 99.08666666666667%\n",
      "Test: Loss 0.07065319701907963, Accuracy: 98.01833333333333%\n",
      "Epoch: 71\n",
      "Train: Loss: 0.031408889622980496, Accuracy: 98.93833333333333%\n",
      "Test: Loss 0.11350322079810818, Accuracy: 97.31333333333333%\n",
      "Epoch: 72\n",
      "Train: Loss: 0.028532845377276315, Accuracy: 99.01666666666667%\n",
      "Test: Loss 0.06775702376102952, Accuracy: 98.105%\n",
      "Epoch: 73\n",
      "Train: Loss: 0.026716137328706584, Accuracy: 99.105%\n",
      "Test: Loss 0.08168526399836992, Accuracy: 97.92666666666666%\n",
      "Epoch: 74\n",
      "Train: Loss: 0.031144421978745715, Accuracy: 99.02666666666667%\n",
      "Test: Loss 0.12703512736033493, Accuracy: 96.87333333333333%\n",
      "Epoch: 75\n",
      "Train: Loss: 0.024781762120583153, Accuracy: 99.175%\n",
      "Test: Loss 0.058551631260609915, Accuracy: 98.42%\n",
      "Epoch: 76\n",
      "Train: Loss: 0.025184599395397526, Accuracy: 99.135%\n",
      "Test: Loss 0.07507643420186165, Accuracy: 98.075%\n",
      "Epoch: 77\n",
      "Train: Loss: 0.027376360504161614, Accuracy: 99.07666666666667%\n",
      "Test: Loss 0.12158070674172147, Accuracy: 97.31666666666666%\n",
      "Epoch: 78\n",
      "Train: Loss: 0.030587366277716986, Accuracy: 99.04666666666667%\n",
      "Test: Loss 0.08172278534135936, Accuracy: 98.06833333333333%\n",
      "Epoch: 79\n",
      "Train: Loss: 0.027420361999899494, Accuracy: 99.04666666666667%\n",
      "Test: Loss 0.07815066959777141, Accuracy: 98.05333333333333%\n",
      "Epoch: 80\n",
      "Train: Loss: 0.026234095714319967, Accuracy: 99.155%\n",
      "Test: Loss 0.07581935513628044, Accuracy: 98.12833333333333%\n",
      "Epoch: 81\n",
      "Train: Loss: 0.02344494948236388, Accuracy: 99.20833333333333%\n",
      "Test: Loss 0.07982815352029624, Accuracy: 98.105%\n",
      "Epoch: 82\n",
      "Train: Loss: 0.02641017480116716, Accuracy: 99.10333333333334%\n",
      "Test: Loss 0.06617945489568228, Accuracy: 98.28833333333333%\n",
      "Epoch: 83\n",
      "Train: Loss: 0.02749900191831936, Accuracy: 99.085%\n",
      "Test: Loss 0.06493942213446037, Accuracy: 98.22666666666667%\n",
      "Epoch: 84\n",
      "Train: Loss: 0.021100719462401683, Accuracy: 99.27666666666667%\n",
      "Test: Loss 0.05982630486519156, Accuracy: 98.505%\n",
      "Epoch: 85\n",
      "Train: Loss: 0.024642544425774987, Accuracy: 99.185%\n",
      "Test: Loss 0.06579838689425135, Accuracy: 98.33666666666667%\n",
      "Epoch: 86\n",
      "Train: Loss: 0.02584711579339758, Accuracy: 99.18833333333333%\n",
      "Test: Loss 0.07768759641787862, Accuracy: 98.14%\n",
      "Epoch: 87\n",
      "Train: Loss: 0.024325117516103393, Accuracy: 99.18666666666667%\n",
      "Test: Loss 0.08125550286548484, Accuracy: 98.13833333333334%\n",
      "Epoch: 88\n",
      "Train: Loss: 0.023471791877273062, Accuracy: 99.19833333333334%\n",
      "Test: Loss 0.04846925887272846, Accuracy: 98.73666666666666%\n",
      "Epoch: 89\n",
      "Train: Loss: 0.022867359101774128, Accuracy: 99.22333333333333%\n",
      "Test: Loss 0.08937121326244475, Accuracy: 97.87166666666667%\n",
      "Epoch: 90\n",
      "Train: Loss: 0.02896690094144712, Accuracy: 99.09166666666667%\n",
      "Test: Loss 0.11838917278547645, Accuracy: 97.38333333333334%\n",
      "Epoch: 91\n",
      "Train: Loss: 0.026431939554022392, Accuracy: 99.15833333333333%\n",
      "Test: Loss 0.07717491297270196, Accuracy: 98.09833333333333%\n",
      "Epoch: 92\n",
      "Train: Loss: 0.020121778032274353, Accuracy: 99.33166666666666%\n",
      "Test: Loss 0.08371986412768213, Accuracy: 97.77166666666666%\n",
      "Epoch: 93\n",
      "Train: Loss: 0.023534785028923578, Accuracy: 99.23333333333333%\n",
      "Test: Loss 0.08570420404930701, Accuracy: 97.865%\n",
      "Epoch: 94\n",
      "Train: Loss: 0.02492536795706466, Accuracy: 99.21%\n",
      "Test: Loss 0.07176759434375829, Accuracy: 98.2%\n",
      "Epoch: 95\n",
      "Train: Loss: 0.0220051729217145, Accuracy: 99.27833333333334%\n",
      "Test: Loss 0.05612057384367138, Accuracy: 98.63166666666666%\n",
      "Epoch: 96\n",
      "Train: Loss: 0.023009269795272, Accuracy: 99.265%\n",
      "Test: Loss 0.0792566738515355, Accuracy: 98.02%\n",
      "Epoch: 97\n",
      "Train: Loss: 0.023341319970100662, Accuracy: 99.22666666666667%\n",
      "Test: Loss 0.08223116865877272, Accuracy: 98.09%\n",
      "Epoch: 98\n",
      "Train: Loss: 0.020494412439741913, Accuracy: 99.34166666666667%\n",
      "Test: Loss 0.060598764962748346, Accuracy: 98.46%\n",
      "Epoch: 99\n",
      "Train: Loss: 0.02520800632457849, Accuracy: 99.22666666666667%\n",
      "Test: Loss 0.08846160978839179, Accuracy: 97.96666666666667%\n",
      "Epoch: 100\n",
      "Train: Loss: 0.0235758538774553, Accuracy: 99.26166666666667%\n",
      "Test: Loss 0.04756353363292571, Accuracy: 98.73666666666666%\n"
     ]
    }
   ],
   "source": [
    "epochs=100\n",
    "train_accu, eval_accu, train_losses, eval_losses = [], [], [], []\n",
    "for epoch in range(1,epochs+1): \n",
    "  train_loss, train_accuracy = train(epoch)\n",
    "  test_loss, test_accuracy = test(epoch)\n",
    "  print(\"Epoch: {}\\nTrain: Loss: {}, Accuracy: {}%\\nTest: Loss {}, Accuracy: {}%\".format(epoch, train_loss, train_accuracy, test_loss, test_accuracy))\n",
    "  "
   ]
  },
  {
   "cell_type": "code",
   "execution_count": 48,
   "metadata": {},
   "outputs": [],
   "source": [
    "import os\n",
    "\n",
    "if not os.path.exists('./diagrams'):\n",
    "    os.makedirs('./diagrams')"
   ]
  },
  {
   "cell_type": "code",
   "execution_count": 54,
   "metadata": {},
   "outputs": [
    {
     "data": {
      "image/png": "[encoded data removed]",
      "text/plain": [
       "<Figure size 1152x720 with 1 Axes>"
      ]
     },
     "metadata": {
      "needs_background": "light"
     },
     "output_type": "display_data"
    }
   ],
   "source": [
    "plt.figure(figsize=(16,10))\n",
    "\n",
    "plt.plot(train_accu)\n",
    "plt.plot(eval_accu)\n",
    "plt.xlabel('epoch')\n",
    "plt.ylabel('accuracy')\n",
    "plt.legend(['Train','Valid'])\n",
    "plt.title('Train vs Valid Accuracy')\n",
    "\n",
    "plt.savefig('./diagrams/cNN_Train_vs_Valid_Acc.png')"
   ]
  },
  {
   "cell_type": "code",
   "execution_count": 55,
   "metadata": {},
   "outputs": [
    {
     "data": {
      "image/png": "[encoded data removed]",
      "text/plain": [
       "<Figure size 1152x720 with 1 Axes>"
      ]
     },
     "metadata": {
      "needs_background": "light"
     },
     "output_type": "display_data"
    }
   ],
   "source": [
    "plt.figure(figsize=(16,10))\n",
    "\n",
    "plt.plot(train_losses)\n",
    "plt.plot(eval_losses)\n",
    "plt.xlabel('epoch')\n",
    "plt.ylabel('losses')\n",
    "plt.legend(['Train','Valid'])\n",
    "plt.title('Train vs Valid Losses')\n",
    " \n",
    "plt.savefig('./diagrams/cNN_Train_vs_Valid_loss.png')"
   ]
  },
  {
   "cell_type": "markdown",
   "metadata": {},
   "source": [
    "From the graph we can see a downward trend of loss vs epoch. Perhaps a reason for the spikes in loss could be just due to the randomness of the batch sampling. An unlucky sampling could have led to the loss increasing compared to the previous iterations but overall the loss has a downward trend as iterations increase."
   ]
  },
  {
   "cell_type": "code",
   "execution_count": 56,
   "metadata": {},
   "outputs": [
    {
     "name": "stdout",
     "output_type": "stream",
     "text": [
      "Accuracy of T-shirt/Top: 96.98%\n",
      "Accuracy of Trouser: 99.97%\n",
      "Accuracy of Pullover: 97.27%\n",
      "Accuracy of Dress: 98.93%\n",
      "Accuracy of Coat: 98.53%\n",
      "Accuracy of Sandal: 99.98%\n",
      "Accuracy of Shirt: 95.95%\n",
      "Accuracy of Sneaker: 99.93%\n",
      "Accuracy of Bag: 99.95%\n",
      "Accuracy of Ankle Boot: 99.87%\n"
     ]
    }
   ],
   "source": [
    "class_correct = [0. for _ in range(10)]\n",
    "total_correct = [0. for _ in range(10)]\n",
    "\n",
    "with torch.no_grad():\n",
    "    for images, labels in test_loader:\n",
    "        images, labels = images.to(device), labels.to(device)\n",
    "        outputs = model(images)\n",
    "        _, predicted = outputs.max(1)\n",
    "        c = (predicted == labels).squeeze()\n",
    "        \n",
    "        for i in range(100):\n",
    "            label = labels[i]\n",
    "            class_correct[label] += c[i].item()\n",
    "            total_correct[label] += 1\n",
    "        \n",
    "for i in range(10):\n",
    "    print(\"Accuracy of {}: {:.2f}%\".format(output_label(i), class_correct[i] * 100 / total_correct[i]))"
   ]
  },
  {
   "cell_type": "code",
   "execution_count": 57,
   "metadata": {},
   "outputs": [],
   "source": [
    "# https://debuggercafe.com/visualizing-filters-and-feature-maps-in-convolutional-neural-networks-using-pytorch/\n",
    "model_weights = [] # we will save the conv layer weights in this list\n",
    "conv_layers = [] # we will save the 49 conv layers in this list\n",
    "# get all the model children as list\n",
    "model_children = list(model.children())"
   ]
  },
  {
   "cell_type": "code",
   "execution_count": 65,
   "metadata": {},
   "outputs": [
    {
     "name": "stdout",
     "output_type": "stream",
     "text": [
      "Total convolutional layers: 2\n"
     ]
    }
   ],
   "source": [
    "# counter to keep count of the conv layers\n",
    "counter = 0 \n",
    "# append all the conv layers and their respective weights to the list\n",
    "for i in range(len(model_children)):\n",
    "    if type(model_children[i]) == nn.Conv2d:\n",
    "        counter += 1\n",
    "        model_weights.append(model_children[i].weight)\n",
    "        conv_layers.append(model_children[i])\n",
    "    elif type(model_children[i]) == nn.Sequential:\n",
    "        for child in model_children[i].children():\n",
    "            if type(child) == nn.Conv2d:\n",
    "                counter += 1\n",
    "                model_weights.append(child.weight)\n",
    "                conv_layers.append(child)\n",
    "print(f\"Total convolutional layers: {counter}\")"
   ]
  },
  {
   "cell_type": "code",
   "execution_count": 67,
   "metadata": {},
   "outputs": [
    {
     "name": "stdout",
     "output_type": "stream",
     "text": [
      "CONV: Conv2d(1, 32, kernel_size=(3, 3), stride=(1, 1), padding=(1, 1)) ====> SHAPE: torch.Size([32, 1, 3, 3])\n",
      "CONV: Conv2d(32, 64, kernel_size=(3, 3), stride=(1, 1)) ====> SHAPE: torch.Size([64, 32, 3, 3])\n"
     ]
    }
   ],
   "source": [
    "# take a look at the conv layers and the respective weights\n",
    "for weight, conv in zip(model_weights, conv_layers):\n",
    "    # print(f\"WEIGHT: {weight} \\nSHAPE: {weight.shape}\")\n",
    "    print(f\"CONV: {conv} ====> SHAPE: {weight.shape}\")"
   ]
  },
  {
   "cell_type": "code",
   "execution_count": 106,
   "metadata": {},
   "outputs": [
    {
     "data": {
      "image/png": "[encoded data removed]",
      "text/plain": [
       "<Figure size 1440x1224 with 32 Axes>"
      ]
     },
     "metadata": {
      "needs_background": "light"
     },
     "output_type": "display_data"
    }
   ],
   "source": [
    "# visualize the first conv layer filters\n",
    "plt.figure(figsize=(20, 17))\n",
    "for i, filter in enumerate(model_weights[0].cpu()):\n",
    "    plt.subplot(8, 8, i+1) # (8, 8) because in conv0 we have 7x7 filters and total of 64 (see printed shapes)\n",
    "    plt.imshow(filter[0, :, :].detach(), cmap='gray')\n",
    "    plt.axis('off')\n",
    "    plt.savefig('./diagrams/filter1.png')\n",
    "plt.show()"
   ]
  },
  {
   "cell_type": "code",
   "execution_count": 104,
   "metadata": {},
   "outputs": [
    {
     "data": {
      "image/png": "[encoded data removed]",
      "text/plain": [
       "<Figure size 1440x1224 with 64 Axes>"
      ]
     },
     "metadata": {
      "needs_background": "light"
     },
     "output_type": "display_data"
    }
   ],
   "source": [
    "# visualize the second conv layer filters\n",
    "plt.figure(figsize=(20, 17))\n",
    "for i, filter in enumerate(model_weights[1].cpu()):\n",
    "    plt.subplot(8, 8, i+1) # (8, 8) because in conv0 we have 7x7 filters and total of 64 (see printed shapes)\n",
    "    plt.imshow(filter[0, :, :].detach(), cmap='gray')\n",
    "    plt.axis('off')\n",
    "    plt.savefig('./diagrams/filter2.png')\n",
    "plt.show()"
   ]
  },
  {
   "cell_type": "code",
   "execution_count": 97,
   "metadata": {},
   "outputs": [
    {
     "name": "stdout",
     "output_type": "stream",
     "text": [
      "tensor([[[[-0.3243,  0.0057, -0.1834],\n",
      "          [-0.3555,  0.3243, -0.4326],\n",
      "          [ 0.3751,  0.0794,  0.4477]]],\n",
      "\n",
      "\n",
      "        [[[ 0.2042,  0.2393, -0.3902],\n",
      "          [-0.2416,  0.0586,  0.3219],\n",
      "          [-0.2565, -0.6752, -0.0495]]],\n",
      "\n",
      "\n",
      "        [[[ 0.2994,  0.2793,  0.1979],\n",
      "          [-0.1283, -0.0114, -0.0174],\n",
      "          [-0.3594, -0.5176,  0.3863]]],\n",
      "\n",
      "\n",
      "        [[[ 0.0603,  0.0814,  0.3541],\n",
      "          [ 0.2769, -0.4807,  0.0777],\n",
      "          [-0.4764,  0.1210,  0.2976]]],\n",
      "\n",
      "\n",
      "        [[[ 0.2864, -0.3447,  0.0312],\n",
      "          [ 0.1136, -0.3285, -0.3658],\n",
      "          [-0.2023,  0.5523,  0.0683]]],\n",
      "\n",
      "\n",
      "        [[[-0.5126,  0.5142,  0.1148],\n",
      "          [ 0.2278,  0.3988, -0.0409],\n",
      "          [-0.2172,  0.2252, -0.2283]]],\n",
      "\n",
      "\n",
      "        [[[-0.0609,  0.0271,  0.0442],\n",
      "          [-0.4212,  0.3240,  0.1164],\n",
      "          [ 0.2036,  0.3851, -0.5612]]],\n",
      "\n",
      "\n",
      "        [[[-0.2632, -0.2463,  0.5217],\n",
      "          [ 0.0419, -0.4285, -0.2895],\n",
      "          [-0.3395,  0.5035, -0.1641]]],\n",
      "\n",
      "\n",
      "        [[[ 0.2399,  0.2051, -0.0973],\n",
      "          [ 0.1779,  0.3417, -0.6495],\n",
      "          [ 0.0774,  0.2419, -0.1062]]],\n",
      "\n",
      "\n",
      "        [[[-0.0940,  0.4859, -0.5438],\n",
      "          [ 0.1704, -0.3206,  0.4408],\n",
      "          [-0.2351,  0.0332,  0.0912]]],\n",
      "\n",
      "\n",
      "        [[[ 0.2502,  0.0732, -0.1052],\n",
      "          [-0.2135, -0.5710, -0.1622],\n",
      "          [ 0.1349,  0.3171,  0.3858]]],\n",
      "\n",
      "\n",
      "        [[[-0.0430,  0.2114, -0.4002],\n",
      "          [ 0.0820,  0.4216,  0.0659],\n",
      "          [-0.4693,  0.4138, -0.2774]]],\n",
      "\n",
      "\n",
      "        [[[-0.1033,  0.2309, -0.1202],\n",
      "          [-0.4670, -0.1007,  0.5284],\n",
      "          [ 0.3453, -0.1443, -0.1952]]],\n",
      "\n",
      "\n",
      "        [[[-0.3252, -0.4684,  0.2182],\n",
      "          [ 0.1681,  0.3608,  0.1859],\n",
      "          [ 0.1868,  0.1177, -0.3928]]],\n",
      "\n",
      "\n",
      "        [[[-0.0257,  0.4128,  0.2267],\n",
      "          [ 0.0607, -0.6085, -0.1970],\n",
      "          [-0.1056,  0.3902, -0.0061]]],\n",
      "\n",
      "\n",
      "        [[[ 0.3788,  0.0081, -0.0510],\n",
      "          [ 0.2559,  0.2349,  0.1154],\n",
      "          [ 0.1720, -0.5896, -0.4408]]],\n",
      "\n",
      "\n",
      "        [[[ 0.2897, -0.3103,  0.0459],\n",
      "          [ 0.4331, -0.2252, -0.2301],\n",
      "          [-0.4232, -0.0122,  0.4492]]],\n",
      "\n",
      "\n",
      "        [[[ 0.1978, -0.4365, -0.5329],\n",
      "          [ 0.0436,  0.2082, -1.0266],\n",
      "          [ 0.3551, -0.2055, -0.2131]]],\n",
      "\n",
      "\n",
      "        [[[-0.3128, -0.0737,  0.1599],\n",
      "          [-0.4532,  0.4162,  0.1132],\n",
      "          [-0.4824,  0.2802,  0.2706]]],\n",
      "\n",
      "\n",
      "        [[[ 0.1887, -0.1470, -0.1675],\n",
      "          [ 0.0833, -0.0278,  0.8333],\n",
      "          [-0.0028, -0.1788,  0.7867]]],\n",
      "\n",
      "\n",
      "        [[[-0.3410,  0.4165, -0.0404],\n",
      "          [-0.3134,  0.3480, -0.0245],\n",
      "          [ 0.2989, -0.4072,  0.1135]]],\n",
      "\n",
      "\n",
      "        [[[ 0.3486, -0.0034, -0.3008],\n",
      "          [ 0.0173,  0.1977,  0.0354],\n",
      "          [-0.4946,  0.3444,  0.0811]]],\n",
      "\n",
      "\n",
      "        [[[-0.3948, -0.1155,  0.5859],\n",
      "          [-0.3696, -0.0172,  0.1991],\n",
      "          [-0.0426, -0.0787,  0.2234]]],\n",
      "\n",
      "\n",
      "        [[[ 0.1294,  0.3059, -0.3570],\n",
      "          [ 0.3815, -0.4217, -0.0910],\n",
      "          [-0.2388, -0.1493,  0.1354]]],\n",
      "\n",
      "\n",
      "        [[[ 0.5228,  0.2059, -0.2517],\n",
      "          [-0.4237, -0.0530, -0.4249],\n",
      "          [-0.1877,  0.3741,  0.0216]]],\n",
      "\n",
      "\n",
      "        [[[-0.1085, -0.2123, -0.2441],\n",
      "          [-0.1465, -0.4944,  0.1570],\n",
      "          [ 0.3893,  0.2698, -0.4228]]],\n",
      "\n",
      "\n",
      "        [[[ 0.1597, -0.3200, -0.0504],\n",
      "          [-0.5164,  0.2944, -0.1556],\n",
      "          [-0.3003,  0.4181, -0.1557]]],\n",
      "\n",
      "\n",
      "        [[[ 0.0134,  0.1385, -0.1124],\n",
      "          [-0.5878,  0.5066, -0.2987],\n",
      "          [ 0.1219, -0.1027, -0.2086]]],\n",
      "\n",
      "\n",
      "        [[[ 0.0279,  0.1816,  0.4625],\n",
      "          [-0.5887, -0.0188,  0.1227],\n",
      "          [-0.2538,  0.2659, -0.3063]]],\n",
      "\n",
      "\n",
      "        [[[ 0.4162, -0.4393,  0.1469],\n",
      "          [-0.0772, -0.4638,  0.4553],\n",
      "          [-0.0791,  0.1079, -0.0201]]],\n",
      "\n",
      "\n",
      "        [[[-0.2719,  0.2982,  0.1533],\n",
      "          [-0.0421, -0.4862,  0.1167],\n",
      "          [ 0.4533, -0.0861,  0.0141]]],\n",
      "\n",
      "\n",
      "        [[[-0.0474, -0.1733,  0.5402],\n",
      "          [ 0.1651, -0.4835, -0.4840],\n",
      "          [ 0.2647,  0.0184, -0.0287]]]], grad_fn=<CopyBackwards>)\n"
     ]
    }
   ],
   "source": [
    "print(model_weights[0].cpu())"
   ]
  },
  {
   "cell_type": "code",
   "execution_count": null,
   "metadata": {},
   "outputs": [],
   "source": [
    "plt.imsave('./diagrams/pullover.png', image.squeeze(), cmap=\"gray\")"
   ]
  },
  {
   "cell_type": "code",
   "execution_count": 89,
   "metadata": {},
   "outputs": [
    {
     "data": {
      "image/png": "[encoded data removed]",
      "text/plain": [
       "<Figure size 432x288 with 1 Axes>"
      ]
     },
     "metadata": {
      "needs_background": "light"
     },
     "output_type": "display_data"
    },
    {
     "name": "stdout",
     "output_type": "stream",
     "text": [
      "torch.Size([1, 28, 28])\n",
      "torch.Size([1, 1, 28, 28])\n"
     ]
    }
   ],
   "source": [
    "import cv2 as cv\n",
    "\n",
    "# read and visualize an image\n",
    "img = cv.imread(f\"./diagrams/pullover.png\")\n",
    "# img = cv.cvtColor(img, cv.COLOR_BGR2RGB)\n",
    "plt.imshow(img)\n",
    "plt.show()\n",
    "\n",
    "# define the transforms\n",
    "transform = transforms.Compose([\n",
    "    transforms.ToPILImage(),\n",
    "    transforms.Resize((28, 28)),\n",
    "    transforms.Grayscale(num_output_channels=1),\n",
    "    transforms.ToTensor(),\n",
    "])\n",
    "\n",
    "img = np.array(img)\n",
    "# apply the transforms\n",
    "img = transform(img)\n",
    "print(img.size())\n",
    "# unsqueeze to add a batch dimension\n",
    "img = img.unsqueeze(0)\n",
    "print(img.size())"
   ]
  },
  {
   "cell_type": "code",
   "execution_count": 91,
   "metadata": {},
   "outputs": [],
   "source": [
    "# pass the image through all the layers\n",
    "img = img.to(device)\n",
    "results = [conv_layers[0](img)]\n",
    "for i in range(1, len(conv_layers)):\n",
    "    # pass the result from the last layer to the next layer\n",
    "    results.append(conv_layers[i](results[-1]))\n",
    "# make a copy of the `results`\n",
    "outputs = results"
   ]
  },
  {
   "cell_type": "code",
   "execution_count": 94,
   "metadata": {},
   "outputs": [
    {
     "name": "stdout",
     "output_type": "stream",
     "text": [
      "torch.Size([32, 28, 28])\n",
      "Saving layer 0 feature maps...\n",
      "torch.Size([64, 26, 26])\n",
      "Saving layer 1 feature maps...\n"
     ]
    }
   ],
   "source": [
    "# visualize 64 features from each layer \n",
    "# (although there are more feature maps in the upper layers)\n",
    "for num_layer in range(len(outputs)):\n",
    "    plt.figure(figsize=(30, 30))\n",
    "    layer_viz = outputs[num_layer][0, :, :, :]\n",
    "    layer_viz = layer_viz.data\n",
    "    print(layer_viz.size())\n",
    "    for i, filter in enumerate(layer_viz):\n",
    "        if i == 64: # we will visualize only 8x8 blocks from each layer\n",
    "            break\n",
    "        plt.subplot(8, 8, i + 1)\n",
    "        plt.imshow(filter.cpu(), cmap='gray')\n",
    "        plt.axis(\"off\")\n",
    "    print(f\"Saving layer {num_layer} feature maps...\")\n",
    "    plt.savefig(f\"./diagrams/layer_{num_layer}.png\")\n",
    "    # plt.show()\n",
    "    plt.close()"
   ]
  },
  {
   "cell_type": "code",
   "execution_count": null,
   "metadata": {},
   "outputs": [],
   "source": []
  }
 ],
 "metadata": {
  "interpreter": {
   "hash": "a26ff82582be0ed5f057a749d3391963a753d71735083bd0110d44d1abf41696"
  },
  "kernelspec": {
   "display_name": "Python 3.8.8 64-bit ('base': conda)",
   "name": "python3"
  },
  "language_info": {
   "codemirror_mode": {
    "name": "ipython",
    "version": 3
   },
   "file_extension": ".py",
   "mimetype": "text/x-python",
   "name": "python",
   "nbconvert_exporter": "python",
   "pygments_lexer": "ipython3",
   "version": "3.8.8"
  },
  "orig_nbformat": 4
 },
 "nbformat": 4,
 "nbformat_minor": 2
}
