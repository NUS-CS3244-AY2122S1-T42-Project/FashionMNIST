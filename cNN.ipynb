{
 "cells": [
  {
   "cell_type": "code",
   "execution_count": 31,
   "metadata": {},
   "outputs": [],
   "source": [
    "import numpy as np\n",
    "import pandas as pd\n",
    "import matplotlib.pyplot as plt\n",
    "\n",
    "import torch\n",
    "import torch.nn as nn\n",
    "from torch.autograd import Variable\n",
    "\n",
    "import torchvision\n",
    "import torchvision.transforms as transforms\n",
    "from torch.utils.data import Dataset, DataLoader\n",
    "from sklearn.metrics import confusion_matrix"
   ]
  },
  {
   "cell_type": "markdown",
   "metadata": {},
   "source": [
    "I had some difficulties uninstalling pytorch without cuda to replace it so I just created another virtual env and ran it in that. (I think this only needs to be done when you try to run it local)\n",
    "\n",
    "After activating the venv you can install the pytorch with cuda with the following command.\n",
    "\n",
    "`pip3 install torch==1.9.1+cu111 torchvision==0.10.1+cu111 torchaudio==0.9.1 -f https://download.pytorch.org/whl/torch_stable.html`\n"
   ]
  },
  {
   "cell_type": "code",
   "execution_count": 32,
   "metadata": {},
   "outputs": [
    {
     "name": "stdout",
     "output_type": "stream",
     "text": [
      "cuda:0\n"
     ]
    }
   ],
   "source": [
    "device = torch.device(\"cuda:0\" if torch.cuda.is_available() else \"cpu\")\n",
    "print(device)"
   ]
  },
  {
   "cell_type": "code",
   "execution_count": 33,
   "metadata": {},
   "outputs": [
    {
     "data": {
      "text/plain": [
       "tensor([0.], device='cuda:0')"
      ]
     },
     "execution_count": 33,
     "metadata": {},
     "output_type": "execute_result"
    }
   ],
   "source": [
    "torch.zeros(1).cuda()"
   ]
  },
  {
   "cell_type": "code",
   "execution_count": 34,
   "metadata": {},
   "outputs": [],
   "source": [
    "train_csv = pd.read_csv(\"../data/fashion-mnist_train.csv\")\n",
    "test_csv = pd.read_csv(\"../data/fashion-mnist_test.csv\")"
   ]
  },
  {
   "cell_type": "code",
   "execution_count": 35,
   "metadata": {},
   "outputs": [],
   "source": [
    "class FashionDataset(Dataset):\n",
    "    \"\"\"User defined class to build a datset using Pytorch class Dataset.\"\"\"\n",
    "    \n",
    "    def __init__(self, data, transform = None):\n",
    "        \"\"\"Method to initilaize variables.\"\"\" \n",
    "        self.fashion_MNIST = list(data.values)\n",
    "        self.transform = transform\n",
    "        \n",
    "        label = []\n",
    "        image = []\n",
    "        \n",
    "        for i in self.fashion_MNIST:\n",
    "             # first column is of labels.\n",
    "            label.append(i[0])\n",
    "            image.append(i[1:])\n",
    "        self.labels = np.asarray(label)\n",
    "        # Dimension of Images = 28 * 28 * 1. where height = width = 28 and color_channels = 1.\n",
    "        self.images = np.asarray(image).reshape(-1, 28, 28, 1).astype('float32')\n",
    "\n",
    "    def __getitem__(self, index):\n",
    "        label = self.labels[index]\n",
    "        image = self.images[index]\n",
    "        \n",
    "        if self.transform is not None:\n",
    "            image = self.transform(image)\n",
    "\n",
    "        return image, label\n",
    "\n",
    "    def __len__(self):\n",
    "        return len(self.images)"
   ]
  },
  {
   "cell_type": "code",
   "execution_count": 36,
   "metadata": {},
   "outputs": [],
   "source": [
    "# Transform data into Tensor that has a range from 0 to 1\n",
    "train_set = FashionDataset(train_csv, transform=transforms.Compose([transforms.ToTensor()]))\n",
    "test_set = FashionDataset(test_csv, transform=transforms.Compose([transforms.ToTensor()]))\n",
    "\n",
    "train_loader = DataLoader(train_set, batch_size=100)\n",
    "test_loader = DataLoader(train_set, batch_size=100)"
   ]
  },
  {
   "cell_type": "markdown",
   "metadata": {},
   "source": [
    "All the above has been done to load data in batches into the model. We use the DataLoader class from torch.utils.data. We also initialize the device to be used as the GPU instead of CPU.\n",
    "\n",
    "The FashionDataset class has two methods: \n",
    "- get_item(index) -> image and label of item at index\n",
    "- len() -> number of items in the dataset"
   ]
  },
  {
   "cell_type": "code",
   "execution_count": 37,
   "metadata": {},
   "outputs": [],
   "source": [
    "# Mapping label number to a more meaningful label\n",
    "\n",
    "def output_label(label):\n",
    "    output_mapping = {\n",
    "        0: \"T-shirt/Top\",\n",
    "        1: \"Trouser\",\n",
    "        2: \"Pullover\",\n",
    "        3: \"Dress\",\n",
    "        4: \"Coat\", \n",
    "        5: \"Sandal\", \n",
    "        6: \"Shirt\",\n",
    "        7: \"Sneaker\",\n",
    "        8: \"Bag\",\n",
    "        9: \"Ankle Boot\"\n",
    "    }\n",
    "    input = (label.item() if type(label) == torch.Tensor else label)\n",
    "    return output_mapping[input]"
   ]
  },
  {
   "cell_type": "code",
   "execution_count": 38,
   "metadata": {},
   "outputs": [
    {
     "name": "stdout",
     "output_type": "stream",
     "text": [
      "2\n"
     ]
    },
    {
     "data": {
      "image/png": "[encoded data removed]",
      "text/plain": [
       "<Figure size 432x288 with 1 Axes>"
      ]
     },
     "metadata": {
      "needs_background": "light"
     },
     "output_type": "display_data"
    }
   ],
   "source": [
    "# displaying image using matplotlib imshow()\n",
    "image, label = next(iter(train_set))\n",
    "plt.imshow(image.squeeze(), cmap=\"gray\")\n",
    "print(label)"
   ]
  },
  {
   "cell_type": "code",
   "execution_count": 39,
   "metadata": {},
   "outputs": [
    {
     "name": "stdout",
     "output_type": "stream",
     "text": [
      "<class 'torch.Tensor'> <class 'torch.Tensor'>\n",
      "torch.Size([10, 1, 28, 28]) torch.Size([10])\n"
     ]
    }
   ],
   "source": [
    "demo_loader = torch.utils.data.DataLoader(train_set, batch_size=10)\n",
    "\n",
    "batch = next(iter(demo_loader))\n",
    "images, labels = batch\n",
    "print(type(images), type(labels))\n",
    "print(images.shape, labels.shape)"
   ]
  },
  {
   "cell_type": "code",
   "execution_count": 40,
   "metadata": {},
   "outputs": [
    {
     "name": "stderr",
     "output_type": "stream",
     "text": [
      "Clipping input data to the valid range for imshow with RGB data ([0..1] for floats or [0..255] for integers).\n"
     ]
    },
    {
     "name": "stdout",
     "output_type": "stream",
     "text": [
      "labels:  Pullover, Ankle Boot, Shirt, T-shirt/Top, Dress, Coat, Coat, Sandal, Coat, Bag, "
     ]
    },
    {
     "data": {
      "image/png": "[encoded data removed]",
      "text/plain": [
       "<Figure size 1080x1440 with 1 Axes>"
      ]
     },
     "metadata": {
      "needs_background": "light"
     },
     "output_type": "display_data"
    }
   ],
   "source": [
    "grid = torchvision.utils.make_grid(images, nrow=10)\n",
    "\n",
    "plt.figure(figsize=(15, 20))\n",
    "plt.imshow(np.transpose(grid, (1, 2, 0)))\n",
    "print(\"labels: \", end=\" \")\n",
    "for i, label in enumerate(labels):\n",
    "    print(output_label(label), end=\", \")"
   ]
  },
  {
   "cell_type": "markdown",
   "metadata": {},
   "source": [
    "1. Make a model class (inherits nn.Module class)\n",
    "2. Add Layers to model class\n",
    "\n",
    "    a. Convolution layer with kernel size 3*3, padding = 1 (no padding) in 1st layer and padding = 0 in second layer. Stride of 1 in both layers.\n",
    "\n",
    "    b. Batch normalization layer\n",
    "\n",
    "    c. Activation function used: ReLU\n",
    "\n",
    "    d. Max Pooling layer with kernel size of 2 * 2 and stride 2.\n",
    "\n",
    "        i. flatten out output for dense layer\n",
    "\n",
    "        ii. 3 fully connected layers with different in/out features\n",
    "\n",
    "        iii. 1 dropout layer with p=0.25\n",
    "\n",
    "Summary is as follows:\n",
    "\n",
    "First conv layer -> Max Pooling layer -> Second conv layer -> second max pooling layer\n",
    "\n",
    "28 * 28 * 3      --> 28 * 28 * 32      --> 14 * 14 * 32      --> 12 * 12 * 64              --> 6 * 6 * 64\n",
    "\n",
    "Final fully connected layer has 10 output features for 10 types of clothes."
   ]
  },
  {
   "cell_type": "code",
   "execution_count": 41,
   "metadata": {},
   "outputs": [],
   "source": [
    "class FashionCNN(nn.Module):\n",
    "    def __init__(self):\n",
    "        super(FashionCNN, self).__init__()\n",
    "        \n",
    "        self.layer1 = nn.Sequential(\n",
    "            nn.Conv2d(in_channels=1, out_channels=32, kernel_size=3, padding=1),\n",
    "            nn.BatchNorm2d(32),\n",
    "            nn.ReLU(),\n",
    "            nn.MaxPool2d(kernel_size=2, stride=2)\n",
    "        )\n",
    "        \n",
    "        self.layer2 = nn.Sequential(\n",
    "            nn.Conv2d(in_channels=32, out_channels=64, kernel_size=3),\n",
    "            nn.BatchNorm2d(64),\n",
    "            nn.ReLU(),\n",
    "            nn.MaxPool2d(2)\n",
    "        )\n",
    "        \n",
    "        self.fc1 = nn.Linear(in_features=64*6*6, out_features=600)\n",
    "        self.drop = nn.Dropout2d(0.25)\n",
    "        self.fc2 = nn.Linear(in_features=600, out_features=120)\n",
    "        self.fc3 = nn.Linear(in_features=120, out_features=10)\n",
    "        \n",
    "    def forward(self, x):\n",
    "        out = self.layer1(x)\n",
    "        out = self.layer2(out)\n",
    "        out = out.view(out.size(0), -1)\n",
    "        out = self.fc1(out)\n",
    "        out = self.drop(out)\n",
    "        out = self.fc2(out)\n",
    "        out = self.fc3(out)\n",
    "        \n",
    "        return out"
   ]
  },
  {
   "cell_type": "code",
   "execution_count": 42,
   "metadata": {},
   "outputs": [
    {
     "name": "stdout",
     "output_type": "stream",
     "text": [
      "FashionCNN(\n",
      "  (layer1): Sequential(\n",
      "    (0): Conv2d(1, 32, kernel_size=(3, 3), stride=(1, 1), padding=(1, 1))\n",
      "    (1): BatchNorm2d(32, eps=1e-05, momentum=0.1, affine=True, track_running_stats=True)\n",
      "    (2): ReLU()\n",
      "    (3): MaxPool2d(kernel_size=2, stride=2, padding=0, dilation=1, ceil_mode=False)\n",
      "  )\n",
      "  (layer2): Sequential(\n",
      "    (0): Conv2d(32, 64, kernel_size=(3, 3), stride=(1, 1))\n",
      "    (1): BatchNorm2d(64, eps=1e-05, momentum=0.1, affine=True, track_running_stats=True)\n",
      "    (2): ReLU()\n",
      "    (3): MaxPool2d(kernel_size=2, stride=2, padding=0, dilation=1, ceil_mode=False)\n",
      "  )\n",
      "  (fc1): Linear(in_features=2304, out_features=600, bias=True)\n",
      "  (drop): Dropout2d(p=0.25, inplace=False)\n",
      "  (fc2): Linear(in_features=600, out_features=120, bias=True)\n",
      "  (fc3): Linear(in_features=120, out_features=10, bias=True)\n",
      ")\n"
     ]
    }
   ],
   "source": [
    "model = FashionCNN()\n",
    "model.to(device)\n",
    "\n",
    "error = nn.CrossEntropyLoss()\n",
    "\n",
    "learning_rate = 0.001\n",
    "optimizer = torch.optim.Adam(model.parameters(), lr=learning_rate)\n",
    "print(model)"
   ]
  },
  {
   "cell_type": "code",
   "execution_count": 43,
   "metadata": {},
   "outputs": [
    {
     "name": "stdout",
     "output_type": "stream",
     "text": [
      "Iteration: 500, Loss: 0.49817562103271484, Accuracy: 87.41166687011719%\n",
      "Iteration: 1000, Loss: 0.31753814220428467, Accuracy: 89.74166870117188%\n",
      "Iteration: 1500, Loss: 0.21549388766288757, Accuracy: 90.81666564941406%\n",
      "Iteration: 2000, Loss: 0.2227795422077179, Accuracy: 91.70999908447266%\n",
      "Iteration: 2500, Loss: 0.21930934488773346, Accuracy: 92.86333465576172%\n",
      "Iteration: 3000, Loss: 0.18449829518795013, Accuracy: 93.11333465576172%\n",
      "Iteration: 3500, Loss: 0.3319951593875885, Accuracy: 93.1433334350586%\n",
      "Iteration: 4000, Loss: 0.19257867336273193, Accuracy: 92.41999816894531%\n",
      "Iteration: 4500, Loss: 0.15338116884231567, Accuracy: 93.09833526611328%\n",
      "Iteration: 5000, Loss: 0.13561643660068512, Accuracy: 94.29499816894531%\n",
      "Iteration: 5500, Loss: 0.13708768784999847, Accuracy: 94.15166473388672%\n",
      "Iteration: 6000, Loss: 0.13327981531620026, Accuracy: 94.74833679199219%\n"
     ]
    }
   ],
   "source": [
    "# Training and Testing\n",
    "num_epochs = 10 # num of epochs can also be increased > 100\n",
    "count = 0\n",
    "# Lists for visualization of loss and accuracy \n",
    "loss_list = []\n",
    "iteration_list = []\n",
    "accuracy_list = []\n",
    "\n",
    "# Lists for knowing classwise accuracy\n",
    "predictions_list = []\n",
    "labels_list = []\n",
    "\n",
    "for epoch in range(num_epochs):\n",
    "    for images, labels in train_loader:\n",
    "        # Transfering images and labels to GPU if available\n",
    "        images, labels = images.to(device), labels.to(device)\n",
    "    \n",
    "        train = Variable(images.view(100, 1, 28, 28)) # Apparently Variable is outdated so maybe we should change it\n",
    "        labels = Variable(labels)\n",
    "        \n",
    "        # Forward pass \n",
    "        outputs = model(train)\n",
    "        loss = error(outputs, labels)\n",
    "        \n",
    "        # Initializing a gradient as 0 so there is no mixing of gradient among the batches\n",
    "        optimizer.zero_grad()\n",
    "        \n",
    "        #Propagating the error backward\n",
    "        loss.backward()\n",
    "        \n",
    "        # Optimizing the parameters\n",
    "        optimizer.step()\n",
    "    \n",
    "        count += 1\n",
    "    \n",
    "    # Testing the model\n",
    "    \n",
    "        if not (count % 50):    # It's same as \"if count % 50 == 0\"\n",
    "            total = 0\n",
    "            correct = 0\n",
    "        \n",
    "            for images, labels in test_loader:\n",
    "                images, labels = images.to(device), labels.to(device)\n",
    "                labels_list.append(labels)\n",
    "            \n",
    "                test = Variable(images.view(100, 1, 28, 28))\n",
    "            \n",
    "                outputs = model(test)\n",
    "            \n",
    "                predictions = torch.max(outputs, 1)[1].to(device)\n",
    "                predictions_list.append(predictions)\n",
    "                correct += (predictions == labels).sum()\n",
    "            \n",
    "                total += len(labels)\n",
    "            \n",
    "            accuracy = correct * 100 / total\n",
    "            loss_list.append(loss.data)\n",
    "            iteration_list.append(count)\n",
    "            accuracy_list.append(accuracy)\n",
    "        \n",
    "        if not (count % 500):\n",
    "            print(\"Iteration: {}, Loss: {}, Accuracy: {}%\".format(count, loss.data, accuracy))"
   ]
  },
  {
   "cell_type": "markdown",
   "metadata": {},
   "source": [
    "Visualizing the results"
   ]
  },
  {
   "cell_type": "code",
   "execution_count": 44,
   "metadata": {},
   "outputs": [
    {
     "name": "stdout",
     "output_type": "stream",
     "text": [
      "[50, 100, 150, 200, 250, 300, 350, 400, 450, 500, 550, 600, 650, 700, 750, 800, 850, 900, 950, 1000, 1050, 1100, 1150, 1200, 1250, 1300, 1350, 1400, 1450, 1500, 1550, 1600, 1650, 1700, 1750, 1800, 1850, 1900, 1950, 2000, 2050, 2100, 2150, 2200, 2250, 2300, 2350, 2400, 2450, 2500, 2550, 2600, 2650, 2700, 2750, 2800, 2850, 2900, 2950, 3000, 3050, 3100, 3150, 3200, 3250, 3300, 3350, 3400, 3450, 3500, 3550, 3600, 3650, 3700, 3750, 3800, 3850, 3900, 3950, 4000, 4050, 4100, 4150, 4200, 4250, 4300, 4350, 4400, 4450, 4500, 4550, 4600, 4650, 4700, 4750, 4800, 4850, 4900, 4950, 5000, 5050, 5100, 5150, 5200, 5250, 5300, 5350, 5400, 5450, 5500, 5550, 5600, 5650, 5700, 5750, 5800, 5850, 5900, 5950, 6000]\n",
      "[tensor(0.4466, device='cuda:0'), tensor(0.4428, device='cuda:0'), tensor(0.6337, device='cuda:0'), tensor(0.3743, device='cuda:0'), tensor(0.5723, device='cuda:0'), tensor(0.3216, device='cuda:0'), tensor(0.3145, device='cuda:0'), tensor(0.4260, device='cuda:0'), tensor(0.4979, device='cuda:0'), tensor(0.4982, device='cuda:0'), tensor(0.2625, device='cuda:0'), tensor(0.3723, device='cuda:0'), tensor(0.2326, device='cuda:0'), tensor(0.2289, device='cuda:0'), tensor(0.4446, device='cuda:0'), tensor(0.2384, device='cuda:0'), tensor(0.3282, device='cuda:0'), tensor(0.2448, device='cuda:0'), tensor(0.2826, device='cuda:0'), tensor(0.3175, device='cuda:0'), tensor(0.5167, device='cuda:0'), tensor(0.3635, device='cuda:0'), tensor(0.2511, device='cuda:0'), tensor(0.2883, device='cuda:0'), tensor(0.2116, device='cuda:0'), tensor(0.2371, device='cuda:0'), tensor(0.3960, device='cuda:0'), tensor(0.2124, device='cuda:0'), tensor(0.2769, device='cuda:0'), tensor(0.2155, device='cuda:0'), tensor(0.2060, device='cuda:0'), tensor(0.2653, device='cuda:0'), tensor(0.4209, device='cuda:0'), tensor(0.3430, device='cuda:0'), tensor(0.2180, device='cuda:0'), tensor(0.2798, device='cuda:0'), tensor(0.2131, device='cuda:0'), tensor(0.2356, device='cuda:0'), tensor(0.3480, device='cuda:0'), tensor(0.2228, device='cuda:0'), tensor(0.2366, device='cuda:0'), tensor(0.2423, device='cuda:0'), tensor(0.2181, device='cuda:0'), tensor(0.2648, device='cuda:0'), tensor(0.4200, device='cuda:0'), tensor(0.3769, device='cuda:0'), tensor(0.1720, device='cuda:0'), tensor(0.2486, device='cuda:0'), tensor(0.1769, device='cuda:0'), tensor(0.2193, device='cuda:0'), tensor(0.2772, device='cuda:0'), tensor(0.2235, device='cuda:0'), tensor(0.2355, device='cuda:0'), tensor(0.2098, device='cuda:0'), tensor(0.1859, device='cuda:0'), tensor(0.2162, device='cuda:0'), tensor(0.3852, device='cuda:0'), tensor(0.3570, device='cuda:0'), tensor(0.1798, device='cuda:0'), tensor(0.1845, device='cuda:0'), tensor(0.1732, device='cuda:0'), tensor(0.2334, device='cuda:0'), tensor(0.2242, device='cuda:0'), tensor(0.1874, device='cuda:0'), tensor(0.2180, device='cuda:0'), tensor(0.1962, device='cuda:0'), tensor(0.1794, device='cuda:0'), tensor(0.2052, device='cuda:0'), tensor(0.2767, device='cuda:0'), tensor(0.3320, device='cuda:0'), tensor(0.1214, device='cuda:0'), tensor(0.1607, device='cuda:0'), tensor(0.1383, device='cuda:0'), tensor(0.1719, device='cuda:0'), tensor(0.2297, device='cuda:0'), tensor(0.1275, device='cuda:0'), tensor(0.1784, device='cuda:0'), tensor(0.1870, device='cuda:0'), tensor(0.1810, device='cuda:0'), tensor(0.1926, device='cuda:0'), tensor(0.2387, device='cuda:0'), tensor(0.3432, device='cuda:0'), tensor(0.1222, device='cuda:0'), tensor(0.1510, device='cuda:0'), tensor(0.1186, device='cuda:0'), tensor(0.1552, device='cuda:0'), tensor(0.2111, device='cuda:0'), tensor(0.1464, device='cuda:0'), tensor(0.1792, device='cuda:0'), tensor(0.1534, device='cuda:0'), tensor(0.1481, device='cuda:0'), tensor(0.1973, device='cuda:0'), tensor(0.2065, device='cuda:0'), tensor(0.3123, device='cuda:0'), tensor(0.1047, device='cuda:0'), tensor(0.1726, device='cuda:0'), tensor(0.0941, device='cuda:0'), tensor(0.1324, device='cuda:0'), tensor(0.2105, device='cuda:0'), tensor(0.1356, device='cuda:0'), tensor(0.1607, device='cuda:0'), tensor(0.1576, device='cuda:0'), tensor(0.1315, device='cuda:0'), tensor(0.1971, device='cuda:0'), tensor(0.2296, device='cuda:0'), tensor(0.2574, device='cuda:0'), tensor(0.1404, device='cuda:0'), tensor(0.1205, device='cuda:0'), tensor(0.1336, device='cuda:0'), tensor(0.1371, device='cuda:0'), tensor(0.1818, device='cuda:0'), tensor(0.1098, device='cuda:0'), tensor(0.1511, device='cuda:0'), tensor(0.1757, device='cuda:0'), tensor(0.1532, device='cuda:0'), tensor(0.1231, device='cuda:0'), tensor(0.2128, device='cuda:0'), tensor(0.2450, device='cuda:0'), tensor(0.0713, device='cuda:0'), tensor(0.1333, device='cuda:0')]\n"
     ]
    }
   ],
   "source": [
    "print(iteration_list)\n",
    "print(loss_list)"
   ]
  },
  {
   "cell_type": "code",
   "execution_count": 45,
   "metadata": {},
   "outputs": [
    {
     "data": {
      "image/png": "[encoded data removed]",
      "text/plain": [
       "<Figure size 432x288 with 1 Axes>"
      ]
     },
     "metadata": {
      "needs_background": "light"
     },
     "output_type": "display_data"
    }
   ],
   "source": [
    "plt.plot(iteration_list, [x.cpu() for x in loss_list])\n",
    "plt.xlabel(\"No. of Iteration\")\n",
    "plt.ylabel(\"Loss\")\n",
    "plt.title(\"Iterations vs Loss\")\n",
    "plt.show()"
   ]
  },
  {
   "cell_type": "markdown",
   "metadata": {},
   "source": [
    "From the graph we can see a downward trend of loss vs iteration. Perhaps a reason for the spikes in loss could be just due to the randomness of the batch sampling. An unlucky sampling could have led to the loss increasing compared to the previous iterations but overall the loss has a downward trend as iterations increase."
   ]
  },
  {
   "cell_type": "code",
   "execution_count": 46,
   "metadata": {},
   "outputs": [
    {
     "data": {
      "image/png": "[encoded data removed]",
      "text/plain": [
       "<Figure size 432x288 with 1 Axes>"
      ]
     },
     "metadata": {
      "needs_background": "light"
     },
     "output_type": "display_data"
    }
   ],
   "source": [
    "plt.plot(iteration_list, [x.cpu() for x in accuracy_list])\n",
    "plt.xlabel(\"No. of Iteration\")\n",
    "plt.ylabel(\"Accuracy\")\n",
    "plt.title(\"Iterations vs Accuracy\")\n",
    "plt.show()"
   ]
  },
  {
   "cell_type": "code",
   "execution_count": 47,
   "metadata": {},
   "outputs": [
    {
     "name": "stdout",
     "output_type": "stream",
     "text": [
      "Accuracy of T-shirt/Top: 90.00%\n",
      "Accuracy of Trouser: 99.50%\n",
      "Accuracy of Pullover: 90.30%\n",
      "Accuracy of Dress: 97.18%\n",
      "Accuracy of Coat: 97.72%\n",
      "Accuracy of Sandal: 99.57%\n",
      "Accuracy of Shirt: 77.37%\n",
      "Accuracy of Sneaker: 97.02%\n",
      "Accuracy of Bag: 99.62%\n",
      "Accuracy of Ankle Boot: 99.17%\n"
     ]
    }
   ],
   "source": [
    "class_correct = [0. for _ in range(10)]\n",
    "total_correct = [0. for _ in range(10)]\n",
    "\n",
    "with torch.no_grad():\n",
    "    for images, labels in test_loader:\n",
    "        images, labels = images.to(device), labels.to(device)\n",
    "        test = Variable(images)\n",
    "        outputs = model(test)\n",
    "        predicted = torch.max(outputs, 1)[1]\n",
    "        c = (predicted == labels).squeeze()\n",
    "        \n",
    "        for i in range(100):\n",
    "            label = labels[i]\n",
    "            class_correct[label] += c[i].item()\n",
    "            total_correct[label] += 1\n",
    "        \n",
    "for i in range(10):\n",
    "    print(\"Accuracy of {}: {:.2f}%\".format(output_label(i), class_correct[i] * 100 / total_correct[i]))"
   ]
  },
  {
   "cell_type": "code",
   "execution_count": 48,
   "metadata": {},
   "outputs": [
    {
     "name": "stdout",
     "output_type": "stream",
     "text": [
      "Classification report for CNN :\n",
      "              precision    recall  f1-score   support\n",
      "\n",
      "           0       0.87      0.88      0.87    720000\n",
      "           1       0.99      0.99      0.99    720000\n",
      "           2       0.87      0.89      0.88    720000\n",
      "           3       0.91      0.93      0.92    720000\n",
      "           4       0.87      0.86      0.87    720000\n",
      "           5       0.98      0.98      0.98    720000\n",
      "           6       0.80      0.76      0.78    720000\n",
      "           7       0.96      0.96      0.96    720000\n",
      "           8       0.98      0.99      0.98    720000\n",
      "           9       0.97      0.97      0.97    720000\n",
      "\n",
      "    accuracy                           0.92   7200000\n",
      "   macro avg       0.92      0.92      0.92   7200000\n",
      "weighted avg       0.92      0.92      0.92   7200000\n",
      "\n",
      "\n"
     ]
    }
   ],
   "source": [
    "from itertools import chain\n",
    "import sklearn.metrics as metrics\n",
    "\n",
    "predictions_l = [predictions_list[i].tolist() for i in range(len(predictions_list))]\n",
    "labels_l = [labels_list[i].tolist() for i in range(len(labels_list))]\n",
    "predictions_l = list(chain.from_iterable(predictions_l))\n",
    "labels_l = list(chain.from_iterable(labels_l))\n",
    "\n",
    "confusion_matrix(labels_l, predictions_l)\n",
    "print(\"Classification report for CNN :\\n%s\\n\"\n",
    "      % (metrics.classification_report(labels_l, predictions_l)))"
   ]
  },
  {
   "cell_type": "code",
   "execution_count": 49,
   "metadata": {},
   "outputs": [
    {
     "data": {
      "text/plain": [
       "'1.9.1+cu111'"
      ]
     },
     "execution_count": 49,
     "metadata": {},
     "output_type": "execute_result"
    }
   ],
   "source": [
    "torch.__version__"
   ]
  }
 ],
 "metadata": {
  "interpreter": {
   "hash": "a26ff82582be0ed5f057a749d3391963a753d71735083bd0110d44d1abf41696"
  },
  "kernelspec": {
   "display_name": "Python 3.8.8 64-bit ('base': conda)",
   "name": "python3"
  },
  "language_info": {
   "codemirror_mode": {
    "name": "ipython",
    "version": 3
   },
   "file_extension": ".py",
   "mimetype": "text/x-python",
   "name": "python",
   "nbconvert_exporter": "python",
   "pygments_lexer": "ipython3",
   "version": "3.8.8"
  },
  "orig_nbformat": 4
 },
 "nbformat": 4,
 "nbformat_minor": 2
}
