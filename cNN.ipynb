{
 "cells": [
  {
   "cell_type": "code",
   "execution_count": 67,
   "metadata": {},
   "outputs": [],
   "source": [
    "import numpy as np\n",
    "import pandas as pd\n",
    "import matplotlib.pyplot as plt\n",
    "\n",
    "import torch\n",
    "import torch.nn as nn\n",
    "\n",
    "import torchvision\n",
    "import torchvision.transforms as transforms\n",
    "from torch.utils.data import Dataset, DataLoader, TensorDataset, random_split, SubsetRandomSampler, ConcatDataset\n",
    "from sklearn.metrics import confusion_matrix, classification_report\n",
    "from sklearn.model_selection import KFold"
   ]
  },
  {
   "cell_type": "markdown",
   "metadata": {},
   "source": [
    "I had some difficulties uninstalling pytorch without cuda to replace it so I just created another virtual env and ran it in that. (I think this only needs to be done when you try to run it local)\n",
    "\n",
    "After activating the venv you can install the pytorch with cuda with the following command.\n",
    "\n",
    "`pip3 install torch==1.9.1+cu111 torchvision==0.10.1+cu111 torchaudio==0.9.1 -f https://download.pytorch.org/whl/torch_stable.html`\n"
   ]
  },
  {
   "cell_type": "code",
   "execution_count": 68,
   "metadata": {},
   "outputs": [
    {
     "name": "stdout",
     "output_type": "stream",
     "text": [
      "cuda:0\n"
     ]
    }
   ],
   "source": [
    "device = torch.device(\"cuda:0\" if torch.cuda.is_available() else \"cpu\")\n",
    "SEED = 42\n",
    "torch.manual_seed(SEED) # seed so results are replicable\n",
    "print(device)"
   ]
  },
  {
   "cell_type": "code",
   "execution_count": 69,
   "metadata": {},
   "outputs": [],
   "source": [
    "train_csv = pd.read_csv(\"../data/fashion-mnist_train.csv\")\n",
    "test_csv = pd.read_csv(\"../data/fashion-mnist_test.csv\")"
   ]
  },
  {
   "cell_type": "code",
   "execution_count": 70,
   "metadata": {},
   "outputs": [],
   "source": [
    "class FashionDataset(Dataset):\n",
    "    \"\"\"User defined class to build a datset using Pytorch class Dataset.\"\"\"\n",
    "    \n",
    "    def __init__(self, data, transform = None):\n",
    "        \"\"\"Method to initilaize variables.\"\"\" \n",
    "        self.fashion_MNIST = list(data.values)\n",
    "        self.transform = transform\n",
    "        \n",
    "        label = []\n",
    "        image = []\n",
    "        \n",
    "        for i in self.fashion_MNIST:\n",
    "             # first column is of labels.\n",
    "            label.append(i[0])\n",
    "            image.append(i[1:])\n",
    "        self.labels = np.asarray(label)\n",
    "        # Dimension of Images = 28 * 28 * 1. where height = width = 28 and color_channels = 1.\n",
    "        self.images = np.asarray(image).reshape(-1, 28, 28, 1).astype('float32')\n",
    "\n",
    "    def __getitem__(self, index):\n",
    "        label = self.labels[index]\n",
    "        image = self.images[index]\n",
    "        \n",
    "        if self.transform is not None:\n",
    "            image = self.transform(image)\n",
    "\n",
    "        return image, label\n",
    "\n",
    "    def __len__(self):\n",
    "        return len(self.images)"
   ]
  },
  {
   "cell_type": "code",
   "execution_count": 71,
   "metadata": {},
   "outputs": [],
   "source": [
    "# Transform data into Tensor that has a range from 0 to 1\n",
    "train_dataset = FashionDataset(train_csv, transform=transforms.Compose([transforms.ToTensor()]))\n",
    "test_dataset = FashionDataset(test_csv, transform=transforms.Compose([transforms.ToTensor()]))"
   ]
  },
  {
   "cell_type": "code",
   "execution_count": 72,
   "metadata": {},
   "outputs": [],
   "source": [
    "# splitting into train and val data.\n",
    "# decided ratio: 80-20\n",
    "\n",
    "# num_train = int(len(train_dataset) * 0.8) \n",
    "# num_val = int(len(train_dataset) * 0.2) \n",
    "\n",
    "# train_set, val_set = random_split(train_dataset, [num_train, num_val], generator=torch.Generator().manual_seed(42))\n",
    "\n",
    "# train_loader = DataLoader(train_set, shuffle=True, batch_size=100)\n",
    "# test_loader = DataLoader(test_dataset, batch_size=100)\n",
    "# val_loader = DataLoader(val_set, batch_size=100)\n",
    "\n",
    "# print(len(train_loader), len(test_loader), len(val_loader))"
   ]
  },
  {
   "cell_type": "markdown",
   "metadata": {},
   "source": [
    "All the above has been done to load data in batches into the model. We use the DataLoader class from torch.utils.data. We also initialize the device to be used as the GPU instead of CPU.\n",
    "\n",
    "The FashionDataset class has two methods: \n",
    "- get_item(index) -> image and label of item at index\n",
    "- len() -> number of items in the dataset"
   ]
  },
  {
   "cell_type": "code",
   "execution_count": 73,
   "metadata": {},
   "outputs": [],
   "source": [
    "# Mapping label number to a more meaningful label\n",
    "output_mapping = {\n",
    "        0: \"T-shirt/Top\",\n",
    "        1: \"Trouser\",\n",
    "        2: \"Pullover\",\n",
    "        3: \"Dress\",\n",
    "        4: \"Coat\", \n",
    "        5: \"Sandal\", \n",
    "        6: \"Shirt\",\n",
    "        7: \"Sneaker\",\n",
    "        8: \"Bag\",\n",
    "        9: \"Ankle Boot\"\n",
    "    }\n",
    "\n",
    "def output_label(label):\n",
    "    input = (label.item() if type(label) == torch.Tensor else label)\n",
    "    return output_mapping[input]"
   ]
  },
  {
   "cell_type": "code",
   "execution_count": 74,
   "metadata": {},
   "outputs": [],
   "source": [
    "output_mapping_list = list(output_mapping.values())"
   ]
  },
  {
   "cell_type": "code",
   "execution_count": 75,
   "metadata": {},
   "outputs": [
    {
     "name": "stdout",
     "output_type": "stream",
     "text": [
      "2\n"
     ]
    },
    {
     "data": {
      "image/png": "[encoded data removed]",
      "text/plain": [
       "<Figure size 432x288 with 1 Axes>"
      ]
     },
     "metadata": {
      "needs_background": "light"
     },
     "output_type": "display_data"
    }
   ],
   "source": [
    "# displaying image using matplotlib imshow()\n",
    "image, label = next(iter(train_dataset))\n",
    "plt.imshow(image.squeeze(), cmap=\"gray\")\n",
    "print(label)"
   ]
  },
  {
   "cell_type": "code",
   "execution_count": 76,
   "metadata": {},
   "outputs": [
    {
     "name": "stdout",
     "output_type": "stream",
     "text": [
      "<class 'torch.Tensor'> <class 'torch.Tensor'>\n",
      "torch.Size([10, 1, 28, 28]) torch.Size([10])\n"
     ]
    }
   ],
   "source": [
    "demo_loader = torch.utils.data.DataLoader(train_dataset, batch_size=10)\n",
    "\n",
    "batch = next(iter(demo_loader))\n",
    "images, labels = batch\n",
    "print(type(images), type(labels))\n",
    "print(images.shape, labels.shape)"
   ]
  },
  {
   "cell_type": "code",
   "execution_count": 77,
   "metadata": {},
   "outputs": [
    {
     "name": "stderr",
     "output_type": "stream",
     "text": [
      "Clipping input data to the valid range for imshow with RGB data ([0..1] for floats or [0..255] for integers).\n"
     ]
    },
    {
     "name": "stdout",
     "output_type": "stream",
     "text": [
      "labels:  Pullover, Ankle Boot, Shirt, T-shirt/Top, Dress, Coat, Coat, Sandal, Coat, Bag, "
     ]
    },
    {
     "data": {
      "image/png": "[encoded data removed]",
      "text/plain": [
       "<Figure size 1080x1440 with 1 Axes>"
      ]
     },
     "metadata": {
      "needs_background": "light"
     },
     "output_type": "display_data"
    }
   ],
   "source": [
    "grid = torchvision.utils.make_grid(images, nrow=10)\n",
    "\n",
    "plt.figure(figsize=(15, 20))\n",
    "plt.imshow(np.transpose(grid, (1, 2, 0)))\n",
    "print(\"labels: \", end=\" \")\n",
    "for i, label in enumerate(labels):\n",
    "    print(output_label(label), end=\", \")"
   ]
  },
  {
   "cell_type": "markdown",
   "metadata": {},
   "source": [
    "1. Make a model class (inherits nn.Module class)\n",
    "2. Add Layers to model class\n",
    "\n",
    "    a. Convolution layer with kernel size 3*3, padding = 1 (no padding) in 1st layer and padding = 0 in second layer. Stride of 1 in both layers.\n",
    "\n",
    "    b. Batch normalization layer\n",
    "\n",
    "    c. Activation function used: ReLU\n",
    "\n",
    "    d. Max Pooling layer with kernel size of 2 * 2 and stride 2.\n",
    "\n",
    "        i. flatten out output for dense layer\n",
    "\n",
    "        ii. 3 fully connected layers with different in/out features\n",
    "\n",
    "        iii. 1 dropout layer with p=0.25\n",
    "\n",
    "Summary is as follows:\n",
    "\n",
    "First conv layer -> Max Pooling layer -> Second conv layer -> second max pooling layer\n",
    "\n",
    "28 * 28 * 3      --> 28 * 28 * 32      --> 14 * 14 * 32      --> 12 * 12 * 64              --> 6 * 6 * 64\n",
    "\n",
    "Final fully connected layer has 10 output features for 10 types of clothes."
   ]
  },
  {
   "cell_type": "code",
   "execution_count": 78,
   "metadata": {},
   "outputs": [],
   "source": [
    "class FashionCNN(nn.Module):\n",
    "    def __init__(self):\n",
    "        super(FashionCNN, self).__init__()\n",
    "        \n",
    "        self.layer1 = nn.Sequential(\n",
    "            nn.Conv2d(in_channels=1, out_channels=32, kernel_size=3, padding=1),\n",
    "            nn.BatchNorm2d(32),\n",
    "            nn.MaxPool2d(kernel_size=2, stride=2),\n",
    "            nn.ReLU()\n",
    "        )\n",
    "        \n",
    "        self.layer2 = nn.Sequential(\n",
    "            nn.Conv2d(in_channels=32, out_channels=64, kernel_size=3),\n",
    "            nn.BatchNorm2d(64),\n",
    "            nn.MaxPool2d(2),\n",
    "            nn.ReLU()\n",
    "        )\n",
    "        \n",
    "        self.fc1 = nn.Linear(in_features=64*6*6, out_features=600)\n",
    "        self.drop = nn.Dropout2d(0.25)\n",
    "        self.fc2 = nn.Linear(in_features=600, out_features=120)\n",
    "        self.fc3 = nn.Linear(in_features=120, out_features=10)\n",
    "        \n",
    "    def forward(self, x):\n",
    "        out = self.layer1(x)\n",
    "        out = self.layer2(out)\n",
    "        out = out.view(out.size(0), -1)\n",
    "        out = self.fc1(out)\n",
    "        out = self.drop(out)\n",
    "        out = self.fc2(out)\n",
    "        out = self.fc3(out)\n",
    "        \n",
    "        return out"
   ]
  },
  {
   "cell_type": "code",
   "execution_count": 79,
   "metadata": {},
   "outputs": [],
   "source": [
    "def train(model, error, optimizer, curr_train_loader):  \n",
    "  model.train()\n",
    "\n",
    "  running_loss=0\n",
    "  correct=0\n",
    "  \n",
    "  for images, labels in curr_train_loader:\n",
    "    # Transfering images and labels to GPU if available\n",
    "    images, labels = images.to(device), labels.to(device)\n",
    "    \n",
    "    # Forward pass \n",
    "    outputs = model(images)\n",
    "    loss = error(outputs, labels)\n",
    "    \n",
    "    # Initializing a gradient as 0 so there is no mixing of gradient among the batches\n",
    "    optimizer.zero_grad()\n",
    "    \n",
    "    #Propagating the error backward\n",
    "    loss.backward()\n",
    "    \n",
    "    # Optimizing the parameters\n",
    "    optimizer.step()\n",
    "\n",
    "    running_loss += loss.item() * images.size(0)\n",
    "    \n",
    "    predicted = outputs.argmax(axis=1)\n",
    "    correct += predicted.eq(labels).sum().item()\n",
    "        \n",
    "  return running_loss, correct"
   ]
  },
  {
   "cell_type": "code",
   "execution_count": 80,
   "metadata": {},
   "outputs": [],
   "source": [
    "def validate(model, error, curr_val_loader):\n",
    "  model.eval()\n",
    " \n",
    "  running_loss=0\n",
    "  correct=0\n",
    " \n",
    "  with torch.no_grad():\n",
    "    for images, labels in curr_val_loader:\n",
    "      images, labels = images.to(device), labels.to(device)\n",
    "\n",
    "      outputs = model(images)\n",
    "      loss = error(outputs, labels)\n",
    "\n",
    "      running_loss += loss.item() * images.size(0)\n",
    "\n",
    "      predictions = outputs.argmax(axis=1)\n",
    "      correct += predictions.eq(labels).sum().item()\n",
    "    \n",
    "  return running_loss, correct"
   ]
  },
  {
   "cell_type": "code",
   "execution_count": 93,
   "metadata": {},
   "outputs": [],
   "source": [
    "\n",
    "def test(model):\n",
    "    test_loader = DataLoader(test_dataset, batch_size=100)\n",
    "\n",
    "    with torch.no_grad():\n",
    "        # set the model in evaluation mode\n",
    "        model.eval()\n",
    "        \n",
    "        # initialize a list to store our predictions\n",
    "        preds = []\n",
    "        labels = []\n",
    "        # loop over the test set\n",
    "        for test_images, test_labels in test_loader:\n",
    "            # send the input to the device\n",
    "            test_images = test_images.to(device)\n",
    "            # make the predictions and add them to the list\n",
    "            pred = model(test_images)\n",
    "            preds.extend(pred.argmax(axis=1).cpu().numpy())\n",
    "            labels.extend(test_labels.cpu())\n",
    "    # generate a classification report\n",
    "    result = classification_report(np.array(labels),\n",
    "        np.array(preds), target_names=output_mapping_list)\n",
    "    result_dict = classification_report(np.array(labels),\n",
    "        np.array(preds), target_names=output_mapping_list, output_dict=True)\n",
    "    return result, result_dict"
   ]
  },
  {
   "cell_type": "code",
   "execution_count": 94,
   "metadata": {},
   "outputs": [
    {
     "name": "stdout",
     "output_type": "stream",
     "text": [
      "Fold 1\n",
      "Epoch:1/10 AVG Training Loss:0.333 AVG Validation Loss:3991.968 AVG Training Acc 83.41 % AVG Validation Acc 87.98 %\n",
      "Epoch:2/10 AVG Training Loss:0.295 AVG Validation Loss:3538.675 AVG Training Acc 88.81 % AVG Validation Acc 89.44 %\n",
      "Epoch:3/10 AVG Training Loss:0.264 AVG Validation Loss:3170.804 AVG Training Acc 90.21 % AVG Validation Acc 90.67 %\n",
      "Epoch:4/10 AVG Training Loss:0.259 AVG Validation Loss:3104.249 AVG Training Acc 91.14 % AVG Validation Acc 90.85 %\n",
      "Epoch:5/10 AVG Training Loss:0.263 AVG Validation Loss:3155.086 AVG Training Acc 91.89 % AVG Validation Acc 90.66 %\n",
      "Epoch:6/10 AVG Training Loss:0.269 AVG Validation Loss:3230.390 AVG Training Acc 92.58 % AVG Validation Acc 90.78 %\n",
      "Epoch:7/10 AVG Training Loss:0.291 AVG Validation Loss:3494.760 AVG Training Acc 92.84 % AVG Validation Acc 89.92 %\n",
      "Epoch:8/10 AVG Training Loss:0.260 AVG Validation Loss:3115.549 AVG Training Acc 93.46 % AVG Validation Acc 91.15 %\n",
      "Epoch:9/10 AVG Training Loss:0.284 AVG Validation Loss:3413.749 AVG Training Acc 93.76 % AVG Validation Acc 89.95 %\n",
      "Epoch:10/10 AVG Training Loss:0.298 AVG Validation Loss:3571.427 AVG Training Acc 94.38 % AVG Validation Acc 90.33 %\n",
      "Fold 2\n",
      "Epoch:1/10 AVG Training Loss:0.355 AVG Validation Loss:4256.428 AVG Training Acc 83.64 % AVG Validation Acc 87.55 %\n",
      "Epoch:2/10 AVG Training Loss:0.284 AVG Validation Loss:3405.389 AVG Training Acc 89.09 % AVG Validation Acc 90.13 %\n",
      "Epoch:3/10 AVG Training Loss:0.272 AVG Validation Loss:3261.888 AVG Training Acc 90.21 % AVG Validation Acc 90.15 %\n",
      "Epoch:4/10 AVG Training Loss:0.256 AVG Validation Loss:3077.915 AVG Training Acc 91.31 % AVG Validation Acc 91.27 %\n",
      "Epoch:5/10 AVG Training Loss:0.263 AVG Validation Loss:3151.086 AVG Training Acc 91.95 % AVG Validation Acc 90.80 %\n",
      "Epoch:6/10 AVG Training Loss:0.288 AVG Validation Loss:3450.830 AVG Training Acc 92.53 % AVG Validation Acc 90.15 %\n",
      "Epoch:7/10 AVG Training Loss:0.257 AVG Validation Loss:3082.882 AVG Training Acc 93.21 % AVG Validation Acc 91.54 %\n",
      "Epoch:8/10 AVG Training Loss:0.281 AVG Validation Loss:3370.310 AVG Training Acc 93.49 % AVG Validation Acc 90.51 %\n",
      "Epoch:9/10 AVG Training Loss:0.254 AVG Validation Loss:3046.648 AVG Training Acc 93.92 % AVG Validation Acc 91.43 %\n",
      "Epoch:10/10 AVG Training Loss:0.284 AVG Validation Loss:3410.365 AVG Training Acc 94.33 % AVG Validation Acc 90.82 %\n",
      "Fold 3\n",
      "Epoch:1/10 AVG Training Loss:0.344 AVG Validation Loss:4133.371 AVG Training Acc 83.68 % AVG Validation Acc 87.33 %\n",
      "Epoch:2/10 AVG Training Loss:0.296 AVG Validation Loss:3557.726 AVG Training Acc 88.93 % AVG Validation Acc 89.18 %\n",
      "Epoch:3/10 AVG Training Loss:0.267 AVG Validation Loss:3198.514 AVG Training Acc 90.24 % AVG Validation Acc 90.22 %\n",
      "Epoch:4/10 AVG Training Loss:0.244 AVG Validation Loss:2923.552 AVG Training Acc 90.98 % AVG Validation Acc 91.07 %\n",
      "Epoch:5/10 AVG Training Loss:0.253 AVG Validation Loss:3033.187 AVG Training Acc 91.78 % AVG Validation Acc 90.74 %\n",
      "Epoch:6/10 AVG Training Loss:0.242 AVG Validation Loss:2900.713 AVG Training Acc 92.36 % AVG Validation Acc 91.57 %\n",
      "Epoch:7/10 AVG Training Loss:0.258 AVG Validation Loss:3091.793 AVG Training Acc 92.87 % AVG Validation Acc 90.92 %\n",
      "Epoch:8/10 AVG Training Loss:0.233 AVG Validation Loss:2800.116 AVG Training Acc 93.22 % AVG Validation Acc 91.97 %\n",
      "Epoch:9/10 AVG Training Loss:0.259 AVG Validation Loss:3108.691 AVG Training Acc 93.65 % AVG Validation Acc 91.18 %\n",
      "Epoch:10/10 AVG Training Loss:0.278 AVG Validation Loss:3334.754 AVG Training Acc 94.01 % AVG Validation Acc 90.87 %\n",
      "Fold 4\n",
      "Epoch:1/10 AVG Training Loss:0.355 AVG Validation Loss:4259.970 AVG Training Acc 83.25 % AVG Validation Acc 87.42 %\n",
      "Epoch:2/10 AVG Training Loss:0.280 AVG Validation Loss:3354.023 AVG Training Acc 88.77 % AVG Validation Acc 90.26 %\n",
      "Epoch:3/10 AVG Training Loss:0.319 AVG Validation Loss:3832.834 AVG Training Acc 90.38 % AVG Validation Acc 89.33 %\n",
      "Epoch:4/10 AVG Training Loss:0.317 AVG Validation Loss:3801.057 AVG Training Acc 91.24 % AVG Validation Acc 89.06 %\n",
      "Epoch:5/10 AVG Training Loss:0.272 AVG Validation Loss:3266.430 AVG Training Acc 91.87 % AVG Validation Acc 90.49 %\n",
      "Epoch:6/10 AVG Training Loss:0.252 AVG Validation Loss:3023.491 AVG Training Acc 92.63 % AVG Validation Acc 91.31 %\n",
      "Epoch:7/10 AVG Training Loss:0.287 AVG Validation Loss:3438.567 AVG Training Acc 93.07 % AVG Validation Acc 90.41 %\n",
      "Epoch:8/10 AVG Training Loss:0.262 AVG Validation Loss:3142.333 AVG Training Acc 93.55 % AVG Validation Acc 90.96 %\n",
      "Epoch:9/10 AVG Training Loss:0.248 AVG Validation Loss:2976.339 AVG Training Acc 93.98 % AVG Validation Acc 91.36 %\n",
      "Epoch:10/10 AVG Training Loss:0.272 AVG Validation Loss:3260.646 AVG Training Acc 94.21 % AVG Validation Acc 90.92 %\n",
      "Fold 5\n",
      "Epoch:1/10 AVG Training Loss:0.322 AVG Validation Loss:3867.611 AVG Training Acc 83.53 % AVG Validation Acc 88.32 %\n",
      "Epoch:2/10 AVG Training Loss:0.312 AVG Validation Loss:3739.512 AVG Training Acc 88.95 % AVG Validation Acc 89.16 %\n",
      "Epoch:3/10 AVG Training Loss:0.313 AVG Validation Loss:3761.938 AVG Training Acc 90.26 % AVG Validation Acc 88.89 %\n",
      "Epoch:4/10 AVG Training Loss:0.276 AVG Validation Loss:3317.164 AVG Training Acc 91.22 % AVG Validation Acc 90.46 %\n",
      "Epoch:5/10 AVG Training Loss:0.255 AVG Validation Loss:3055.020 AVG Training Acc 91.92 % AVG Validation Acc 91.07 %\n",
      "Epoch:6/10 AVG Training Loss:0.268 AVG Validation Loss:3219.394 AVG Training Acc 92.69 % AVG Validation Acc 90.80 %\n",
      "Epoch:7/10 AVG Training Loss:0.262 AVG Validation Loss:3138.327 AVG Training Acc 93.01 % AVG Validation Acc 91.17 %\n",
      "Epoch:8/10 AVG Training Loss:0.265 AVG Validation Loss:3183.613 AVG Training Acc 93.62 % AVG Validation Acc 90.99 %\n",
      "Epoch:9/10 AVG Training Loss:0.279 AVG Validation Loss:3348.312 AVG Training Acc 93.80 % AVG Validation Acc 90.87 %\n",
      "Epoch:10/10 AVG Training Loss:0.301 AVG Validation Loss:3617.397 AVG Training Acc 94.29 % AVG Validation Acc 90.58 %\n"
     ]
    }
   ],
   "source": [
    "epochs=10\n",
    "\n",
    "batch_size = 100\n",
    "k = 5\n",
    "\n",
    "splits = KFold(n_splits=k, shuffle=True, random_state=SEED)\n",
    "\n",
    "folds = {}\n",
    "\n",
    "for fold, (train_idx,val_idx) in enumerate(splits.split(np.arange(len(train_dataset)))):\n",
    "\n",
    "    print('Fold {}'.format(fold + 1))\n",
    "\n",
    "    train_sampler = SubsetRandomSampler(train_idx)\n",
    "    test_sampler = SubsetRandomSampler(val_idx)\n",
    "    train_loader = DataLoader(train_dataset, batch_size=batch_size, sampler=train_sampler)\n",
    "    validate_loader = DataLoader(train_dataset, batch_size=batch_size, sampler=test_sampler)\n",
    "        \n",
    "    model = FashionCNN()\n",
    "    model.to(device)\n",
    "\n",
    "    learning_rate = 0.001\n",
    "    optimizer = torch.optim.Adam(model.parameters(), lr=learning_rate)\n",
    "    error = nn.CrossEntropyLoss()\n",
    "\n",
    "    history = {'train_loss': [], 'validation_loss': [],'train_acc':[],'validation_acc':[], 'report': None, 'report_dict': None}\n",
    "\n",
    "    for epoch in range(epochs):\n",
    "        train_loss, train_correct=train(model, error, optimizer,train_loader)\n",
    "        test_loss, test_correct=validate(model, error, validate_loader)\n",
    "\n",
    "        train_loss = train_loss / len(train_loader.sampler)\n",
    "        train_acc = train_correct / len(train_loader.sampler) * 100\n",
    "        validation_loss = test_loss / len(validate_loader.sampler)\n",
    "        validation_acc = test_correct / len(validate_loader.sampler) * 100\n",
    "\n",
    "        print(\"Epoch:{}/{} AVG Training Loss:{:.3f} AVG Validation Loss:{:.3f} AVG Training Acc {:.2f} % AVG Validation Acc {:.2f} %\".format(epoch + 1,\n",
    "                                                                                                             epochs,\n",
    "                                                                                                             validation_loss,\n",
    "                                                                                                             test_loss,\n",
    "                                                                                                             train_acc,\n",
    "                                                                                                             validation_acc))\n",
    "        history['train_loss'].append(train_loss)\n",
    "        history['validation_loss'].append(validation_loss)\n",
    "        history['train_acc'].append(train_acc)\n",
    "        history['validation_acc'].append(validation_acc)\n",
    "    \n",
    "    test_result, test_result_dict = test(model)\n",
    "    history['report'] = test_result\n",
    "    history['report_dict'] = test_result_dict\n",
    "\n",
    "    folds['fold{}'.format(fold+1)] = history  "
   ]
  },
  {
   "cell_type": "code",
   "execution_count": 102,
   "metadata": {},
   "outputs": [
    {
     "name": "stdout",
     "output_type": "stream",
     "text": [
      "              precision    recall  f1-score   support\n",
      "\n",
      " T-shirt/Top       0.78      0.92      0.85      1000\n",
      "     Trouser       0.97      0.99      0.98      1000\n",
      "    Pullover       0.92      0.78      0.85      1000\n",
      "       Dress       0.91      0.90      0.91      1000\n",
      "        Coat       0.81      0.93      0.86      1000\n",
      "      Sandal       0.97      0.98      0.97      1000\n",
      "       Shirt       0.84      0.63      0.72      1000\n",
      "     Sneaker       0.98      0.92      0.95      1000\n",
      "         Bag       0.94      0.99      0.96      1000\n",
      "  Ankle Boot       0.93      0.99      0.96      1000\n",
      "\n",
      "    accuracy                           0.90     10000\n",
      "   macro avg       0.90      0.90      0.90     10000\n",
      "weighted avg       0.90      0.90      0.90     10000\n",
      "\n",
      "              precision    recall  f1-score   support\n",
      "\n",
      " T-shirt/Top       0.84      0.89      0.87      1000\n",
      "     Trouser       0.99      0.98      0.99      1000\n",
      "    Pullover       0.84      0.91      0.88      1000\n",
      "       Dress       0.86      0.95      0.90      1000\n",
      "        Coat       0.88      0.87      0.87      1000\n",
      "      Sandal       0.99      0.96      0.98      1000\n",
      "       Shirt       0.87      0.67      0.75      1000\n",
      "     Sneaker       0.97      0.93      0.95      1000\n",
      "         Bag       0.99      0.98      0.98      1000\n",
      "  Ankle Boot       0.92      0.98      0.95      1000\n",
      "\n",
      "    accuracy                           0.91     10000\n",
      "   macro avg       0.91      0.91      0.91     10000\n",
      "weighted avg       0.91      0.91      0.91     10000\n",
      "\n",
      "              precision    recall  f1-score   support\n",
      "\n",
      " T-shirt/Top       0.86      0.88      0.87      1000\n",
      "     Trouser       0.98      1.00      0.99      1000\n",
      "    Pullover       0.83      0.92      0.87      1000\n",
      "       Dress       0.88      0.95      0.91      1000\n",
      "        Coat       0.91      0.81      0.86      1000\n",
      "      Sandal       0.96      0.98      0.97      1000\n",
      "       Shirt       0.81      0.73      0.77      1000\n",
      "     Sneaker       0.96      0.92      0.94      1000\n",
      "         Bag       1.00      0.95      0.97      1000\n",
      "  Ankle Boot       0.93      0.98      0.96      1000\n",
      "\n",
      "    accuracy                           0.91     10000\n",
      "   macro avg       0.91      0.91      0.91     10000\n",
      "weighted avg       0.91      0.91      0.91     10000\n",
      "\n",
      "              precision    recall  f1-score   support\n",
      "\n",
      " T-shirt/Top       0.84      0.85      0.85      1000\n",
      "     Trouser       0.99      0.99      0.99      1000\n",
      "    Pullover       0.91      0.86      0.88      1000\n",
      "       Dress       0.94      0.89      0.91      1000\n",
      "        Coat       0.90      0.88      0.89      1000\n",
      "      Sandal       0.99      0.97      0.98      1000\n",
      "       Shirt       0.73      0.81      0.77      1000\n",
      "     Sneaker       0.96      0.94      0.95      1000\n",
      "         Bag       0.99      0.98      0.99      1000\n",
      "  Ankle Boot       0.93      0.98      0.96      1000\n",
      "\n",
      "    accuracy                           0.92     10000\n",
      "   macro avg       0.92      0.92      0.92     10000\n",
      "weighted avg       0.92      0.92      0.92     10000\n",
      "\n",
      "              precision    recall  f1-score   support\n",
      "\n",
      " T-shirt/Top       0.81      0.92      0.86      1000\n",
      "     Trouser       0.99      0.98      0.99      1000\n",
      "    Pullover       0.77      0.94      0.85      1000\n",
      "       Dress       0.96      0.85      0.91      1000\n",
      "        Coat       0.92      0.78      0.84      1000\n",
      "      Sandal       0.99      0.97      0.98      1000\n",
      "       Shirt       0.78      0.73      0.75      1000\n",
      "     Sneaker       0.93      0.98      0.95      1000\n",
      "         Bag       0.98      0.98      0.98      1000\n",
      "  Ankle Boot       0.98      0.95      0.96      1000\n",
      "\n",
      "    accuracy                           0.91     10000\n",
      "   macro avg       0.91      0.91      0.91     10000\n",
      "weighted avg       0.91      0.91      0.91     10000\n",
      "\n",
      "Performance of 5 fold cross validation\n",
      "Average Training Loss: 0.24258 \t Average Test Loss: 0.27998 \t Average Training Acc: 91.28246 \t Average Test Acc: 90.29933 \t Average Weighted Average F1: 0.90964\n"
     ]
    }
   ],
   "source": [
    "validation_loss_list, train_loss_list, validation_acc_list, train_acc_list, weighted_avg_f1_list =[],[],[],[],[]\n",
    "k = 5\n",
    "for f in range(1,k+1):\n",
    "    train_loss_list.append(np.mean(folds['fold{}'.format(f)]['train_loss']))\n",
    "    validation_loss_list.append(np.mean(folds['fold{}'.format(f)]['validation_loss']))\n",
    "\n",
    "    train_acc_list.append(np.mean(folds['fold{}'.format(f)]['train_acc']))\n",
    "    validation_acc_list.append(np.mean(folds['fold{}'.format(f)]['validation_acc']))\n",
    "    \n",
    "    report = folds['fold{}'.format(f)]['report']\n",
    "    print(report)\n",
    "    report_dict = folds['fold{}'.format(f)]['report_dict']\n",
    "    # accuracy = report['accuracy']\n",
    "    weighted_avg_metrics = report_dict['weighted avg']\n",
    "    # wa_precision = weighted_avg_metrics['precision']\n",
    "    # wa_recall = weighted_avg_metrics['recall']\n",
    "    wa_f1 = weighted_avg_metrics['f1-score']\n",
    "    weighted_avg_f1_list.append(wa_f1)\n",
    "\n",
    "\n",
    "print('Performance of {} fold cross validation'.format(k))\n",
    "print(\"Average Training Loss: {:.5f} \\t Average Test Loss: {:.5f} \\t Average Training Acc: {:.5f} \\t Average Test Acc: {:.5f} \\t Average Weighted Average F1: {:.5f}\".format(np.mean(train_loss_list),np.mean(validation_loss_list),np.mean(train_acc_list),np.mean(validation_acc_list), np.mean(weighted_avg_f1_list)))     "
   ]
  },
  {
   "cell_type": "markdown",
   "metadata": {},
   "source": [
    "https://medium.com/dataseries/k-fold-cross-validation-with-pytorch-and-sklearn-d094aa00105f"
   ]
  },
  {
   "cell_type": "code",
   "execution_count": null,
   "metadata": {},
   "outputs": [],
   "source": []
  },
  {
   "cell_type": "code",
   "execution_count": 35,
   "metadata": {},
   "outputs": [],
   "source": [
    "import os\n",
    "\n",
    "if not os.path.exists('./diagrams'):\n",
    "    os.makedirs('./diagrams')"
   ]
  },
  {
   "cell_type": "code",
   "execution_count": 21,
   "metadata": {},
   "outputs": [
    {
     "data": {
      "image/png": "[encoded data removed]",
      "text/plain": [
       "<Figure size 1152x720 with 1 Axes>"
      ]
     },
     "metadata": {
      "needs_background": "light"
     },
     "output_type": "display_data"
    }
   ],
   "source": [
    "plt.figure(figsize=(16,10))\n",
    "\n",
    "plt.plot(train_acc_listu)\n",
    "plt.plot(eval_accu)\n",
    "plt.xlabel('epoch')\n",
    "plt.ylabel('accuracy')\n",
    "plt.legend(['Train','Valid'])\n",
    "plt.title('Train vs Valid Accuracy')\n",
    "\n",
    "plt.savefig('./diagrams/cNN_Train_vs_Valid_Acc.png')"
   ]
  },
  {
   "cell_type": "code",
   "execution_count": 22,
   "metadata": {},
   "outputs": [
    {
     "data": {
      "image/png": "[encoded data removed]",
      "text/plain": [
       "<Figure size 1152x720 with 1 Axes>"
      ]
     },
     "metadata": {
      "needs_background": "light"
     },
     "output_type": "display_data"
    }
   ],
   "source": [
    "plt.figure(figsize=(16,10))\n",
    "\n",
    "plt.plot(train_loss_listes)\n",
    "plt.plot(eval_losses)\n",
    "plt.xlabel('epoch')\n",
    "plt.ylabel('losses')\n",
    "plt.legend(['Train','Valid'])\n",
    "plt.title('Train vs Valid Loss')\n",
    " \n",
    "plt.savefig('./diagrams/cNN_Train_vs_Valid_loss.png')"
   ]
  },
  {
   "cell_type": "markdown",
   "metadata": {},
   "source": [
    "From the graph we can see a downward trend of loss vs epoch. Perhaps a reason for the spikes in loss could be just due to the randomness of the batch sampling. An unlucky sampling could have led to the loss increasing compared to the previous iterations but overall the loss has a downward trend as iterations increase."
   ]
  },
  {
   "cell_type": "code",
   "execution_count": 23,
   "metadata": {},
   "outputs": [
    {
     "name": "stdout",
     "output_type": "stream",
     "text": [
      "Accuracy of T-shirt/Top: 86.90%\n",
      "Accuracy of Trouser: 99.60%\n",
      "Accuracy of Pullover: 87.90%\n",
      "Accuracy of Dress: 89.40%\n",
      "Accuracy of Coat: 85.00%\n",
      "Accuracy of Sandal: 96.80%\n",
      "Accuracy of Shirt: 81.40%\n",
      "Accuracy of Sneaker: 96.20%\n",
      "Accuracy of Bag: 98.00%\n",
      "Accuracy of Ankle Boot: 97.60%\n"
     ]
    }
   ],
   "source": [
    "class_correct = [0. for _ in range(10)]\n",
    "total_correct = [0. for _ in range(10)]\n",
    "\n",
    "with torch.no_grad():\n",
    "    for images, labels in test_loader:\n",
    "        images, labels = images.to(device), labels.to(device)\n",
    "        outputs = model(images)\n",
    "        _, predicted = outputs.max(1)\n",
    "        c = (predicted == labels).squeeze()\n",
    "        \n",
    "        for i in range(100):\n",
    "            label = labels[i]\n",
    "            class_correct[label] += c[i].item()\n",
    "            total_correct[label] += 1\n",
    "        \n",
    "for i in range(10):\n",
    "    print(\"Accuracy of {}: {:.2f}%\".format(output_label(i), class_correct[i] * 100 / total_correct[i]))"
   ]
  },
  {
   "cell_type": "code",
   "execution_count": 57,
   "metadata": {},
   "outputs": [],
   "source": [
    "# https://debuggercafe.com/visualizing-filters-and-feature-maps-in-convolutional-neural-networks-using-pytorch/\n",
    "model_weights = [] # we will save the conv layer weights in this list\n",
    "conv_layers = [] # we will save the 49 conv layers in this list\n",
    "# get all the model children as list\n",
    "model_children = list(model.children())"
   ]
  },
  {
   "cell_type": "code",
   "execution_count": 65,
   "metadata": {},
   "outputs": [
    {
     "name": "stdout",
     "output_type": "stream",
     "text": [
      "Total convolutional layers: 2\n"
     ]
    }
   ],
   "source": [
    "# counter to keep count of the conv layers\n",
    "counter = 0 \n",
    "# append all the conv layers and their respective weights to the list\n",
    "for i in range(len(model_children)):\n",
    "    if type(model_children[i]) == nn.Conv2d:\n",
    "        counter += 1\n",
    "        model_weights.append(model_children[i].weight)\n",
    "        conv_layers.append(model_children[i])\n",
    "    elif type(model_children[i]) == nn.Sequential:\n",
    "        for child in model_children[i].children():\n",
    "            if type(child) == nn.Conv2d:\n",
    "                counter += 1\n",
    "                model_weights.append(child.weight)\n",
    "                conv_layers.append(child)\n",
    "print(f\"Total convolutional layers: {counter}\")"
   ]
  },
  {
   "cell_type": "code",
   "execution_count": 67,
   "metadata": {},
   "outputs": [
    {
     "name": "stdout",
     "output_type": "stream",
     "text": [
      "CONV: Conv2d(1, 32, kernel_size=(3, 3), stride=(1, 1), padding=(1, 1)) ====> SHAPE: torch.Size([32, 1, 3, 3])\n",
      "CONV: Conv2d(32, 64, kernel_size=(3, 3), stride=(1, 1)) ====> SHAPE: torch.Size([64, 32, 3, 3])\n"
     ]
    }
   ],
   "source": [
    "# take a look at the conv layers and the respective weights\n",
    "for weight, conv in zip(model_weights, conv_layers):\n",
    "    # print(f\"WEIGHT: {weight} \\nSHAPE: {weight.shape}\")\n",
    "    print(f\"CONV: {conv} ====> SHAPE: {weight.shape}\")"
   ]
  },
  {
   "cell_type": "code",
   "execution_count": 106,
   "metadata": {},
   "outputs": [
    {
     "data": {
      "image/png": "[encoded data removed]",
      "text/plain": [
       "<Figure size 1440x1224 with 32 Axes>"
      ]
     },
     "metadata": {
      "needs_background": "light"
     },
     "output_type": "display_data"
    }
   ],
   "source": [
    "# visualize the first conv layer filters\n",
    "plt.figure(figsize=(20, 17))\n",
    "for i, filter in enumerate(model_weights[0].cpu()):\n",
    "    plt.subplot(8, 8, i+1) # (8, 8) because in conv0 we have 7x7 filters and total of 64 (see printed shapes)\n",
    "    plt.imshow(filter[0, :, :].detach(), cmap='gray')\n",
    "    plt.axis('off')\n",
    "    plt.savefig('./diagrams/filter1.png')\n",
    "plt.show()"
   ]
  },
  {
   "cell_type": "code",
   "execution_count": 104,
   "metadata": {},
   "outputs": [
    {
     "data": {
      "image/png": "[encoded data removed]",
      "text/plain": [
       "<Figure size 1440x1224 with 64 Axes>"
      ]
     },
     "metadata": {
      "needs_background": "light"
     },
     "output_type": "display_data"
    }
   ],
   "source": [
    "# visualize the second conv layer filters\n",
    "plt.figure(figsize=(20, 17))\n",
    "for i, filter in enumerate(model_weights[1].cpu()):\n",
    "    plt.subplot(8, 8, i+1) # (8, 8) because in conv0 we have 7x7 filters and total of 64 (see printed shapes)\n",
    "    plt.imshow(filter[0, :, :].detach(), cmap='gray')\n",
    "    plt.axis('off')\n",
    "    plt.savefig('./diagrams/filter2.png')\n",
    "plt.show()"
   ]
  },
  {
   "cell_type": "code",
   "execution_count": 97,
   "metadata": {},
   "outputs": [
    {
     "name": "stdout",
     "output_type": "stream",
     "text": [
      "tensor([[[[-0.3243,  0.0057, -0.1834],\n",
      "          [-0.3555,  0.3243, -0.4326],\n",
      "          [ 0.3751,  0.0794,  0.4477]]],\n",
      "\n",
      "\n",
      "        [[[ 0.2042,  0.2393, -0.3902],\n",
      "          [-0.2416,  0.0586,  0.3219],\n",
      "          [-0.2565, -0.6752, -0.0495]]],\n",
      "\n",
      "\n",
      "        [[[ 0.2994,  0.2793,  0.1979],\n",
      "          [-0.1283, -0.0114, -0.0174],\n",
      "          [-0.3594, -0.5176,  0.3863]]],\n",
      "\n",
      "\n",
      "        [[[ 0.0603,  0.0814,  0.3541],\n",
      "          [ 0.2769, -0.4807,  0.0777],\n",
      "          [-0.4764,  0.1210,  0.2976]]],\n",
      "\n",
      "\n",
      "        [[[ 0.2864, -0.3447,  0.0312],\n",
      "          [ 0.1136, -0.3285, -0.3658],\n",
      "          [-0.2023,  0.5523,  0.0683]]],\n",
      "\n",
      "\n",
      "        [[[-0.5126,  0.5142,  0.1148],\n",
      "          [ 0.2278,  0.3988, -0.0409],\n",
      "          [-0.2172,  0.2252, -0.2283]]],\n",
      "\n",
      "\n",
      "        [[[-0.0609,  0.0271,  0.0442],\n",
      "          [-0.4212,  0.3240,  0.1164],\n",
      "          [ 0.2036,  0.3851, -0.5612]]],\n",
      "\n",
      "\n",
      "        [[[-0.2632, -0.2463,  0.5217],\n",
      "          [ 0.0419, -0.4285, -0.2895],\n",
      "          [-0.3395,  0.5035, -0.1641]]],\n",
      "\n",
      "\n",
      "        [[[ 0.2399,  0.2051, -0.0973],\n",
      "          [ 0.1779,  0.3417, -0.6495],\n",
      "          [ 0.0774,  0.2419, -0.1062]]],\n",
      "\n",
      "\n",
      "        [[[-0.0940,  0.4859, -0.5438],\n",
      "          [ 0.1704, -0.3206,  0.4408],\n",
      "          [-0.2351,  0.0332,  0.0912]]],\n",
      "\n",
      "\n",
      "        [[[ 0.2502,  0.0732, -0.1052],\n",
      "          [-0.2135, -0.5710, -0.1622],\n",
      "          [ 0.1349,  0.3171,  0.3858]]],\n",
      "\n",
      "\n",
      "        [[[-0.0430,  0.2114, -0.4002],\n",
      "          [ 0.0820,  0.4216,  0.0659],\n",
      "          [-0.4693,  0.4138, -0.2774]]],\n",
      "\n",
      "\n",
      "        [[[-0.1033,  0.2309, -0.1202],\n",
      "          [-0.4670, -0.1007,  0.5284],\n",
      "          [ 0.3453, -0.1443, -0.1952]]],\n",
      "\n",
      "\n",
      "        [[[-0.3252, -0.4684,  0.2182],\n",
      "          [ 0.1681,  0.3608,  0.1859],\n",
      "          [ 0.1868,  0.1177, -0.3928]]],\n",
      "\n",
      "\n",
      "        [[[-0.0257,  0.4128,  0.2267],\n",
      "          [ 0.0607, -0.6085, -0.1970],\n",
      "          [-0.1056,  0.3902, -0.0061]]],\n",
      "\n",
      "\n",
      "        [[[ 0.3788,  0.0081, -0.0510],\n",
      "          [ 0.2559,  0.2349,  0.1154],\n",
      "          [ 0.1720, -0.5896, -0.4408]]],\n",
      "\n",
      "\n",
      "        [[[ 0.2897, -0.3103,  0.0459],\n",
      "          [ 0.4331, -0.2252, -0.2301],\n",
      "          [-0.4232, -0.0122,  0.4492]]],\n",
      "\n",
      "\n",
      "        [[[ 0.1978, -0.4365, -0.5329],\n",
      "          [ 0.0436,  0.2082, -1.0266],\n",
      "          [ 0.3551, -0.2055, -0.2131]]],\n",
      "\n",
      "\n",
      "        [[[-0.3128, -0.0737,  0.1599],\n",
      "          [-0.4532,  0.4162,  0.1132],\n",
      "          [-0.4824,  0.2802,  0.2706]]],\n",
      "\n",
      "\n",
      "        [[[ 0.1887, -0.1470, -0.1675],\n",
      "          [ 0.0833, -0.0278,  0.8333],\n",
      "          [-0.0028, -0.1788,  0.7867]]],\n",
      "\n",
      "\n",
      "        [[[-0.3410,  0.4165, -0.0404],\n",
      "          [-0.3134,  0.3480, -0.0245],\n",
      "          [ 0.2989, -0.4072,  0.1135]]],\n",
      "\n",
      "\n",
      "        [[[ 0.3486, -0.0034, -0.3008],\n",
      "          [ 0.0173,  0.1977,  0.0354],\n",
      "          [-0.4946,  0.3444,  0.0811]]],\n",
      "\n",
      "\n",
      "        [[[-0.3948, -0.1155,  0.5859],\n",
      "          [-0.3696, -0.0172,  0.1991],\n",
      "          [-0.0426, -0.0787,  0.2234]]],\n",
      "\n",
      "\n",
      "        [[[ 0.1294,  0.3059, -0.3570],\n",
      "          [ 0.3815, -0.4217, -0.0910],\n",
      "          [-0.2388, -0.1493,  0.1354]]],\n",
      "\n",
      "\n",
      "        [[[ 0.5228,  0.2059, -0.2517],\n",
      "          [-0.4237, -0.0530, -0.4249],\n",
      "          [-0.1877,  0.3741,  0.0216]]],\n",
      "\n",
      "\n",
      "        [[[-0.1085, -0.2123, -0.2441],\n",
      "          [-0.1465, -0.4944,  0.1570],\n",
      "          [ 0.3893,  0.2698, -0.4228]]],\n",
      "\n",
      "\n",
      "        [[[ 0.1597, -0.3200, -0.0504],\n",
      "          [-0.5164,  0.2944, -0.1556],\n",
      "          [-0.3003,  0.4181, -0.1557]]],\n",
      "\n",
      "\n",
      "        [[[ 0.0134,  0.1385, -0.1124],\n",
      "          [-0.5878,  0.5066, -0.2987],\n",
      "          [ 0.1219, -0.1027, -0.2086]]],\n",
      "\n",
      "\n",
      "        [[[ 0.0279,  0.1816,  0.4625],\n",
      "          [-0.5887, -0.0188,  0.1227],\n",
      "          [-0.2538,  0.2659, -0.3063]]],\n",
      "\n",
      "\n",
      "        [[[ 0.4162, -0.4393,  0.1469],\n",
      "          [-0.0772, -0.4638,  0.4553],\n",
      "          [-0.0791,  0.1079, -0.0201]]],\n",
      "\n",
      "\n",
      "        [[[-0.2719,  0.2982,  0.1533],\n",
      "          [-0.0421, -0.4862,  0.1167],\n",
      "          [ 0.4533, -0.0861,  0.0141]]],\n",
      "\n",
      "\n",
      "        [[[-0.0474, -0.1733,  0.5402],\n",
      "          [ 0.1651, -0.4835, -0.4840],\n",
      "          [ 0.2647,  0.0184, -0.0287]]]], grad_fn=<CopyBackwards>)\n"
     ]
    }
   ],
   "source": [
    "print(model_weights[0].cpu())"
   ]
  },
  {
   "cell_type": "code",
   "execution_count": null,
   "metadata": {},
   "outputs": [],
   "source": [
    "plt.imsave('./diagrams/pullover.png', image.squeeze(), cmap=\"gray\")"
   ]
  },
  {
   "cell_type": "code",
   "execution_count": 89,
   "metadata": {},
   "outputs": [
    {
     "data": {
      "image/png": "[encoded data removed]",
      "text/plain": [
       "<Figure size 432x288 with 1 Axes>"
      ]
     },
     "metadata": {
      "needs_background": "light"
     },
     "output_type": "display_data"
    },
    {
     "name": "stdout",
     "output_type": "stream",
     "text": [
      "torch.Size([1, 28, 28])\n",
      "torch.Size([1, 1, 28, 28])\n"
     ]
    }
   ],
   "source": [
    "import cv2 as cv\n",
    "\n",
    "# read and visualize an image\n",
    "img = cv.imread(f\"./diagrams/pullover.png\")\n",
    "# img = cv.cvtColor(img, cv.COLOR_BGR2RGB)\n",
    "plt.imshow(img)\n",
    "plt.show()\n",
    "\n",
    "# define the transforms\n",
    "transform = transforms.Compose([\n",
    "    transforms.ToPILImage(),\n",
    "    transforms.Resize((28, 28)),\n",
    "    transforms.Grayscale(num_output_channels=1),\n",
    "    transforms.ToTensor(),\n",
    "])\n",
    "\n",
    "img = np.array(img)\n",
    "# apply the transforms\n",
    "img = transform(img)\n",
    "print(img.size())\n",
    "# unsqueeze to add a batch dimension\n",
    "img = img.unsqueeze(0)\n",
    "print(img.size())"
   ]
  },
  {
   "cell_type": "code",
   "execution_count": 91,
   "metadata": {},
   "outputs": [],
   "source": [
    "# pass the image through all the layers\n",
    "img = img.to(device)\n",
    "results = [conv_layers[0](img)]\n",
    "for i in range(1, len(conv_layers)):\n",
    "    # pass the result from the last layer to the next layer\n",
    "    results.append(conv_layers[i](results[-1]))\n",
    "# make a copy of the `results`\n",
    "outputs = results"
   ]
  },
  {
   "cell_type": "code",
   "execution_count": 94,
   "metadata": {},
   "outputs": [
    {
     "name": "stdout",
     "output_type": "stream",
     "text": [
      "torch.Size([32, 28, 28])\n",
      "Saving layer 0 feature maps...\n",
      "torch.Size([64, 26, 26])\n",
      "Saving layer 1 feature maps...\n"
     ]
    }
   ],
   "source": [
    "# visualize 64 features from each layer \n",
    "# (although there are more feature maps in the upper layers)\n",
    "for num_layer in range(len(outputs)):\n",
    "    plt.figure(figsize=(30, 30))\n",
    "    layer_viz = outputs[num_layer][0, :, :, :]\n",
    "    layer_viz = layer_viz.data\n",
    "    print(layer_viz.size())\n",
    "    for i, filter in enumerate(layer_viz):\n",
    "        if i == 64: # we will visualize only 8x8 blocks from each layer\n",
    "            break\n",
    "        plt.subplot(8, 8, i + 1)\n",
    "        plt.imshow(filter.cpu(), cmap='gray')\n",
    "        plt.axis(\"off\")\n",
    "    print(f\"Saving layer {num_layer} feature maps...\")\n",
    "    plt.savefig(f\"./diagrams/layer_{num_layer}.png\")\n",
    "    # plt.show()\n",
    "    plt.close()"
   ]
  },
  {
   "cell_type": "code",
   "execution_count": null,
   "metadata": {},
   "outputs": [],
   "source": []
  }
 ],
 "metadata": {
  "interpreter": {
   "hash": "a26ff82582be0ed5f057a749d3391963a753d71735083bd0110d44d1abf41696"
  },
  "kernelspec": {
   "display_name": "Python 3.8.8 64-bit ('base': conda)",
   "name": "python3"
  },
  "language_info": {
   "codemirror_mode": {
    "name": "ipython",
    "version": 3
   },
   "file_extension": ".py",
   "mimetype": "text/x-python",
   "name": "python",
   "nbconvert_exporter": "python",
   "pygments_lexer": "ipython3",
   "version": "3.8.8"
  },
  "orig_nbformat": 4
 },
 "nbformat": 4,
 "nbformat_minor": 2
}
