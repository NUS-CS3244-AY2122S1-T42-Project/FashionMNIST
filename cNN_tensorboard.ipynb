{
 "cells": [
  {
   "cell_type": "code",
   "execution_count": 51,
   "metadata": {},
   "outputs": [],
   "source": [
    "import numpy as np\n",
    "import pandas as pd\n",
    "import time\n",
    "import json\n",
    "import matplotlib.pyplot as plt\n",
    "\n",
    "import torch\n",
    "import torch.nn as nn\n",
    "import torch.optim as optim\n",
    "from torch.utils.tensorboard import SummaryWriter\n",
    "from IPython.display import clear_output, display\n",
    "\n",
    "import torchvision\n",
    "import torchvision.transforms as transforms\n",
    "\n",
    "from torch.utils.data import Dataset, DataLoader\n",
    "from sklearn.metrics import confusion_matrix\n",
    "\n"
   ]
  },
  {
   "cell_type": "markdown",
   "metadata": {},
   "source": [
    "I had some difficulties uninstalling pytorch without cuda to replace it so I just created another virtual env and ran it in that. (I think this only needs to be done when you try to run it local)\n",
    "\n",
    "After activating the venv you can install the pytorch with cuda with the following command.\n",
    "\n",
    "`pip3 install torch==1.9.1+cu111 torchvision==0.10.1+cu111 torchaudio==0.9.1 -f https://download.pytorch.org/whl/torch_stable.html`\n"
   ]
  },
  {
   "cell_type": "code",
   "execution_count": 39,
   "metadata": {},
   "outputs": [
    {
     "name": "stdout",
     "output_type": "stream",
     "text": [
      "cpu\n"
     ]
    }
   ],
   "source": [
    "device = 'cpu'\n",
    "#torch.device(\"cuda:0\" if torch.cuda.is_available() else \"cpu\")\n",
    "print(device)"
   ]
  },
  {
   "cell_type": "code",
   "execution_count": 6,
   "metadata": {},
   "outputs": [],
   "source": [
    "train_csv = pd.read_csv(\"../data/fashion-mnist_train.csv\")\n",
    "test_csv = pd.read_csv(\"../data/fashion-mnist_test.csv\")"
   ]
  },
  {
   "cell_type": "code",
   "execution_count": 7,
   "metadata": {},
   "outputs": [],
   "source": [
    "# FashionDataset class courtesy of https://www.kaggle.com/pankajj/fashion-mnist-with-pytorch-93-accuracy\n",
    "class FashionDataset(Dataset):\n",
    "    \"\"\"User defined class to build a datset using Pytorch class Dataset.\"\"\"\n",
    "    \n",
    "    def __init__(self, data, transform = None):\n",
    "        \"\"\"Method to initilaize variables.\"\"\" \n",
    "        self.fashion_MNIST = list(data.values)\n",
    "        self.transform = transform\n",
    "        \n",
    "        label = []\n",
    "        image = []\n",
    "        \n",
    "        for i in self.fashion_MNIST:\n",
    "             # first column is of labels.\n",
    "            label.append(i[0])\n",
    "            image.append(i[1:])\n",
    "        self.labels = np.asarray(label)\n",
    "        # Dimension of Images = 28 * 28 * 1. where height = width = 28 and color_channels = 1.\n",
    "        self.images = np.asarray(image).reshape(-1, 28, 28, 1).astype('float32')\n",
    "\n",
    "    def __getitem__(self, index):\n",
    "        label = self.labels[index]\n",
    "        image = self.images[index]\n",
    "        \n",
    "        if self.transform is not None:\n",
    "            image = self.transform(image)\n",
    "\n",
    "        return image, label\n",
    "\n",
    "    def __len__(self):\n",
    "        return len(self.images)"
   ]
  },
  {
   "cell_type": "code",
   "execution_count": 8,
   "metadata": {},
   "outputs": [],
   "source": [
    "# Transform data into Tensor that has a range from 0 to 1\n",
    "train_set = FashionDataset(train_csv, transform=transforms.Compose([transforms.ToTensor()]))\n",
    "test_set = FashionDataset(test_csv, transform=transforms.Compose([transforms.ToTensor()]))\n",
    "\n",
    "train_loader = DataLoader(train_set, batch_size=100)\n",
    "test_loader = DataLoader(train_set, batch_size=100)"
   ]
  },
  {
   "cell_type": "code",
   "execution_count": 9,
   "metadata": {},
   "outputs": [],
   "source": [
    "# Mapping label number to a more meaningful label\n",
    "\n",
    "def output_label(label):\n",
    "    output_mapping = {\n",
    "        0: \"T-shirt/Top\",\n",
    "        1: \"Trouser\",\n",
    "        2: \"Pullover\",\n",
    "        3: \"Dress\",\n",
    "        4: \"Coat\", \n",
    "        5: \"Sandal\", \n",
    "        6: \"Shirt\",\n",
    "        7: \"Sneaker\",\n",
    "        8: \"Bag\",\n",
    "        9: \"Ankle Boot\"\n",
    "    }\n",
    "    input = (label.item() if type(label) == torch.Tensor else label)\n",
    "    return output_mapping[input]"
   ]
  },
  {
   "cell_type": "code",
   "execution_count": 10,
   "metadata": {},
   "outputs": [
    {
     "name": "stdout",
     "output_type": "stream",
     "text": [
      "2\n"
     ]
    },
    {
     "data": {
      "image/png": "[encoded data removed]",
      "text/plain": [
       "<Figure size 432x288 with 1 Axes>"
      ]
     },
     "metadata": {
      "needs_background": "light"
     },
     "output_type": "display_data"
    }
   ],
   "source": [
    "# displaying image using matplotlib imshow()\n",
    "image, label = next(iter(train_set))\n",
    "plt.imshow(image.squeeze(), cmap=\"gray\")\n",
    "print(label)"
   ]
  },
  {
   "cell_type": "code",
   "execution_count": 11,
   "metadata": {},
   "outputs": [
    {
     "name": "stdout",
     "output_type": "stream",
     "text": [
      "<class 'torch.Tensor'> <class 'torch.Tensor'>\n",
      "torch.Size([10, 1, 28, 28]) torch.Size([10])\n"
     ]
    }
   ],
   "source": [
    "demo_loader = torch.utils.data.DataLoader(train_set, batch_size=10)\n",
    "\n",
    "batch = next(iter(demo_loader))\n",
    "images, labels = batch\n",
    "print(type(images), type(labels))\n",
    "print(images.shape, labels.shape)"
   ]
  },
  {
   "cell_type": "code",
   "execution_count": 12,
   "metadata": {},
   "outputs": [
    {
     "name": "stderr",
     "output_type": "stream",
     "text": [
      "Clipping input data to the valid range for imshow with RGB data ([0..1] for floats or [0..255] for integers).\n"
     ]
    },
    {
     "name": "stdout",
     "output_type": "stream",
     "text": [
      "labels:  Pullover, Ankle Boot, Shirt, T-shirt/Top, Dress, Coat, Coat, Sandal, Coat, Bag, "
     ]
    },
    {
     "data": {
      "image/png": "[encoded data removed]",
      "text/plain": [
       "<Figure size 1080x1440 with 1 Axes>"
      ]
     },
     "metadata": {
      "needs_background": "light"
     },
     "output_type": "display_data"
    }
   ],
   "source": [
    "grid = torchvision.utils.make_grid(images, nrow=10)\n",
    "\n",
    "plt.figure(figsize=(15, 20))\n",
    "plt.imshow(np.transpose(grid, (1, 2, 0)))\n",
    "print(\"labels: \", end=\" \")\n",
    "for i, label in enumerate(labels):\n",
    "    print(output_label(label), end=\", \")"
   ]
  },
  {
   "cell_type": "markdown",
   "metadata": {},
   "source": [
    "Intuition:\n",
    "Num of conv layers:\n",
    "Due to the small size of the individual data (28 x 28) px, we theorize that we don't need a very complicated network. Hence, we're looking at 2 or 3 convolutional layers.\n",
    "\n",
    "Conv layers kernel size:\n",
    "Due to the small size of the images and how they look, we think that a smaller kernel size would be better as it can then pick up on smaller details of the images. Hence, we decided on 3x3 kernel size of the convolution layer.\n",
    "\n",
    "Pooling kernel size and stride\n",
    "2x2 kernel on max pooling was decided as we didn't want to lose too much information but at the same time leave room for generalization by reducing overfitting.\n",
    "Stride of 2 was chosen for the first pooling layers since the first layer is more computationally demanding due to larger matrix and same reason as above.\n",
    "Stride of 1 chosen for second pooling layer to retain more information.\n",
    "\n",
    "Batch normalization:\n",
    "Used to avoid overfitting of the model and help to reduce generalization error.\n",
    "Makes the training faster as well.\n",
    "\n",
    "Activation function:\n",
    "ReLU is a non-linear activation function that is idempotent (p(x) == p(p(p.......(x).......)) and hence doesnt suffer from the vanishing gradient problem.\n",
    "It is also easy to compute.\n",
    "\n",
    "Dropout:\n",
    "Apply a regularization technique to preven overfitting of the model.\n",
    "We plan to use a value between 0.2 to 0.3 as too low of a probability has minimal effect and a value too high will affect the learning of the model.\n",
    "\n",
    "\n",
    "\n",
    "1. Make a model class (inherits nn.Module class)\n",
    "2. Add Layers to model class\n",
    "\n",
    "    a. Convolution layer with kernel size 3*3, padding = 1 (no padding) in 1st layer and padding = 0 in second layer. Stride of 1 in both layers.\n",
    "\n",
    "    b. Batch normalization layer\n",
    "\n",
    "    c. Activation function used: ReLU\n",
    "\n",
    "    d. Max Pooling layer with kernel size of 2 * 2 and stride 2.\n",
    "\n",
    "        i. flatten out output for dense layer\n",
    "\n",
    "        ii. 3 fully connected layers with different in/out features\n",
    "\n",
    "        iii. 1 dropout layer with p=0.25\n",
    "\n",
    "Summary is as follows:\n",
    "\n",
    "First conv layer -> Max Pooling layer -> Second conv layer -> second max pooling layer -> Fullyconnected layers -> output\n",
    "\n",
    "28 * 28 * 3      --> 28 * 28 * 32      --> 14 * 14 * 32      --> 12 * 12 * 64              --> 6 * 6 * 64\n",
    "\n",
    "Final fully connected layer has 10 output features for 10 types of clothes."
   ]
  },
  {
   "cell_type": "code",
   "execution_count": 70,
   "metadata": {},
   "outputs": [],
   "source": [
    "class FashionCNN(nn.Module):\n",
    "    def __init__(self):\n",
    "        super(FashionCNN, self).__init__()\n",
    "        \n",
    "        self.layer1 = nn.Sequential(\n",
    "            # kernel_size is chosen as 3 due to how small the image is\n",
    "            nn.Conv2d(in_channels=1, out_channels=32, kernel_size=3, padding=1),\n",
    "            nn.BatchNorm2d(32),\n",
    "            nn.MaxPool2d(kernel_size=2, stride=2),\n",
    "            nn.ReLU()\n",
    "        )\n",
    "        \n",
    "        self.layer2 = nn.Sequential(\n",
    "            nn.Conv2d(in_channels=32, out_channels=64, kernel_size=3),\n",
    "            nn.BatchNorm2d(64),\n",
    "            nn.MaxPool2d(kernel_size=2),\n",
    "            nn.ReLU()\n",
    "        )\n",
    "        \n",
    "        self.fc1 = nn.Linear(in_features=64*6*6, out_features=600)\n",
    "        self.drop = nn.Dropout2d(0.25)\n",
    "        self.fc2 = nn.Linear(in_features=600, out_features=120)\n",
    "        self.fc3 = nn.Linear(in_features=120, out_features=10)\n",
    "        \n",
    "    def forward(self, x):\n",
    "        out = self.layer1(x)\n",
    "        out = self.layer2(out)\n",
    "        out = out.view(out.size(0), -1)\n",
    "        out = self.fc1(out)\n",
    "        out = self.drop(out)\n",
    "        out = self.fc2(out)\n",
    "        out = self.fc3(out)\n",
    "        \n",
    "        return out"
   ]
  },
  {
   "cell_type": "markdown",
   "metadata": {},
   "source": [
    "Apparently according to this [question](https://www.quora.com/In-most-papers-I-read-the-CNN-order-is-convolution-relu-max-pooling-So-can-I-change-the-order-to-become-convolution-max-pooling-relu) on quora and some other articles online, \n",
    "\n",
    "MaxPool(ReLU(x)) == ReLU(MaxPool(x))\n",
    "\n",
    "which is essentially saying it's commutative. However, the benefit from performing MaxPooling before computing ReLU is that we get to save computation resources as the data will be smaller and hence computing non-linear layers like ReLU is less intensive. (4 times lesser)\n",
    "\n",
    "Hence, we may want to change the model to perform MaxPool first\n",
    "\n",
    "We also decided on a learning rate of 0.001 and a batch size of 100."
   ]
  },
  {
   "cell_type": "markdown",
   "metadata": {},
   "source": [
    "Visualizing the results"
   ]
  },
  {
   "cell_type": "code",
   "execution_count": 57,
   "metadata": {},
   "outputs": [],
   "source": [
    "from collections import OrderedDict, namedtuple\n",
    "from itertools import product\n",
    "import os"
   ]
  },
  {
   "cell_type": "code",
   "execution_count": 42,
   "metadata": {},
   "outputs": [],
   "source": [
    "class RunBuilder():\n",
    "    @staticmethod\n",
    "    # forms combinations of hyper params\n",
    "    def get_runs(params):\n",
    "        Run = namedtuple('Run', params.keys())\n",
    "\n",
    "        runs = []\n",
    "\n",
    "        for v in product(*params.values()):\n",
    "            runs.append(Run(*v))\n",
    "\n",
    "        return runs"
   ]
  },
  {
   "cell_type": "code",
   "execution_count": 71,
   "metadata": {},
   "outputs": [],
   "source": [
    "# Helper class, help track loss, accuracy, epoch time, run time, • hyper-parameters etc. Also record to TensorBoard and write into csv, jSOn \n",
    "class RunManager():\n",
    "    def __init__(self): \n",
    "        # tracking every epoch count, loss, accuracy, time \n",
    "        self.epoch_count = 0 \n",
    "        self.epoch_loss = 0\n",
    "        self.epoch_precision = 0\n",
    "        self.epoch_recall = 0\n",
    "        self.epoch_f1 = 0\n",
    "        self.epoch_num_correct = 0 \n",
    "        self.epoch_start_time = None \n",
    "        # tracking every run count, run data, hyper-params used, time\n",
    "        self.run_params = None\n",
    "        self.run_count = 0\n",
    "        self.run_data = []\n",
    "        self.run_start_time = None \n",
    "        # record model, loader and TensorBoard\n",
    "        self.model = None\n",
    "        self.loader = None\n",
    "        self.tb = None \n",
    "        # record the count, hyper-param, mndel, loader of each run\n",
    "        # record sample images and model graph to TensorBoard \n",
    "    def begin_run(self, run, model, loader):\n",
    "        self.run_start_time = time.time()\n",
    "        self.run_params = run\n",
    "        self.run_count += 1 \n",
    "\n",
    "        self.model = model\n",
    "        self.loader = loader \n",
    "        self.tb = SummaryWriter(comment=f'-{run}')\n",
    "\n",
    "        images, labels = next(iter(self.loader))\n",
    "        grid = torchvision.utils.make_grid(images)\n",
    "\n",
    "        self.tb.add_image('images', grid)\n",
    "        self.tb.add_graph(self.model, images)\n",
    "\n",
    "    # when run ends, close TensorBoard, zero epoch count\n",
    "    def end_run(self):\n",
    "        self.tb.close()\n",
    "        self.epoch_count = 0\n",
    "\n",
    "    # zero epoch count, loss, accuracy\n",
    "    def begin_epoch(self):\n",
    "        self.epoch_start_time = time.time()\n",
    "        self.epoch_count += 1\n",
    "        self.epoch_loss = 0\n",
    "        self.epoch_precision = 0\n",
    "        self.epoch_recall = 0\n",
    "        self.epoch_f1 = 0\n",
    "        self.epoch_num_correct = 0\n",
    "\n",
    "    def end_epoch(self):\n",
    "        #calculate epoch duration and run duration(accumulate)\n",
    "        epoch_duration = time.time() - self.epoch_start_time\n",
    "        run_duration = time.time() - self.run_start_time \n",
    "        # record epoch loss and accuracy\n",
    "        loss = self.epoch_loss / len(self.loader.dataset)\n",
    "        accuracy = self.epoch_num_correct / len(self.loader.dataset)\n",
    "        precision = self.epoch_precision / (len(self.loader) * 10) # finding average\n",
    "        recall = self.epoch_recall / (len(self.loader) * 10)\n",
    "        f1 = self.epoch_f1 / (len(self.loader) * 10)\n",
    "\n",
    "        # Record epoch loss and accuracy to TensorBoard\n",
    "        self.tb.add_scalar('Loss', loss, self.epoch_count)\n",
    "        self.tb.add_scalar('Accuracy', accuracy, self.epoch_count)\n",
    "        self.tb.add_scalar('Precision', precision, self.epoch_count)\n",
    "        self.tb.add_scalar('Recall', recall, self.epoch_count)\n",
    "        self.tb.add_scalar('F1', f1, self.epoch_count)\n",
    "\n",
    "        # Record norms to TensorBoard\n",
    "        for name, param in self.model.named_parameters():\n",
    "            self.tb.add_histogram(name, param, self.epoch_count)\n",
    "            self.tb.add_histogram(f'{name}.grad', param.grad, self.epoch_count)\n",
    "\n",
    "        # Write into 'results' OrderedDict for all run related data\n",
    "        results = OrderedDict()\n",
    "        results['run'] = self.run_count\n",
    "        results['epoch'] = self.epoch_count\n",
    "        results['loss'] = loss\n",
    "        results['precision'] = precision\n",
    "        results['recall'] = recall\n",
    "        results['f1'] = f1\n",
    "        results['accuracy'] = accuracy\n",
    "        results['epoch duration'] = epoch_duration\n",
    "        results['run duration'] = run_duration\n",
    "\n",
    "        # Record hyper-params into 'results'\n",
    "        for k,v in self.run_params._asdict().items():\n",
    "            results[k] = v\n",
    "        self.run_data.append(results)\n",
    "        df = pd.DataFrame.from_dict(self.run_data, orient = 'columns')\n",
    "\n",
    "        # display epoch information and show progress\n",
    "        clear_output(wait=True)\n",
    "        display(df)\n",
    "\n",
    "    # accumulate number of corrects of batch into entire epoch loss\n",
    "    def track_loss(self, loss):\n",
    "        # multiply batch size so batch size can be compared\n",
    "        self.epoch_loss += loss.item() * self.loader.batch_size\n",
    "\n",
    "    # accumulate batch into entire epoch precision\n",
    "    def track_precision(self, precision):\n",
    "        self.epoch_precision += precision.item()\n",
    "\n",
    "    # accumulate batch into entire epoch recall\n",
    "    def track_recall(self, recall):\n",
    "        self.epoch_recall += recall.item()\n",
    "\n",
    "    # accumulate batch into entire epoch f1\n",
    "    def track_f1(self, f1):\n",
    "        self.epoch_f1 += f1.item()\n",
    "    \n",
    "    # accumulate batch into entire epoch\n",
    "    def track_num_correct(self, preds, labels):\n",
    "        self.epoch_num_correct += self._get_num_correct(preds, labels)\n",
    "    \n",
    "    @torch.no_grad()\n",
    "    def _get_num_correct(self, preds, labels):\n",
    "        return preds.argmax(dim=1).eq(labels).sum().item()\n",
    "    \n",
    "    # save into csv, json\n",
    "    def save(self, fileName):\n",
    "        if not os.path.exists('./logs'):\n",
    "            os.makedirs('./logs')\n",
    "        pd.DataFrame.from_dict(\n",
    "            self.run_data,\n",
    "            orient = 'columns'\n",
    "        ).to_csv(f'./logs/{fileName}.csv')\n",
    "\n",
    "        with open(f'./logs/{fileName}.json', 'w', encoding='utf-8') as f:\n",
    "            json.dump(self.run_data, f, ensure_ascii=False, indent=4)\n",
    "\n"
   ]
  },
  {
   "cell_type": "code",
   "execution_count": 58,
   "metadata": {},
   "outputs": [],
   "source": [
    "def calculate_precision_recall_f1(y_true:torch.Tensor, y_pred:torch.Tensor, is_training=False) -> torch.Tensor:\n",
    "    '''\n",
    "    Taken from https://gist.github.com/SuperShinyEyes/dcc68a08ff8b615442e3bc6a9b55a354 with some modifications\n",
    "    '''\n",
    "    assert y_true.ndim == 1\n",
    "    assert y_pred.ndim == 1 or y_pred.ndim == 2\n",
    "    \n",
    "    if y_pred.ndim == 2:\n",
    "        y_pred = y_pred.argmax(dim=1)\n",
    "        \n",
    "    \n",
    "    tp = (y_true * y_pred).sum().to(torch.float32)\n",
    "    tn = ((1 - y_true) * (1 - y_pred)).sum().to(torch.float32)\n",
    "    fp = ((1 - y_true) * y_pred).sum().to(torch.float32)\n",
    "    fn = (y_true * (1 - y_pred)).sum().to(torch.float32)\n",
    "    \n",
    "    epsilon = 1e-7\n",
    "    \n",
    "    precision = tp / (tp + fp + epsilon)\n",
    "    recall = tp / (tp + fn + epsilon)\n",
    "    \n",
    "    f1 = 2* (precision*recall) / (precision + recall + epsilon)\n",
    "    f1.requires_grad = is_training\n",
    "    return precision, recall, f1"
   ]
  },
  {
   "cell_type": "code",
   "execution_count": 44,
   "metadata": {},
   "outputs": [],
   "source": [
    "params = OrderedDict(\n",
    "    lr = [0.01, 0.001]\n",
    ")\n",
    "epochs = 2"
   ]
  },
  {
   "cell_type": "code",
   "execution_count": 69,
   "metadata": {},
   "outputs": [
    {
     "data": {
      "text/html": [
       "<div>\n",
       "<style scoped>\n",
       "    .dataframe tbody tr th:only-of-type {\n",
       "        vertical-align: middle;\n",
       "    }\n",
       "\n",
       "    .dataframe tbody tr th {\n",
       "        vertical-align: top;\n",
       "    }\n",
       "\n",
       "    .dataframe thead th {\n",
       "        text-align: right;\n",
       "    }\n",
       "</style>\n",
       "<table border=\"1\" class=\"dataframe\">\n",
       "  <thead>\n",
       "    <tr style=\"text-align: right;\">\n",
       "      <th></th>\n",
       "      <th>run</th>\n",
       "      <th>epoch</th>\n",
       "      <th>loss</th>\n",
       "      <th>precision</th>\n",
       "      <th>recall</th>\n",
       "      <th>f1</th>\n",
       "      <th>accuracy</th>\n",
       "      <th>epoch duration</th>\n",
       "      <th>run duration</th>\n",
       "      <th>lr</th>\n",
       "    </tr>\n",
       "  </thead>\n",
       "  <tbody>\n",
       "    <tr>\n",
       "      <th>0</th>\n",
       "      <td>1</td>\n",
       "      <td>1</td>\n",
       "      <td>2.607559</td>\n",
       "      <td>0.604829</td>\n",
       "      <td>0.598005</td>\n",
       "      <td>0.600200</td>\n",
       "      <td>0.788217</td>\n",
       "      <td>59.767446</td>\n",
       "      <td>60.077446</td>\n",
       "      <td>0.010</td>\n",
       "    </tr>\n",
       "    <tr>\n",
       "      <th>1</th>\n",
       "      <td>1</td>\n",
       "      <td>2</td>\n",
       "      <td>0.350809</td>\n",
       "      <td>0.615205</td>\n",
       "      <td>0.611442</td>\n",
       "      <td>0.613091</td>\n",
       "      <td>0.874483</td>\n",
       "      <td>52.702924</td>\n",
       "      <td>113.034818</td>\n",
       "      <td>0.010</td>\n",
       "    </tr>\n",
       "    <tr>\n",
       "      <th>2</th>\n",
       "      <td>1</td>\n",
       "      <td>3</td>\n",
       "      <td>0.301563</td>\n",
       "      <td>0.616992</td>\n",
       "      <td>0.613742</td>\n",
       "      <td>0.615158</td>\n",
       "      <td>0.891233</td>\n",
       "      <td>47.403666</td>\n",
       "      <td>160.689956</td>\n",
       "      <td>0.010</td>\n",
       "    </tr>\n",
       "    <tr>\n",
       "      <th>3</th>\n",
       "      <td>2</td>\n",
       "      <td>1</td>\n",
       "      <td>0.435380</td>\n",
       "      <td>0.611562</td>\n",
       "      <td>0.607550</td>\n",
       "      <td>0.609118</td>\n",
       "      <td>0.845067</td>\n",
       "      <td>53.188012</td>\n",
       "      <td>53.478172</td>\n",
       "      <td>0.001</td>\n",
       "    </tr>\n",
       "    <tr>\n",
       "      <th>4</th>\n",
       "      <td>2</td>\n",
       "      <td>2</td>\n",
       "      <td>0.299985</td>\n",
       "      <td>0.616978</td>\n",
       "      <td>0.614467</td>\n",
       "      <td>0.615509</td>\n",
       "      <td>0.893550</td>\n",
       "      <td>49.635167</td>\n",
       "      <td>103.371260</td>\n",
       "      <td>0.001</td>\n",
       "    </tr>\n",
       "    <tr>\n",
       "      <th>5</th>\n",
       "      <td>2</td>\n",
       "      <td>3</td>\n",
       "      <td>0.257608</td>\n",
       "      <td>0.618764</td>\n",
       "      <td>0.616545</td>\n",
       "      <td>0.617484</td>\n",
       "      <td>0.908283</td>\n",
       "      <td>49.682783</td>\n",
       "      <td>153.323867</td>\n",
       "      <td>0.001</td>\n",
       "    </tr>\n",
       "  </tbody>\n",
       "</table>\n",
       "</div>"
      ],
      "text/plain": [
       "   run  epoch      loss  precision    recall        f1  accuracy  \\\n",
       "0    1      1  2.607559   0.604829  0.598005  0.600200  0.788217   \n",
       "1    1      2  0.350809   0.615205  0.611442  0.613091  0.874483   \n",
       "2    1      3  0.301563   0.616992  0.613742  0.615158  0.891233   \n",
       "3    2      1  0.435380   0.611562  0.607550  0.609118  0.845067   \n",
       "4    2      2  0.299985   0.616978  0.614467  0.615509  0.893550   \n",
       "5    2      3  0.257608   0.618764  0.616545  0.617484  0.908283   \n",
       "\n",
       "   epoch duration  run duration     lr  \n",
       "0       59.767446     60.077446  0.010  \n",
       "1       52.702924    113.034818  0.010  \n",
       "2       47.403666    160.689956  0.010  \n",
       "3       53.188012     53.478172  0.001  \n",
       "4       49.635167    103.371260  0.001  \n",
       "5       49.682783    153.323867  0.001  "
      ]
     },
     "metadata": {},
     "output_type": "display_data"
    }
   ],
   "source": [
    "m = RunManager()\n",
    "model_list = []\n",
    "\n",
    "for run in RunBuilder.get_runs(params):\n",
    "    model = FashionCNN()\n",
    "    model.to(device)\n",
    "    loader = train_loader\n",
    "    optimizer = optim.Adam(model.parameters(), lr=run.lr)\n",
    "    error = nn.CrossEntropyLoss()\n",
    "\n",
    "    m.begin_run(run, model, loader)\n",
    "\n",
    "    for epoch in range(epochs):\n",
    "        m.begin_epoch()\n",
    "\n",
    "        for images, labels in loader:\n",
    "            # Transfering images and labels to GPU if available\n",
    "            images, labels = images.to(device), labels.to(device)\n",
    "            \n",
    "            # Forward pass \n",
    "            outputs = model(images)\n",
    "            loss = error(outputs, labels)\n",
    "            precision, recall, fscore = calculate_precision_recall_f1(labels, outputs)\n",
    "            \n",
    "            # Initializing a gradient as 0 so there is no mixing of gradient among the batches\n",
    "            optimizer.zero_grad()\n",
    "            \n",
    "            #Propagating the error backward\n",
    "            loss.backward()\n",
    "            \n",
    "            # Optimizing the parameters\n",
    "            optimizer.step()\n",
    "\n",
    "            m.track_loss(loss)\n",
    "            m.track_precision(precision)\n",
    "            m.track_recall(recall)\n",
    "            m.track_f1(fscore)\n",
    "            m.track_num_correct(outputs, labels)\n",
    "        m.end_epoch()\n",
    "    m.end_run()\n",
    "    model_list.append(model)\n",
    "\n",
    "m.save(fileName='run_data')\n",
    "            "
   ]
  },
  {
   "cell_type": "code",
   "execution_count": 48,
   "metadata": {},
   "outputs": [],
   "source": [
    "import os\n",
    "\n",
    "if not os.path.exists('./diagrams'):\n",
    "    os.makedirs('./diagrams')"
   ]
  },
  {
   "cell_type": "code",
   "execution_count": 111,
   "metadata": {},
   "outputs": [
    {
     "data": {
      "image/png": "[encoded data removed]",
      "text/plain": [
       "<Figure size 1152x720 with 1 Axes>"
      ]
     },
     "metadata": {
      "needs_background": "light"
     },
     "output_type": "display_data"
    }
   ],
   "source": [
    "plt.figure(figsize=(16,10))\n",
    "\n",
    "plt.plot(train_accu)\n",
    "plt.plot(eval_accu)\n",
    "plt.xlabel('epoch')\n",
    "plt.ylabel('accuracy')\n",
    "plt.legend(['Train','Valid'])\n",
    "plt.title('Train vs Valid Accuracy')\n",
    "\n",
    "plt.savefig('./diagrams/cNN_Train_vs_Valid_Acc.png')"
   ]
  },
  {
   "cell_type": "code",
   "execution_count": 112,
   "metadata": {},
   "outputs": [
    {
     "data": {
      "image/png": "[encoded data removed]",
      "text/plain": [
       "<Figure size 1152x720 with 1 Axes>"
      ]
     },
     "metadata": {
      "needs_background": "light"
     },
     "output_type": "display_data"
    }
   ],
   "source": [
    "plt.figure(figsize=(16,10))\n",
    "\n",
    "plt.plot(train_losses)\n",
    "plt.plot(eval_losses)\n",
    "plt.xlabel('epoch')\n",
    "plt.ylabel('losses')\n",
    "plt.legend(['Train','Valid'])\n",
    "plt.title('Train vs Valid Losses')\n",
    " \n",
    "plt.savefig('./diagrams/cNN_Train_vs_Valid_loss.png')"
   ]
  },
  {
   "cell_type": "markdown",
   "metadata": {},
   "source": [
    "From the graph we can see a downward trend of loss vs epoch. Perhaps a reason for the spikes in loss could be just due to the randomness of the batch sampling. An unlucky sampling could have led to the loss increasing compared to the previous iterations but overall the loss has a downward trend as iterations increase."
   ]
  },
  {
   "cell_type": "code",
   "execution_count": 113,
   "metadata": {},
   "outputs": [
    {
     "name": "stdout",
     "output_type": "stream",
     "text": [
      "Accuracy of T-shirt/Top: 98.80%\n",
      "Accuracy of Trouser: 99.98%\n",
      "Accuracy of Pullover: 97.43%\n",
      "Accuracy of Dress: 99.22%\n",
      "Accuracy of Coat: 97.87%\n",
      "Accuracy of Sandal: 99.98%\n",
      "Accuracy of Shirt: 94.80%\n",
      "Accuracy of Sneaker: 99.50%\n",
      "Accuracy of Bag: 99.60%\n",
      "Accuracy of Ankle Boot: 99.93%\n"
     ]
    }
   ],
   "source": [
    "class_correct = [0. for _ in range(10)]\n",
    "total_correct = [0. for _ in range(10)]\n",
    "\n",
    "with torch.no_grad():\n",
    "    for images, labels in test_loader:\n",
    "        images, labels = images.to(device), labels.to(device)\n",
    "        outputs = model(images)\n",
    "        _, predicted = outputs.max(1)\n",
    "        c = (predicted == labels).squeeze()\n",
    "        \n",
    "        for i in range(100):\n",
    "            label = labels[i]\n",
    "            class_correct[label] += c[i].item()\n",
    "            total_correct[label] += 1\n",
    "        \n",
    "for i in range(10):\n",
    "    print(\"Accuracy of {}: {:.2f}%\".format(output_label(i), class_correct[i] * 100 / total_correct[i]))"
   ]
  },
  {
   "cell_type": "code",
   "execution_count": 114,
   "metadata": {},
   "outputs": [],
   "source": [
    "# https://debuggercafe.com/visualizing-filters-and-feature-maps-in-convolutional-neural-networks-using-pytorch/\n",
    "model_weights = [] # we will save the conv layer weights in this list\n",
    "conv_layers = [] # we will save the 49 conv layers in this list\n",
    "# get all the model children as list\n",
    "model_children = list(model.children())"
   ]
  },
  {
   "cell_type": "code",
   "execution_count": 115,
   "metadata": {},
   "outputs": [
    {
     "name": "stdout",
     "output_type": "stream",
     "text": [
      "Total convolutional layers: 2\n"
     ]
    }
   ],
   "source": [
    "# counter to keep count of the conv layers\n",
    "counter = 0 \n",
    "# append all the conv layers and their respective weights to the list\n",
    "for i in range(len(model_children)):\n",
    "    if type(model_children[i]) == nn.Conv2d:\n",
    "        counter += 1\n",
    "        model_weights.append(model_children[i].weight)\n",
    "        conv_layers.append(model_children[i])\n",
    "    elif type(model_children[i]) == nn.Sequential:\n",
    "        for child in model_children[i].children():\n",
    "            if type(child) == nn.Conv2d:\n",
    "                counter += 1\n",
    "                model_weights.append(child.weight)\n",
    "                conv_layers.append(child)\n",
    "print(f\"Total convolutional layers: {counter}\")"
   ]
  },
  {
   "cell_type": "code",
   "execution_count": 116,
   "metadata": {},
   "outputs": [
    {
     "name": "stdout",
     "output_type": "stream",
     "text": [
      "CONV: Conv2d(1, 32, kernel_size=(3, 3), stride=(1, 1), padding=(1, 1)) ====> SHAPE: torch.Size([32, 1, 3, 3])\n",
      "CONV: Conv2d(32, 64, kernel_size=(3, 3), stride=(1, 1)) ====> SHAPE: torch.Size([64, 32, 3, 3])\n"
     ]
    }
   ],
   "source": [
    "# take a look at the conv layers and the respective weights\n",
    "for weight, conv in zip(model_weights, conv_layers):\n",
    "    # print(f\"WEIGHT: {weight} \\nSHAPE: {weight.shape}\")\n",
    "    print(f\"CONV: {conv} ====> SHAPE: {weight.shape}\")"
   ]
  },
  {
   "cell_type": "code",
   "execution_count": 117,
   "metadata": {},
   "outputs": [
    {
     "data": {
      "image/png": "[encoded data removed]",
      "text/plain": [
       "<Figure size 1440x1224 with 32 Axes>"
      ]
     },
     "metadata": {
      "needs_background": "light"
     },
     "output_type": "display_data"
    }
   ],
   "source": [
    "# visualize the first conv layer filters\n",
    "plt.figure(figsize=(20, 17))\n",
    "for i, filter in enumerate(model_weights[0].cpu()):\n",
    "    plt.subplot(8, 8, i+1) # (8, 8) because in conv0 we have 7x7 filters and total of 64 (see printed shapes)\n",
    "    plt.imshow(filter[0, :, :].detach(), cmap='gray')\n",
    "    plt.axis('off')\n",
    "    plt.savefig('./diagrams/filter1.png')\n",
    "plt.show()"
   ]
  },
  {
   "cell_type": "code",
   "execution_count": 118,
   "metadata": {},
   "outputs": [
    {
     "data": {
      "image/png": "[encoded data removed]",
      "text/plain": [
       "<Figure size 1440x1224 with 64 Axes>"
      ]
     },
     "metadata": {
      "needs_background": "light"
     },
     "output_type": "display_data"
    }
   ],
   "source": [
    "# visualize the second conv layer filters\n",
    "plt.figure(figsize=(20, 17))\n",
    "for i, filter in enumerate(model_weights[1].cpu()):\n",
    "    plt.subplot(8, 8, i+1) # (8, 8) because in conv0 we have 7x7 filters and total of 64 (see printed shapes)\n",
    "    plt.imshow(filter[0, :, :].detach(), cmap='gray')\n",
    "    plt.axis('off')\n",
    "    plt.savefig('./diagrams/filter2.png')\n",
    "plt.show()"
   ]
  },
  {
   "cell_type": "code",
   "execution_count": 119,
   "metadata": {},
   "outputs": [
    {
     "name": "stdout",
     "output_type": "stream",
     "text": [
      "tensor([[[[ 4.6670e-02,  2.6395e-01, -1.5592e-01],\n",
      "          [ 1.4306e-01,  1.8776e-01, -4.5210e-01],\n",
      "          [-3.8264e-01, -9.6072e-02,  4.6277e-01]]],\n",
      "\n",
      "\n",
      "        [[[ 3.6205e-02, -4.6680e-01,  4.8048e-01],\n",
      "          [-2.0824e-02,  4.0778e-01, -4.9514e-01],\n",
      "          [-3.8090e-02,  1.8842e-01,  1.1990e-03]]],\n",
      "\n",
      "\n",
      "        [[[-1.2326e-01,  8.0037e-01,  5.8162e-01],\n",
      "          [ 3.3757e-01, -8.8342e-02, -2.3783e-01],\n",
      "          [-1.2106e-01,  7.2113e-03, -9.9444e-02]]],\n",
      "\n",
      "\n",
      "        [[[ 1.3196e-01,  3.6994e-01, -3.8528e-01],\n",
      "          [-1.9400e-01,  1.5186e-01,  4.3800e-01],\n",
      "          [ 3.0053e-01, -4.6135e-01, -3.2111e-01]]],\n",
      "\n",
      "\n",
      "        [[[-1.6719e-02,  5.1260e-01, -4.7444e-01],\n",
      "          [-9.4476e-02, -2.7255e-01,  1.1013e-01],\n",
      "          [ 1.7030e-01, -3.8937e-01,  4.4615e-01]]],\n",
      "\n",
      "\n",
      "        [[[ 2.7340e-01, -2.3396e-01,  5.4704e-01],\n",
      "          [ 7.7513e-02, -3.5240e-01,  1.9466e-01],\n",
      "          [-4.7225e-01,  7.4710e-02,  6.5518e-02]]],\n",
      "\n",
      "\n",
      "        [[[ 4.2832e-01, -3.4630e-01, -2.2475e-02],\n",
      "          [-5.3922e-01,  2.8108e-01,  3.2368e-01],\n",
      "          [ 4.1299e-01, -3.7301e-01, -5.8353e-02]]],\n",
      "\n",
      "\n",
      "        [[[-2.6623e-02,  5.6536e-01, -3.3322e-01],\n",
      "          [ 4.2153e-01, -1.5318e-01, -3.3538e-01],\n",
      "          [ 3.9042e-03, -3.3846e-01,  1.1164e-02]]],\n",
      "\n",
      "\n",
      "        [[[-3.7345e-01,  8.8994e-02,  2.8971e-01],\n",
      "          [ 2.4914e-01,  3.2325e-01, -4.7493e-01],\n",
      "          [ 1.0765e-03, -4.2737e-01,  2.7201e-01]]],\n",
      "\n",
      "\n",
      "        [[[-1.7166e-01,  3.1793e-01,  1.4144e-02],\n",
      "          [ 2.7932e-01, -6.6792e-01, -4.2109e-01],\n",
      "          [-1.2324e-01, -7.1836e-02,  3.0476e-01]]],\n",
      "\n",
      "\n",
      "        [[[ 5.7097e-02, -5.0119e-01, -4.3592e-01],\n",
      "          [-1.1787e-02,  5.2056e-01,  2.6785e-01],\n",
      "          [ 3.0286e-02, -6.3394e-02,  8.7932e-02]]],\n",
      "\n",
      "\n",
      "        [[[ 5.3544e-01, -3.6876e-01, -2.4178e-01],\n",
      "          [-1.2739e-01, -3.2395e-01,  4.9244e-01],\n",
      "          [-3.5665e-01, -3.5854e-01, -1.8776e-01]]],\n",
      "\n",
      "\n",
      "        [[[ 2.3722e-02, -2.0567e-01,  3.7746e-01],\n",
      "          [-5.8688e-01,  3.2483e-01,  7.3578e-03],\n",
      "          [ 3.2543e-02,  2.3234e-01, -5.4844e-01]]],\n",
      "\n",
      "\n",
      "        [[[-2.4151e-01,  2.4766e-01, -3.7813e-02],\n",
      "          [-3.8736e-01,  4.6371e-01, -7.2615e-02],\n",
      "          [ 2.5822e-01, -3.1565e-01, -3.9105e-01]]],\n",
      "\n",
      "\n",
      "        [[[ 1.1851e-01,  2.0682e-01,  2.0548e-01],\n",
      "          [ 3.8338e-01,  2.9671e-01, -1.6578e-01],\n",
      "          [-1.6520e-01, -5.1254e-01, -3.1251e-01]]],\n",
      "\n",
      "\n",
      "        [[[-2.8112e-01,  9.8374e-02,  2.4777e-01],\n",
      "          [-5.7290e-01,  4.2008e-01, -4.9013e-01],\n",
      "          [ 1.7483e-01,  1.8533e-01,  2.8678e-01]]],\n",
      "\n",
      "\n",
      "        [[[ 2.3845e-01, -6.1911e-01, -6.5502e-02],\n",
      "          [ 1.2797e-01,  1.8638e-01,  1.0119e-01],\n",
      "          [-1.0166e-01,  7.6727e-01,  1.7021e-01]]],\n",
      "\n",
      "\n",
      "        [[[-7.8863e-02, -1.0546e-01,  2.9143e-01],\n",
      "          [-2.9011e-01, -3.0561e-01,  5.7000e-01],\n",
      "          [-4.8607e-01,  2.2631e-01,  2.7162e-01]]],\n",
      "\n",
      "\n",
      "        [[[ 5.0429e-01,  2.4169e-01,  1.7786e-01],\n",
      "          [-6.6017e-01,  1.2621e-01, -1.2936e-01],\n",
      "          [-1.3051e-01,  7.6260e-02, -1.5610e-01]]],\n",
      "\n",
      "\n",
      "        [[[ 2.5280e-01, -1.6059e-01,  8.3960e-02],\n",
      "          [ 3.7639e-01, -5.3021e-01,  2.9897e-01],\n",
      "          [ 7.9125e-02, -3.4143e-01,  2.5619e-01]]],\n",
      "\n",
      "\n",
      "        [[[-1.1943e-01, -1.4583e-03,  5.4482e-01],\n",
      "          [ 3.6347e-01, -3.1459e-01, -4.1165e-01],\n",
      "          [-1.4957e-01, -8.1530e-02, -3.8580e-01]]],\n",
      "\n",
      "\n",
      "        [[[-1.7725e-01, -7.1483e-01,  1.0732e-01],\n",
      "          [-6.4325e-01, -2.3346e-01, -2.0803e-01],\n",
      "          [-1.7219e-02,  1.7544e-01,  3.2240e-01]]],\n",
      "\n",
      "\n",
      "        [[[-2.9047e-01, -1.3029e-02, -3.3908e-01],\n",
      "          [-5.6065e-01,  2.7890e-01,  5.5546e-02],\n",
      "          [-2.7874e-01, -1.1774e-01,  3.3253e-01]]],\n",
      "\n",
      "\n",
      "        [[[-6.9158e-02, -1.6404e-02,  2.6757e-01],\n",
      "          [ 9.7518e-02, -8.4631e-02, -2.7927e-01],\n",
      "          [-2.6829e-01,  5.2805e-01, -5.5235e-01]]],\n",
      "\n",
      "\n",
      "        [[[ 5.1709e-01, -6.7188e-02,  6.5285e-02],\n",
      "          [-2.3825e-02, -5.3778e-01, -6.9338e-01],\n",
      "          [-1.0570e-01, -2.2904e-03, -2.2131e-01]]],\n",
      "\n",
      "\n",
      "        [[[ 1.1911e-01,  2.5930e-01, -4.2487e-01],\n",
      "          [ 9.4368e-02,  2.2604e-01,  2.8251e-01],\n",
      "          [-5.3397e-01, -2.9472e-02,  2.7133e-01]]],\n",
      "\n",
      "\n",
      "        [[[ 2.2960e-01, -5.1106e-01,  2.1715e-01],\n",
      "          [ 2.9721e-01, -1.8302e-01, -8.3923e-02],\n",
      "          [ 3.0600e-01, -3.5794e-01,  1.2639e-01]]],\n",
      "\n",
      "\n",
      "        [[[ 5.6358e-01, -3.3990e-01, -1.0469e-01],\n",
      "          [ 9.3234e-02,  6.5192e-02, -3.7503e-01],\n",
      "          [ 7.1816e-02,  3.4354e-01, -2.9346e-01]]],\n",
      "\n",
      "\n",
      "        [[[ 1.1713e-01, -4.9876e-01, -3.7470e-01],\n",
      "          [-3.8017e-01,  3.4511e-01, -4.7795e-02],\n",
      "          [ 2.9088e-01,  2.1333e-01, -4.2204e-01]]],\n",
      "\n",
      "\n",
      "        [[[-1.2532e-01,  4.4720e-01, -2.5772e-01],\n",
      "          [-4.6034e-01, -4.9143e-01, -1.0751e-01],\n",
      "          [ 4.3946e-01,  3.5156e-01,  1.1292e-01]]],\n",
      "\n",
      "\n",
      "        [[[ 2.9848e-01, -1.3039e-01, -5.0333e-01],\n",
      "          [-7.5683e-02,  4.3624e-01,  3.1423e-01],\n",
      "          [ 2.3035e-01,  5.8222e-02, -4.0842e-01]]],\n",
      "\n",
      "\n",
      "        [[[-3.2370e-01,  2.4945e-01, -1.1863e-04],\n",
      "          [-1.6005e-01, -4.1509e-01,  1.4382e-01],\n",
      "          [-4.7560e-02, -6.8145e-01,  2.1782e-01]]]], grad_fn=<CopyBackwards>)\n"
     ]
    }
   ],
   "source": [
    "print(model_weights[0].cpu())"
   ]
  },
  {
   "cell_type": "code",
   "execution_count": null,
   "metadata": {},
   "outputs": [],
   "source": [
    "plt.imsave('./diagrams/pullover.png', image.squeeze(), cmap=\"gray\")"
   ]
  },
  {
   "cell_type": "code",
   "execution_count": 120,
   "metadata": {},
   "outputs": [
    {
     "data": {
      "image/png": "[encoded data removed]",
      "text/plain": [
       "<Figure size 432x288 with 1 Axes>"
      ]
     },
     "metadata": {
      "needs_background": "light"
     },
     "output_type": "display_data"
    },
    {
     "name": "stdout",
     "output_type": "stream",
     "text": [
      "torch.Size([1, 28, 28])\n",
      "torch.Size([1, 1, 28, 28])\n"
     ]
    }
   ],
   "source": [
    "import cv2 as cv\n",
    "\n",
    "# read and visualize an image\n",
    "img = cv.imread(f\"./diagrams/pullover.png\")\n",
    "# img = cv.cvtColor(img, cv.COLOR_BGR2RGB)\n",
    "plt.imshow(img)\n",
    "plt.show()\n",
    "\n",
    "# define the transforms\n",
    "transform = transforms.Compose([\n",
    "    transforms.ToPILImage(),\n",
    "    transforms.Resize((28, 28)),\n",
    "    transforms.Grayscale(num_output_channels=1),\n",
    "    transforms.ToTensor(),\n",
    "])\n",
    "\n",
    "img = np.array(img)\n",
    "# apply the transforms\n",
    "img = transform(img)\n",
    "print(img.size())\n",
    "# unsqueeze to add a batch dimension\n",
    "img = img.unsqueeze(0)\n",
    "print(img.size())"
   ]
  },
  {
   "cell_type": "code",
   "execution_count": 121,
   "metadata": {},
   "outputs": [],
   "source": [
    "# pass the image through all the layers\n",
    "img = img.to(device)\n",
    "results = [conv_layers[0](img)]\n",
    "for i in range(1, len(conv_layers)):\n",
    "    # pass the result from the last layer to the next layer\n",
    "    results.append(conv_layers[i](results[-1]))\n",
    "# make a copy of the `results`\n",
    "outputs = results"
   ]
  },
  {
   "cell_type": "code",
   "execution_count": 122,
   "metadata": {},
   "outputs": [
    {
     "name": "stdout",
     "output_type": "stream",
     "text": [
      "torch.Size([32, 28, 28])\n",
      "Saving layer 0 feature maps...\n",
      "torch.Size([64, 26, 26])\n",
      "Saving layer 1 feature maps...\n"
     ]
    }
   ],
   "source": [
    "# visualize 64 features from each layer \n",
    "# (although there are more feature maps in the upper layers)\n",
    "for num_layer in range(len(outputs)):\n",
    "    plt.figure(figsize=(30, 30))\n",
    "    layer_viz = outputs[num_layer][0, :, :, :]\n",
    "    layer_viz = layer_viz.data\n",
    "    print(layer_viz.size())\n",
    "    for i, filter in enumerate(layer_viz):\n",
    "        if i == 64: # we will visualize only 8x8 blocks from each layer\n",
    "            break\n",
    "        plt.subplot(8, 8, i + 1)\n",
    "        plt.imshow(filter.cpu(), cmap='gray')\n",
    "        plt.axis(\"off\")\n",
    "    print(f\"Saving layer {num_layer} feature maps...\")\n",
    "    plt.savefig(f\"./diagrams/layer_{num_layer}.png\")\n",
    "    # plt.show()\n",
    "    plt.close()"
   ]
  },
  {
   "cell_type": "code",
   "execution_count": null,
   "metadata": {},
   "outputs": [],
   "source": []
  }
 ],
 "metadata": {
  "interpreter": {
   "hash": "a26ff82582be0ed5f057a749d3391963a753d71735083bd0110d44d1abf41696"
  },
  "kernelspec": {
   "display_name": "Python 3.8.8 64-bit ('base': conda)",
   "name": "python3"
  },
  "language_info": {
   "codemirror_mode": {
    "name": "ipython",
    "version": 3
   },
   "file_extension": ".py",
   "mimetype": "text/x-python",
   "name": "python",
   "nbconvert_exporter": "python",
   "pygments_lexer": "ipython3",
   "version": "3.8.8"
  },
  "orig_nbformat": 4
 },
 "nbformat": 4,
 "nbformat_minor": 2
}
