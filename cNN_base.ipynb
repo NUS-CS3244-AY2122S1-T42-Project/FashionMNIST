{
 "cells": [
  {
   "cell_type": "code",
   "execution_count": 1,
   "metadata": {},
   "outputs": [],
   "source": [
    "import numpy as np\n",
    "import pandas as pd\n",
    "import matplotlib.pyplot as plt\n",
    "\n",
    "import torch\n",
    "import torch.nn as nn\n",
    "\n",
    "import torchvision\n",
    "import torchvision.transforms as transforms\n",
    "from torch.utils.data import Dataset, DataLoader, TensorDataset, random_split, SubsetRandomSampler, ConcatDataset\n",
    "from sklearn.metrics import confusion_matrix, classification_report\n",
    "from sklearn.model_selection import KFold"
   ]
  },
  {
   "cell_type": "markdown",
   "metadata": {},
   "source": [
    "I had some difficulties uninstalling pytorch without cuda to replace it so I just created another virtual env and ran it in that. (I think this only needs to be done when you try to run it local)\n",
    "\n",
    "After activating the venv you can install the pytorch with cuda with the following command.\n",
    "\n",
    "`pip3 install torch==1.9.1+cu111 torchvision==0.10.1+cu111 torchaudio==0.9.1 -f https://download.pytorch.org/whl/torch_stable.html`\n"
   ]
  },
  {
   "cell_type": "code",
   "execution_count": 2,
   "metadata": {},
   "outputs": [
    {
     "name": "stdout",
     "output_type": "stream",
     "text": [
      "cuda:0\n"
     ]
    }
   ],
   "source": [
    "device = torch.device(\"cuda:0\" if torch.cuda.is_available() else \"cpu\")\n",
    "SEED = 42\n",
    "torch.manual_seed(SEED) # seed so results are replicable\n",
    "print(device)"
   ]
  },
  {
   "cell_type": "code",
   "execution_count": 3,
   "metadata": {},
   "outputs": [],
   "source": [
    "train_csv = pd.read_csv(\"../data/fashion-mnist_train.csv\")\n",
    "test_csv = pd.read_csv(\"../data/fashion-mnist_test.csv\")"
   ]
  },
  {
   "cell_type": "code",
   "execution_count": 4,
   "metadata": {},
   "outputs": [],
   "source": [
    "class FashionDataset(Dataset):\n",
    "    \"\"\"User defined class to build a datset using Pytorch class Dataset.\"\"\"\n",
    "    \n",
    "    def __init__(self, data, transform = None):\n",
    "        \"\"\"Method to initilaize variables.\"\"\" \n",
    "        self.fashion_MNIST = list(data.values)\n",
    "        self.transform = transform\n",
    "        \n",
    "        label = []\n",
    "        image = []\n",
    "        \n",
    "        for i in self.fashion_MNIST:\n",
    "             # first column is of labels.\n",
    "            label.append(i[0])\n",
    "            image.append(i[1:])\n",
    "        self.labels = np.asarray(label)\n",
    "        # Dimension of Images = 28 * 28 * 1. where height = width = 28 and color_channels = 1.\n",
    "        self.images = np.asarray(image).reshape(-1, 28, 28, 1).astype('float32')\n",
    "\n",
    "    def __getitem__(self, index):\n",
    "        label = self.labels[index]\n",
    "        image = self.images[index]\n",
    "        \n",
    "        if self.transform is not None:\n",
    "            image = self.transform(image)\n",
    "\n",
    "        return image, label\n",
    "\n",
    "    def __len__(self):\n",
    "        return len(self.images)"
   ]
  },
  {
   "cell_type": "code",
   "execution_count": 5,
   "metadata": {},
   "outputs": [],
   "source": [
    "# Transform data into Tensor that has a range from 0 to 1\n",
    "train_dataset = FashionDataset(train_csv, transform=transforms.Compose([transforms.ToTensor()]))\n",
    "test_dataset = FashionDataset(test_csv, transform=transforms.Compose([transforms.ToTensor()]))"
   ]
  },
  {
   "cell_type": "code",
   "execution_count": 6,
   "metadata": {},
   "outputs": [],
   "source": [
    "# Mapping label number to a more meaningful label\n",
    "output_mapping = {\n",
    "        0: \"T-shirt/Top\",\n",
    "        1: \"Trouser\",\n",
    "        2: \"Pullover\",\n",
    "        3: \"Dress\",\n",
    "        4: \"Coat\", \n",
    "        5: \"Sandal\", \n",
    "        6: \"Shirt\",\n",
    "        7: \"Sneaker\",\n",
    "        8: \"Bag\",\n",
    "        9: \"Ankle Boot\"\n",
    "    }\n",
    "\n",
    "def output_label(label):\n",
    "    input = (label.item() if type(label) == torch.Tensor else label)\n",
    "    return output_mapping[input]"
   ]
  },
  {
   "cell_type": "code",
   "execution_count": 7,
   "metadata": {},
   "outputs": [],
   "source": [
    "output_mapping_list = list(output_mapping.values())"
   ]
  },
  {
   "cell_type": "code",
   "execution_count": 8,
   "metadata": {},
   "outputs": [
    {
     "name": "stdout",
     "output_type": "stream",
     "text": [
      "2\n"
     ]
    },
    {
     "data": {
      "image/png": "[encoded data removed]",
      "text/plain": [
       "<Figure size 432x288 with 1 Axes>"
      ]
     },
     "metadata": {
      "needs_background": "light"
     },
     "output_type": "display_data"
    }
   ],
   "source": [
    "# displaying image using matplotlib imshow()\n",
    "image, label = next(iter(train_dataset))\n",
    "plt.imshow(image.squeeze(), cmap=\"gray\")\n",
    "print(label)"
   ]
  },
  {
   "cell_type": "code",
   "execution_count": 9,
   "metadata": {},
   "outputs": [
    {
     "name": "stdout",
     "output_type": "stream",
     "text": [
      "<class 'torch.Tensor'> <class 'torch.Tensor'>\n",
      "torch.Size([10, 1, 28, 28]) torch.Size([10])\n"
     ]
    }
   ],
   "source": [
    "demo_loader = torch.utils.data.DataLoader(train_dataset, batch_size=10)\n",
    "\n",
    "batch = next(iter(demo_loader))\n",
    "images, labels = batch\n",
    "print(type(images), type(labels))\n",
    "print(images.shape, labels.shape)"
   ]
  },
  {
   "cell_type": "code",
   "execution_count": 10,
   "metadata": {},
   "outputs": [
    {
     "name": "stderr",
     "output_type": "stream",
     "text": [
      "Clipping input data to the valid range for imshow with RGB data ([0..1] for floats or [0..255] for integers).\n"
     ]
    },
    {
     "name": "stdout",
     "output_type": "stream",
     "text": [
      "labels:  Pullover, Ankle Boot, Shirt, T-shirt/Top, Dress, Coat, Coat, Sandal, Coat, Bag, "
     ]
    },
    {
     "data": {
      "image/png": "[encoded data removed]",
      "text/plain": [
       "<Figure size 1080x1440 with 1 Axes>"
      ]
     },
     "metadata": {
      "needs_background": "light"
     },
     "output_type": "display_data"
    }
   ],
   "source": [
    "grid = torchvision.utils.make_grid(images, nrow=10)\n",
    "\n",
    "plt.figure(figsize=(15, 20))\n",
    "plt.imshow(np.transpose(grid, (1, 2, 0)))\n",
    "print(\"labels: \", end=\" \")\n",
    "for i, label in enumerate(labels):\n",
    "    print(output_label(label), end=\", \")"
   ]
  },
  {
   "cell_type": "markdown",
   "metadata": {},
   "source": [
    "Intuition:\n",
    "Num of conv layers:\n",
    "Due to the small size of the individual data (28 x 28) px, we theorize that we don't need a very complicated network. Hence, we're looking at 2 or 3 convolutional layers.\n",
    "\n",
    "Conv layers kernel size:\n",
    "Due to the small size of the images and how they look, we think that a smaller kernel size would be better as it can then pick up on smaller details of the images. Hence, we decided on 3x3 kernel size of the convolution layer.\n",
    "\n",
    "Pooling kernel size and stride\n",
    "2x2 kernel on max pooling was decided as we didn't want to lose too much information but at the same time leave room for generalization by reducing overfitting.\n",
    "Stride of 2 was chosen for the first pooling layers since the first layer is more computationally demanding due to larger matrix and same reason as above.\n",
    "Stride of 1 chosen for second pooling layer to retain more information.\n",
    "\n",
    "Batch normalization:\n",
    "Used to avoid overfitting of the model and help to reduce generalization error.\n",
    "Makes the training faster as well.\n",
    "\n",
    "Activation function:\n",
    "ReLU is a non-linear activation function that is idempotent (p(x) == p(p(p.......(x).......)) and hence doesnt suffer from the vanishing gradient problem.\n",
    "It is also easy to compute.\n",
    "\n",
    "Dropout:\n",
    "Apply a regularization technique to preven overfitting of the model.\n",
    "We plan to use a value between 0.2 to 0.3 as too low of a probability has minimal effect and a value too high will affect the learning of the model.\n",
    "\n",
    "\n",
    "\n",
    "1. Make a model class (inherits nn.Module class)\n",
    "2. Add Layers to model class\n",
    "\n",
    "    a. Convolution layer with kernel size 3*3, padding = 1 (no padding) in 1st layer and padding = 0 in second layer. Stride of 1 in both layers.\n",
    "\n",
    "    b. Batch normalization layer\n",
    "\n",
    "    c. Activation function used: ReLU\n",
    "\n",
    "    d. Max Pooling layer with kernel size of 2 * 2 and stride 2.\n",
    "\n",
    "        i. flatten out output for dense layer\n",
    "\n",
    "        ii. 3 fully connected layers with different in/out features\n",
    "\n",
    "        iii. 1 dropout layer with p=0.25\n",
    "\n",
    "Summary is as follows:\n",
    "\n",
    "First conv layer -> Max Pooling layer -> Second conv layer -> second max pooling layer -> Fullyconnected layers -> output\n",
    "\n",
    "28 * 28 * 3      --> 28 * 28 * 32      --> 14 * 14 * 32      --> 12 * 12 * 64              --> 6 * 6 * 64\n",
    "\n",
    "Final fully connected layer has 10 output features for 10 types of clothes."
   ]
  },
  {
   "cell_type": "code",
   "execution_count": 36,
   "metadata": {},
   "outputs": [],
   "source": [
    "class FashionCNN(nn.Module):\n",
    "    def __init__(self):\n",
    "        super(FashionCNN, self).__init__()\n",
    "        \n",
    "        self.layer1 = nn.Sequential(\n",
    "            nn.Conv2d(in_channels=1, out_channels=32, kernel_size=3, padding=1),\n",
    "            nn.BatchNorm2d(32),\n",
    "            nn.MaxPool2d(kernel_size=2, stride=2),\n",
    "            nn.ReLU()\n",
    "        )\n",
    "        \n",
    "        self.layer2 = nn.Sequential(\n",
    "            nn.Conv2d(in_channels=32, out_channels=64, kernel_size=3),\n",
    "            nn.BatchNorm2d(64),\n",
    "            nn.MaxPool2d(2),\n",
    "            nn.ReLU()\n",
    "        )\n",
    "        \n",
    "        self.fc1 = nn.Linear(in_features=64*6*6, out_features=600)\n",
    "        self.drop = nn.Dropout2d(0.25)\n",
    "        self.fc2 = nn.Linear(in_features=600, out_features=120)\n",
    "        self.fc3 = nn.Linear(in_features=120, out_features=10)\n",
    "        \n",
    "    def forward(self, x):\n",
    "        out = self.layer1(x)\n",
    "        out = self.layer2(out)\n",
    "        out = out.view(out.size(0), -1)\n",
    "        out = self.fc1(out)\n",
    "        out = self.drop(out)\n",
    "        out = self.fc2(out)\n",
    "        out = self.fc3(out)\n",
    "        \n",
    "        return out"
   ]
  },
  {
   "cell_type": "code",
   "execution_count": 12,
   "metadata": {},
   "outputs": [],
   "source": [
    "def train(model, error, optimizer, curr_train_loader):  \n",
    "  model.train()\n",
    "\n",
    "  running_loss=0\n",
    "  correct=0\n",
    "  \n",
    "  for images, labels in curr_train_loader:\n",
    "    # Transfering images and labels to GPU if available\n",
    "    images, labels = images.to(device), labels.to(device)\n",
    "    \n",
    "    # Forward pass \n",
    "    outputs = model(images)\n",
    "    loss = error(outputs, labels)\n",
    "    \n",
    "    # Initializing a gradient as 0 so there is no mixing of gradient among the batches\n",
    "    optimizer.zero_grad()\n",
    "    \n",
    "    #Propagating the error backward\n",
    "    loss.backward()\n",
    "    \n",
    "    # Optimizing the parameters\n",
    "    optimizer.step()\n",
    "\n",
    "    running_loss += loss.item() * images.size(0)\n",
    "    \n",
    "    predicted = outputs.argmax(axis=1)\n",
    "    correct += predicted.eq(labels).sum().item()\n",
    "        \n",
    "  return running_loss, correct"
   ]
  },
  {
   "cell_type": "code",
   "execution_count": 20,
   "metadata": {},
   "outputs": [],
   "source": [
    "def validate(model, error, curr_val_loader):\n",
    "  model.eval()\n",
    " \n",
    "  running_loss=0\n",
    "  correct=0\n",
    " \n",
    "  with torch.no_grad():\n",
    "    for images, labels in curr_val_loader:\n",
    "      images, labels = images.to(device), labels.to(device)\n",
    "\n",
    "      outputs = model(images)\n",
    "      loss = error(outputs, labels)\n",
    "\n",
    "      running_loss += loss.item() * images.size(0)\n",
    "\n",
    "      predictions = outputs.argmax(axis=1)\n",
    "      correct += predictions.eq(labels).sum().item()\n",
    "    \n",
    "  return running_loss, correct"
   ]
  },
  {
   "cell_type": "code",
   "execution_count": 18,
   "metadata": {},
   "outputs": [],
   "source": [
    "def test(model):\n",
    "    test_loader = DataLoader(test_dataset, batch_size=100)\n",
    "\n",
    "    with torch.no_grad():\n",
    "        # set the model in evaluation mode\n",
    "        model.eval()\n",
    "        \n",
    "        # initialize a list to store our predictions\n",
    "        preds = []\n",
    "        labels = []\n",
    "        # loop over the test set\n",
    "        for test_images, test_labels in test_loader:\n",
    "            # send the input to the device\n",
    "            test_images = test_images.to(device)\n",
    "            # make the predictions and add them to the list\n",
    "            pred = model(test_images)\n",
    "            preds.extend(pred.argmax(axis=1).cpu().numpy())\n",
    "            labels.extend(test_labels.cpu())\n",
    "    # generate a classification report\n",
    "    result = classification_report(np.array(labels),\n",
    "        np.array(preds), target_names=output_mapping_list)\n",
    "    result_dict = classification_report(np.array(labels),\n",
    "        np.array(preds), target_names=output_mapping_list, output_dict=True)\n",
    "    return result, result_dict"
   ]
  },
  {
   "cell_type": "code",
   "execution_count": 37,
   "metadata": {},
   "outputs": [
    {
     "name": "stdout",
     "output_type": "stream",
     "text": [
      "Fold 1\n",
      "Epoch:1/30 AVG Training Loss:0.495 AVG Validation Loss:0.342 AVG Training Acc 82.49 % AVG Validation Acc 87.55 %\n",
      "Epoch:2/30 AVG Training Loss:0.336 AVG Validation Loss:0.307 AVG Training Acc 88.05 % AVG Validation Acc 88.97 %\n",
      "Epoch:3/30 AVG Training Loss:0.287 AVG Validation Loss:0.343 AVG Training Acc 89.81 % AVG Validation Acc 88.14 %\n",
      "Epoch:4/30 AVG Training Loss:0.260 AVG Validation Loss:0.261 AVG Training Acc 90.64 % AVG Validation Acc 90.83 %\n",
      "Epoch:5/30 AVG Training Loss:0.242 AVG Validation Loss:0.269 AVG Training Acc 91.33 % AVG Validation Acc 90.20 %\n",
      "Epoch:6/30 AVG Training Loss:0.220 AVG Validation Loss:0.275 AVG Training Acc 92.09 % AVG Validation Acc 90.12 %\n",
      "Epoch:7/30 AVG Training Loss:0.210 AVG Validation Loss:0.248 AVG Training Acc 92.42 % AVG Validation Acc 91.28 %\n",
      "Epoch:8/30 AVG Training Loss:0.191 AVG Validation Loss:0.248 AVG Training Acc 93.08 % AVG Validation Acc 91.66 %\n",
      "Epoch:9/30 AVG Training Loss:0.179 AVG Validation Loss:0.265 AVG Training Acc 93.50 % AVG Validation Acc 91.22 %\n",
      "Epoch:10/30 AVG Training Loss:0.172 AVG Validation Loss:0.271 AVG Training Acc 93.74 % AVG Validation Acc 91.24 %\n",
      "Epoch:11/30 AVG Training Loss:0.161 AVG Validation Loss:0.252 AVG Training Acc 94.16 % AVG Validation Acc 91.68 %\n",
      "Epoch:12/30 AVG Training Loss:0.150 AVG Validation Loss:0.260 AVG Training Acc 94.53 % AVG Validation Acc 91.27 %\n",
      "Epoch:13/30 AVG Training Loss:0.142 AVG Validation Loss:0.311 AVG Training Acc 94.91 % AVG Validation Acc 90.04 %\n",
      "Epoch:14/30 AVG Training Loss:0.133 AVG Validation Loss:0.278 AVG Training Acc 95.21 % AVG Validation Acc 91.16 %\n",
      "Epoch:15/30 AVG Training Loss:0.129 AVG Validation Loss:0.279 AVG Training Acc 95.38 % AVG Validation Acc 91.32 %\n",
      "Epoch:16/30 AVG Training Loss:0.121 AVG Validation Loss:0.333 AVG Training Acc 95.62 % AVG Validation Acc 90.18 %\n",
      "Epoch:17/30 AVG Training Loss:0.112 AVG Validation Loss:0.298 AVG Training Acc 95.91 % AVG Validation Acc 91.14 %\n",
      "Epoch:18/30 AVG Training Loss:0.106 AVG Validation Loss:0.306 AVG Training Acc 96.16 % AVG Validation Acc 91.29 %\n",
      "Epoch:19/30 AVG Training Loss:0.102 AVG Validation Loss:0.325 AVG Training Acc 96.34 % AVG Validation Acc 90.88 %\n",
      "Epoch:20/30 AVG Training Loss:0.096 AVG Validation Loss:0.344 AVG Training Acc 96.53 % AVG Validation Acc 90.96 %\n",
      "Epoch:21/30 AVG Training Loss:0.090 AVG Validation Loss:0.359 AVG Training Acc 96.74 % AVG Validation Acc 90.36 %\n",
      "Epoch:22/30 AVG Training Loss:0.087 AVG Validation Loss:0.373 AVG Training Acc 96.95 % AVG Validation Acc 90.88 %\n",
      "Epoch:23/30 AVG Training Loss:0.085 AVG Validation Loss:0.359 AVG Training Acc 96.98 % AVG Validation Acc 90.65 %\n",
      "Epoch:24/30 AVG Training Loss:0.079 AVG Validation Loss:0.365 AVG Training Acc 97.09 % AVG Validation Acc 90.92 %\n",
      "Epoch:25/30 AVG Training Loss:0.076 AVG Validation Loss:0.397 AVG Training Acc 97.25 % AVG Validation Acc 90.42 %\n",
      "Epoch:26/30 AVG Training Loss:0.077 AVG Validation Loss:0.413 AVG Training Acc 97.24 % AVG Validation Acc 90.69 %\n",
      "Epoch:27/30 AVG Training Loss:0.068 AVG Validation Loss:0.414 AVG Training Acc 97.60 % AVG Validation Acc 90.62 %\n",
      "Epoch:28/30 AVG Training Loss:0.066 AVG Validation Loss:0.425 AVG Training Acc 97.63 % AVG Validation Acc 90.68 %\n",
      "Epoch:29/30 AVG Training Loss:0.066 AVG Validation Loss:0.406 AVG Training Acc 97.62 % AVG Validation Acc 90.46 %\n",
      "Epoch:30/30 AVG Training Loss:0.065 AVG Validation Loss:0.428 AVG Training Acc 97.58 % AVG Validation Acc 90.59 %\n",
      "Fold 2\n",
      "Epoch:1/30 AVG Training Loss:0.477 AVG Validation Loss:0.355 AVG Training Acc 82.99 % AVG Validation Acc 87.29 %\n",
      "Epoch:2/30 AVG Training Loss:0.322 AVG Validation Loss:0.302 AVG Training Acc 88.55 % AVG Validation Acc 89.00 %\n",
      "Epoch:3/30 AVG Training Loss:0.281 AVG Validation Loss:0.326 AVG Training Acc 90.00 % AVG Validation Acc 88.79 %\n",
      "Epoch:4/30 AVG Training Loss:0.255 AVG Validation Loss:0.302 AVG Training Acc 90.86 % AVG Validation Acc 89.08 %\n",
      "Epoch:5/30 AVG Training Loss:0.234 AVG Validation Loss:0.249 AVG Training Acc 91.66 % AVG Validation Acc 91.14 %\n",
      "Epoch:6/30 AVG Training Loss:0.219 AVG Validation Loss:0.245 AVG Training Acc 92.16 % AVG Validation Acc 91.74 %\n",
      "Epoch:7/30 AVG Training Loss:0.201 AVG Validation Loss:0.288 AVG Training Acc 92.75 % AVG Validation Acc 90.40 %\n",
      "Epoch:8/30 AVG Training Loss:0.187 AVG Validation Loss:0.289 AVG Training Acc 93.25 % AVG Validation Acc 90.22 %\n",
      "Epoch:9/30 AVG Training Loss:0.173 AVG Validation Loss:0.344 AVG Training Acc 93.75 % AVG Validation Acc 88.97 %\n",
      "Epoch:10/30 AVG Training Loss:0.167 AVG Validation Loss:0.285 AVG Training Acc 93.88 % AVG Validation Acc 90.70 %\n",
      "Epoch:11/30 AVG Training Loss:0.155 AVG Validation Loss:0.292 AVG Training Acc 94.34 % AVG Validation Acc 90.93 %\n",
      "Epoch:12/30 AVG Training Loss:0.146 AVG Validation Loss:0.270 AVG Training Acc 94.69 % AVG Validation Acc 91.60 %\n",
      "Epoch:13/30 AVG Training Loss:0.137 AVG Validation Loss:0.279 AVG Training Acc 95.08 % AVG Validation Acc 91.33 %\n",
      "Epoch:14/30 AVG Training Loss:0.129 AVG Validation Loss:0.328 AVG Training Acc 95.23 % AVG Validation Acc 90.42 %\n",
      "Epoch:15/30 AVG Training Loss:0.125 AVG Validation Loss:0.303 AVG Training Acc 95.51 % AVG Validation Acc 90.67 %\n",
      "Epoch:16/30 AVG Training Loss:0.117 AVG Validation Loss:0.302 AVG Training Acc 95.67 % AVG Validation Acc 91.31 %\n",
      "Epoch:17/30 AVG Training Loss:0.105 AVG Validation Loss:0.318 AVG Training Acc 96.22 % AVG Validation Acc 91.33 %\n",
      "Epoch:18/30 AVG Training Loss:0.107 AVG Validation Loss:0.337 AVG Training Acc 96.07 % AVG Validation Acc 90.83 %\n",
      "Epoch:19/30 AVG Training Loss:0.097 AVG Validation Loss:0.313 AVG Training Acc 96.39 % AVG Validation Acc 90.92 %\n",
      "Epoch:20/30 AVG Training Loss:0.095 AVG Validation Loss:0.339 AVG Training Acc 96.49 % AVG Validation Acc 91.08 %\n",
      "Epoch:21/30 AVG Training Loss:0.091 AVG Validation Loss:0.374 AVG Training Acc 96.63 % AVG Validation Acc 90.92 %\n",
      "Epoch:22/30 AVG Training Loss:0.084 AVG Validation Loss:0.386 AVG Training Acc 96.91 % AVG Validation Acc 90.57 %\n",
      "Epoch:23/30 AVG Training Loss:0.079 AVG Validation Loss:0.381 AVG Training Acc 97.14 % AVG Validation Acc 90.81 %\n",
      "Epoch:24/30 AVG Training Loss:0.075 AVG Validation Loss:0.377 AVG Training Acc 97.25 % AVG Validation Acc 90.97 %\n",
      "Epoch:25/30 AVG Training Loss:0.073 AVG Validation Loss:0.448 AVG Training Acc 97.34 % AVG Validation Acc 90.11 %\n",
      "Epoch:26/30 AVG Training Loss:0.075 AVG Validation Loss:0.385 AVG Training Acc 97.35 % AVG Validation Acc 90.88 %\n",
      "Epoch:27/30 AVG Training Loss:0.064 AVG Validation Loss:0.443 AVG Training Acc 97.63 % AVG Validation Acc 90.52 %\n",
      "Epoch:28/30 AVG Training Loss:0.068 AVG Validation Loss:0.420 AVG Training Acc 97.56 % AVG Validation Acc 91.07 %\n",
      "Epoch:29/30 AVG Training Loss:0.060 AVG Validation Loss:0.476 AVG Training Acc 97.75 % AVG Validation Acc 90.28 %\n",
      "Epoch:30/30 AVG Training Loss:0.062 AVG Validation Loss:0.464 AVG Training Acc 97.77 % AVG Validation Acc 91.08 %\n",
      "Fold 3\n",
      "Epoch:1/30 AVG Training Loss:0.476 AVG Validation Loss:0.291 AVG Training Acc 83.09 % AVG Validation Acc 89.50 %\n",
      "Epoch:2/30 AVG Training Loss:0.326 AVG Validation Loss:0.323 AVG Training Acc 88.38 % AVG Validation Acc 88.52 %\n",
      "Epoch:3/30 AVG Training Loss:0.287 AVG Validation Loss:0.269 AVG Training Acc 89.63 % AVG Validation Acc 90.44 %\n",
      "Epoch:4/30 AVG Training Loss:0.257 AVG Validation Loss:0.276 AVG Training Acc 90.83 % AVG Validation Acc 89.93 %\n",
      "Epoch:5/30 AVG Training Loss:0.240 AVG Validation Loss:0.275 AVG Training Acc 91.43 % AVG Validation Acc 90.08 %\n",
      "Epoch:6/30 AVG Training Loss:0.218 AVG Validation Loss:0.241 AVG Training Acc 92.16 % AVG Validation Acc 91.48 %\n",
      "Epoch:7/30 AVG Training Loss:0.207 AVG Validation Loss:0.271 AVG Training Acc 92.41 % AVG Validation Acc 90.64 %\n",
      "Epoch:8/30 AVG Training Loss:0.191 AVG Validation Loss:0.269 AVG Training Acc 93.14 % AVG Validation Acc 90.63 %\n",
      "Epoch:9/30 AVG Training Loss:0.180 AVG Validation Loss:0.252 AVG Training Acc 93.49 % AVG Validation Acc 91.47 %\n",
      "Epoch:10/30 AVG Training Loss:0.169 AVG Validation Loss:0.240 AVG Training Acc 93.85 % AVG Validation Acc 91.48 %\n",
      "Epoch:11/30 AVG Training Loss:0.156 AVG Validation Loss:0.252 AVG Training Acc 94.33 % AVG Validation Acc 91.76 %\n",
      "Epoch:12/30 AVG Training Loss:0.150 AVG Validation Loss:0.229 AVG Training Acc 94.44 % AVG Validation Acc 92.07 %\n",
      "Epoch:13/30 AVG Training Loss:0.140 AVG Validation Loss:0.256 AVG Training Acc 94.79 % AVG Validation Acc 91.77 %\n",
      "Epoch:14/30 AVG Training Loss:0.134 AVG Validation Loss:0.262 AVG Training Acc 95.18 % AVG Validation Acc 91.49 %\n",
      "Epoch:15/30 AVG Training Loss:0.125 AVG Validation Loss:0.275 AVG Training Acc 95.50 % AVG Validation Acc 91.51 %\n",
      "Epoch:16/30 AVG Training Loss:0.119 AVG Validation Loss:0.271 AVG Training Acc 95.61 % AVG Validation Acc 91.46 %\n",
      "Epoch:17/30 AVG Training Loss:0.115 AVG Validation Loss:0.335 AVG Training Acc 95.75 % AVG Validation Acc 90.33 %\n",
      "Epoch:18/30 AVG Training Loss:0.106 AVG Validation Loss:0.305 AVG Training Acc 96.10 % AVG Validation Acc 91.38 %\n",
      "Epoch:19/30 AVG Training Loss:0.101 AVG Validation Loss:0.305 AVG Training Acc 96.29 % AVG Validation Acc 91.46 %\n",
      "Epoch:20/30 AVG Training Loss:0.099 AVG Validation Loss:0.344 AVG Training Acc 96.41 % AVG Validation Acc 90.92 %\n",
      "Epoch:21/30 AVG Training Loss:0.092 AVG Validation Loss:0.314 AVG Training Acc 96.65 % AVG Validation Acc 91.68 %\n",
      "Epoch:22/30 AVG Training Loss:0.088 AVG Validation Loss:0.361 AVG Training Acc 96.77 % AVG Validation Acc 91.00 %\n",
      "Epoch:23/30 AVG Training Loss:0.085 AVG Validation Loss:0.358 AVG Training Acc 96.81 % AVG Validation Acc 90.65 %\n",
      "Epoch:24/30 AVG Training Loss:0.081 AVG Validation Loss:0.373 AVG Training Acc 97.10 % AVG Validation Acc 91.00 %\n",
      "Epoch:25/30 AVG Training Loss:0.077 AVG Validation Loss:0.361 AVG Training Acc 97.19 % AVG Validation Acc 91.55 %\n",
      "Epoch:26/30 AVG Training Loss:0.074 AVG Validation Loss:0.368 AVG Training Acc 97.26 % AVG Validation Acc 91.07 %\n",
      "Epoch:27/30 AVG Training Loss:0.073 AVG Validation Loss:0.382 AVG Training Acc 97.35 % AVG Validation Acc 91.09 %\n",
      "Epoch:28/30 AVG Training Loss:0.071 AVG Validation Loss:0.393 AVG Training Acc 97.44 % AVG Validation Acc 91.05 %\n",
      "Epoch:29/30 AVG Training Loss:0.064 AVG Validation Loss:0.398 AVG Training Acc 97.66 % AVG Validation Acc 91.33 %\n",
      "Epoch:30/30 AVG Training Loss:0.065 AVG Validation Loss:0.417 AVG Training Acc 97.67 % AVG Validation Acc 91.17 %\n",
      "Fold 4\n",
      "Epoch:1/30 AVG Training Loss:0.481 AVG Validation Loss:0.365 AVG Training Acc 83.02 % AVG Validation Acc 87.07 %\n",
      "Epoch:2/30 AVG Training Loss:0.320 AVG Validation Loss:0.293 AVG Training Acc 88.50 % AVG Validation Acc 89.38 %\n",
      "Epoch:3/30 AVG Training Loss:0.278 AVG Validation Loss:0.278 AVG Training Acc 89.89 % AVG Validation Acc 90.28 %\n",
      "Epoch:4/30 AVG Training Loss:0.254 AVG Validation Loss:0.261 AVG Training Acc 90.92 % AVG Validation Acc 90.83 %\n",
      "Epoch:5/30 AVG Training Loss:0.232 AVG Validation Loss:0.275 AVG Training Acc 91.64 % AVG Validation Acc 90.67 %\n",
      "Epoch:6/30 AVG Training Loss:0.216 AVG Validation Loss:0.259 AVG Training Acc 92.12 % AVG Validation Acc 91.17 %\n",
      "Epoch:7/30 AVG Training Loss:0.197 AVG Validation Loss:0.278 AVG Training Acc 92.84 % AVG Validation Acc 89.94 %\n",
      "Epoch:8/30 AVG Training Loss:0.189 AVG Validation Loss:0.253 AVG Training Acc 93.29 % AVG Validation Acc 91.30 %\n",
      "Epoch:9/30 AVG Training Loss:0.173 AVG Validation Loss:0.269 AVG Training Acc 93.73 % AVG Validation Acc 91.04 %\n",
      "Epoch:10/30 AVG Training Loss:0.163 AVG Validation Loss:0.270 AVG Training Acc 94.10 % AVG Validation Acc 91.46 %\n",
      "Epoch:11/30 AVG Training Loss:0.156 AVG Validation Loss:0.257 AVG Training Acc 94.40 % AVG Validation Acc 91.37 %\n",
      "Epoch:12/30 AVG Training Loss:0.147 AVG Validation Loss:0.279 AVG Training Acc 94.62 % AVG Validation Acc 90.92 %\n",
      "Epoch:13/30 AVG Training Loss:0.136 AVG Validation Loss:0.267 AVG Training Acc 95.13 % AVG Validation Acc 91.41 %\n",
      "Epoch:14/30 AVG Training Loss:0.131 AVG Validation Loss:0.257 AVG Training Acc 95.31 % AVG Validation Acc 91.52 %\n",
      "Epoch:15/30 AVG Training Loss:0.130 AVG Validation Loss:0.310 AVG Training Acc 95.29 % AVG Validation Acc 90.46 %\n",
      "Epoch:16/30 AVG Training Loss:0.120 AVG Validation Loss:0.302 AVG Training Acc 95.69 % AVG Validation Acc 90.77 %\n",
      "Epoch:17/30 AVG Training Loss:0.111 AVG Validation Loss:0.323 AVG Training Acc 96.02 % AVG Validation Acc 90.92 %\n",
      "Epoch:18/30 AVG Training Loss:0.106 AVG Validation Loss:0.313 AVG Training Acc 96.20 % AVG Validation Acc 90.99 %\n",
      "Epoch:19/30 AVG Training Loss:0.099 AVG Validation Loss:0.324 AVG Training Acc 96.47 % AVG Validation Acc 91.24 %\n",
      "Epoch:20/30 AVG Training Loss:0.096 AVG Validation Loss:0.349 AVG Training Acc 96.48 % AVG Validation Acc 90.83 %\n",
      "Epoch:21/30 AVG Training Loss:0.089 AVG Validation Loss:0.342 AVG Training Acc 96.79 % AVG Validation Acc 91.42 %\n",
      "Epoch:22/30 AVG Training Loss:0.085 AVG Validation Loss:0.375 AVG Training Acc 96.95 % AVG Validation Acc 90.26 %\n",
      "Epoch:23/30 AVG Training Loss:0.080 AVG Validation Loss:0.363 AVG Training Acc 97.03 % AVG Validation Acc 91.09 %\n",
      "Epoch:24/30 AVG Training Loss:0.077 AVG Validation Loss:0.368 AVG Training Acc 97.20 % AVG Validation Acc 90.82 %\n",
      "Epoch:25/30 AVG Training Loss:0.076 AVG Validation Loss:0.388 AVG Training Acc 97.25 % AVG Validation Acc 90.57 %\n",
      "Epoch:26/30 AVG Training Loss:0.073 AVG Validation Loss:0.388 AVG Training Acc 97.35 % AVG Validation Acc 90.50 %\n",
      "Epoch:27/30 AVG Training Loss:0.070 AVG Validation Loss:0.422 AVG Training Acc 97.40 % AVG Validation Acc 90.72 %\n",
      "Epoch:28/30 AVG Training Loss:0.065 AVG Validation Loss:0.420 AVG Training Acc 97.61 % AVG Validation Acc 90.50 %\n",
      "Epoch:29/30 AVG Training Loss:0.067 AVG Validation Loss:0.410 AVG Training Acc 97.61 % AVG Validation Acc 91.12 %\n",
      "Epoch:30/30 AVG Training Loss:0.062 AVG Validation Loss:0.456 AVG Training Acc 97.78 % AVG Validation Acc 90.41 %\n",
      "Fold 5\n",
      "Epoch:1/30 AVG Training Loss:0.495 AVG Validation Loss:0.400 AVG Training Acc 82.57 % AVG Validation Acc 86.00 %\n",
      "Epoch:2/30 AVG Training Loss:0.325 AVG Validation Loss:0.306 AVG Training Acc 88.39 % AVG Validation Acc 89.10 %\n",
      "Epoch:3/30 AVG Training Loss:0.283 AVG Validation Loss:0.267 AVG Training Acc 90.05 % AVG Validation Acc 90.46 %\n",
      "Epoch:4/30 AVG Training Loss:0.251 AVG Validation Loss:0.269 AVG Training Acc 91.08 % AVG Validation Acc 90.53 %\n",
      "Epoch:5/30 AVG Training Loss:0.231 AVG Validation Loss:0.269 AVG Training Acc 91.73 % AVG Validation Acc 90.48 %\n",
      "Epoch:6/30 AVG Training Loss:0.218 AVG Validation Loss:0.246 AVG Training Acc 92.12 % AVG Validation Acc 91.45 %\n",
      "Epoch:7/30 AVG Training Loss:0.199 AVG Validation Loss:0.271 AVG Training Acc 92.86 % AVG Validation Acc 90.77 %\n",
      "Epoch:8/30 AVG Training Loss:0.189 AVG Validation Loss:0.253 AVG Training Acc 93.21 % AVG Validation Acc 91.36 %\n",
      "Epoch:9/30 AVG Training Loss:0.176 AVG Validation Loss:0.262 AVG Training Acc 93.69 % AVG Validation Acc 91.36 %\n",
      "Epoch:10/30 AVG Training Loss:0.165 AVG Validation Loss:0.251 AVG Training Acc 94.10 % AVG Validation Acc 91.93 %\n",
      "Epoch:11/30 AVG Training Loss:0.154 AVG Validation Loss:0.273 AVG Training Acc 94.45 % AVG Validation Acc 91.12 %\n",
      "Epoch:12/30 AVG Training Loss:0.147 AVG Validation Loss:0.260 AVG Training Acc 94.65 % AVG Validation Acc 91.63 %\n",
      "Epoch:13/30 AVG Training Loss:0.135 AVG Validation Loss:0.267 AVG Training Acc 95.05 % AVG Validation Acc 91.47 %\n",
      "Epoch:14/30 AVG Training Loss:0.127 AVG Validation Loss:0.312 AVG Training Acc 95.31 % AVG Validation Acc 91.02 %\n",
      "Epoch:15/30 AVG Training Loss:0.121 AVG Validation Loss:0.284 AVG Training Acc 95.63 % AVG Validation Acc 91.47 %\n",
      "Epoch:16/30 AVG Training Loss:0.117 AVG Validation Loss:0.296 AVG Training Acc 95.76 % AVG Validation Acc 91.26 %\n",
      "Epoch:17/30 AVG Training Loss:0.111 AVG Validation Loss:0.318 AVG Training Acc 95.93 % AVG Validation Acc 91.08 %\n",
      "Epoch:18/30 AVG Training Loss:0.102 AVG Validation Loss:0.362 AVG Training Acc 96.29 % AVG Validation Acc 90.24 %\n",
      "Epoch:19/30 AVG Training Loss:0.098 AVG Validation Loss:0.384 AVG Training Acc 96.40 % AVG Validation Acc 90.84 %\n",
      "Epoch:20/30 AVG Training Loss:0.091 AVG Validation Loss:0.340 AVG Training Acc 96.71 % AVG Validation Acc 91.53 %\n",
      "Epoch:21/30 AVG Training Loss:0.089 AVG Validation Loss:0.372 AVG Training Acc 96.83 % AVG Validation Acc 90.29 %\n",
      "Epoch:22/30 AVG Training Loss:0.085 AVG Validation Loss:0.366 AVG Training Acc 96.82 % AVG Validation Acc 90.97 %\n",
      "Epoch:23/30 AVG Training Loss:0.084 AVG Validation Loss:0.392 AVG Training Acc 96.91 % AVG Validation Acc 90.75 %\n",
      "Epoch:24/30 AVG Training Loss:0.076 AVG Validation Loss:0.397 AVG Training Acc 97.16 % AVG Validation Acc 90.24 %\n",
      "Epoch:25/30 AVG Training Loss:0.075 AVG Validation Loss:0.431 AVG Training Acc 97.30 % AVG Validation Acc 90.77 %\n",
      "Epoch:26/30 AVG Training Loss:0.074 AVG Validation Loss:0.406 AVG Training Acc 97.29 % AVG Validation Acc 90.87 %\n",
      "Epoch:27/30 AVG Training Loss:0.066 AVG Validation Loss:0.441 AVG Training Acc 97.58 % AVG Validation Acc 90.97 %\n",
      "Epoch:28/30 AVG Training Loss:0.066 AVG Validation Loss:0.391 AVG Training Acc 97.54 % AVG Validation Acc 91.33 %\n",
      "Epoch:29/30 AVG Training Loss:0.062 AVG Validation Loss:0.440 AVG Training Acc 97.75 % AVG Validation Acc 90.91 %\n",
      "Epoch:30/30 AVG Training Loss:0.058 AVG Validation Loss:0.444 AVG Training Acc 97.88 % AVG Validation Acc 91.11 %\n"
     ]
    }
   ],
   "source": [
    "epochs=30\n",
    "\n",
    "batch_size = 100\n",
    "k = 5\n",
    "\n",
    "splits = KFold(n_splits=k, shuffle=True, random_state=SEED)\n",
    "\n",
    "folds = {}\n",
    "\n",
    "for fold, (train_idx,val_idx) in enumerate(splits.split(np.arange(len(train_dataset)))):\n",
    "\n",
    "    print('Fold {}'.format(fold + 1))\n",
    "\n",
    "    train_sampler = SubsetRandomSampler(train_idx)\n",
    "    validate_sampler = SubsetRandomSampler(val_idx)\n",
    "    train_loader = DataLoader(train_dataset, batch_size=batch_size, sampler=train_sampler)\n",
    "    validate_loader = DataLoader(train_dataset, batch_size=batch_size, sampler=validate_sampler)\n",
    "        \n",
    "    model = FashionCNN()\n",
    "    model.to(device)\n",
    "\n",
    "    learning_rate = 0.001\n",
    "    optimizer = torch.optim.Adam(model.parameters(), lr=learning_rate)\n",
    "    error = nn.CrossEntropyLoss()\n",
    "\n",
    "    history = {'train_loss': [], 'validation_loss': [],'train_acc':[],'validation_acc':[], 'report': None, 'report_dict': None}\n",
    "\n",
    "    for epoch in range(epochs):\n",
    "        train_loss, train_correct=train(model, error, optimizer,train_loader)\n",
    "        valid_loss, valid_correct=validate(model, error, validate_loader)\n",
    "\n",
    "        train_loss = train_loss / len(train_loader.sampler)\n",
    "        train_acc = train_correct / len(train_loader.sampler) * 100\n",
    "        validation_loss = valid_loss / len(validate_loader.sampler)\n",
    "        validation_acc = valid_correct / len(validate_loader.sampler) * 100\n",
    "\n",
    "        print(\"Epoch:{}/{} AVG Training Loss:{:.3f} AVG Validation Loss:{:.3f} AVG Training Acc {:.2f} % AVG Validation Acc {:.2f} %\".format(epoch + 1,\n",
    "                                                                                                             epochs,\n",
    "                                                                                                             train_loss,\n",
    "                                                                                                             validation_loss,\n",
    "                                                                                                             train_acc,\n",
    "                                                                                                             validation_acc))\n",
    "        history['train_loss'].append(train_loss)\n",
    "        history['validation_loss'].append(validation_loss)\n",
    "        history['train_acc'].append(train_acc)\n",
    "        history['validation_acc'].append(validation_acc)\n",
    "    \n",
    "    test_result, test_result_dict = test(model)\n",
    "    history['report'] = test_result\n",
    "    history['report_dict'] = test_result_dict\n",
    "\n",
    "    folds['fold{}'.format(fold+1)] = history  "
   ]
  },
  {
   "cell_type": "code",
   "execution_count": 31,
   "metadata": {},
   "outputs": [
    {
     "name": "stdout",
     "output_type": "stream",
     "text": [
      "              precision    recall  f1-score   support\n",
      "\n",
      " T-shirt/Top       0.86      0.83      0.84      1000\n",
      "     Trouser       0.99      0.98      0.98      1000\n",
      "    Pullover       0.89      0.83      0.86      1000\n",
      "       Dress       0.92      0.90      0.91      1000\n",
      "        Coat       0.88      0.88      0.88      1000\n",
      "      Sandal       0.97      0.98      0.97      1000\n",
      "       Shirt       0.71      0.81      0.76      1000\n",
      "     Sneaker       0.95      0.96      0.95      1000\n",
      "         Bag       0.98      0.98      0.98      1000\n",
      "  Ankle Boot       0.97      0.96      0.97      1000\n",
      "\n",
      "    accuracy                           0.91     10000\n",
      "   macro avg       0.91      0.91      0.91     10000\n",
      "weighted avg       0.91      0.91      0.91     10000\n",
      "\n",
      "              precision    recall  f1-score   support\n",
      "\n",
      " T-shirt/Top       0.86      0.82      0.84      1000\n",
      "     Trouser       0.98      0.99      0.99      1000\n",
      "    Pullover       0.91      0.79      0.84      1000\n",
      "       Dress       0.90      0.91      0.91      1000\n",
      "        Coat       0.83      0.90      0.86      1000\n",
      "      Sandal       0.96      0.99      0.97      1000\n",
      "       Shirt       0.76      0.77      0.76      1000\n",
      "     Sneaker       0.97      0.94      0.95      1000\n",
      "         Bag       0.97      0.98      0.98      1000\n",
      "  Ankle Boot       0.95      0.98      0.96      1000\n",
      "\n",
      "    accuracy                           0.91     10000\n",
      "   macro avg       0.91      0.91      0.91     10000\n",
      "weighted avg       0.91      0.91      0.91     10000\n",
      "\n",
      "              precision    recall  f1-score   support\n",
      "\n",
      " T-shirt/Top       0.89      0.83      0.86      1000\n",
      "     Trouser       0.99      0.99      0.99      1000\n",
      "    Pullover       0.92      0.80      0.86      1000\n",
      "       Dress       0.90      0.93      0.91      1000\n",
      "        Coat       0.83      0.91      0.87      1000\n",
      "      Sandal       0.96      0.98      0.97      1000\n",
      "       Shirt       0.75      0.79      0.77      1000\n",
      "     Sneaker       0.97      0.93      0.95      1000\n",
      "         Bag       0.97      0.98      0.98      1000\n",
      "  Ankle Boot       0.95      0.98      0.96      1000\n",
      "\n",
      "    accuracy                           0.91     10000\n",
      "   macro avg       0.91      0.91      0.91     10000\n",
      "weighted avg       0.91      0.91      0.91     10000\n",
      "\n",
      "              precision    recall  f1-score   support\n",
      "\n",
      " T-shirt/Top       0.86      0.84      0.85      1000\n",
      "     Trouser       0.99      0.99      0.99      1000\n",
      "    Pullover       0.92      0.78      0.84      1000\n",
      "       Dress       0.91      0.91      0.91      1000\n",
      "        Coat       0.81      0.92      0.86      1000\n",
      "      Sandal       0.98      0.98      0.98      1000\n",
      "       Shirt       0.74      0.77      0.76      1000\n",
      "     Sneaker       0.95      0.97      0.96      1000\n",
      "         Bag       0.98      0.98      0.98      1000\n",
      "  Ankle Boot       0.97      0.96      0.96      1000\n",
      "\n",
      "    accuracy                           0.91     10000\n",
      "   macro avg       0.91      0.91      0.91     10000\n",
      "weighted avg       0.91      0.91      0.91     10000\n",
      "\n",
      "              precision    recall  f1-score   support\n",
      "\n",
      " T-shirt/Top       0.81      0.90      0.85      1000\n",
      "     Trouser       0.99      0.98      0.99      1000\n",
      "    Pullover       0.83      0.90      0.86      1000\n",
      "       Dress       0.93      0.90      0.92      1000\n",
      "        Coat       0.89      0.83      0.86      1000\n",
      "      Sandal       0.98      0.98      0.98      1000\n",
      "       Shirt       0.79      0.70      0.74      1000\n",
      "     Sneaker       0.96      0.97      0.96      1000\n",
      "         Bag       0.98      0.99      0.98      1000\n",
      "  Ankle Boot       0.97      0.98      0.97      1000\n",
      "\n",
      "    accuracy                           0.91     10000\n",
      "   macro avg       0.91      0.91      0.91     10000\n",
      "weighted avg       0.91      0.91      0.91     10000\n",
      "\n",
      "Performance of 5 fold cross validation\n",
      "Average Training Loss: 0.14061 \t Average Validation Loss: 0.34092 \t Average Training Acc: 94.92324 \t Average Validation Acc: 90.61389 \t Average Weighted Average F1: 0.91055\n",
      "Best performing fold in terms of f1: 3\n",
      "Training Loss: 0.14108 \t Validation Loss: 0.32696 \t Training Acc: 94.92660 \t Validation Acc: 90.92833 \t Weighted Average F1: 0.91220 \t Final_test_accuracy: 0.91230\n"
     ]
    }
   ],
   "source": [
    "validation_loss_list, train_loss_list, validation_acc_list, train_acc_list, weighted_avg_f1_list, final_test_acc =[],[],[],[],[],[]\n",
    "k = 5\n",
    "for f in range(1,k+1):\n",
    "    train_loss_list.append(np.mean(folds['fold{}'.format(f)]['train_loss']))\n",
    "    validation_loss_list.append(np.mean(folds['fold{}'.format(f)]['validation_loss']))\n",
    "\n",
    "    train_acc_list.append(np.mean(folds['fold{}'.format(f)]['train_acc']))\n",
    "    validation_acc_list.append(np.mean(folds['fold{}'.format(f)]['validation_acc']))\n",
    "    \n",
    "    report = folds['fold{}'.format(f)]['report']\n",
    "    print(report)\n",
    "    report_dict = folds['fold{}'.format(f)]['report_dict']\n",
    "    test_accuracy = report_dict['accuracy']\n",
    "    final_test_acc.append(test_accuracy)\n",
    "    weighted_avg_metrics = report_dict['weighted avg']\n",
    "    wa_f1 = weighted_avg_metrics['f1-score']\n",
    "    weighted_avg_f1_list.append(wa_f1)\n",
    "\n",
    "best_f1, best_acc = weighted_avg_f1_list.index(max(weighted_avg_f1_list)) + 1 , final_test_acc.index(max(final_test_acc)) + 1\n",
    "\n",
    "print('Performance of {} fold cross validation'.format(k))\n",
    "print(\"Average Training Loss: {:.5f} \\t Average Validation Loss: {:.5f} \\t Average Training Acc: {:.5f} \\t Average Validation Acc: {:.5f} \\t Average Weighted Average F1: {:.5f}\".format(np.mean(train_loss_list),np.mean(validation_loss_list),np.mean(train_acc_list),np.mean(validation_acc_list), np.mean(weighted_avg_f1_list)))\n",
    "print(\"Best performing fold in terms of f1: {}\\nTraining Loss: {:.5f} \\t Validation Loss: {:.5f} \\t Training Acc: {:.5f} \\t Validation Acc: {:.5f} \\t Weighted Average F1: {:.5f} \\t Final_test_accuracy: {:.5f}\".format(best_f1, train_loss_list[best_f1-1], validation_loss_list[best_f1-1], train_acc_list[best_f1-1], validation_acc_list[best_f1-1], weighted_avg_f1_list[best_f1-1], final_test_acc[best_f1-1]))\n",
    "# print(\"Best performing fold in terms of accuracy: {}\\nTraining Loss: {:.5f} \\t Validation Loss: {:.5f} \\t Training Acc: {:.5f} \\t Validation Acc: {:.5f} \\t Weighted Average F1: {:.5f} \\t Final_test_accuracy: {:.5f}\".format(best_acc, train_loss_list[best_acc-1], validation_loss_list[best_acc-1], train_acc_list[best_acc-1], validation_acc_list[best_acc-1], weighted_avg_f1_list[best_acc-1], final_test_acc[best_acc-1]))          "
   ]
  },
  {
   "cell_type": "markdown",
   "metadata": {},
   "source": [
    "https://medium.com/dataseries/k-fold-cross-validation-with-pytorch-and-sklearn-d094aa00105f"
   ]
  },
  {
   "cell_type": "code",
   "execution_count": 32,
   "metadata": {},
   "outputs": [],
   "source": [
    "import os\n",
    "\n",
    "if not os.path.exists('./diagrams'):\n",
    "    os.makedirs('./diagrams')\n",
    "\n",
    "best_result = folds['fold{}'.format(best_f1)]\n",
    "t_l = best_result['train_loss']\n",
    "t_a = best_result['train_acc']\n",
    "v_l = best_result['validation_loss']\n",
    "v_a = best_result['validation_acc']"
   ]
  },
  {
   "cell_type": "code",
   "execution_count": 34,
   "metadata": {},
   "outputs": [
    {
     "data": {
      "image/png": "[encoded data removed]",
      "text/plain": [
       "<Figure size 1152x720 with 1 Axes>"
      ]
     },
     "metadata": {
      "needs_background": "light"
     },
     "output_type": "display_data"
    }
   ],
   "source": [
    "plt.figure(figsize=(16,10))\n",
    "\n",
    "plt.plot(t_a)\n",
    "plt.plot(v_a)\n",
    "plt.xlabel('epoch')\n",
    "plt.ylabel('accuracy')\n",
    "plt.legend(['Train','Valid'])\n",
    "plt.title('Train vs Valid Accuracy')\n",
    "\n",
    "plt.savefig('./diagrams/cNN_Train_vs_Valid_Acc.png')"
   ]
  },
  {
   "cell_type": "code",
   "execution_count": 35,
   "metadata": {},
   "outputs": [
    {
     "data": {
      "image/png": "[encoded data removed]",
      "text/plain": [
       "<Figure size 1152x720 with 1 Axes>"
      ]
     },
     "metadata": {
      "needs_background": "light"
     },
     "output_type": "display_data"
    }
   ],
   "source": [
    "plt.figure(figsize=(16,10))\n",
    "\n",
    "plt.plot(t_l)\n",
    "plt.plot(v_l)\n",
    "plt.xlabel('epoch')\n",
    "plt.ylabel('losses')\n",
    "plt.legend(['Train','Valid'])\n",
    "plt.title('Train vs Valid Loss')\n",
    " \n",
    "plt.savefig('./diagrams/cNN_Train_vs_Valid_loss.png')"
   ]
  },
  {
   "cell_type": "markdown",
   "metadata": {},
   "source": [
    "From the graph we can see a downward trend of loss vs epoch. Perhaps a reason for the spikes in loss could be just due to the randomness of the batch sampling. An unlucky sampling could have led to the loss increasing compared to the previous iterations but overall the loss has a downward trend as iterations increase."
   ]
  },
  {
   "cell_type": "code",
   "execution_count": 23,
   "metadata": {},
   "outputs": [
    {
     "name": "stdout",
     "output_type": "stream",
     "text": [
      "Accuracy of T-shirt/Top: 86.90%\n",
      "Accuracy of Trouser: 99.60%\n",
      "Accuracy of Pullover: 87.90%\n",
      "Accuracy of Dress: 89.40%\n",
      "Accuracy of Coat: 85.00%\n",
      "Accuracy of Sandal: 96.80%\n",
      "Accuracy of Shirt: 81.40%\n",
      "Accuracy of Sneaker: 96.20%\n",
      "Accuracy of Bag: 98.00%\n",
      "Accuracy of Ankle Boot: 97.60%\n"
     ]
    }
   ],
   "source": [
    "class_correct = [0. for _ in range(10)]\n",
    "total_correct = [0. for _ in range(10)]\n",
    "\n",
    "with torch.no_grad():\n",
    "    for images, labels in test_loader:\n",
    "        images, labels = images.to(device), labels.to(device)\n",
    "        outputs = model(images)\n",
    "        _, predicted = outputs.max(1)\n",
    "        c = (predicted == labels).squeeze()\n",
    "        \n",
    "        for i in range(100):\n",
    "            label = labels[i]\n",
    "            class_correct[label] += c[i].item()\n",
    "            total_correct[label] += 1\n",
    "        \n",
    "for i in range(10):\n",
    "    print(\"Accuracy of {}: {:.2f}%\".format(output_label(i), class_correct[i] * 100 / total_correct[i]))"
   ]
  },
  {
   "cell_type": "code",
   "execution_count": 57,
   "metadata": {},
   "outputs": [],
   "source": [
    "# https://debuggercafe.com/visualizing-filters-and-feature-maps-in-convolutional-neural-networks-using-pytorch/\n",
    "model_weights = [] # we will save the conv layer weights in this list\n",
    "conv_layers = [] # we will save the 49 conv layers in this list\n",
    "# get all the model children as list\n",
    "model_children = list(model.children())"
   ]
  },
  {
   "cell_type": "code",
   "execution_count": 65,
   "metadata": {},
   "outputs": [
    {
     "name": "stdout",
     "output_type": "stream",
     "text": [
      "Total convolutional layers: 2\n"
     ]
    }
   ],
   "source": [
    "# counter to keep count of the conv layers\n",
    "counter = 0 \n",
    "# append all the conv layers and their respective weights to the list\n",
    "for i in range(len(model_children)):\n",
    "    if type(model_children[i]) == nn.Conv2d:\n",
    "        counter += 1\n",
    "        model_weights.append(model_children[i].weight)\n",
    "        conv_layers.append(model_children[i])\n",
    "    elif type(model_children[i]) == nn.Sequential:\n",
    "        for child in model_children[i].children():\n",
    "            if type(child) == nn.Conv2d:\n",
    "                counter += 1\n",
    "                model_weights.append(child.weight)\n",
    "                conv_layers.append(child)\n",
    "print(f\"Total convolutional layers: {counter}\")"
   ]
  },
  {
   "cell_type": "code",
   "execution_count": 67,
   "metadata": {},
   "outputs": [
    {
     "name": "stdout",
     "output_type": "stream",
     "text": [
      "CONV: Conv2d(1, 32, kernel_size=(3, 3), stride=(1, 1), padding=(1, 1)) ====> SHAPE: torch.Size([32, 1, 3, 3])\n",
      "CONV: Conv2d(32, 64, kernel_size=(3, 3), stride=(1, 1)) ====> SHAPE: torch.Size([64, 32, 3, 3])\n"
     ]
    }
   ],
   "source": [
    "# take a look at the conv layers and the respective weights\n",
    "for weight, conv in zip(model_weights, conv_layers):\n",
    "    # print(f\"WEIGHT: {weight} \\nSHAPE: {weight.shape}\")\n",
    "    print(f\"CONV: {conv} ====> SHAPE: {weight.shape}\")"
   ]
  },
  {
   "cell_type": "code",
   "execution_count": 106,
   "metadata": {},
   "outputs": [
    {
     "data": {
      "image/png": "[encoded data removed]",
      "text/plain": [
       "<Figure size 1440x1224 with 32 Axes>"
      ]
     },
     "metadata": {
      "needs_background": "light"
     },
     "output_type": "display_data"
    }
   ],
   "source": [
    "# visualize the first conv layer filters\n",
    "plt.figure(figsize=(20, 17))\n",
    "for i, filter in enumerate(model_weights[0].cpu()):\n",
    "    plt.subplot(8, 8, i+1) # (8, 8) because in conv0 we have 7x7 filters and total of 64 (see printed shapes)\n",
    "    plt.imshow(filter[0, :, :].detach(), cmap='gray')\n",
    "    plt.axis('off')\n",
    "    plt.savefig('./diagrams/filter1.png')\n",
    "plt.show()"
   ]
  },
  {
   "cell_type": "code",
   "execution_count": 104,
   "metadata": {},
   "outputs": [
    {
     "data": {
      "image/png": "[encoded data removed]",
      "text/plain": [
       "<Figure size 1440x1224 with 64 Axes>"
      ]
     },
     "metadata": {
      "needs_background": "light"
     },
     "output_type": "display_data"
    }
   ],
   "source": [
    "# visualize the second conv layer filters\n",
    "plt.figure(figsize=(20, 17))\n",
    "for i, filter in enumerate(model_weights[1].cpu()):\n",
    "    plt.subplot(8, 8, i+1) # (8, 8) because in conv0 we have 7x7 filters and total of 64 (see printed shapes)\n",
    "    plt.imshow(filter[0, :, :].detach(), cmap='gray')\n",
    "    plt.axis('off')\n",
    "    plt.savefig('./diagrams/filter2.png')\n",
    "plt.show()"
   ]
  },
  {
   "cell_type": "code",
   "execution_count": 97,
   "metadata": {},
   "outputs": [
    {
     "name": "stdout",
     "output_type": "stream",
     "text": [
      "tensor([[[[-0.3243,  0.0057, -0.1834],\n",
      "          [-0.3555,  0.3243, -0.4326],\n",
      "          [ 0.3751,  0.0794,  0.4477]]],\n",
      "\n",
      "\n",
      "        [[[ 0.2042,  0.2393, -0.3902],\n",
      "          [-0.2416,  0.0586,  0.3219],\n",
      "          [-0.2565, -0.6752, -0.0495]]],\n",
      "\n",
      "\n",
      "        [[[ 0.2994,  0.2793,  0.1979],\n",
      "          [-0.1283, -0.0114, -0.0174],\n",
      "          [-0.3594, -0.5176,  0.3863]]],\n",
      "\n",
      "\n",
      "        [[[ 0.0603,  0.0814,  0.3541],\n",
      "          [ 0.2769, -0.4807,  0.0777],\n",
      "          [-0.4764,  0.1210,  0.2976]]],\n",
      "\n",
      "\n",
      "        [[[ 0.2864, -0.3447,  0.0312],\n",
      "          [ 0.1136, -0.3285, -0.3658],\n",
      "          [-0.2023,  0.5523,  0.0683]]],\n",
      "\n",
      "\n",
      "        [[[-0.5126,  0.5142,  0.1148],\n",
      "          [ 0.2278,  0.3988, -0.0409],\n",
      "          [-0.2172,  0.2252, -0.2283]]],\n",
      "\n",
      "\n",
      "        [[[-0.0609,  0.0271,  0.0442],\n",
      "          [-0.4212,  0.3240,  0.1164],\n",
      "          [ 0.2036,  0.3851, -0.5612]]],\n",
      "\n",
      "\n",
      "        [[[-0.2632, -0.2463,  0.5217],\n",
      "          [ 0.0419, -0.4285, -0.2895],\n",
      "          [-0.3395,  0.5035, -0.1641]]],\n",
      "\n",
      "\n",
      "        [[[ 0.2399,  0.2051, -0.0973],\n",
      "          [ 0.1779,  0.3417, -0.6495],\n",
      "          [ 0.0774,  0.2419, -0.1062]]],\n",
      "\n",
      "\n",
      "        [[[-0.0940,  0.4859, -0.5438],\n",
      "          [ 0.1704, -0.3206,  0.4408],\n",
      "          [-0.2351,  0.0332,  0.0912]]],\n",
      "\n",
      "\n",
      "        [[[ 0.2502,  0.0732, -0.1052],\n",
      "          [-0.2135, -0.5710, -0.1622],\n",
      "          [ 0.1349,  0.3171,  0.3858]]],\n",
      "\n",
      "\n",
      "        [[[-0.0430,  0.2114, -0.4002],\n",
      "          [ 0.0820,  0.4216,  0.0659],\n",
      "          [-0.4693,  0.4138, -0.2774]]],\n",
      "\n",
      "\n",
      "        [[[-0.1033,  0.2309, -0.1202],\n",
      "          [-0.4670, -0.1007,  0.5284],\n",
      "          [ 0.3453, -0.1443, -0.1952]]],\n",
      "\n",
      "\n",
      "        [[[-0.3252, -0.4684,  0.2182],\n",
      "          [ 0.1681,  0.3608,  0.1859],\n",
      "          [ 0.1868,  0.1177, -0.3928]]],\n",
      "\n",
      "\n",
      "        [[[-0.0257,  0.4128,  0.2267],\n",
      "          [ 0.0607, -0.6085, -0.1970],\n",
      "          [-0.1056,  0.3902, -0.0061]]],\n",
      "\n",
      "\n",
      "        [[[ 0.3788,  0.0081, -0.0510],\n",
      "          [ 0.2559,  0.2349,  0.1154],\n",
      "          [ 0.1720, -0.5896, -0.4408]]],\n",
      "\n",
      "\n",
      "        [[[ 0.2897, -0.3103,  0.0459],\n",
      "          [ 0.4331, -0.2252, -0.2301],\n",
      "          [-0.4232, -0.0122,  0.4492]]],\n",
      "\n",
      "\n",
      "        [[[ 0.1978, -0.4365, -0.5329],\n",
      "          [ 0.0436,  0.2082, -1.0266],\n",
      "          [ 0.3551, -0.2055, -0.2131]]],\n",
      "\n",
      "\n",
      "        [[[-0.3128, -0.0737,  0.1599],\n",
      "          [-0.4532,  0.4162,  0.1132],\n",
      "          [-0.4824,  0.2802,  0.2706]]],\n",
      "\n",
      "\n",
      "        [[[ 0.1887, -0.1470, -0.1675],\n",
      "          [ 0.0833, -0.0278,  0.8333],\n",
      "          [-0.0028, -0.1788,  0.7867]]],\n",
      "\n",
      "\n",
      "        [[[-0.3410,  0.4165, -0.0404],\n",
      "          [-0.3134,  0.3480, -0.0245],\n",
      "          [ 0.2989, -0.4072,  0.1135]]],\n",
      "\n",
      "\n",
      "        [[[ 0.3486, -0.0034, -0.3008],\n",
      "          [ 0.0173,  0.1977,  0.0354],\n",
      "          [-0.4946,  0.3444,  0.0811]]],\n",
      "\n",
      "\n",
      "        [[[-0.3948, -0.1155,  0.5859],\n",
      "          [-0.3696, -0.0172,  0.1991],\n",
      "          [-0.0426, -0.0787,  0.2234]]],\n",
      "\n",
      "\n",
      "        [[[ 0.1294,  0.3059, -0.3570],\n",
      "          [ 0.3815, -0.4217, -0.0910],\n",
      "          [-0.2388, -0.1493,  0.1354]]],\n",
      "\n",
      "\n",
      "        [[[ 0.5228,  0.2059, -0.2517],\n",
      "          [-0.4237, -0.0530, -0.4249],\n",
      "          [-0.1877,  0.3741,  0.0216]]],\n",
      "\n",
      "\n",
      "        [[[-0.1085, -0.2123, -0.2441],\n",
      "          [-0.1465, -0.4944,  0.1570],\n",
      "          [ 0.3893,  0.2698, -0.4228]]],\n",
      "\n",
      "\n",
      "        [[[ 0.1597, -0.3200, -0.0504],\n",
      "          [-0.5164,  0.2944, -0.1556],\n",
      "          [-0.3003,  0.4181, -0.1557]]],\n",
      "\n",
      "\n",
      "        [[[ 0.0134,  0.1385, -0.1124],\n",
      "          [-0.5878,  0.5066, -0.2987],\n",
      "          [ 0.1219, -0.1027, -0.2086]]],\n",
      "\n",
      "\n",
      "        [[[ 0.0279,  0.1816,  0.4625],\n",
      "          [-0.5887, -0.0188,  0.1227],\n",
      "          [-0.2538,  0.2659, -0.3063]]],\n",
      "\n",
      "\n",
      "        [[[ 0.4162, -0.4393,  0.1469],\n",
      "          [-0.0772, -0.4638,  0.4553],\n",
      "          [-0.0791,  0.1079, -0.0201]]],\n",
      "\n",
      "\n",
      "        [[[-0.2719,  0.2982,  0.1533],\n",
      "          [-0.0421, -0.4862,  0.1167],\n",
      "          [ 0.4533, -0.0861,  0.0141]]],\n",
      "\n",
      "\n",
      "        [[[-0.0474, -0.1733,  0.5402],\n",
      "          [ 0.1651, -0.4835, -0.4840],\n",
      "          [ 0.2647,  0.0184, -0.0287]]]], grad_fn=<CopyBackwards>)\n"
     ]
    }
   ],
   "source": [
    "print(model_weights[0].cpu())"
   ]
  },
  {
   "cell_type": "code",
   "execution_count": null,
   "metadata": {},
   "outputs": [],
   "source": [
    "plt.imsave('./diagrams/pullover.png', image.squeeze(), cmap=\"gray\")"
   ]
  },
  {
   "cell_type": "code",
   "execution_count": 89,
   "metadata": {},
   "outputs": [
    {
     "data": {
      "image/png": "[encoded data removed]",
      "text/plain": [
       "<Figure size 432x288 with 1 Axes>"
      ]
     },
     "metadata": {
      "needs_background": "light"
     },
     "output_type": "display_data"
    },
    {
     "name": "stdout",
     "output_type": "stream",
     "text": [
      "torch.Size([1, 28, 28])\n",
      "torch.Size([1, 1, 28, 28])\n"
     ]
    }
   ],
   "source": [
    "import cv2 as cv\n",
    "\n",
    "# read and visualize an image\n",
    "img = cv.imread(f\"./diagrams/pullover.png\")\n",
    "# img = cv.cvtColor(img, cv.COLOR_BGR2RGB)\n",
    "plt.imshow(img)\n",
    "plt.show()\n",
    "\n",
    "# define the transforms\n",
    "transform = transforms.Compose([\n",
    "    transforms.ToPILImage(),\n",
    "    transforms.Resize((28, 28)),\n",
    "    transforms.Grayscale(num_output_channels=1),\n",
    "    transforms.ToTensor(),\n",
    "])\n",
    "\n",
    "img = np.array(img)\n",
    "# apply the transforms\n",
    "img = transform(img)\n",
    "print(img.size())\n",
    "# unsqueeze to add a batch dimension\n",
    "img = img.unsqueeze(0)\n",
    "print(img.size())"
   ]
  },
  {
   "cell_type": "code",
   "execution_count": 91,
   "metadata": {},
   "outputs": [],
   "source": [
    "# pass the image through all the layers\n",
    "img = img.to(device)\n",
    "results = [conv_layers[0](img)]\n",
    "for i in range(1, len(conv_layers)):\n",
    "    # pass the result from the last layer to the next layer\n",
    "    results.append(conv_layers[i](results[-1]))\n",
    "# make a copy of the `results`\n",
    "outputs = results"
   ]
  },
  {
   "cell_type": "code",
   "execution_count": 94,
   "metadata": {},
   "outputs": [
    {
     "name": "stdout",
     "output_type": "stream",
     "text": [
      "torch.Size([32, 28, 28])\n",
      "Saving layer 0 feature maps...\n",
      "torch.Size([64, 26, 26])\n",
      "Saving layer 1 feature maps...\n"
     ]
    }
   ],
   "source": [
    "# visualize 64 features from each layer \n",
    "# (although there are more feature maps in the upper layers)\n",
    "for num_layer in range(len(outputs)):\n",
    "    plt.figure(figsize=(30, 30))\n",
    "    layer_viz = outputs[num_layer][0, :, :, :]\n",
    "    layer_viz = layer_viz.data\n",
    "    print(layer_viz.size())\n",
    "    for i, filter in enumerate(layer_viz):\n",
    "        if i == 64: # we will visualize only 8x8 blocks from each layer\n",
    "            break\n",
    "        plt.subplot(8, 8, i + 1)\n",
    "        plt.imshow(filter.cpu(), cmap='gray')\n",
    "        plt.axis(\"off\")\n",
    "    print(f\"Saving layer {num_layer} feature maps...\")\n",
    "    plt.savefig(f\"./diagrams/layer_{num_layer}.png\")\n",
    "    # plt.show()\n",
    "    plt.close()"
   ]
  },
  {
   "cell_type": "code",
   "execution_count": null,
   "metadata": {},
   "outputs": [],
   "source": []
  }
 ],
 "metadata": {
  "interpreter": {
   "hash": "a26ff82582be0ed5f057a749d3391963a753d71735083bd0110d44d1abf41696"
  },
  "kernelspec": {
   "display_name": "Python 3.8.8 64-bit ('base': conda)",
   "name": "python3"
  },
  "language_info": {
   "codemirror_mode": {
    "name": "ipython",
    "version": 3
   },
   "file_extension": ".py",
   "mimetype": "text/x-python",
   "name": "python",
   "nbconvert_exporter": "python",
   "pygments_lexer": "ipython3",
   "version": "3.8.8"
  },
  "orig_nbformat": 4
 },
 "nbformat": 4,
 "nbformat_minor": 2
}
