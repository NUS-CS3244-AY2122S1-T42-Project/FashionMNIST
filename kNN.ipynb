{
  "nbformat": 4,
  "nbformat_minor": 0,
  "metadata": {
    "colab": {
      "name": "kNN.ipynb",
      "provenance": [],
      "authorship_tag": "ABX9TyP+AdHhqAYOUWpvKcSTD0eC",
      "include_colab_link": true
    },
    "kernelspec": {
      "name": "python3",
      "display_name": "Python 3"
    },
    "language_info": {
      "name": "python"
    }
  },
  "cells": [
    {
      "cell_type": "markdown",
      "metadata": {
        "id": "view-in-github",
        "colab_type": "text"
      },
      "source": [
        "<a href=\"https://colab.research.google.com/github/NUS-CS3244-AY2122S1-T42-Project/FashionMNIST/blob/master/kNN.ipynb\" target=\"_parent\"><img src=\"https://colab.research.google.com/assets/colab-badge.svg\" alt=\"Open In Colab\"/></a>"
      ]
    },
    {
      "cell_type": "markdown",
      "metadata": {
        "id": "wxeyVgp7YlJW"
      },
      "source": [
        "**Import libraries**"
      ]
    },
    {
      "cell_type": "code",
      "metadata": {
        "id": "mCWMWb5IK3FM"
      },
      "source": [
        "import numpy as np\n",
        "import pandas as pd\n",
        "from skimage import filters, feature\n",
        "from sklearn.neighbors import KNeighborsClassifier\n",
        "from sklearn.metrics import classification_report"
      ],
      "execution_count": 18,
      "outputs": []
    },
    {
      "cell_type": "markdown",
      "metadata": {
        "id": "HizKZiTXYx09"
      },
      "source": [
        "**Canny Filter**"
      ]
    },
    {
      "cell_type": "code",
      "metadata": {
        "id": "dhvl2PnUYj0e"
      },
      "source": [
        "def canny(X_train, X_test):\n",
        "  # apply canny edge detection to all train and test\n",
        "  # for each image, we append the edge detected image to the original image\n",
        "  def apply_canny_filter(img): # img is a 1d array\n",
        "    # takes 1d img array, applies filter and returns 1d array\n",
        "    original_img = img.reshape(28,28)\n",
        "    cannied_img = feature.canny(original_img)\n",
        "    combined_img = np.concatenate((original_img, cannied_img))\n",
        "    # plt.imshow(combined_img, cmap = 'Greys') # show concatenated image\n",
        "    return combined_img.flatten()\n",
        "  X_train_cannied = list(map(apply_canny_filter, X_train))\n",
        "  X_test_cannied = list(map(apply_canny_filter, X_test))\n",
        "  return (X_train_cannied, X_test_cannied)"
      ],
      "execution_count": 14,
      "outputs": []
    },
    {
      "cell_type": "markdown",
      "metadata": {
        "id": "1QKCmEZpY3Gh"
      },
      "source": [
        "**Raw Data**"
      ]
    },
    {
      "cell_type": "code",
      "metadata": {
        "colab": {
          "base_uri": "https://localhost:8080/"
        },
        "id": "S-8utgcAY6Bu",
        "outputId": "c1701ca1-8389-4add-dc40-6287d4f520b3"
      },
      "source": [
        "# Read the CSV file\n",
        "df = pd.read_csv(\"/fashion-mnist_train.csv\")\n",
        "df2 = pd.read_csv(\"/fashion-mnist_test.csv\")\n",
        "\n",
        "# raw data\n",
        "X_train = df[df.columns[df.columns != 'label']].copy()\n",
        "X_test = df2[df2.columns[df.columns != 'label']].copy()\n",
        "\n",
        "# Get the label\n",
        "y_train = df['label'].copy()\n",
        "y_test = df2['label'].copy()\n",
        "\n",
        "# Manually enter the meaningful name of each label\n",
        "label = ['T-shirt/top', 'Trouser', 'Pullover', 'Dress', 'Coat', 'Sandal', 'Shirt', 'Sneaker', 'Bag', 'Ankle boot']\n",
        "\n",
        "# Transform the data into numpy array\n",
        "X_train = X_train.to_numpy()\n",
        "X_test = X_test.to_numpy()\n",
        "\n",
        "# Transform the labels into lists\n",
        "y_train = y_train.to_list()\n",
        "y_test = y_test.to_list()\n",
        "\n",
        "# Performance measures for different k-values\n",
        "print(\"raw data: \")\n",
        "for i in range(1, 10, 2):\n",
        "    clf = KNeighborsClassifier(n_neighbors=i)\n",
        "    clf.fit(X_train, y_train)\n",
        "    y_pred = clf.predict(X_test)\n",
        "    print(\"   k = \", i, \": \")\n",
        "    print(classification_report(y_test, y_pred, target_names=label))"
      ],
      "execution_count": 21,
      "outputs": [
        {
          "output_type": "stream",
          "name": "stdout",
          "text": [
            "raw data: \n",
            "   k =  1 : \n",
            "              precision    recall  f1-score   support\n",
            "\n",
            " T-shirt/top       0.77      0.83      0.80      1000\n",
            "     Trouser       0.98      0.98      0.98      1000\n",
            "    Pullover       0.75      0.77      0.76      1000\n",
            "       Dress       0.89      0.88      0.88      1000\n",
            "        Coat       0.78      0.76      0.77      1000\n",
            "      Sandal       0.99      0.86      0.92      1000\n",
            "       Shirt       0.64      0.62      0.63      1000\n",
            "     Sneaker       0.90      0.95      0.93      1000\n",
            "         Bag       0.98      0.95      0.97      1000\n",
            "  Ankle boot       0.90      0.97      0.94      1000\n",
            "\n",
            "    accuracy                           0.86     10000\n",
            "   macro avg       0.86      0.86      0.86     10000\n",
            "weighted avg       0.86      0.86      0.86     10000\n",
            "\n",
            "   k =  3 : \n",
            "              precision    recall  f1-score   support\n",
            "\n",
            " T-shirt/top       0.75      0.87      0.80      1000\n",
            "     Trouser       0.99      0.97      0.98      1000\n",
            "    Pullover       0.74      0.82      0.78      1000\n",
            "       Dress       0.91      0.87      0.89      1000\n",
            "        Coat       0.81      0.77      0.79      1000\n",
            "      Sandal       0.99      0.82      0.90      1000\n",
            "       Shirt       0.68      0.59      0.63      1000\n",
            "     Sneaker       0.88      0.94      0.91      1000\n",
            "         Bag       0.98      0.95      0.97      1000\n",
            "  Ankle boot       0.88      0.97      0.92      1000\n",
            "\n",
            "    accuracy                           0.86     10000\n",
            "   macro avg       0.86      0.86      0.86     10000\n",
            "weighted avg       0.86      0.86      0.86     10000\n",
            "\n",
            "   k =  5 : \n",
            "              precision    recall  f1-score   support\n",
            "\n",
            " T-shirt/top       0.77      0.87      0.82      1000\n",
            "     Trouser       0.99      0.96      0.98      1000\n",
            "    Pullover       0.75      0.81      0.78      1000\n",
            "       Dress       0.91      0.88      0.90      1000\n",
            "        Coat       0.79      0.80      0.79      1000\n",
            "      Sandal       1.00      0.82      0.90      1000\n",
            "       Shirt       0.68      0.58      0.63      1000\n",
            "     Sneaker       0.87      0.94      0.91      1000\n",
            "         Bag       0.98      0.95      0.97      1000\n",
            "  Ankle boot       0.88      0.96      0.92      1000\n",
            "\n",
            "    accuracy                           0.86     10000\n",
            "   macro avg       0.86      0.86      0.86     10000\n",
            "weighted avg       0.86      0.86      0.86     10000\n",
            "\n",
            "   k =  7 : \n",
            "              precision    recall  f1-score   support\n",
            "\n",
            " T-shirt/top       0.77      0.86      0.81      1000\n",
            "     Trouser       0.99      0.96      0.98      1000\n",
            "    Pullover       0.76      0.79      0.77      1000\n",
            "       Dress       0.92      0.88      0.90      1000\n",
            "        Coat       0.79      0.80      0.80      1000\n",
            "      Sandal       0.99      0.81      0.89      1000\n",
            "       Shirt       0.66      0.59      0.62      1000\n",
            "     Sneaker       0.86      0.94      0.90      1000\n",
            "         Bag       0.98      0.95      0.96      1000\n",
            "  Ankle boot       0.88      0.97      0.92      1000\n",
            "\n",
            "    accuracy                           0.86     10000\n",
            "   macro avg       0.86      0.86      0.86     10000\n",
            "weighted avg       0.86      0.86      0.86     10000\n",
            "\n",
            "   k =  9 : \n",
            "              precision    recall  f1-score   support\n",
            "\n",
            " T-shirt/top       0.78      0.87      0.82      1000\n",
            "     Trouser       0.99      0.96      0.98      1000\n",
            "    Pullover       0.75      0.80      0.77      1000\n",
            "       Dress       0.92      0.89      0.90      1000\n",
            "        Coat       0.80      0.80      0.80      1000\n",
            "      Sandal       0.99      0.79      0.88      1000\n",
            "       Shirt       0.66      0.59      0.62      1000\n",
            "     Sneaker       0.86      0.94      0.90      1000\n",
            "         Bag       0.97      0.95      0.96      1000\n",
            "  Ankle boot       0.88      0.96      0.92      1000\n",
            "\n",
            "    accuracy                           0.86     10000\n",
            "   macro avg       0.86      0.86      0.86     10000\n",
            "weighted avg       0.86      0.86      0.86     10000\n",
            "\n"
          ]
        }
      ]
    },
    {
      "cell_type": "markdown",
      "metadata": {
        "id": "5IINIsLJZDFW"
      },
      "source": [
        "**Raw Data + Image Edges, using Canny filter**"
      ]
    },
    {
      "cell_type": "code",
      "metadata": {
        "colab": {
          "base_uri": "https://localhost:8080/"
        },
        "id": "sHtySc8iZM9i",
        "outputId": "ec28eaf5-a3fb-4d76-be00-735b512aa7e6"
      },
      "source": [
        "X_train_cannied, X_test_cannied = canny(X_train, X_test)\n",
        "# Performance measures for different k-values\n",
        "print(\"raw data + image edges: \")\n",
        "for i in range(1, 10, 2):\n",
        "    clf = KNeighborsClassifier(n_neighbors=i)\n",
        "    clf.fit(X_train_cannied, y_train)\n",
        "    y_pred = clf.predict(X_test_cannied)\n",
        "    print(\"   k = \", i, \": \")\n",
        "    print(classification_report(y_test, y_pred, target_names=label))"
      ],
      "execution_count": 22,
      "outputs": [
        {
          "output_type": "stream",
          "name": "stdout",
          "text": [
            "raw data + image edges: \n",
            "   k =  1 : \n",
            "              precision    recall  f1-score   support\n",
            "\n",
            " T-shirt/top       0.77      0.83      0.80      1000\n",
            "     Trouser       0.98      0.98      0.98      1000\n",
            "    Pullover       0.75      0.77      0.76      1000\n",
            "       Dress       0.89      0.88      0.88      1000\n",
            "        Coat       0.78      0.76      0.77      1000\n",
            "      Sandal       0.99      0.86      0.92      1000\n",
            "       Shirt       0.64      0.62      0.63      1000\n",
            "     Sneaker       0.90      0.95      0.93      1000\n",
            "         Bag       0.98      0.95      0.97      1000\n",
            "  Ankle boot       0.90      0.97      0.94      1000\n",
            "\n",
            "    accuracy                           0.86     10000\n",
            "   macro avg       0.86      0.86      0.86     10000\n",
            "weighted avg       0.86      0.86      0.86     10000\n",
            "\n",
            "   k =  3 : \n",
            "              precision    recall  f1-score   support\n",
            "\n",
            " T-shirt/top       0.75      0.87      0.80      1000\n",
            "     Trouser       0.99      0.97      0.98      1000\n",
            "    Pullover       0.74      0.82      0.78      1000\n",
            "       Dress       0.91      0.87      0.89      1000\n",
            "        Coat       0.81      0.77      0.79      1000\n",
            "      Sandal       0.99      0.82      0.90      1000\n",
            "       Shirt       0.68      0.59      0.63      1000\n",
            "     Sneaker       0.88      0.94      0.91      1000\n",
            "         Bag       0.98      0.95      0.97      1000\n",
            "  Ankle boot       0.88      0.97      0.92      1000\n",
            "\n",
            "    accuracy                           0.86     10000\n",
            "   macro avg       0.86      0.86      0.86     10000\n",
            "weighted avg       0.86      0.86      0.86     10000\n",
            "\n",
            "   k =  5 : \n",
            "              precision    recall  f1-score   support\n",
            "\n",
            " T-shirt/top       0.77      0.87      0.82      1000\n",
            "     Trouser       0.99      0.96      0.98      1000\n",
            "    Pullover       0.75      0.81      0.78      1000\n",
            "       Dress       0.91      0.88      0.90      1000\n",
            "        Coat       0.79      0.80      0.79      1000\n",
            "      Sandal       1.00      0.82      0.90      1000\n",
            "       Shirt       0.68      0.58      0.63      1000\n",
            "     Sneaker       0.87      0.94      0.91      1000\n",
            "         Bag       0.98      0.95      0.97      1000\n",
            "  Ankle boot       0.88      0.96      0.92      1000\n",
            "\n",
            "    accuracy                           0.86     10000\n",
            "   macro avg       0.86      0.86      0.86     10000\n",
            "weighted avg       0.86      0.86      0.86     10000\n",
            "\n",
            "   k =  7 : \n",
            "              precision    recall  f1-score   support\n",
            "\n",
            " T-shirt/top       0.77      0.86      0.81      1000\n",
            "     Trouser       0.99      0.96      0.98      1000\n",
            "    Pullover       0.76      0.79      0.77      1000\n",
            "       Dress       0.92      0.88      0.90      1000\n",
            "        Coat       0.79      0.80      0.80      1000\n",
            "      Sandal       0.99      0.81      0.89      1000\n",
            "       Shirt       0.66      0.59      0.62      1000\n",
            "     Sneaker       0.86      0.94      0.90      1000\n",
            "         Bag       0.98      0.95      0.96      1000\n",
            "  Ankle boot       0.88      0.97      0.92      1000\n",
            "\n",
            "    accuracy                           0.86     10000\n",
            "   macro avg       0.86      0.86      0.86     10000\n",
            "weighted avg       0.86      0.86      0.86     10000\n",
            "\n",
            "   k =  9 : \n",
            "              precision    recall  f1-score   support\n",
            "\n",
            " T-shirt/top       0.78      0.87      0.82      1000\n",
            "     Trouser       0.99      0.96      0.98      1000\n",
            "    Pullover       0.75      0.80      0.77      1000\n",
            "       Dress       0.92      0.89      0.90      1000\n",
            "        Coat       0.80      0.80      0.80      1000\n",
            "      Sandal       0.99      0.79      0.88      1000\n",
            "       Shirt       0.66      0.59      0.62      1000\n",
            "     Sneaker       0.86      0.94      0.90      1000\n",
            "         Bag       0.97      0.95      0.96      1000\n",
            "  Ankle boot       0.88      0.96      0.92      1000\n",
            "\n",
            "    accuracy                           0.86     10000\n",
            "   macro avg       0.86      0.86      0.86     10000\n",
            "weighted avg       0.86      0.86      0.86     10000\n",
            "\n"
          ]
        }
      ]
    },
    {
      "cell_type": "markdown",
      "metadata": {
        "id": "CvZg8nL6gmHd"
      },
      "source": [
        "**Conclusion**"
      ]
    },
    {
      "cell_type": "markdown",
      "metadata": {
        "id": "sxdZ_5wJhDRX"
      },
      "source": [
        "We observe that the model using raw images acheived an overall accuracy around 86% for all k-values from 1 to 9, with a faster training time compared to the other model.\n",
        "\n",
        "We also observe that using the image edges along with the raw images seem to not improve our model accuracy beyond 86%. K-values also did not play a significant role here."
      ]
    }
  ]
}